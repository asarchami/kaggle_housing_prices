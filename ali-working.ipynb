{
 "cells": [
  {
   "cell_type": "code",
   "execution_count": 1,
   "metadata": {
    "collapsed": false,
    "deletable": true,
    "editable": true
   },
   "outputs": [],
   "source": [
    "import pandas as pd\n",
    "import numpy as np\n",
    "\n",
    "from sklearn.preprocessing import LabelEncoder\n",
    "\n",
    "import seaborn as sns\n",
    "import matplotlib.pyplot as plt\n",
    "%matplotlib inline"
   ]
  },
  {
   "cell_type": "code",
   "execution_count": 2,
   "metadata": {
    "collapsed": false,
    "deletable": true,
    "editable": true
   },
   "outputs": [
    {
     "data": {
      "text/html": [
       "\n",
       "    <div class=\"bk-root\">\n",
       "        <a href=\"http://bokeh.pydata.org\" target=\"_blank\" class=\"bk-logo bk-logo-small bk-logo-notebook\"></a>\n",
       "        <span id=\"8d5418ef-9ebb-4d19-ab52-ebe11ea73efb\">Loading BokehJS ...</span>\n",
       "    </div>"
      ]
     },
     "metadata": {},
     "output_type": "display_data"
    },
    {
     "data": {
      "application/javascript": [
       "\n",
       "(function(global) {\n",
       "  function now() {\n",
       "    return new Date();\n",
       "  }\n",
       "\n",
       "  var force = true;\n",
       "\n",
       "  if (typeof (window._bokeh_onload_callbacks) === \"undefined\" || force === true) {\n",
       "    window._bokeh_onload_callbacks = [];\n",
       "    window._bokeh_is_loading = undefined;\n",
       "  }\n",
       "\n",
       "\n",
       "  \n",
       "  if (typeof (window._bokeh_timeout) === \"undefined\" || force === true) {\n",
       "    window._bokeh_timeout = Date.now() + 5000;\n",
       "    window._bokeh_failed_load = false;\n",
       "  }\n",
       "\n",
       "  var NB_LOAD_WARNING = {'data': {'text/html':\n",
       "     \"<div style='background-color: #fdd'>\\n\"+\n",
       "     \"<p>\\n\"+\n",
       "     \"BokehJS does not appear to have successfully loaded. If loading BokehJS from CDN, this \\n\"+\n",
       "     \"may be due to a slow or bad network connection. Possible fixes:\\n\"+\n",
       "     \"</p>\\n\"+\n",
       "     \"<ul>\\n\"+\n",
       "     \"<li>re-rerun `output_notebook()` to attempt to load from CDN again, or</li>\\n\"+\n",
       "     \"<li>use INLINE resources instead, as so:</li>\\n\"+\n",
       "     \"</ul>\\n\"+\n",
       "     \"<code>\\n\"+\n",
       "     \"from bokeh.resources import INLINE\\n\"+\n",
       "     \"output_notebook(resources=INLINE)\\n\"+\n",
       "     \"</code>\\n\"+\n",
       "     \"</div>\"}};\n",
       "\n",
       "  function display_loaded() {\n",
       "    if (window.Bokeh !== undefined) {\n",
       "      document.getElementById(\"8d5418ef-9ebb-4d19-ab52-ebe11ea73efb\").textContent = \"BokehJS successfully loaded.\";\n",
       "    } else if (Date.now() < window._bokeh_timeout) {\n",
       "      setTimeout(display_loaded, 100)\n",
       "    }\n",
       "  }\n",
       "\n",
       "  function run_callbacks() {\n",
       "    window._bokeh_onload_callbacks.forEach(function(callback) { callback() });\n",
       "    delete window._bokeh_onload_callbacks\n",
       "    console.info(\"Bokeh: all callbacks have finished\");\n",
       "  }\n",
       "\n",
       "  function load_libs(js_urls, callback) {\n",
       "    window._bokeh_onload_callbacks.push(callback);\n",
       "    if (window._bokeh_is_loading > 0) {\n",
       "      console.log(\"Bokeh: BokehJS is being loaded, scheduling callback at\", now());\n",
       "      return null;\n",
       "    }\n",
       "    if (js_urls == null || js_urls.length === 0) {\n",
       "      run_callbacks();\n",
       "      return null;\n",
       "    }\n",
       "    console.log(\"Bokeh: BokehJS not loaded, scheduling load and callback at\", now());\n",
       "    window._bokeh_is_loading = js_urls.length;\n",
       "    for (var i = 0; i < js_urls.length; i++) {\n",
       "      var url = js_urls[i];\n",
       "      var s = document.createElement('script');\n",
       "      s.src = url;\n",
       "      s.async = false;\n",
       "      s.onreadystatechange = s.onload = function() {\n",
       "        window._bokeh_is_loading--;\n",
       "        if (window._bokeh_is_loading === 0) {\n",
       "          console.log(\"Bokeh: all BokehJS libraries loaded\");\n",
       "          run_callbacks()\n",
       "        }\n",
       "      };\n",
       "      s.onerror = function() {\n",
       "        console.warn(\"failed to load library \" + url);\n",
       "      };\n",
       "      console.log(\"Bokeh: injecting script tag for BokehJS library: \", url);\n",
       "      document.getElementsByTagName(\"head\")[0].appendChild(s);\n",
       "    }\n",
       "  };var element = document.getElementById(\"8d5418ef-9ebb-4d19-ab52-ebe11ea73efb\");\n",
       "  if (element == null) {\n",
       "    console.log(\"Bokeh: ERROR: autoload.js configured with elementid '8d5418ef-9ebb-4d19-ab52-ebe11ea73efb' but no matching script tag was found. \")\n",
       "    return false;\n",
       "  }\n",
       "\n",
       "  var js_urls = [\"https://cdn.pydata.org/bokeh/release/bokeh-0.12.4.min.js\", \"https://cdn.pydata.org/bokeh/release/bokeh-widgets-0.12.4.min.js\"];\n",
       "\n",
       "  var inline_js = [\n",
       "    function(Bokeh) {\n",
       "      Bokeh.set_log_level(\"info\");\n",
       "    },\n",
       "    \n",
       "    function(Bokeh) {\n",
       "      \n",
       "      document.getElementById(\"8d5418ef-9ebb-4d19-ab52-ebe11ea73efb\").textContent = \"BokehJS is loading...\";\n",
       "    },\n",
       "    function(Bokeh) {\n",
       "      console.log(\"Bokeh: injecting CSS: https://cdn.pydata.org/bokeh/release/bokeh-0.12.4.min.css\");\n",
       "      Bokeh.embed.inject_css(\"https://cdn.pydata.org/bokeh/release/bokeh-0.12.4.min.css\");\n",
       "      console.log(\"Bokeh: injecting CSS: https://cdn.pydata.org/bokeh/release/bokeh-widgets-0.12.4.min.css\");\n",
       "      Bokeh.embed.inject_css(\"https://cdn.pydata.org/bokeh/release/bokeh-widgets-0.12.4.min.css\");\n",
       "    }\n",
       "  ];\n",
       "\n",
       "  function run_inline_js() {\n",
       "    \n",
       "    if ((window.Bokeh !== undefined) || (force === true)) {\n",
       "      for (var i = 0; i < inline_js.length; i++) {\n",
       "        inline_js[i](window.Bokeh);\n",
       "      }if (force === true) {\n",
       "        display_loaded();\n",
       "      }} else if (Date.now() < window._bokeh_timeout) {\n",
       "      setTimeout(run_inline_js, 100);\n",
       "    } else if (!window._bokeh_failed_load) {\n",
       "      console.log(\"Bokeh: BokehJS failed to load within specified timeout.\");\n",
       "      window._bokeh_failed_load = true;\n",
       "    } else if (force !== true) {\n",
       "      var cell = $(document.getElementById(\"8d5418ef-9ebb-4d19-ab52-ebe11ea73efb\")).parents('.cell').data().cell;\n",
       "      cell.output_area.append_execute_result(NB_LOAD_WARNING)\n",
       "    }\n",
       "\n",
       "  }\n",
       "\n",
       "  if (window._bokeh_is_loading === 0) {\n",
       "    console.log(\"Bokeh: BokehJS loaded, going straight to plotting\");\n",
       "    run_inline_js();\n",
       "  } else {\n",
       "    load_libs(js_urls, function() {\n",
       "      console.log(\"Bokeh: BokehJS plotting callback run at\", now());\n",
       "      run_inline_js();\n",
       "    });\n",
       "  }\n",
       "}(this));"
      ]
     },
     "metadata": {},
     "output_type": "display_data"
    }
   ],
   "source": [
    "from bokeh.io import show, output_notebook\n",
    "output_notebook()"
   ]
  },
  {
   "cell_type": "code",
   "execution_count": 3,
   "metadata": {
    "collapsed": false,
    "deletable": true,
    "editable": true,
    "scrolled": true
   },
   "outputs": [
    {
     "data": {
      "text/html": [
       "<div>\n",
       "<table border=\"1\" class=\"dataframe\">\n",
       "  <thead>\n",
       "    <tr style=\"text-align: right;\">\n",
       "      <th></th>\n",
       "      <th>Id</th>\n",
       "      <th>MSSubClass</th>\n",
       "      <th>MSZoning</th>\n",
       "      <th>LotFrontage</th>\n",
       "      <th>LotArea</th>\n",
       "      <th>Street</th>\n",
       "      <th>Alley</th>\n",
       "      <th>LotShape</th>\n",
       "      <th>LandContour</th>\n",
       "      <th>Utilities</th>\n",
       "      <th>...</th>\n",
       "      <th>PoolArea</th>\n",
       "      <th>PoolQC</th>\n",
       "      <th>Fence</th>\n",
       "      <th>MiscFeature</th>\n",
       "      <th>MiscVal</th>\n",
       "      <th>MoSold</th>\n",
       "      <th>YrSold</th>\n",
       "      <th>SaleType</th>\n",
       "      <th>SaleCondition</th>\n",
       "      <th>SalePrice</th>\n",
       "    </tr>\n",
       "  </thead>\n",
       "  <tbody>\n",
       "    <tr>\n",
       "      <th>0</th>\n",
       "      <td>1</td>\n",
       "      <td>60</td>\n",
       "      <td>RL</td>\n",
       "      <td>65.0</td>\n",
       "      <td>8450</td>\n",
       "      <td>Pave</td>\n",
       "      <td>NaN</td>\n",
       "      <td>Reg</td>\n",
       "      <td>Lvl</td>\n",
       "      <td>AllPub</td>\n",
       "      <td>...</td>\n",
       "      <td>0</td>\n",
       "      <td>NaN</td>\n",
       "      <td>NaN</td>\n",
       "      <td>NaN</td>\n",
       "      <td>0</td>\n",
       "      <td>2</td>\n",
       "      <td>2008</td>\n",
       "      <td>WD</td>\n",
       "      <td>Normal</td>\n",
       "      <td>208500</td>\n",
       "    </tr>\n",
       "    <tr>\n",
       "      <th>1</th>\n",
       "      <td>2</td>\n",
       "      <td>20</td>\n",
       "      <td>RL</td>\n",
       "      <td>80.0</td>\n",
       "      <td>9600</td>\n",
       "      <td>Pave</td>\n",
       "      <td>NaN</td>\n",
       "      <td>Reg</td>\n",
       "      <td>Lvl</td>\n",
       "      <td>AllPub</td>\n",
       "      <td>...</td>\n",
       "      <td>0</td>\n",
       "      <td>NaN</td>\n",
       "      <td>NaN</td>\n",
       "      <td>NaN</td>\n",
       "      <td>0</td>\n",
       "      <td>5</td>\n",
       "      <td>2007</td>\n",
       "      <td>WD</td>\n",
       "      <td>Normal</td>\n",
       "      <td>181500</td>\n",
       "    </tr>\n",
       "    <tr>\n",
       "      <th>2</th>\n",
       "      <td>3</td>\n",
       "      <td>60</td>\n",
       "      <td>RL</td>\n",
       "      <td>68.0</td>\n",
       "      <td>11250</td>\n",
       "      <td>Pave</td>\n",
       "      <td>NaN</td>\n",
       "      <td>IR1</td>\n",
       "      <td>Lvl</td>\n",
       "      <td>AllPub</td>\n",
       "      <td>...</td>\n",
       "      <td>0</td>\n",
       "      <td>NaN</td>\n",
       "      <td>NaN</td>\n",
       "      <td>NaN</td>\n",
       "      <td>0</td>\n",
       "      <td>9</td>\n",
       "      <td>2008</td>\n",
       "      <td>WD</td>\n",
       "      <td>Normal</td>\n",
       "      <td>223500</td>\n",
       "    </tr>\n",
       "    <tr>\n",
       "      <th>3</th>\n",
       "      <td>4</td>\n",
       "      <td>70</td>\n",
       "      <td>RL</td>\n",
       "      <td>60.0</td>\n",
       "      <td>9550</td>\n",
       "      <td>Pave</td>\n",
       "      <td>NaN</td>\n",
       "      <td>IR1</td>\n",
       "      <td>Lvl</td>\n",
       "      <td>AllPub</td>\n",
       "      <td>...</td>\n",
       "      <td>0</td>\n",
       "      <td>NaN</td>\n",
       "      <td>NaN</td>\n",
       "      <td>NaN</td>\n",
       "      <td>0</td>\n",
       "      <td>2</td>\n",
       "      <td>2006</td>\n",
       "      <td>WD</td>\n",
       "      <td>Abnorml</td>\n",
       "      <td>140000</td>\n",
       "    </tr>\n",
       "    <tr>\n",
       "      <th>4</th>\n",
       "      <td>5</td>\n",
       "      <td>60</td>\n",
       "      <td>RL</td>\n",
       "      <td>84.0</td>\n",
       "      <td>14260</td>\n",
       "      <td>Pave</td>\n",
       "      <td>NaN</td>\n",
       "      <td>IR1</td>\n",
       "      <td>Lvl</td>\n",
       "      <td>AllPub</td>\n",
       "      <td>...</td>\n",
       "      <td>0</td>\n",
       "      <td>NaN</td>\n",
       "      <td>NaN</td>\n",
       "      <td>NaN</td>\n",
       "      <td>0</td>\n",
       "      <td>12</td>\n",
       "      <td>2008</td>\n",
       "      <td>WD</td>\n",
       "      <td>Normal</td>\n",
       "      <td>250000</td>\n",
       "    </tr>\n",
       "  </tbody>\n",
       "</table>\n",
       "<p>5 rows × 81 columns</p>\n",
       "</div>"
      ],
      "text/plain": [
       "   Id  MSSubClass MSZoning  LotFrontage  LotArea Street Alley LotShape  \\\n",
       "0   1          60       RL         65.0     8450   Pave   NaN      Reg   \n",
       "1   2          20       RL         80.0     9600   Pave   NaN      Reg   \n",
       "2   3          60       RL         68.0    11250   Pave   NaN      IR1   \n",
       "3   4          70       RL         60.0     9550   Pave   NaN      IR1   \n",
       "4   5          60       RL         84.0    14260   Pave   NaN      IR1   \n",
       "\n",
       "  LandContour Utilities    ...     PoolArea PoolQC Fence MiscFeature MiscVal  \\\n",
       "0         Lvl    AllPub    ...            0    NaN   NaN         NaN       0   \n",
       "1         Lvl    AllPub    ...            0    NaN   NaN         NaN       0   \n",
       "2         Lvl    AllPub    ...            0    NaN   NaN         NaN       0   \n",
       "3         Lvl    AllPub    ...            0    NaN   NaN         NaN       0   \n",
       "4         Lvl    AllPub    ...            0    NaN   NaN         NaN       0   \n",
       "\n",
       "  MoSold YrSold  SaleType  SaleCondition  SalePrice  \n",
       "0      2   2008        WD         Normal     208500  \n",
       "1      5   2007        WD         Normal     181500  \n",
       "2      9   2008        WD         Normal     223500  \n",
       "3      2   2006        WD        Abnorml     140000  \n",
       "4     12   2008        WD         Normal     250000  \n",
       "\n",
       "[5 rows x 81 columns]"
      ]
     },
     "execution_count": 3,
     "metadata": {},
     "output_type": "execute_result"
    }
   ],
   "source": [
    "data = pd.read_csv('data/train.csv')\n",
    "data.head()"
   ]
  },
  {
   "cell_type": "code",
   "execution_count": 4,
   "metadata": {
    "collapsed": false,
    "deletable": true,
    "editable": true
   },
   "outputs": [
    {
     "data": {
      "text/plain": [
       "Index([u'Id', u'MSSubClass', u'MSZoning', u'LotFrontage', u'LotArea',\n",
       "       u'Street', u'Alley', u'LotShape', u'LandContour', u'Utilities',\n",
       "       u'LotConfig', u'LandSlope', u'Neighborhood', u'Condition1',\n",
       "       u'Condition2', u'BldgType', u'HouseStyle', u'OverallQual',\n",
       "       u'OverallCond', u'YearBuilt', u'YearRemodAdd', u'RoofStyle',\n",
       "       u'RoofMatl', u'Exterior1st', u'Exterior2nd', u'MasVnrType',\n",
       "       u'MasVnrArea', u'ExterQual', u'ExterCond', u'Foundation', u'BsmtQual',\n",
       "       u'BsmtCond', u'BsmtExposure', u'BsmtFinType1', u'BsmtFinSF1',\n",
       "       u'BsmtFinType2', u'BsmtFinSF2', u'BsmtUnfSF', u'TotalBsmtSF',\n",
       "       u'Heating', u'HeatingQC', u'CentralAir', u'Electrical', u'1stFlrSF',\n",
       "       u'2ndFlrSF', u'LowQualFinSF', u'GrLivArea', u'BsmtFullBath',\n",
       "       u'BsmtHalfBath', u'FullBath', u'HalfBath', u'BedroomAbvGr',\n",
       "       u'KitchenAbvGr', u'KitchenQual', u'TotRmsAbvGrd', u'Functional',\n",
       "       u'Fireplaces', u'FireplaceQu', u'GarageType', u'GarageYrBlt',\n",
       "       u'GarageFinish', u'GarageCars', u'GarageArea', u'GarageQual',\n",
       "       u'GarageCond', u'PavedDrive', u'WoodDeckSF', u'OpenPorchSF',\n",
       "       u'EnclosedPorch', u'3SsnPorch', u'ScreenPorch', u'PoolArea', u'PoolQC',\n",
       "       u'Fence', u'MiscFeature', u'MiscVal', u'MoSold', u'YrSold', u'SaleType',\n",
       "       u'SaleCondition', u'SalePrice'],\n",
       "      dtype='object')"
      ]
     },
     "execution_count": 4,
     "metadata": {},
     "output_type": "execute_result"
    }
   ],
   "source": [
    "data.columns"
   ]
  },
  {
   "cell_type": "code",
   "execution_count": 5,
   "metadata": {
    "collapsed": true,
    "deletable": true,
    "editable": true
   },
   "outputs": [],
   "source": [
    "categorical_columns = ['MSSubClass', 'MSZoning', 'Street', 'Alley', 'LotShape', \n",
    "                       'LandContour', 'Utilities', 'LotConfig', 'LandSlope', 'Neighborhood', \n",
    "                       'Condition1', 'Condition2', 'BldgType', 'HouseStyle', 'OverallQual', \n",
    "                       'OverallCond', 'RoofStyle', 'RoofMatl', 'Exterior1st', 'Exterior2nd', \n",
    "                       'MasVnrType', 'ExterQual', 'ExterCond', 'Foundation', 'BsmtQual', \n",
    "                       'BsmtCond', 'BsmtExposure', 'BsmtFinType1', 'BsmtFinType2', 'Heating', \n",
    "                       'HeatingQC', 'CentralAir', 'Electrical', 'KitchenQual', 'Functional', \n",
    "                       'FireplaceQu', 'GarageType', 'GarageFinish', 'GarageQual', 'GarageCond', \n",
    "                       'PavedDrive', 'PoolQC', 'Fence', 'MiscFeature', 'SaleType', 'SaleCondition', 'YrSold']"
   ]
  },
  {
   "cell_type": "code",
   "execution_count": 6,
   "metadata": {
    "collapsed": true,
    "deletable": true,
    "editable": true
   },
   "outputs": [],
   "source": [
    "numerical_columns = ['LotFrontage', 'LotArea', \n",
    "                        'MasVnrArea', 'BsmtFinSF1', 'BsmtFinSF2', 'BsmtUnfSF', 'TotalBsmtSF', \n",
    "                        '1stFlrSF', '2ndFlrSF', 'LowQualFinSF', 'GrLivArea', 'BsmtFullBath', \n",
    "                        'BsmtHalfBath', 'FullBath', 'HalfBath', 'BedroomAbvGr', 'KitchenAbvGr', \n",
    "                        'TotRmsAbvGrd', 'Fireplaces', 'GarageYrBlt', 'GarageCars', 'GarageArea', \n",
    "                        'WoodDeckSF', 'OpenPorchSF', 'EnclosedPorch', '3SsnPorch', 'ScreenPorch', \n",
    "                        'PoolArea', 'MiscVal', 'MoSold']"
   ]
  },
  {
   "cell_type": "code",
   "execution_count": 7,
   "metadata": {
    "collapsed": true,
    "deletable": true,
    "editable": true
   },
   "outputs": [],
   "source": [
    "from bokeh.charts import Bar\n",
    "from bokeh.charts import defaults\n",
    "from bokeh.io import gridplot\n",
    "from bokeh.plotting import figure\n",
    "from bokeh.models import HoverTool\n",
    "from bokeh.models import ColumnDataSource"
   ]
  },
  {
   "cell_type": "code",
   "execution_count": 8,
   "metadata": {
    "collapsed": true,
    "deletable": true,
    "editable": true
   },
   "outputs": [],
   "source": [
    "def bar(df, x, y='SalePrice', title=None, width=280, height=280):\n",
    "    df = pd.pivot_table(df, index=[x], values=[y], aggfunc=np.count_nonzero).reset_index()\n",
    "    total_sum = df[y].sum()\n",
    "    df['percent'] = df[y].apply(lambda i: \"{0:.3}%\".format(float(i*100)/total_sum))\n",
    "    df[x] = df[x].astype('str')\n",
    "    \n",
    "    \n",
    "    source = ColumnDataSource(data=dict(x=df[x], y=df[y], percent=df['percent']))\n",
    "    hover = HoverTool(\n",
    "        tooltips=[\n",
    "            ('category', '@x'),\n",
    "            ('percent', '@percent'),\n",
    "        ]\n",
    "    )\n",
    "    p = figure(title=title, \n",
    "               x_range=df[x].values.tolist(), \n",
    "               width=width, height=height, \n",
    "               toolbar_location=None,\n",
    "               tools=[hover]\n",
    "              )\n",
    "    \n",
    "    p.vbar(x='x', source=source, width=0.5, bottom=0, top='y')\n",
    "    p.yaxis.visible = False\n",
    "\n",
    "    p.xaxis.axis_label = x\n",
    "    p.xaxis.axis_label_standoff = -1\n",
    "#     p.add_tools(hover)\n",
    "    return p"
   ]
  },
  {
   "cell_type": "code",
   "execution_count": 10,
   "metadata": {
    "collapsed": false,
    "deletable": true,
    "editable": true,
    "scrolled": true
   },
   "outputs": [
    {
     "data": {
      "text/html": [
       "\n",
       "\n",
       "    <div class=\"bk-root\">\n",
       "        <div class=\"bk-plotdiv\" id=\"e323daae-e137-4684-a641-68dfce796f1e\"></div>\n",
       "    </div>\n",
       "<script type=\"text/javascript\">\n",
       "  \n",
       "  (function(global) {\n",
       "    function now() {\n",
       "      return new Date();\n",
       "    }\n",
       "  \n",
       "    var force = false;\n",
       "  \n",
       "    if (typeof (window._bokeh_onload_callbacks) === \"undefined\" || force === true) {\n",
       "      window._bokeh_onload_callbacks = [];\n",
       "      window._bokeh_is_loading = undefined;\n",
       "    }\n",
       "  \n",
       "  \n",
       "    \n",
       "    if (typeof (window._bokeh_timeout) === \"undefined\" || force === true) {\n",
       "      window._bokeh_timeout = Date.now() + 0;\n",
       "      window._bokeh_failed_load = false;\n",
       "    }\n",
       "  \n",
       "    var NB_LOAD_WARNING = {'data': {'text/html':\n",
       "       \"<div style='background-color: #fdd'>\\n\"+\n",
       "       \"<p>\\n\"+\n",
       "       \"BokehJS does not appear to have successfully loaded. If loading BokehJS from CDN, this \\n\"+\n",
       "       \"may be due to a slow or bad network connection. Possible fixes:\\n\"+\n",
       "       \"</p>\\n\"+\n",
       "       \"<ul>\\n\"+\n",
       "       \"<li>re-rerun `output_notebook()` to attempt to load from CDN again, or</li>\\n\"+\n",
       "       \"<li>use INLINE resources instead, as so:</li>\\n\"+\n",
       "       \"</ul>\\n\"+\n",
       "       \"<code>\\n\"+\n",
       "       \"from bokeh.resources import INLINE\\n\"+\n",
       "       \"output_notebook(resources=INLINE)\\n\"+\n",
       "       \"</code>\\n\"+\n",
       "       \"</div>\"}};\n",
       "  \n",
       "    function display_loaded() {\n",
       "      if (window.Bokeh !== undefined) {\n",
       "        document.getElementById(\"e323daae-e137-4684-a641-68dfce796f1e\").textContent = \"BokehJS successfully loaded.\";\n",
       "      } else if (Date.now() < window._bokeh_timeout) {\n",
       "        setTimeout(display_loaded, 100)\n",
       "      }\n",
       "    }\n",
       "  \n",
       "    function run_callbacks() {\n",
       "      window._bokeh_onload_callbacks.forEach(function(callback) { callback() });\n",
       "      delete window._bokeh_onload_callbacks\n",
       "      console.info(\"Bokeh: all callbacks have finished\");\n",
       "    }\n",
       "  \n",
       "    function load_libs(js_urls, callback) {\n",
       "      window._bokeh_onload_callbacks.push(callback);\n",
       "      if (window._bokeh_is_loading > 0) {\n",
       "        console.log(\"Bokeh: BokehJS is being loaded, scheduling callback at\", now());\n",
       "        return null;\n",
       "      }\n",
       "      if (js_urls == null || js_urls.length === 0) {\n",
       "        run_callbacks();\n",
       "        return null;\n",
       "      }\n",
       "      console.log(\"Bokeh: BokehJS not loaded, scheduling load and callback at\", now());\n",
       "      window._bokeh_is_loading = js_urls.length;\n",
       "      for (var i = 0; i < js_urls.length; i++) {\n",
       "        var url = js_urls[i];\n",
       "        var s = document.createElement('script');\n",
       "        s.src = url;\n",
       "        s.async = false;\n",
       "        s.onreadystatechange = s.onload = function() {\n",
       "          window._bokeh_is_loading--;\n",
       "          if (window._bokeh_is_loading === 0) {\n",
       "            console.log(\"Bokeh: all BokehJS libraries loaded\");\n",
       "            run_callbacks()\n",
       "          }\n",
       "        };\n",
       "        s.onerror = function() {\n",
       "          console.warn(\"failed to load library \" + url);\n",
       "        };\n",
       "        console.log(\"Bokeh: injecting script tag for BokehJS library: \", url);\n",
       "        document.getElementsByTagName(\"head\")[0].appendChild(s);\n",
       "      }\n",
       "    };var element = document.getElementById(\"e323daae-e137-4684-a641-68dfce796f1e\");\n",
       "    if (element == null) {\n",
       "      console.log(\"Bokeh: ERROR: autoload.js configured with elementid 'e323daae-e137-4684-a641-68dfce796f1e' but no matching script tag was found. \")\n",
       "      return false;\n",
       "    }\n",
       "  \n",
       "    var js_urls = [];\n",
       "  \n",
       "    var inline_js = [\n",
       "      function(Bokeh) {\n",
       "        (function() {\n",
       "          var fn = function() {\n",
       "            var docs_json = {\"088186c0-14b5-49a9-bada-156d802f63b7\":{\"roots\":{\"references\":[{\"attributes\":{\"callback\":null},\"id\":\"d1cd85b9-c2c6-4bf7-8c47-2a0d3b2fb3df\",\"type\":\"DataRange1d\"},{\"attributes\":{},\"id\":\"070b0a27-5155-4166-bec0-e4c57e23cd18\",\"type\":\"BasicTicker\"},{\"attributes\":{},\"id\":\"adc9a2ea-33f1-4606-8053-853ab098259d\",\"type\":\"BasicTickFormatter\"},{\"attributes\":{\"fill_alpha\":{\"value\":0.1},\"fill_color\":{\"value\":\"#1f77b4\"},\"line_alpha\":{\"value\":0.1},\"line_color\":{\"value\":\"#1f77b4\"},\"top\":{\"field\":\"y\"},\"width\":{\"value\":0.5},\"x\":{\"field\":\"x\"}},\"id\":\"3a87864b-b0a0-4d70-a458-ea1d2607469d\",\"type\":\"VBar\"},{\"attributes\":{},\"id\":\"72ea0724-1ed0-4131-95b2-432a41859e65\",\"type\":\"BasicTicker\"},{\"attributes\":{\"plot\":{\"id\":\"d7d96d65-8344-4652-a2b5-ed1edda72479\",\"subtype\":\"Figure\",\"type\":\"Plot\"},\"ticker\":{\"id\":\"28587e91-ae91-4ee0-bb78-33b3e5349b59\",\"type\":\"CategoricalTicker\"}},\"id\":\"febeff18-62ea-4bb3-a77b-d4340c6a8faa\",\"type\":\"Grid\"},{\"attributes\":{},\"id\":\"bf147991-64bd-4038-aad5-aea6c74c9692\",\"type\":\"CategoricalTickFormatter\"},{\"attributes\":{\"below\":[{\"id\":\"a3e8fda1-e154-4d9f-a866-4528106e2bf0\",\"type\":\"CategoricalAxis\"}],\"left\":[{\"id\":\"c7008440-c565-40e3-81cf-120a420fc1b6\",\"type\":\"LinearAxis\"}],\"plot_height\":280,\"plot_width\":280,\"renderers\":[{\"id\":\"a3e8fda1-e154-4d9f-a866-4528106e2bf0\",\"type\":\"CategoricalAxis\"},{\"id\":\"f47db01d-4c04-4091-bb46-63468d3f1b91\",\"type\":\"Grid\"},{\"id\":\"c7008440-c565-40e3-81cf-120a420fc1b6\",\"type\":\"LinearAxis\"},{\"id\":\"86ab15cb-bfb9-4ff8-9ac6-7c717093c8f2\",\"type\":\"Grid\"},{\"id\":\"e978f13e-9ed0-42fc-a0d0-937803283dbd\",\"type\":\"GlyphRenderer\"}],\"title\":null,\"tool_events\":{\"id\":\"a5e666fb-86ee-485e-af66-8e7e2e9113b7\",\"type\":\"ToolEvents\"},\"toolbar\":{\"id\":\"d1f3c5f7-43e1-4c26-aa30-386de6eb2826\",\"type\":\"Toolbar\"},\"toolbar_location\":null,\"x_range\":{\"id\":\"ccfdcea8-951b-4382-ba8b-cabc064a79f8\",\"type\":\"FactorRange\"},\"y_range\":{\"id\":\"0d6875b7-e31d-421f-a5bc-97fb192c6c31\",\"type\":\"DataRange1d\"}},\"id\":\"19eaf0a7-c2b3-47cd-b081-db26dac9def3\",\"subtype\":\"Figure\",\"type\":\"Plot\"},{\"attributes\":{\"active_drag\":\"auto\",\"active_scroll\":\"auto\",\"active_tap\":\"auto\",\"tools\":[{\"id\":\"6647bdbb-60d9-4500-9806-a2c06d294d24\",\"type\":\"HoverTool\"}]},\"id\":\"8a88485a-8f7b-4986-aded-b79d8637a061\",\"type\":\"Toolbar\"},{\"attributes\":{},\"id\":\"58ee5d38-de19-4b94-9d73-b13de065dd26\",\"type\":\"CategoricalTickFormatter\"},{\"attributes\":{\"fill_color\":{\"value\":\"#1f77b4\"},\"line_color\":{\"value\":\"#1f77b4\"},\"top\":{\"field\":\"y\"},\"width\":{\"value\":0.5},\"x\":{\"field\":\"x\"}},\"id\":\"c096b7b4-9338-4b3e-8f52-2ea17f399fe8\",\"type\":\"VBar\"},{\"attributes\":{},\"id\":\"aef82277-5311-483a-9669-265ae31c81a2\",\"type\":\"BasicTicker\"},{\"attributes\":{},\"id\":\"12bb0a7b-b82a-4b40-a1c8-522be04b8e03\",\"type\":\"BasicTicker\"},{\"attributes\":{\"axis_label\":\"Exterior2nd\",\"axis_label_standoff\":-1,\"formatter\":{\"id\":\"33bb0209-436e-466f-97b0-ed7f9534f25a\",\"type\":\"CategoricalTickFormatter\"},\"plot\":{\"id\":\"87092fcd-a75a-4640-8111-2cc917334859\",\"subtype\":\"Figure\",\"type\":\"Plot\"},\"ticker\":{\"id\":\"04c1bd42-d523-4905-997b-e7526e5f76be\",\"type\":\"CategoricalTicker\"}},\"id\":\"97f215b6-1864-47d1-b283-0e84e0274819\",\"type\":\"CategoricalAxis\"},{\"attributes\":{\"fill_alpha\":{\"value\":0.1},\"fill_color\":{\"value\":\"#1f77b4\"},\"line_alpha\":{\"value\":0.1},\"line_color\":{\"value\":\"#1f77b4\"},\"top\":{\"field\":\"y\"},\"width\":{\"value\":0.5},\"x\":{\"field\":\"x\"}},\"id\":\"24b4eba2-426a-412d-b2ac-23ce06948ace\",\"type\":\"VBar\"},{\"attributes\":{},\"id\":\"82777af5-5393-4156-984d-42f94e90c58f\",\"type\":\"ToolEvents\"},{\"attributes\":{\"data_source\":{\"id\":\"8881bdff-9465-4a0d-9329-65d81eb60534\",\"type\":\"ColumnDataSource\"},\"glyph\":{\"id\":\"61897fda-ae95-467a-b4c5-b7686feda8a1\",\"type\":\"VBar\"},\"hover_glyph\":null,\"nonselection_glyph\":{\"id\":\"e5cbb8d2-64e1-4109-afe1-f863d014252e\",\"type\":\"VBar\"},\"selection_glyph\":null},\"id\":\"b4f473e1-8a31-4367-b517-01ab9295a718\",\"type\":\"GlyphRenderer\"},{\"attributes\":{\"axis_label\":\"LotShape\",\"axis_label_standoff\":-1,\"formatter\":{\"id\":\"b8a63511-997f-4547-8138-edb4e350ce77\",\"type\":\"CategoricalTickFormatter\"},\"plot\":{\"id\":\"f584a782-04af-4297-9b33-cfa2b70f63d2\",\"subtype\":\"Figure\",\"type\":\"Plot\"},\"ticker\":{\"id\":\"e083dd7d-5f3d-4bb8-bf55-40c3efaaf511\",\"type\":\"CategoricalTicker\"}},\"id\":\"e7c5d79a-6b17-43f0-a19f-c3b9510cc7fb\",\"type\":\"CategoricalAxis\"},{\"attributes\":{\"dimension\":1,\"plot\":{\"id\":\"f1dfed20-240a-4bc9-a109-b5c6aad290bf\",\"subtype\":\"Figure\",\"type\":\"Plot\"},\"ticker\":{\"id\":\"2fa20264-8369-4da6-b9fe-165281037e9f\",\"type\":\"BasicTicker\"}},\"id\":\"ea29ee8f-6195-4768-b1a5-ae00fa755cfc\",\"type\":\"Grid\"},{\"attributes\":{\"fill_alpha\":{\"value\":0.1},\"fill_color\":{\"value\":\"#1f77b4\"},\"line_alpha\":{\"value\":0.1},\"line_color\":{\"value\":\"#1f77b4\"},\"top\":{\"field\":\"y\"},\"width\":{\"value\":0.5},\"x\":{\"field\":\"x\"}},\"id\":\"e5cbb8d2-64e1-4109-afe1-f863d014252e\",\"type\":\"VBar\"},{\"attributes\":{\"callback\":null,\"factors\":[\"Blmngtn\",\"Blueste\",\"BrDale\",\"BrkSide\",\"ClearCr\",\"CollgCr\",\"Crawfor\",\"Edwards\",\"Gilbert\",\"IDOTRR\",\"MeadowV\",\"Mitchel\",\"NAmes\",\"NPkVill\",\"NWAmes\",\"NoRidge\",\"NridgHt\",\"OldTown\",\"SWISU\",\"Sawyer\",\"SawyerW\",\"Somerst\",\"StoneBr\",\"Timber\",\"Veenker\"]},\"id\":\"0683d1d1-1f46-46fb-afb2-4e7dfd35e02c\",\"type\":\"FactorRange\"},{\"attributes\":{\"callback\":null,\"plot\":{\"id\":\"a16ed0bb-4306-49f1-b56e-7e7ed265efba\",\"subtype\":\"Figure\",\"type\":\"Plot\"},\"tooltips\":[[\"category\",\"@x\"],[\"percent\",\"@percent\"]]},\"id\":\"58fe71e7-b855-4271-bcb4-fc946ee973fc\",\"type\":\"HoverTool\"},{\"attributes\":{\"fill_alpha\":{\"value\":0.1},\"fill_color\":{\"value\":\"#1f77b4\"},\"line_alpha\":{\"value\":0.1},\"line_color\":{\"value\":\"#1f77b4\"},\"top\":{\"field\":\"y\"},\"width\":{\"value\":0.5},\"x\":{\"field\":\"x\"}},\"id\":\"c3e44ce1-354d-4d4e-87eb-2eec15277cb5\",\"type\":\"VBar\"},{\"attributes\":{\"fill_alpha\":{\"value\":0.1},\"fill_color\":{\"value\":\"#1f77b4\"},\"line_alpha\":{\"value\":0.1},\"line_color\":{\"value\":\"#1f77b4\"},\"top\":{\"field\":\"y\"},\"width\":{\"value\":0.5},\"x\":{\"field\":\"x\"}},\"id\":\"6134e739-c2c7-4ea3-bd82-4bacf75dc787\",\"type\":\"VBar\"},{\"attributes\":{},\"id\":\"fce07322-489a-474a-9171-f18281b8fbf8\",\"type\":\"BasicTickFormatter\"},{\"attributes\":{\"below\":[{\"id\":\"1c108fa4-cb5e-4b47-a324-4bd4f99a16c9\",\"type\":\"CategoricalAxis\"}],\"left\":[{\"id\":\"4cde499b-02db-45a0-877b-577c9134c272\",\"type\":\"LinearAxis\"}],\"plot_height\":280,\"plot_width\":280,\"renderers\":[{\"id\":\"1c108fa4-cb5e-4b47-a324-4bd4f99a16c9\",\"type\":\"CategoricalAxis\"},{\"id\":\"778b7191-94bd-4036-8702-a7a7d98b129e\",\"type\":\"Grid\"},{\"id\":\"4cde499b-02db-45a0-877b-577c9134c272\",\"type\":\"LinearAxis\"},{\"id\":\"ea29ee8f-6195-4768-b1a5-ae00fa755cfc\",\"type\":\"Grid\"},{\"id\":\"83bc8872-23b4-45fc-807b-c6704e89e38a\",\"type\":\"GlyphRenderer\"}],\"title\":null,\"tool_events\":{\"id\":\"8d510f60-8476-44a6-9d6e-f82b9ce6ae20\",\"type\":\"ToolEvents\"},\"toolbar\":{\"id\":\"c99421ed-1855-4049-bc5a-c1ad42e2d015\",\"type\":\"Toolbar\"},\"toolbar_location\":null,\"x_range\":{\"id\":\"e49e0c40-9b63-497c-8e66-8d5c48cf4016\",\"type\":\"FactorRange\"},\"y_range\":{\"id\":\"2e7f68aa-71da-45ef-b34b-2c17ef6a07dd\",\"type\":\"DataRange1d\"}},\"id\":\"f1dfed20-240a-4bc9-a109-b5c6aad290bf\",\"subtype\":\"Figure\",\"type\":\"Plot\"},{\"attributes\":{\"children\":[{\"id\":\"ced13ff6-4456-4ec8-9632-204fd2e8548d\",\"subtype\":\"Figure\",\"type\":\"Plot\"},{\"id\":\"03df4bb5-c9d4-48d0-924e-f350f9729d19\",\"subtype\":\"Figure\",\"type\":\"Plot\"},{\"id\":\"d7d96d65-8344-4652-a2b5-ed1edda72479\",\"subtype\":\"Figure\",\"type\":\"Plot\"}]},\"id\":\"0c98ff4f-800b-4451-8b54-b032d70bed41\",\"type\":\"Row\"},{\"attributes\":{\"callback\":null,\"plot\":{\"id\":\"f1dfed20-240a-4bc9-a109-b5c6aad290bf\",\"subtype\":\"Figure\",\"type\":\"Plot\"},\"tooltips\":[[\"category\",\"@x\"],[\"percent\",\"@percent\"]]},\"id\":\"1c30545a-e86e-4918-b482-3529d48589b2\",\"type\":\"HoverTool\"},{\"attributes\":{\"callback\":null,\"factors\":[\"Corner\",\"CulDSac\",\"FR2\",\"FR3\",\"Inside\"]},\"id\":\"1f71121c-bbf0-4cdc-8a0c-9e8647989d90\",\"type\":\"FactorRange\"},{\"attributes\":{\"fill_color\":{\"value\":\"#1f77b4\"},\"line_color\":{\"value\":\"#1f77b4\"},\"top\":{\"field\":\"y\"},\"width\":{\"value\":0.5},\"x\":{\"field\":\"x\"}},\"id\":\"9ce4f080-08db-4727-8061-1b5471228e01\",\"type\":\"VBar\"},{\"attributes\":{\"axis_label\":\"LotConfig\",\"axis_label_standoff\":-1,\"formatter\":{\"id\":\"60b6f53f-c021-4101-8742-b00ff0f385bd\",\"type\":\"CategoricalTickFormatter\"},\"plot\":{\"id\":\"3b70817a-9307-427f-b184-c6bdea437bda\",\"subtype\":\"Figure\",\"type\":\"Plot\"},\"ticker\":{\"id\":\"37b4b3ea-afc8-40db-802d-d6f2b7cfb50d\",\"type\":\"CategoricalTicker\"}},\"id\":\"3fd56268-9563-42a4-9230-41b9cec9500f\",\"type\":\"CategoricalAxis\"},{\"attributes\":{\"axis_label\":\"OverallQual\",\"axis_label_standoff\":-1,\"formatter\":{\"id\":\"5cfcbabf-d5a3-41da-8e5f-1db61d26afff\",\"type\":\"CategoricalTickFormatter\"},\"plot\":{\"id\":\"40d143ae-4a96-4acb-88cd-8f97deb42073\",\"subtype\":\"Figure\",\"type\":\"Plot\"},\"ticker\":{\"id\":\"0e28c431-ea97-4752-846b-1f7c6302e027\",\"type\":\"CategoricalTicker\"}},\"id\":\"0e264683-68c8-44ef-a8c5-ab2f64679fcc\",\"type\":\"CategoricalAxis\"},{\"attributes\":{\"fill_alpha\":{\"value\":0.1},\"fill_color\":{\"value\":\"#1f77b4\"},\"line_alpha\":{\"value\":0.1},\"line_color\":{\"value\":\"#1f77b4\"},\"top\":{\"field\":\"y\"},\"width\":{\"value\":0.5},\"x\":{\"field\":\"x\"}},\"id\":\"4fa3f95d-5302-4ce7-abee-47b9a049bf9e\",\"type\":\"VBar\"},{\"attributes\":{\"fill_alpha\":{\"value\":0.1},\"fill_color\":{\"value\":\"#1f77b4\"},\"line_alpha\":{\"value\":0.1},\"line_color\":{\"value\":\"#1f77b4\"},\"top\":{\"field\":\"y\"},\"width\":{\"value\":0.5},\"x\":{\"field\":\"x\"}},\"id\":\"2d33fe2a-52de-47b2-ac48-d0355c0ad131\",\"type\":\"VBar\"},{\"attributes\":{\"below\":[{\"id\":\"d3c7e715-6c2c-4ce3-a533-9a1715164c0c\",\"type\":\"CategoricalAxis\"}],\"left\":[{\"id\":\"665b4f53-c59a-49d2-a800-18d605bfc6c2\",\"type\":\"LinearAxis\"}],\"plot_height\":280,\"plot_width\":280,\"renderers\":[{\"id\":\"d3c7e715-6c2c-4ce3-a533-9a1715164c0c\",\"type\":\"CategoricalAxis\"},{\"id\":\"6d61ab03-ca5a-4d94-a63d-ca8619f20dad\",\"type\":\"Grid\"},{\"id\":\"665b4f53-c59a-49d2-a800-18d605bfc6c2\",\"type\":\"LinearAxis\"},{\"id\":\"f7119374-2375-4649-80c2-7f69621245a0\",\"type\":\"Grid\"},{\"id\":\"f68ae596-b4d3-43be-be7c-91f94ced6181\",\"type\":\"GlyphRenderer\"}],\"title\":null,\"tool_events\":{\"id\":\"73fca5d0-584a-4c0b-a425-6a2a5ac84a1b\",\"type\":\"ToolEvents\"},\"toolbar\":{\"id\":\"e43927f1-eaf8-4194-8783-6304706d0478\",\"type\":\"Toolbar\"},\"toolbar_location\":null,\"x_range\":{\"id\":\"5230c39f-0a91-430a-9059-f58acb77e95d\",\"type\":\"FactorRange\"},\"y_range\":{\"id\":\"c99293b0-b4b3-4bb6-9660-bbd0b5a9cfa0\",\"type\":\"DataRange1d\"}},\"id\":\"8c0ac025-9451-44e0-8084-ec322d7d97ea\",\"subtype\":\"Figure\",\"type\":\"Plot\"},{\"attributes\":{\"dimension\":1,\"plot\":{\"id\":\"3eba35cf-e23d-4c2a-b555-b885e496ea54\",\"subtype\":\"Figure\",\"type\":\"Plot\"},\"ticker\":{\"id\":\"b6f3ca49-ab63-4363-aacd-cb663f4522bc\",\"type\":\"BasicTicker\"}},\"id\":\"a04c51ba-c1ff-4444-a050-390190b83d69\",\"type\":\"Grid\"},{\"attributes\":{\"callback\":null,\"plot\":{\"id\":\"e81f95b7-22a1-4308-a527-4afbd98198c6\",\"subtype\":\"Figure\",\"type\":\"Plot\"},\"tooltips\":[[\"category\",\"@x\"],[\"percent\",\"@percent\"]]},\"id\":\"3beddc5a-d481-4ef4-90c2-8b19e5da0222\",\"type\":\"HoverTool\"},{\"attributes\":{},\"id\":\"b8a63511-997f-4547-8138-edb4e350ce77\",\"type\":\"CategoricalTickFormatter\"},{\"attributes\":{\"dimension\":1,\"plot\":{\"id\":\"e81f95b7-22a1-4308-a527-4afbd98198c6\",\"subtype\":\"Figure\",\"type\":\"Plot\"},\"ticker\":{\"id\":\"aef82277-5311-483a-9669-265ae31c81a2\",\"type\":\"BasicTicker\"}},\"id\":\"de938d50-045d-4f15-baa5-fee45e83ad59\",\"type\":\"Grid\"},{\"attributes\":{\"formatter\":{\"id\":\"7201a014-3fac-4ee8-8509-22427f5429c6\",\"type\":\"BasicTickFormatter\"},\"plot\":{\"id\":\"19eaf0a7-c2b3-47cd-b081-db26dac9def3\",\"subtype\":\"Figure\",\"type\":\"Plot\"},\"ticker\":{\"id\":\"7d4b3634-524e-41ab-9f87-03ddcacb8ac3\",\"type\":\"BasicTicker\"},\"visible\":false},\"id\":\"c7008440-c565-40e3-81cf-120a420fc1b6\",\"type\":\"LinearAxis\"},{\"attributes\":{\"axis_label\":\"GarageType\",\"axis_label_standoff\":-1,\"formatter\":{\"id\":\"00f3a614-0a7a-4942-9771-bb5ef412a808\",\"type\":\"CategoricalTickFormatter\"},\"plot\":{\"id\":\"21c0b045-a9a9-4f41-b237-2ba52f036d02\",\"subtype\":\"Figure\",\"type\":\"Plot\"},\"ticker\":{\"id\":\"cafceae6-5659-4e1f-a0d3-cb163cd315b3\",\"type\":\"CategoricalTicker\"}},\"id\":\"04eef9ff-7449-468d-a049-ee14beb76d4f\",\"type\":\"CategoricalAxis\"},{\"attributes\":{\"dimension\":1,\"plot\":{\"id\":\"7f3d9ab9-eb4b-4a5c-bac5-cb0a24e3d8e4\",\"subtype\":\"Figure\",\"type\":\"Plot\"},\"ticker\":{\"id\":\"12bb0a7b-b82a-4b40-a1c8-522be04b8e03\",\"type\":\"BasicTicker\"}},\"id\":\"41eb8826-5e1b-476c-8f55-7a4d515e0673\",\"type\":\"Grid\"},{\"attributes\":{\"axis_label\":\"MiscFeature\",\"axis_label_standoff\":-1,\"formatter\":{\"id\":\"d8335491-f293-4bb1-80ec-edd89d876d50\",\"type\":\"CategoricalTickFormatter\"},\"plot\":{\"id\":\"0ef37e0d-ba62-47c4-a331-6a0c4181a6b7\",\"subtype\":\"Figure\",\"type\":\"Plot\"},\"ticker\":{\"id\":\"2b73671b-420b-4731-ac78-24e0d46ca838\",\"type\":\"CategoricalTicker\"}},\"id\":\"d7ac4206-c950-4b05-8956-32dc650ad7fc\",\"type\":\"CategoricalAxis\"},{\"attributes\":{\"children\":[{\"id\":\"cb04c9b6-2792-4588-807e-2f34cec3095d\",\"subtype\":\"Figure\",\"type\":\"Plot\"},{\"id\":\"3eba35cf-e23d-4c2a-b555-b885e496ea54\",\"subtype\":\"Figure\",\"type\":\"Plot\"}]},\"id\":\"47abb477-dacb-4346-95ec-b12880213bf8\",\"type\":\"Row\"},{\"attributes\":{\"active_drag\":\"auto\",\"active_scroll\":\"auto\",\"active_tap\":\"auto\",\"tools\":[{\"id\":\"1c30545a-e86e-4918-b482-3529d48589b2\",\"type\":\"HoverTool\"}]},\"id\":\"c99421ed-1855-4049-bc5a-c1ad42e2d015\",\"type\":\"Toolbar\"},{\"attributes\":{\"children\":[{\"id\":\"6ceb70a4-3bd7-407f-8131-2b6d362726cf\",\"subtype\":\"Figure\",\"type\":\"Plot\"},{\"id\":\"a16ed0bb-4306-49f1-b56e-7e7ed265efba\",\"subtype\":\"Figure\",\"type\":\"Plot\"},{\"id\":\"b3563cde-5e78-4851-be76-da25726e37b5\",\"subtype\":\"Figure\",\"type\":\"Plot\"}]},\"id\":\"b62f2268-f543-400a-8091-cf0d8adb9579\",\"type\":\"Row\"},{\"attributes\":{\"callback\":null,\"factors\":[\"1.5Fin\",\"1.5Unf\",\"1Story\",\"2.5Fin\",\"2.5Unf\",\"2Story\",\"SFoyer\",\"SLvl\"]},\"id\":\"16b26e4c-6178-45fb-a780-b335461df3a4\",\"type\":\"FactorRange\"},{\"attributes\":{},\"id\":\"ce537d15-2609-4e27-8482-80f64462f01d\",\"type\":\"CategoricalTickFormatter\"},{\"attributes\":{\"data_source\":{\"id\":\"68b827f8-50c2-4b6e-a861-593d4663ecc5\",\"type\":\"ColumnDataSource\"},\"glyph\":{\"id\":\"9b00d90a-9741-4a6e-9709-86644fe9dd3e\",\"type\":\"VBar\"},\"hover_glyph\":null,\"nonselection_glyph\":{\"id\":\"668e9a90-2074-4e91-bae0-00fe422bc076\",\"type\":\"VBar\"},\"selection_glyph\":null},\"id\":\"06d4e669-b249-4288-a33c-785356a414c3\",\"type\":\"GlyphRenderer\"},{\"attributes\":{},\"id\":\"57eba88f-8824-4abd-96e6-73bb01f8d115\",\"type\":\"BasicTickFormatter\"},{\"attributes\":{},\"id\":\"103179a7-19f2-4a19-be5b-04c0f0b02bf3\",\"type\":\"CategoricalTicker\"},{\"attributes\":{\"below\":[{\"id\":\"54ab53ec-6704-4841-bcc5-b64de4ce62d4\",\"type\":\"CategoricalAxis\"}],\"left\":[{\"id\":\"3962209d-0fe3-4991-aeeb-13fc5af74dcc\",\"type\":\"LinearAxis\"}],\"plot_height\":280,\"plot_width\":280,\"renderers\":[{\"id\":\"54ab53ec-6704-4841-bcc5-b64de4ce62d4\",\"type\":\"CategoricalAxis\"},{\"id\":\"b8d46c66-f1e6-48a4-8c25-9fcb9c41ee47\",\"type\":\"Grid\"},{\"id\":\"3962209d-0fe3-4991-aeeb-13fc5af74dcc\",\"type\":\"LinearAxis\"},{\"id\":\"d3df7579-2ad4-47cc-9bc7-0134ef57ce02\",\"type\":\"Grid\"},{\"id\":\"541081fa-d81b-4f1e-b417-68eef6f342da\",\"type\":\"GlyphRenderer\"}],\"title\":null,\"tool_events\":{\"id\":\"68d08355-0dc2-4472-a96c-a5cb3f5d003e\",\"type\":\"ToolEvents\"},\"toolbar\":{\"id\":\"7139f983-cdc8-48c4-9236-62b019775b00\",\"type\":\"Toolbar\"},\"toolbar_location\":null,\"x_range\":{\"id\":\"2a3f2820-9d50-4385-bcac-a1889ee1d6bd\",\"type\":\"FactorRange\"},\"y_range\":{\"id\":\"7f54a68e-a6fa-4715-8a87-14c85109edb8\",\"type\":\"DataRange1d\"}},\"id\":\"bd937234-1d5c-473b-9719-6f8e3da4efb7\",\"subtype\":\"Figure\",\"type\":\"Plot\"},{\"attributes\":{\"plot\":{\"id\":\"ced13ff6-4456-4ec8-9632-204fd2e8548d\",\"subtype\":\"Figure\",\"type\":\"Plot\"},\"ticker\":{\"id\":\"b3c0c53c-d829-4e6b-9da0-ea6356a1ceb0\",\"type\":\"CategoricalTicker\"}},\"id\":\"6eef45d4-fec9-441a-a39a-df12dad3dfcc\",\"type\":\"Grid\"},{\"attributes\":{\"fill_color\":{\"value\":\"#1f77b4\"},\"line_color\":{\"value\":\"#1f77b4\"},\"top\":{\"field\":\"y\"},\"width\":{\"value\":0.5},\"x\":{\"field\":\"x\"}},\"id\":\"ed6db356-a63a-455e-922d-edb32a1bce3c\",\"type\":\"VBar\"},{\"attributes\":{},\"id\":\"715f0612-a74c-46c3-a6b8-761a7d898a1a\",\"type\":\"CategoricalTicker\"},{\"attributes\":{\"below\":[{\"id\":\"33627372-fb8b-4a0c-9659-d852083fc185\",\"type\":\"CategoricalAxis\"}],\"left\":[{\"id\":\"d1535e11-04ac-4a1a-b41d-08b34f79fda2\",\"type\":\"LinearAxis\"}],\"plot_height\":280,\"plot_width\":280,\"renderers\":[{\"id\":\"33627372-fb8b-4a0c-9659-d852083fc185\",\"type\":\"CategoricalAxis\"},{\"id\":\"7d9dc3c7-7c0f-42dd-b45e-d481f3baf7c9\",\"type\":\"Grid\"},{\"id\":\"d1535e11-04ac-4a1a-b41d-08b34f79fda2\",\"type\":\"LinearAxis\"},{\"id\":\"6c05a8ad-9a21-4ee1-a701-478e6c14d521\",\"type\":\"Grid\"},{\"id\":\"8431164f-9a84-4393-b42f-1800c1f95c11\",\"type\":\"GlyphRenderer\"}],\"title\":null,\"tool_events\":{\"id\":\"ef280b32-2326-4082-9164-f5ed21760a3f\",\"type\":\"ToolEvents\"},\"toolbar\":{\"id\":\"7692eb4d-0a49-47f6-9644-7d124aa452fd\",\"type\":\"Toolbar\"},\"toolbar_location\":null,\"x_range\":{\"id\":\"541f6455-d934-4878-ac03-cd5c830d6da7\",\"type\":\"FactorRange\"},\"y_range\":{\"id\":\"9db762dc-c2f7-47d7-b6c9-44154d95bee8\",\"type\":\"DataRange1d\"}},\"id\":\"ebb0fac7-3f69-4a2e-886c-7e6e76d396b6\",\"subtype\":\"Figure\",\"type\":\"Plot\"},{\"attributes\":{\"formatter\":{\"id\":\"8cf35278-c562-4c8a-abde-a25ae8f7c5f8\",\"type\":\"BasicTickFormatter\"},\"plot\":{\"id\":\"f2d8e3a4-8482-4141-ad82-a24001eec5a5\",\"subtype\":\"Figure\",\"type\":\"Plot\"},\"ticker\":{\"id\":\"c844d010-73f0-4c07-9e91-bcaad2037e42\",\"type\":\"BasicTicker\"},\"visible\":false},\"id\":\"a80319e8-5505-440f-94e5-54e3f54a7e18\",\"type\":\"LinearAxis\"},{\"attributes\":{\"axis_label\":\"Neighborhood\",\"axis_label_standoff\":-1,\"formatter\":{\"id\":\"f1f23734-8d45-4e47-853f-ed27fd203b27\",\"type\":\"CategoricalTickFormatter\"},\"plot\":{\"id\":\"1ef9dabf-40a5-4aba-a9e4-3365f2546864\",\"subtype\":\"Figure\",\"type\":\"Plot\"},\"ticker\":{\"id\":\"62afbb24-52ca-401f-9906-396256cd9d4c\",\"type\":\"CategoricalTicker\"}},\"id\":\"d6b1b9c4-f026-4982-b3cc-973fdea14a55\",\"type\":\"CategoricalAxis\"},{\"attributes\":{\"callback\":null,\"plot\":{\"id\":\"0d46a34b-5740-468a-8de5-1e7a06c67629\",\"subtype\":\"Figure\",\"type\":\"Plot\"},\"tooltips\":[[\"category\",\"@x\"],[\"percent\",\"@percent\"]]},\"id\":\"c5bc4cff-a97e-43f6-9c23-f6ba1f322e63\",\"type\":\"HoverTool\"},{\"attributes\":{\"axis_label\":\"Electrical\",\"axis_label_standoff\":-1,\"formatter\":{\"id\":\"a76ead06-37d2-4ac3-83d2-9938c2572fbe\",\"type\":\"CategoricalTickFormatter\"},\"plot\":{\"id\":\"d66c958d-1e3e-4cf8-8df5-33dd32e7c442\",\"subtype\":\"Figure\",\"type\":\"Plot\"},\"ticker\":{\"id\":\"122e2f4a-d0f3-4fc7-bb5f-6b6f0f9d6b9c\",\"type\":\"CategoricalTicker\"}},\"id\":\"979159d3-e01d-4fe4-a28b-edd1d3cb82d7\",\"type\":\"CategoricalAxis\"},{\"attributes\":{\"callback\":null,\"plot\":{\"id\":\"63591072-bbd7-4b0d-bdf1-309f26368411\",\"subtype\":\"Figure\",\"type\":\"Plot\"},\"tooltips\":[[\"category\",\"@x\"],[\"percent\",\"@percent\"]]},\"id\":\"362054bf-0a30-45dd-821d-ed5cec820246\",\"type\":\"HoverTool\"},{\"attributes\":{\"axis_label\":\"HouseStyle\",\"axis_label_standoff\":-1,\"formatter\":{\"id\":\"cae0a668-ce20-4004-9329-28a918663ae4\",\"type\":\"CategoricalTickFormatter\"},\"plot\":{\"id\":\"e907fdd6-ecdd-409f-9f46-311929b0772d\",\"subtype\":\"Figure\",\"type\":\"Plot\"},\"ticker\":{\"id\":\"76dfc00a-cea9-42ab-83e6-0ba92a8fcd2b\",\"type\":\"CategoricalTicker\"}},\"id\":\"48b175a2-7bb6-43df-ae9b-2441bf6f69b3\",\"type\":\"CategoricalAxis\"},{\"attributes\":{},\"id\":\"cce22bfb-ffcb-4419-afa6-366a10db1f8f\",\"type\":\"CategoricalTickFormatter\"},{\"attributes\":{\"below\":[{\"id\":\"ce5d1c05-195b-45f1-ab51-cea21365a855\",\"type\":\"CategoricalAxis\"}],\"left\":[{\"id\":\"875e6b99-6b92-4444-9b13-22a2f966fe13\",\"type\":\"LinearAxis\"}],\"plot_height\":280,\"plot_width\":280,\"renderers\":[{\"id\":\"ce5d1c05-195b-45f1-ab51-cea21365a855\",\"type\":\"CategoricalAxis\"},{\"id\":\"70b83631-74ff-40ed-a940-cd5e18d37895\",\"type\":\"Grid\"},{\"id\":\"875e6b99-6b92-4444-9b13-22a2f966fe13\",\"type\":\"LinearAxis\"},{\"id\":\"31944e00-0ba3-4f7a-9cb4-c4f78b201d84\",\"type\":\"Grid\"},{\"id\":\"250bc0ca-e0a7-4afd-90c4-4f8d1ce2e630\",\"type\":\"GlyphRenderer\"}],\"title\":null,\"tool_events\":{\"id\":\"50c1fbbd-1e35-4183-90aa-34197fafb8f9\",\"type\":\"ToolEvents\"},\"toolbar\":{\"id\":\"8e335a57-8e28-49dd-a16b-703d0c95aa31\",\"type\":\"Toolbar\"},\"toolbar_location\":null,\"x_range\":{\"id\":\"4b3e9136-1996-49f5-8fc6-68b67ec04a25\",\"type\":\"FactorRange\"},\"y_range\":{\"id\":\"dfbfc769-99dc-42ae-bf95-57254ad9313a\",\"type\":\"DataRange1d\"}},\"id\":\"722940e9-fd7c-4e4f-a184-76c7dd0dfb45\",\"subtype\":\"Figure\",\"type\":\"Plot\"},{\"attributes\":{\"callback\":null},\"id\":\"c99293b0-b4b3-4bb6-9660-bbd0b5a9cfa0\",\"type\":\"DataRange1d\"},{\"attributes\":{\"callback\":null},\"id\":\"9db762dc-c2f7-47d7-b6c9-44154d95bee8\",\"type\":\"DataRange1d\"},{\"attributes\":{\"fill_alpha\":{\"value\":0.1},\"fill_color\":{\"value\":\"#1f77b4\"},\"line_alpha\":{\"value\":0.1},\"line_color\":{\"value\":\"#1f77b4\"},\"top\":{\"field\":\"y\"},\"width\":{\"value\":0.5},\"x\":{\"field\":\"x\"}},\"id\":\"203690a2-51ab-4a4c-a0fb-ba6ec19d3a00\",\"type\":\"VBar\"},{\"attributes\":{\"active_drag\":\"auto\",\"active_scroll\":\"auto\",\"active_tap\":\"auto\",\"tools\":[{\"id\":\"2230d43c-36d9-40ba-a099-8880a2e9efa3\",\"type\":\"HoverTool\"}]},\"id\":\"20aa723a-eeab-419f-8764-58fc5b243873\",\"type\":\"Toolbar\"},{\"attributes\":{\"fill_color\":{\"value\":\"#1f77b4\"},\"line_color\":{\"value\":\"#1f77b4\"},\"top\":{\"field\":\"y\"},\"width\":{\"value\":0.5},\"x\":{\"field\":\"x\"}},\"id\":\"0a5c44a3-dcb4-4b02-8be9-458346ea1f6c\",\"type\":\"VBar\"},{\"attributes\":{\"axis_label\":\"RoofStyle\",\"axis_label_standoff\":-1,\"formatter\":{\"id\":\"53960d93-1e25-4b22-b05f-c149f83ab570\",\"type\":\"CategoricalTickFormatter\"},\"plot\":{\"id\":\"407e2119-03f6-436e-9d72-0edfa14fd5ff\",\"subtype\":\"Figure\",\"type\":\"Plot\"},\"ticker\":{\"id\":\"9e23f934-0749-4379-9d50-091d107204ba\",\"type\":\"CategoricalTicker\"}},\"id\":\"4d17d5ab-8d01-4144-833d-769a1c3fd9ba\",\"type\":\"CategoricalAxis\"},{\"attributes\":{\"fill_color\":{\"value\":\"#1f77b4\"},\"line_color\":{\"value\":\"#1f77b4\"},\"top\":{\"field\":\"y\"},\"width\":{\"value\":0.5},\"x\":{\"field\":\"x\"}},\"id\":\"d0b79edc-012c-40c0-96fa-35cc43a265a2\",\"type\":\"VBar\"},{\"attributes\":{},\"id\":\"6e3d2e73-9bb0-43f5-b3e9-2cf8a15c9c32\",\"type\":\"CategoricalTickFormatter\"},{\"attributes\":{\"callback\":null},\"id\":\"7f54a68e-a6fa-4715-8a87-14c85109edb8\",\"type\":\"DataRange1d\"},{\"attributes\":{\"fill_color\":{\"value\":\"#1f77b4\"},\"line_color\":{\"value\":\"#1f77b4\"},\"top\":{\"field\":\"y\"},\"width\":{\"value\":0.5},\"x\":{\"field\":\"x\"}},\"id\":\"2abddce4-4cdb-4ed8-8ca0-f3a48fff7f18\",\"type\":\"VBar\"},{\"attributes\":{\"callback\":null,\"column_names\":[\"y\",\"x\",\"percent\"],\"data\":{\"percent\":[\"0.218%\",\"3.48%\",\"1.02%\",\"0.218%\",\"95.1%\"],\"x\":[\"Ex\",\"Fa\",\"Gd\",\"Po\",\"TA\"],\"y\":[3,48,14,3,1311]}},\"id\":\"92cf3004-15be-4442-b43f-c603cd5053d2\",\"type\":\"ColumnDataSource\"},{\"attributes\":{},\"id\":\"9295dda0-445b-4ac3-8d7a-c9f6995ea23b\",\"type\":\"CategoricalTickFormatter\"},{\"attributes\":{\"dimension\":1,\"plot\":{\"id\":\"3fb79034-c49d-46c1-bbb3-1494bc08b6af\",\"subtype\":\"Figure\",\"type\":\"Plot\"},\"ticker\":{\"id\":\"70caeaee-9020-4ebd-bea0-8d0b6019bd49\",\"type\":\"BasicTicker\"}},\"id\":\"1d397990-3033-42a2-9cc1-ccce618bbfea\",\"type\":\"Grid\"},{\"attributes\":{\"callback\":null,\"plot\":{\"id\":\"9f450253-495d-4765-a3bb-69fb2c6102d7\",\"subtype\":\"Figure\",\"type\":\"Plot\"},\"tooltips\":[[\"category\",\"@x\"],[\"percent\",\"@percent\"]]},\"id\":\"0be85c72-92de-4cd1-b3cc-db903f0fe7c8\",\"type\":\"HoverTool\"},{\"attributes\":{\"callback\":null,\"factors\":[\"COD\",\"CWD\",\"Con\",\"ConLD\",\"ConLI\",\"ConLw\",\"New\",\"Oth\",\"WD\"]},\"id\":\"bb8b575d-ad73-48d0-a78f-43fc5c699cf6\",\"type\":\"FactorRange\"},{\"attributes\":{\"formatter\":{\"id\":\"fce07322-489a-474a-9171-f18281b8fbf8\",\"type\":\"BasicTickFormatter\"},\"plot\":{\"id\":\"f584a782-04af-4297-9b33-cfa2b70f63d2\",\"subtype\":\"Figure\",\"type\":\"Plot\"},\"ticker\":{\"id\":\"a39d104e-c122-4842-b0b3-9f30cfcdf441\",\"type\":\"BasicTicker\"},\"visible\":false},\"id\":\"d5f3f123-3787-4f06-aaee-ed97eba68da4\",\"type\":\"LinearAxis\"},{\"attributes\":{\"callback\":null,\"factors\":[\"Ex\",\"Fa\",\"Gd\",\"TA\"]},\"id\":\"726c2a44-db41-4b40-afbe-9878c5775ec1\",\"type\":\"FactorRange\"},{\"attributes\":{\"callback\":null,\"column_names\":[\"y\",\"x\",\"percent\"],\"data\":{\"percent\":[\"1.37%\",\"0.205%\",\"0.479%\",\"1.71%\",\"0.0685%\",\"4.11%\",\"14.2%\",\"0.685%\",\"14.7%\",\"0.0685%\",\"9.73%\",\"0.342%\",\"1.78%\",\"34.5%\",\"13.5%\",\"2.6%\"],\"x\":[\"AsbShng\",\"AsphShn\",\"Brk Cmn\",\"BrkFace\",\"CBlock\",\"CmentBd\",\"HdBoard\",\"ImStucc\",\"MetalSd\",\"Other\",\"Plywood\",\"Stone\",\"Stucco\",\"VinylSd\",\"Wd Sdng\",\"Wd Shng\"],\"y\":[20,3,7,25,1,60,207,10,214,1,142,5,26,504,197,38]}},\"id\":\"28d2dd03-f592-4e7f-b036-1f089eb5520b\",\"type\":\"ColumnDataSource\"},{\"attributes\":{\"fill_alpha\":{\"value\":0.1},\"fill_color\":{\"value\":\"#1f77b4\"},\"line_alpha\":{\"value\":0.1},\"line_color\":{\"value\":\"#1f77b4\"},\"top\":{\"field\":\"y\"},\"width\":{\"value\":0.5},\"x\":{\"field\":\"x\"}},\"id\":\"28ff0816-148b-4e26-904f-8166d0bc440f\",\"type\":\"VBar\"},{\"attributes\":{\"plot\":{\"id\":\"f1dfed20-240a-4bc9-a109-b5c6aad290bf\",\"subtype\":\"Figure\",\"type\":\"Plot\"},\"ticker\":{\"id\":\"2a4913b2-9aa4-458a-b01f-469c4ef8aeb0\",\"type\":\"CategoricalTicker\"}},\"id\":\"778b7191-94bd-4036-8702-a7a7d98b129e\",\"type\":\"Grid\"},{\"attributes\":{\"below\":[{\"id\":\"254025da-2e50-4eae-897d-e28a7a61d3e0\",\"type\":\"CategoricalAxis\"}],\"left\":[{\"id\":\"d5a6076a-8237-41f5-8d4d-63a6867a1d8e\",\"type\":\"LinearAxis\"}],\"plot_height\":280,\"plot_width\":280,\"renderers\":[{\"id\":\"254025da-2e50-4eae-897d-e28a7a61d3e0\",\"type\":\"CategoricalAxis\"},{\"id\":\"54c0d11a-e124-43b9-b993-7ee4db356ccd\",\"type\":\"Grid\"},{\"id\":\"d5a6076a-8237-41f5-8d4d-63a6867a1d8e\",\"type\":\"LinearAxis\"},{\"id\":\"d998d02e-8db0-4a3e-97d7-54fb024507a0\",\"type\":\"Grid\"},{\"id\":\"8736846c-0834-4c0d-802a-406650629efb\",\"type\":\"GlyphRenderer\"}],\"title\":null,\"tool_events\":{\"id\":\"bcc3e51a-892f-4c8c-ad55-f1628b3e0fdb\",\"type\":\"ToolEvents\"},\"toolbar\":{\"id\":\"bcabd285-b5fe-48ec-ac18-cd70af647c76\",\"type\":\"Toolbar\"},\"toolbar_location\":null,\"x_range\":{\"id\":\"be3465ba-ce9c-4f9b-997a-a630c2fb4fd1\",\"type\":\"FactorRange\"},\"y_range\":{\"id\":\"0f608bfa-3285-405c-8090-aeeb66b7b4c7\",\"type\":\"DataRange1d\"}},\"id\":\"7a4a6a1b-feb7-4584-a51f-4f380b4502a1\",\"subtype\":\"Figure\",\"type\":\"Plot\"},{\"attributes\":{\"callback\":null,\"plot\":{\"id\":\"ebb0fac7-3f69-4a2e-886c-7e6e76d396b6\",\"subtype\":\"Figure\",\"type\":\"Plot\"},\"tooltips\":[[\"category\",\"@x\"],[\"percent\",\"@percent\"]]},\"id\":\"70984394-9b9d-4447-a953-423db8abc6cc\",\"type\":\"HoverTool\"},{\"attributes\":{\"data_source\":{\"id\":\"92cf3004-15be-4442-b43f-c603cd5053d2\",\"type\":\"ColumnDataSource\"},\"glyph\":{\"id\":\"ed6db356-a63a-455e-922d-edb32a1bce3c\",\"type\":\"VBar\"},\"hover_glyph\":null,\"nonselection_glyph\":{\"id\":\"0293c1aa-f0bd-403f-bd18-b7461324a918\",\"type\":\"VBar\"},\"selection_glyph\":null},\"id\":\"6dcb2649-b91b-4188-8287-ce9369f13d47\",\"type\":\"GlyphRenderer\"},{\"attributes\":{\"fill_alpha\":{\"value\":0.1},\"fill_color\":{\"value\":\"#1f77b4\"},\"line_alpha\":{\"value\":0.1},\"line_color\":{\"value\":\"#1f77b4\"},\"top\":{\"field\":\"y\"},\"width\":{\"value\":0.5},\"x\":{\"field\":\"x\"}},\"id\":\"9cc4232f-00f7-4dec-bcef-49c64bf1a478\",\"type\":\"VBar\"},{\"attributes\":{\"data_source\":{\"id\":\"ccdaace8-6c01-4c51-8d08-9f5801cdc993\",\"type\":\"ColumnDataSource\"},\"glyph\":{\"id\":\"e35be395-4538-4fa5-bac3-281434a6e8f4\",\"type\":\"VBar\"},\"hover_glyph\":null,\"nonselection_glyph\":{\"id\":\"6614a23d-d661-48dc-b97a-0ae18f98035e\",\"type\":\"VBar\"},\"selection_glyph\":null},\"id\":\"31008bd7-f25d-4eda-b768-94b533faafb3\",\"type\":\"GlyphRenderer\"},{\"attributes\":{\"children\":[{\"id\":\"e81f95b7-22a1-4308-a527-4afbd98198c6\",\"subtype\":\"Figure\",\"type\":\"Plot\"},{\"id\":\"912438ae-1a2a-414e-b053-35282eff37f4\",\"subtype\":\"Figure\",\"type\":\"Plot\"},{\"id\":\"9f450253-495d-4765-a3bb-69fb2c6102d7\",\"subtype\":\"Figure\",\"type\":\"Plot\"}]},\"id\":\"623c6c20-e3a8-42fb-9b55-e591f928d050\",\"type\":\"Row\"},{\"attributes\":{\"fill_color\":{\"value\":\"#1f77b4\"},\"line_color\":{\"value\":\"#1f77b4\"},\"top\":{\"field\":\"y\"},\"width\":{\"value\":0.5},\"x\":{\"field\":\"x\"}},\"id\":\"b17e1d2d-8bb5-4fce-a9df-3f9251aa19b8\",\"type\":\"VBar\"},{\"attributes\":{\"data_source\":{\"id\":\"5da3a6f2-7377-4e63-897e-9df96ccd1576\",\"type\":\"ColumnDataSource\"},\"glyph\":{\"id\":\"d0b79edc-012c-40c0-96fa-35cc43a265a2\",\"type\":\"VBar\"},\"hover_glyph\":null,\"nonselection_glyph\":{\"id\":\"13b608ec-2860-434d-966f-e9b1b9813e2d\",\"type\":\"VBar\"},\"selection_glyph\":null},\"id\":\"e7d3c8be-13f8-42e4-a8ac-4819698a317f\",\"type\":\"GlyphRenderer\"},{\"attributes\":{\"callback\":null,\"plot\":{\"id\":\"cb04c9b6-2792-4588-807e-2f34cec3095d\",\"subtype\":\"Figure\",\"type\":\"Plot\"},\"tooltips\":[[\"category\",\"@x\"],[\"percent\",\"@percent\"]]},\"id\":\"ebf0b0b2-9025-49bb-9428-9cb836faded1\",\"type\":\"HoverTool\"},{\"attributes\":{\"dimension\":1,\"plot\":{\"id\":\"40d143ae-4a96-4acb-88cd-8f97deb42073\",\"subtype\":\"Figure\",\"type\":\"Plot\"},\"ticker\":{\"id\":\"f236ecc1-1fc4-4240-8da0-41267c103008\",\"type\":\"BasicTicker\"}},\"id\":\"a9f1ff6d-8f91-43f4-a690-dcb46c163afa\",\"type\":\"Grid\"},{\"attributes\":{},\"id\":\"f892ee72-2cb1-4fbd-a032-341252b08345\",\"type\":\"BasicTickFormatter\"},{\"attributes\":{\"callback\":null,\"factors\":[\"Ex\",\"Fa\",\"Gd\"]},\"id\":\"57cd98b6-143d-4da2-ba1d-e553bc40594b\",\"type\":\"FactorRange\"},{\"attributes\":{\"callback\":null},\"id\":\"e8a1c2f5-adfb-46e4-b2fc-791102c7f3c8\",\"type\":\"DataRange1d\"},{\"attributes\":{\"callback\":null,\"factors\":[\"20\",\"30\",\"40\",\"45\",\"50\",\"60\",\"70\",\"75\",\"80\",\"85\",\"90\",\"120\",\"160\",\"180\",\"190\"]},\"id\":\"341488c7-7ed9-4088-aa27-685d7eeb92cd\",\"type\":\"FactorRange\"},{\"attributes\":{\"formatter\":{\"id\":\"bc1c8843-c23e-47b6-b4f4-8748c5451a82\",\"type\":\"BasicTickFormatter\"},\"plot\":{\"id\":\"d66c958d-1e3e-4cf8-8df5-33dd32e7c442\",\"subtype\":\"Figure\",\"type\":\"Plot\"},\"ticker\":{\"id\":\"81ada1c5-b912-42fc-aeee-235cad219486\",\"type\":\"BasicTicker\"},\"visible\":false},\"id\":\"4f57d8bd-34e1-486c-9d85-6a59af791b6e\",\"type\":\"LinearAxis\"},{\"attributes\":{\"axis_label\":\"HeatingQC\",\"axis_label_standoff\":-1,\"formatter\":{\"id\":\"8552f1e6-feeb-4774-adaa-d71f0b1bd49a\",\"type\":\"CategoricalTickFormatter\"},\"plot\":{\"id\":\"800cccbd-c4ff-4d12-915c-59e1ff45bfea\",\"subtype\":\"Figure\",\"type\":\"Plot\"},\"ticker\":{\"id\":\"6d3d9258-6b7f-4750-aadb-485fdce828af\",\"type\":\"CategoricalTicker\"}},\"id\":\"c71de02d-9901-4496-9da6-9fc89c1bd75a\",\"type\":\"CategoricalAxis\"},{\"attributes\":{},\"id\":\"11361cbb-ff34-4c60-b082-ff0fafd24b0e\",\"type\":\"CategoricalTicker\"},{\"attributes\":{},\"id\":\"4e13ba34-6591-412f-b149-8eb3b45f8223\",\"type\":\"ToolEvents\"},{\"attributes\":{\"active_drag\":\"auto\",\"active_scroll\":\"auto\",\"active_tap\":\"auto\",\"tools\":[{\"id\":\"5d7d08af-1bd1-47e3-a0aa-9530dd04d593\",\"type\":\"HoverTool\"}]},\"id\":\"bcabd285-b5fe-48ec-ac18-cd70af647c76\",\"type\":\"Toolbar\"},{\"attributes\":{\"formatter\":{\"id\":\"511df0f6-7cb5-4a31-96e2-0163d54d4ffa\",\"type\":\"BasicTickFormatter\"},\"plot\":{\"id\":\"0ef37e0d-ba62-47c4-a331-6a0c4181a6b7\",\"subtype\":\"Figure\",\"type\":\"Plot\"},\"ticker\":{\"id\":\"9d8d4794-09ff-4ce0-b1ac-e0f861cd91dc\",\"type\":\"BasicTicker\"},\"visible\":false},\"id\":\"69d0d4a2-a786-4260-b083-3e683e672e90\",\"type\":\"LinearAxis\"},{\"attributes\":{\"dimension\":1,\"plot\":{\"id\":\"d30830d5-3e36-4d6d-a266-dbaaa647e7c3\",\"subtype\":\"Figure\",\"type\":\"Plot\"},\"ticker\":{\"id\":\"60a7c95a-841e-4ac4-9d53-7f772ed03cb7\",\"type\":\"BasicTicker\"}},\"id\":\"0cd2e3e6-9f79-4e54-84af-0e976dcb312f\",\"type\":\"Grid\"},{\"attributes\":{},\"id\":\"dadf90e9-09e4-443a-91be-cc560c31fe17\",\"type\":\"BasicTickFormatter\"},{\"attributes\":{\"below\":[{\"id\":\"836cbf1d-3acc-4314-811b-58a1ecdc5bd4\",\"type\":\"CategoricalAxis\"}],\"left\":[{\"id\":\"a80319e8-5505-440f-94e5-54e3f54a7e18\",\"type\":\"LinearAxis\"}],\"plot_height\":280,\"plot_width\":280,\"renderers\":[{\"id\":\"836cbf1d-3acc-4314-811b-58a1ecdc5bd4\",\"type\":\"CategoricalAxis\"},{\"id\":\"e355acd8-75b2-4ce0-813a-ac521a02939f\",\"type\":\"Grid\"},{\"id\":\"a80319e8-5505-440f-94e5-54e3f54a7e18\",\"type\":\"LinearAxis\"},{\"id\":\"a70208b2-e85c-4a3c-902b-f133c4c2713c\",\"type\":\"Grid\"},{\"id\":\"6dcb2649-b91b-4188-8287-ce9369f13d47\",\"type\":\"GlyphRenderer\"}],\"title\":null,\"tool_events\":{\"id\":\"82777af5-5393-4156-984d-42f94e90c58f\",\"type\":\"ToolEvents\"},\"toolbar\":{\"id\":\"87925038-ff6b-4412-9168-88d434728d12\",\"type\":\"Toolbar\"},\"toolbar_location\":null,\"x_range\":{\"id\":\"fe9a1e7d-41fd-411e-8436-3a4e22c227ab\",\"type\":\"FactorRange\"},\"y_range\":{\"id\":\"81a7269b-8370-490a-8200-110db2cecc28\",\"type\":\"DataRange1d\"}},\"id\":\"f2d8e3a4-8482-4141-ad82-a24001eec5a5\",\"subtype\":\"Figure\",\"type\":\"Plot\"},{\"attributes\":{},\"id\":\"5cfcbabf-d5a3-41da-8e5f-1db61d26afff\",\"type\":\"CategoricalTickFormatter\"},{\"attributes\":{\"below\":[{\"id\":\"b3fc470b-4484-44b5-ba1a-f3192dcbd6a3\",\"type\":\"CategoricalAxis\"}],\"left\":[{\"id\":\"7c717a55-c647-4222-9c9a-6c380b43ca56\",\"type\":\"LinearAxis\"}],\"plot_height\":280,\"plot_width\":280,\"renderers\":[{\"id\":\"b3fc470b-4484-44b5-ba1a-f3192dcbd6a3\",\"type\":\"CategoricalAxis\"},{\"id\":\"3e7f68ba-477a-4ff0-b831-b2329453e8cd\",\"type\":\"Grid\"},{\"id\":\"7c717a55-c647-4222-9c9a-6c380b43ca56\",\"type\":\"LinearAxis\"},{\"id\":\"41eb8826-5e1b-476c-8f55-7a4d515e0673\",\"type\":\"Grid\"},{\"id\":\"799f8c3e-778e-4b26-872e-5c3b2c847794\",\"type\":\"GlyphRenderer\"}],\"title\":null,\"tool_events\":{\"id\":\"d0f8f503-e0f2-4025-8d8f-38b3ec4b3a1e\",\"type\":\"ToolEvents\"},\"toolbar\":{\"id\":\"61fc9c48-9ac6-46b2-868a-c666359d0625\",\"type\":\"Toolbar\"},\"toolbar_location\":null,\"x_range\":{\"id\":\"b3c4ca41-834c-4f8b-936f-ca6a447a3197\",\"type\":\"FactorRange\"},\"y_range\":{\"id\":\"73c07ad9-7c5e-4c88-bf46-3d378c025a22\",\"type\":\"DataRange1d\"}},\"id\":\"7f3d9ab9-eb4b-4a5c-bac5-cb0a24e3d8e4\",\"subtype\":\"Figure\",\"type\":\"Plot\"},{\"attributes\":{},\"id\":\"e083dd7d-5f3d-4bb8-bf55-40c3efaaf511\",\"type\":\"CategoricalTicker\"},{\"attributes\":{\"plot\":{\"id\":\"cb04c9b6-2792-4588-807e-2f34cec3095d\",\"subtype\":\"Figure\",\"type\":\"Plot\"},\"ticker\":{\"id\":\"8e073f55-f314-4bb2-9bd7-10fa6d9850ee\",\"type\":\"CategoricalTicker\"}},\"id\":\"4452308a-5a68-447d-992c-f00d2a2b6abb\",\"type\":\"Grid\"},{\"attributes\":{},\"id\":\"8ecf07f6-9d6a-4fe2-91b2-b93055184e8f\",\"type\":\"BasicTickFormatter\"},{\"attributes\":{},\"id\":\"c923256c-6269-4340-aa30-c11a05ccbd89\",\"type\":\"CategoricalTickFormatter\"},{\"attributes\":{\"callback\":null,\"plot\":{\"id\":\"40d143ae-4a96-4acb-88cd-8f97deb42073\",\"subtype\":\"Figure\",\"type\":\"Plot\"},\"tooltips\":[[\"category\",\"@x\"],[\"percent\",\"@percent\"]]},\"id\":\"9dfd91f5-1257-4e0f-9dd7-35e1e8596482\",\"type\":\"HoverTool\"},{\"attributes\":{},\"id\":\"28a66831-daf7-471b-98e8-ff7384a01766\",\"type\":\"BasicTicker\"},{\"attributes\":{\"callback\":null,\"plot\":{\"id\":\"20b68d48-f521-4eb5-aac3-496e5a3d0f9b\",\"subtype\":\"Figure\",\"type\":\"Plot\"},\"tooltips\":[[\"category\",\"@x\"],[\"percent\",\"@percent\"]]},\"id\":\"0fdb5606-49cc-4e5f-a739-d5a0b53325e4\",\"type\":\"HoverTool\"},{\"attributes\":{\"active_drag\":\"auto\",\"active_scroll\":\"auto\",\"active_tap\":\"auto\",\"tools\":[{\"id\":\"a96b65d2-3160-4a3c-983a-9b93de6d6d46\",\"type\":\"HoverTool\"}]},\"id\":\"5f1c106f-7b5a-402f-9ea3-bde2f479747a\",\"type\":\"Toolbar\"},{\"attributes\":{\"children\":[{\"id\":\"7a4a6a1b-feb7-4584-a51f-4f380b4502a1\",\"subtype\":\"Figure\",\"type\":\"Plot\"},{\"id\":\"3b70817a-9307-427f-b184-c6bdea437bda\",\"subtype\":\"Figure\",\"type\":\"Plot\"},{\"id\":\"19d7200f-ad23-4186-854c-2ff902ee6e7f\",\"subtype\":\"Figure\",\"type\":\"Plot\"}]},\"id\":\"fec9ca6d-a143-4045-829c-34450314d3d3\",\"type\":\"Row\"},{\"attributes\":{},\"id\":\"f4a5e6f5-cace-4d47-b961-752581a39594\",\"type\":\"BasicTicker\"},{\"attributes\":{},\"id\":\"d8335491-f293-4bb1-80ec-edd89d876d50\",\"type\":\"CategoricalTickFormatter\"},{\"attributes\":{\"callback\":null,\"plot\":{\"id\":\"722940e9-fd7c-4e4f-a184-76c7dd0dfb45\",\"subtype\":\"Figure\",\"type\":\"Plot\"},\"tooltips\":[[\"category\",\"@x\"],[\"percent\",\"@percent\"]]},\"id\":\"864fa7bb-6f77-483a-80e9-f176c2e5f3ef\",\"type\":\"HoverTool\"},{\"attributes\":{\"axis_label\":\"Street\",\"axis_label_standoff\":-1,\"formatter\":{\"id\":\"6ae1e0c0-9d9e-4a73-956a-7f59e0632acf\",\"type\":\"CategoricalTickFormatter\"},\"plot\":{\"id\":\"b3563cde-5e78-4851-be76-da25726e37b5\",\"subtype\":\"Figure\",\"type\":\"Plot\"},\"ticker\":{\"id\":\"2eb7cb95-aa94-406b-94d3-a675f5da56ce\",\"type\":\"CategoricalTicker\"}},\"id\":\"b615e4a1-5b94-49ee-ab40-ebf2e9551728\",\"type\":\"CategoricalAxis\"},{\"attributes\":{},\"id\":\"36f670e7-7034-44c4-a85a-2115617f2680\",\"type\":\"CategoricalTicker\"},{\"attributes\":{},\"id\":\"97307c4a-f3e7-42bd-b3b2-c859fc7c5fe9\",\"type\":\"BasicTickFormatter\"},{\"attributes\":{\"fill_alpha\":{\"value\":0.1},\"fill_color\":{\"value\":\"#1f77b4\"},\"line_alpha\":{\"value\":0.1},\"line_color\":{\"value\":\"#1f77b4\"},\"top\":{\"field\":\"y\"},\"width\":{\"value\":0.5},\"x\":{\"field\":\"x\"}},\"id\":\"f4cf17f9-ce15-46dd-aa65-051ce94f65a4\",\"type\":\"VBar\"},{\"attributes\":{},\"id\":\"c844d010-73f0-4c07-9e91-bcaad2037e42\",\"type\":\"BasicTicker\"},{\"attributes\":{\"plot\":{\"id\":\"e81f95b7-22a1-4308-a527-4afbd98198c6\",\"subtype\":\"Figure\",\"type\":\"Plot\"},\"ticker\":{\"id\":\"8a5f0e2f-b6ac-483d-a7b7-68f052899e3d\",\"type\":\"CategoricalTicker\"}},\"id\":\"0e31467f-5fb5-49d7-a516-9a2ad6e50094\",\"type\":\"Grid\"},{\"attributes\":{\"callback\":null,\"column_names\":[\"y\",\"x\",\"percent\"],\"data\":{\"percent\":[\"6.85%\",\"2.67%\",\"40.1%\",\"50.3%\"],\"x\":[\"Ex\",\"Fa\",\"Gd\",\"TA\"],\"y\":[100,39,586,735]}},\"id\":\"f7690c2d-dff7-402b-a595-40b12acdd664\",\"type\":\"ColumnDataSource\"},{\"attributes\":{\"callback\":null,\"factors\":[\"Ex\",\"Fa\",\"Gd\",\"TA\"]},\"id\":\"90714cd6-da7c-4890-aa54-707bce210756\",\"type\":\"FactorRange\"},{\"attributes\":{\"callback\":null,\"plot\":{\"id\":\"e28c73b6-0633-4af2-91c2-8d6057d5e23c\",\"subtype\":\"Figure\",\"type\":\"Plot\"},\"tooltips\":[[\"category\",\"@x\"],[\"percent\",\"@percent\"]]},\"id\":\"08670fa9-023d-4594-b480-35bb05c4cd9b\",\"type\":\"HoverTool\"},{\"attributes\":{\"dimension\":1,\"plot\":{\"id\":\"efe52ccc-1088-4dc9-8433-9e687655f058\",\"subtype\":\"Figure\",\"type\":\"Plot\"},\"ticker\":{\"id\":\"a3e1222a-4d55-4273-b5fc-5efb9e458403\",\"type\":\"BasicTicker\"}},\"id\":\"4c7cfa40-9a8d-41df-a5bf-c8b8090023c6\",\"type\":\"Grid\"},{\"attributes\":{},\"id\":\"72d698be-297b-495e-95d8-45250b25e468\",\"type\":\"CategoricalTickFormatter\"},{\"attributes\":{\"callback\":null,\"factors\":[\"N\",\"P\",\"Y\"]},\"id\":\"eac21776-72f8-4930-a6ab-85065fc1886a\",\"type\":\"FactorRange\"},{\"attributes\":{\"dimension\":1,\"plot\":{\"id\":\"a6ed27c2-1c61-4758-b0c5-2d176040f858\",\"subtype\":\"Figure\",\"type\":\"Plot\"},\"ticker\":{\"id\":\"661efc9b-8015-49b3-b4b0-312268fb3d06\",\"type\":\"BasicTicker\"}},\"id\":\"6ff847ed-4ca6-4403-ab40-1b86ddf059e6\",\"type\":\"Grid\"},{\"attributes\":{\"fill_alpha\":{\"value\":0.1},\"fill_color\":{\"value\":\"#1f77b4\"},\"line_alpha\":{\"value\":0.1},\"line_color\":{\"value\":\"#1f77b4\"},\"top\":{\"field\":\"y\"},\"width\":{\"value\":0.5},\"x\":{\"field\":\"x\"}},\"id\":\"86374ec1-3acf-46df-a907-93e462f86b1f\",\"type\":\"VBar\"},{\"attributes\":{},\"id\":\"0e28c431-ea97-4752-846b-1f7c6302e027\",\"type\":\"CategoricalTicker\"},{\"attributes\":{\"below\":[{\"id\":\"7aea7ea4-5a00-49eb-a3e2-fb5acece3f23\",\"type\":\"CategoricalAxis\"}],\"left\":[{\"id\":\"48bda607-2e83-404d-be69-f65751a10e0a\",\"type\":\"LinearAxis\"}],\"plot_height\":280,\"plot_width\":280,\"renderers\":[{\"id\":\"7aea7ea4-5a00-49eb-a3e2-fb5acece3f23\",\"type\":\"CategoricalAxis\"},{\"id\":\"6eef45d4-fec9-441a-a39a-df12dad3dfcc\",\"type\":\"Grid\"},{\"id\":\"48bda607-2e83-404d-be69-f65751a10e0a\",\"type\":\"LinearAxis\"},{\"id\":\"8cf99686-dfd7-4c6e-8f77-b0e85e162b1a\",\"type\":\"Grid\"},{\"id\":\"9c5c6ca3-ad4e-4c21-ad05-928c995b544e\",\"type\":\"GlyphRenderer\"}],\"title\":null,\"tool_events\":{\"id\":\"4b306a0c-c455-4435-93c2-fabc09367489\",\"type\":\"ToolEvents\"},\"toolbar\":{\"id\":\"5f18e2c7-c1b5-4834-8733-b227e8200f4c\",\"type\":\"Toolbar\"},\"toolbar_location\":null,\"x_range\":{\"id\":\"726c2a44-db41-4b40-afbe-9878c5775ec1\",\"type\":\"FactorRange\"},\"y_range\":{\"id\":\"e8a1c2f5-adfb-46e4-b2fc-791102c7f3c8\",\"type\":\"DataRange1d\"}},\"id\":\"ced13ff6-4456-4ec8-9632-204fd2e8548d\",\"subtype\":\"Figure\",\"type\":\"Plot\"},{\"attributes\":{\"callback\":null},\"id\":\"9ba61559-2891-4df7-ad7e-984d226a4d86\",\"type\":\"DataRange1d\"},{\"attributes\":{\"plot\":{\"id\":\"efe52ccc-1088-4dc9-8433-9e687655f058\",\"subtype\":\"Figure\",\"type\":\"Plot\"},\"ticker\":{\"id\":\"fe0c5d43-fe73-48e0-b92e-072d2f476aea\",\"type\":\"CategoricalTicker\"}},\"id\":\"1eff163f-651e-42c9-ae56-e650d970e172\",\"type\":\"Grid\"},{\"attributes\":{},\"id\":\"f6177bdd-d5a5-4ec4-9080-24ae2e7dafb3\",\"type\":\"ToolEvents\"},{\"attributes\":{},\"id\":\"eb88f2d3-a21b-478e-b3c4-fba1addb328b\",\"type\":\"CategoricalTicker\"},{\"attributes\":{},\"id\":\"9d24a2fb-7a15-43b0-b2e3-98450345559e\",\"type\":\"BasicTickFormatter\"},{\"attributes\":{\"callback\":null,\"factors\":[\"C (all)\",\"FV\",\"RH\",\"RL\",\"RM\"]},\"id\":\"20aea206-12aa-475d-ba3f-37b3548e9f28\",\"type\":\"FactorRange\"},{\"attributes\":{\"data_source\":{\"id\":\"146e7be1-ee09-4af2-bd78-329c0979ef5a\",\"type\":\"ColumnDataSource\"},\"glyph\":{\"id\":\"c0e2f266-71d9-4f9c-880e-f702fc2e7e7c\",\"type\":\"VBar\"},\"hover_glyph\":null,\"nonselection_glyph\":{\"id\":\"2886e806-2062-4495-a12b-81196db422a5\",\"type\":\"VBar\"},\"selection_glyph\":null},\"id\":\"83bc8872-23b4-45fc-807b-c6704e89e38a\",\"type\":\"GlyphRenderer\"},{\"attributes\":{\"callback\":null,\"factors\":[\"N\",\"Y\"]},\"id\":\"89152820-d36c-445e-b369-dd4702d48ed1\",\"type\":\"FactorRange\"},{\"attributes\":{\"fill_color\":{\"value\":\"#1f77b4\"},\"line_color\":{\"value\":\"#1f77b4\"},\"top\":{\"field\":\"y\"},\"width\":{\"value\":0.5},\"x\":{\"field\":\"x\"}},\"id\":\"c0e2f266-71d9-4f9c-880e-f702fc2e7e7c\",\"type\":\"VBar\"},{\"attributes\":{},\"id\":\"041c5077-2ccc-4467-962f-e85274a93d17\",\"type\":\"ToolEvents\"},{\"attributes\":{\"callback\":null,\"factors\":[\"Artery\",\"Feedr\",\"Norm\",\"PosA\",\"PosN\",\"RRAe\",\"RRAn\",\"RRNe\",\"RRNn\"]},\"id\":\"4b3e9136-1996-49f5-8fc6-68b67ec04a25\",\"type\":\"FactorRange\"},{\"attributes\":{},\"id\":\"085d89ca-032e-4178-9d85-04971f31413a\",\"type\":\"ToolEvents\"},{\"attributes\":{\"callback\":null},\"id\":\"0d6875b7-e31d-421f-a5bc-97fb192c6c31\",\"type\":\"DataRange1d\"},{\"attributes\":{},\"id\":\"fd151f82-c824-4c58-aaae-71ecb6f3fac3\",\"type\":\"BasicTicker\"},{\"attributes\":{\"fill_alpha\":{\"value\":0.1},\"fill_color\":{\"value\":\"#1f77b4\"},\"line_alpha\":{\"value\":0.1},\"line_color\":{\"value\":\"#1f77b4\"},\"top\":{\"field\":\"y\"},\"width\":{\"value\":0.5},\"x\":{\"field\":\"x\"}},\"id\":\"13b608ec-2860-434d-966f-e9b1b9813e2d\",\"type\":\"VBar\"},{\"attributes\":{\"callback\":null,\"factors\":[\"ClyTile\",\"CompShg\",\"Membran\",\"Metal\",\"Roll\",\"Tar&Grv\",\"WdShake\",\"WdShngl\"]},\"id\":\"e49e0c40-9b63-497c-8e66-8d5c48cf4016\",\"type\":\"FactorRange\"},{\"attributes\":{\"fill_color\":{\"value\":\"#1f77b4\"},\"line_color\":{\"value\":\"#1f77b4\"},\"top\":{\"field\":\"y\"},\"width\":{\"value\":0.5},\"x\":{\"field\":\"x\"}},\"id\":\"22426807-acc7-4f9c-a2ba-5cf289d891c2\",\"type\":\"VBar\"},{\"attributes\":{\"axis_label\":\"BsmtFinType2\",\"axis_label_standoff\":-1,\"formatter\":{\"id\":\"573023c9-5f45-4f28-84cf-8fd289972b89\",\"type\":\"CategoricalTickFormatter\"},\"plot\":{\"id\":\"912438ae-1a2a-414e-b053-35282eff37f4\",\"subtype\":\"Figure\",\"type\":\"Plot\"},\"ticker\":{\"id\":\"296bccd5-64e8-4801-9c09-66eae55a536d\",\"type\":\"CategoricalTicker\"}},\"id\":\"c42dda42-3abf-476a-bdc3-14ea3fa473d5\",\"type\":\"CategoricalAxis\"},{\"attributes\":{\"callback\":null,\"factors\":[\"Fa\",\"Gd\",\"Po\",\"TA\"]},\"id\":\"37aaaa58-a46b-4137-bf65-11890919dca9\",\"type\":\"FactorRange\"},{\"attributes\":{\"active_drag\":\"auto\",\"active_scroll\":\"auto\",\"active_tap\":\"auto\",\"tools\":[{\"id\":\"362054bf-0a30-45dd-821d-ed5cec820246\",\"type\":\"HoverTool\"}]},\"id\":\"8fe0356d-ee42-49e0-88c3-f7d701e59c3f\",\"type\":\"Toolbar\"},{\"attributes\":{\"active_drag\":\"auto\",\"active_scroll\":\"auto\",\"active_tap\":\"auto\",\"tools\":[{\"id\":\"62fd9571-72bd-4ab3-860c-12926b17d8d5\",\"type\":\"HoverTool\"}]},\"id\":\"f3a578fc-acc1-4225-9f50-69e8e53c6207\",\"type\":\"Toolbar\"},{\"attributes\":{},\"id\":\"f875368c-caa6-43fe-9719-1d83dc591aab\",\"type\":\"CategoricalTicker\"},{\"attributes\":{\"formatter\":{\"id\":\"5da08a05-34d9-4c12-9b35-ab35b6736b6a\",\"type\":\"BasicTickFormatter\"},\"plot\":{\"id\":\"800cccbd-c4ff-4d12-915c-59e1ff45bfea\",\"subtype\":\"Figure\",\"type\":\"Plot\"},\"ticker\":{\"id\":\"5b221ca7-db56-484f-bc48-337474a29ebc\",\"type\":\"BasicTicker\"},\"visible\":false},\"id\":\"8eb3600c-6895-4251-8e83-916e9f09047a\",\"type\":\"LinearAxis\"},{\"attributes\":{\"axis_label\":\"Heating\",\"axis_label_standoff\":-1,\"formatter\":{\"id\":\"554a5d7e-2154-4e53-9984-d7f51265fc14\",\"type\":\"CategoricalTickFormatter\"},\"plot\":{\"id\":\"9f450253-495d-4765-a3bb-69fb2c6102d7\",\"subtype\":\"Figure\",\"type\":\"Plot\"},\"ticker\":{\"id\":\"96f911e3-058f-49fc-8563-ff97e5116ba7\",\"type\":\"CategoricalTicker\"}},\"id\":\"550e9219-a67c-4d0e-90ca-b448b6e8adf1\",\"type\":\"CategoricalAxis\"},{\"attributes\":{},\"id\":\"bddbc754-42a7-498e-ab58-3d948ff38082\",\"type\":\"CategoricalTicker\"},{\"attributes\":{},\"id\":\"6ae1e0c0-9d9e-4a73-956a-7f59e0632acf\",\"type\":\"CategoricalTickFormatter\"},{\"attributes\":{\"fill_alpha\":{\"value\":0.1},\"fill_color\":{\"value\":\"#1f77b4\"},\"line_alpha\":{\"value\":0.1},\"line_color\":{\"value\":\"#1f77b4\"},\"top\":{\"field\":\"y\"},\"width\":{\"value\":0.5},\"x\":{\"field\":\"x\"}},\"id\":\"5535614e-7900-4a23-bac5-961b25ae91c9\",\"type\":\"VBar\"},{\"attributes\":{\"callback\":null,\"plot\":{\"id\":\"a6ed27c2-1c61-4758-b0c5-2d176040f858\",\"subtype\":\"Figure\",\"type\":\"Plot\"},\"tooltips\":[[\"category\",\"@x\"],[\"percent\",\"@percent\"]]},\"id\":\"9e572d71-1296-48e0-8104-49c7ff56b99b\",\"type\":\"HoverTool\"},{\"attributes\":{},\"id\":\"29800c2c-ee28-4657-9242-5e699ebd52d9\",\"type\":\"CategoricalTickFormatter\"},{\"attributes\":{},\"id\":\"8e073f55-f314-4bb2-9bd7-10fa6d9850ee\",\"type\":\"CategoricalTicker\"},{\"attributes\":{},\"id\":\"bcc3e51a-892f-4c8c-ad55-f1628b3e0fdb\",\"type\":\"ToolEvents\"},{\"attributes\":{},\"id\":\"2a4913b2-9aa4-458a-b01f-469c4ef8aeb0\",\"type\":\"CategoricalTicker\"},{\"attributes\":{\"callback\":null},\"id\":\"6387bd97-227f-470b-8d78-dfc4f95d2901\",\"type\":\"DataRange1d\"},{\"attributes\":{\"callback\":null,\"plot\":{\"id\":\"0ef37e0d-ba62-47c4-a331-6a0c4181a6b7\",\"subtype\":\"Figure\",\"type\":\"Plot\"},\"tooltips\":[[\"category\",\"@x\"],[\"percent\",\"@percent\"]]},\"id\":\"6485b7b3-cd81-4994-bef3-776eb1d3a7e2\",\"type\":\"HoverTool\"},{\"attributes\":{\"data_source\":{\"id\":\"9f7527e9-143d-4ebb-884a-39c8c6c9c118\",\"type\":\"ColumnDataSource\"},\"glyph\":{\"id\":\"a4c3b93c-14fb-43bb-be9b-c8779d96d53e\",\"type\":\"VBar\"},\"hover_glyph\":null,\"nonselection_glyph\":{\"id\":\"20cc2fcc-bd50-4876-a106-c037367b6373\",\"type\":\"VBar\"},\"selection_glyph\":null},\"id\":\"541081fa-d81b-4f1e-b417-68eef6f342da\",\"type\":\"GlyphRenderer\"},{\"attributes\":{},\"id\":\"2fa20264-8369-4da6-b9fe-165281037e9f\",\"type\":\"BasicTicker\"},{\"attributes\":{},\"id\":\"19aa6560-1d18-4adc-8fca-728470431fef\",\"type\":\"CategoricalTickFormatter\"},{\"attributes\":{\"below\":[{\"id\":\"979159d3-e01d-4fe4-a28b-edd1d3cb82d7\",\"type\":\"CategoricalAxis\"}],\"left\":[{\"id\":\"4f57d8bd-34e1-486c-9d85-6a59af791b6e\",\"type\":\"LinearAxis\"}],\"plot_height\":280,\"plot_width\":280,\"renderers\":[{\"id\":\"979159d3-e01d-4fe4-a28b-edd1d3cb82d7\",\"type\":\"CategoricalAxis\"},{\"id\":\"0b04906a-1b54-4691-85c9-b6b306ecbb08\",\"type\":\"Grid\"},{\"id\":\"4f57d8bd-34e1-486c-9d85-6a59af791b6e\",\"type\":\"LinearAxis\"},{\"id\":\"2fdf7efb-fcfe-4315-9209-9c23a678f8ed\",\"type\":\"Grid\"},{\"id\":\"fae95920-0d5b-4afa-8c5d-60d9324cbe7c\",\"type\":\"GlyphRenderer\"}],\"title\":null,\"tool_events\":{\"id\":\"59ee2330-f70d-4b77-8027-055f36fc77fd\",\"type\":\"ToolEvents\"},\"toolbar\":{\"id\":\"68eddfcf-a4fd-42c1-a5d6-7c9ddaa73b41\",\"type\":\"Toolbar\"},\"toolbar_location\":null,\"x_range\":{\"id\":\"0e5cf708-0619-404c-9067-11b5062f58b5\",\"type\":\"FactorRange\"},\"y_range\":{\"id\":\"0194391b-f618-4f2a-8ff4-fa4956e37018\",\"type\":\"DataRange1d\"}},\"id\":\"d66c958d-1e3e-4cf8-8df5-33dd32e7c442\",\"subtype\":\"Figure\",\"type\":\"Plot\"},{\"attributes\":{},\"id\":\"7c5470a6-9dc2-44e9-96b1-9c6d2a0a7485\",\"type\":\"BasicTicker\"},{\"attributes\":{\"axis_label\":\"BsmtExposure\",\"axis_label_standoff\":-1,\"formatter\":{\"id\":\"d99f0929-073d-4f30-a198-2865d1c300a6\",\"type\":\"CategoricalTickFormatter\"},\"plot\":{\"id\":\"efe52ccc-1088-4dc9-8433-9e687655f058\",\"subtype\":\"Figure\",\"type\":\"Plot\"},\"ticker\":{\"id\":\"fe0c5d43-fe73-48e0-b92e-072d2f476aea\",\"type\":\"CategoricalTicker\"}},\"id\":\"55184f4c-ed00-4073-a35e-bc0446ce1238\",\"type\":\"CategoricalAxis\"},{\"attributes\":{\"fill_alpha\":{\"value\":0.1},\"fill_color\":{\"value\":\"#1f77b4\"},\"line_alpha\":{\"value\":0.1},\"line_color\":{\"value\":\"#1f77b4\"},\"top\":{\"field\":\"y\"},\"width\":{\"value\":0.5},\"x\":{\"field\":\"x\"}},\"id\":\"06293fd9-de2a-473d-af18-726ea9b35c0b\",\"type\":\"VBar\"},{\"attributes\":{},\"id\":\"8c70a67e-bb05-48e6-b3ca-13c8eb1b911a\",\"type\":\"BasicTickFormatter\"},{\"attributes\":{\"fill_alpha\":{\"value\":0.1},\"fill_color\":{\"value\":\"#1f77b4\"},\"line_alpha\":{\"value\":0.1},\"line_color\":{\"value\":\"#1f77b4\"},\"top\":{\"field\":\"y\"},\"width\":{\"value\":0.5},\"x\":{\"field\":\"x\"}},\"id\":\"f11e2029-d288-43fc-893b-91a32b73bd3e\",\"type\":\"VBar\"},{\"attributes\":{\"fill_alpha\":{\"value\":0.1},\"fill_color\":{\"value\":\"#1f77b4\"},\"line_alpha\":{\"value\":0.1},\"line_color\":{\"value\":\"#1f77b4\"},\"top\":{\"field\":\"y\"},\"width\":{\"value\":0.5},\"x\":{\"field\":\"x\"}},\"id\":\"af554421-3037-4f29-a148-9b815b5b04f2\",\"type\":\"VBar\"},{\"attributes\":{\"formatter\":{\"id\":\"7859d2e7-bc0a-45f3-8281-aaa0f982b6b2\",\"type\":\"BasicTickFormatter\"},\"plot\":{\"id\":\"cc580fc7-55ff-495e-ade9-ff6fd30d4b78\",\"subtype\":\"Figure\",\"type\":\"Plot\"},\"ticker\":{\"id\":\"b96836a5-ffd8-40f2-bde5-f57a700d1661\",\"type\":\"BasicTicker\"},\"visible\":false},\"id\":\"3b341df5-b0f3-46d6-9ad5-a53ee82fbd7c\",\"type\":\"LinearAxis\"},{\"attributes\":{},\"id\":\"5da08a05-34d9-4c12-9b35-ab35b6736b6a\",\"type\":\"BasicTickFormatter\"},{\"attributes\":{\"fill_color\":{\"value\":\"#1f77b4\"},\"line_color\":{\"value\":\"#1f77b4\"},\"top\":{\"field\":\"y\"},\"width\":{\"value\":0.5},\"x\":{\"field\":\"x\"}},\"id\":\"76bfe2c9-d655-4db3-a9f6-61f728274ae1\",\"type\":\"VBar\"},{\"attributes\":{\"plot\":{\"id\":\"ed58ce59-9feb-4fe7-99d1-4f27a9de1197\",\"subtype\":\"Figure\",\"type\":\"Plot\"},\"ticker\":{\"id\":\"bdc4d60e-d716-4c2e-a499-9fd7a4ce9640\",\"type\":\"CategoricalTicker\"}},\"id\":\"d0652f79-6edb-4783-9c7b-c695889c665a\",\"type\":\"Grid\"},{\"attributes\":{},\"id\":\"12977f34-7bed-4af4-bd86-b8bf6097f023\",\"type\":\"CategoricalTicker\"},{\"attributes\":{\"axis_label\":\"MasVnrType\",\"axis_label_standoff\":-1,\"formatter\":{\"id\":\"9a2da8cd-c1a1-4d41-98fa-e6b2a0f44b35\",\"type\":\"CategoricalTickFormatter\"},\"plot\":{\"id\":\"7f3d9ab9-eb4b-4a5c-bac5-cb0a24e3d8e4\",\"subtype\":\"Figure\",\"type\":\"Plot\"},\"ticker\":{\"id\":\"3c5ca63b-c734-4d53-a5b4-a93a7b4086e4\",\"type\":\"CategoricalTicker\"}},\"id\":\"b3fc470b-4484-44b5-ba1a-f3192dcbd6a3\",\"type\":\"CategoricalAxis\"},{\"attributes\":{\"children\":[{\"id\":\"0d46a34b-5740-468a-8de5-1e7a06c67629\",\"subtype\":\"Figure\",\"type\":\"Plot\"},{\"id\":\"0ef37e0d-ba62-47c4-a331-6a0c4181a6b7\",\"subtype\":\"Figure\",\"type\":\"Plot\"},{\"id\":\"09dcb3ea-fe20-46a5-b2fb-be53f38c28ef\",\"subtype\":\"Figure\",\"type\":\"Plot\"}]},\"id\":\"c0545275-9c02-4934-8f96-8742f8f78d2c\",\"type\":\"Row\"},{\"attributes\":{},\"id\":\"f8de39d5-7506-4fb5-83d7-182e5c257058\",\"type\":\"ToolEvents\"},{\"attributes\":{},\"id\":\"69f78ec8-16ba-4245-8aa1-9a832ae57f2f\",\"type\":\"CategoricalTicker\"},{\"attributes\":{\"fill_color\":{\"value\":\"#1f77b4\"},\"line_color\":{\"value\":\"#1f77b4\"},\"top\":{\"field\":\"y\"},\"width\":{\"value\":0.5},\"x\":{\"field\":\"x\"}},\"id\":\"644b4f10-7913-43c2-bc32-8b8087cd9fe6\",\"type\":\"VBar\"},{\"attributes\":{\"callback\":null,\"column_names\":[\"y\",\"x\",\"percent\"],\"data\":{\"percent\":[\"0.89%\",\"78.2%\",\"0.753%\",\"19.6%\",\"0.479%\",\"0.137%\"],\"x\":[\"Flat\",\"Gable\",\"Gambrel\",\"Hip\",\"Mansard\",\"Shed\"],\"y\":[13,1141,11,286,7,2]}},\"id\":\"5da3a6f2-7377-4e63-897e-9df96ccd1576\",\"type\":\"ColumnDataSource\"},{\"attributes\":{\"below\":[{\"id\":\"d1c10015-74f1-40a0-a69e-716419593e9a\",\"type\":\"CategoricalAxis\"}],\"left\":[{\"id\":\"521f6d08-fafe-4808-9c04-8d6856200cab\",\"type\":\"LinearAxis\"}],\"plot_height\":280,\"plot_width\":280,\"renderers\":[{\"id\":\"d1c10015-74f1-40a0-a69e-716419593e9a\",\"type\":\"CategoricalAxis\"},{\"id\":\"a85e3037-33f7-49e1-8331-dd8521d52701\",\"type\":\"Grid\"},{\"id\":\"521f6d08-fafe-4808-9c04-8d6856200cab\",\"type\":\"LinearAxis\"},{\"id\":\"f5547cba-4ed0-4b74-ae10-76727680a6b0\",\"type\":\"Grid\"},{\"id\":\"ca10e017-b4d2-4cbb-89d0-8349c62dcc63\",\"type\":\"GlyphRenderer\"}],\"title\":null,\"tool_events\":{\"id\":\"224caee3-c9a6-4127-b341-f3c7951af07a\",\"type\":\"ToolEvents\"},\"toolbar\":{\"id\":\"cc8f1aca-0210-4200-bf2c-4c9059389184\",\"type\":\"Toolbar\"},\"toolbar_location\":null,\"x_range\":{\"id\":\"208e0c25-66c4-4e57-9ddc-8910f67ce5bb\",\"type\":\"FactorRange\"},\"y_range\":{\"id\":\"793baadc-4e22-412b-a1b7-f86d038bc828\",\"type\":\"DataRange1d\"}},\"id\":\"d63de79f-e567-4c32-abcc-a5857bdabcf6\",\"subtype\":\"Figure\",\"type\":\"Plot\"},{\"attributes\":{},\"id\":\"436a2601-8c85-4088-8a4c-da66fcd67229\",\"type\":\"BasicTickFormatter\"},{\"attributes\":{\"axis_label\":\"ExterCond\",\"axis_label_standoff\":-1,\"formatter\":{\"id\":\"34159094-c8d6-4508-a3c0-5bd5a0255d50\",\"type\":\"CategoricalTickFormatter\"},\"plot\":{\"id\":\"e28c73b6-0633-4af2-91c2-8d6057d5e23c\",\"subtype\":\"Figure\",\"type\":\"Plot\"},\"ticker\":{\"id\":\"11b90ea3-c225-4b49-bc2b-0a3c925416bb\",\"type\":\"CategoricalTicker\"}},\"id\":\"407e5e63-4805-44f8-a400-e0d6b257db84\",\"type\":\"CategoricalAxis\"},{\"attributes\":{\"callback\":null},\"id\":\"dfbfc769-99dc-42ae-bf95-57254ad9313a\",\"type\":\"DataRange1d\"},{\"attributes\":{},\"id\":\"5670d63a-430c-4041-86af-97b43948078e\",\"type\":\"CategoricalTicker\"},{\"attributes\":{},\"id\":\"d932b7a7-3417-4e7a-838a-9969dcf20464\",\"type\":\"BasicTicker\"},{\"attributes\":{\"callback\":null,\"factors\":[\"Ex\",\"Fa\",\"Gd\",\"Po\",\"TA\"]},\"id\":\"bc6c7e54-f9b5-415b-8b07-b73243d9f178\",\"type\":\"FactorRange\"},{\"attributes\":{\"plot\":{\"id\":\"3b70817a-9307-427f-b184-c6bdea437bda\",\"subtype\":\"Figure\",\"type\":\"Plot\"},\"ticker\":{\"id\":\"37b4b3ea-afc8-40db-802d-d6f2b7cfb50d\",\"type\":\"CategoricalTicker\"}},\"id\":\"5bc7ddd7-881a-42a1-900d-25d89dfc09c7\",\"type\":\"Grid\"},{\"attributes\":{},\"id\":\"1ab17d3e-3d8b-4fbd-9b22-6473e9870617\",\"type\":\"ToolEvents\"},{\"attributes\":{},\"id\":\"9482e9f8-cdee-4e08-9e00-75f8921255fc\",\"type\":\"BasicTickFormatter\"},{\"attributes\":{\"data_source\":{\"id\":\"f7690c2d-dff7-402b-a595-40b12acdd664\",\"type\":\"ColumnDataSource\"},\"glyph\":{\"id\":\"0a5c44a3-dcb4-4b02-8be9-458346ea1f6c\",\"type\":\"VBar\"},\"hover_glyph\":null,\"nonselection_glyph\":{\"id\":\"23adfe8d-3cc4-498b-91b5-4bf70e9f739b\",\"type\":\"VBar\"},\"selection_glyph\":null},\"id\":\"9c5c6ca3-ad4e-4c21-ad05-928c995b544e\",\"type\":\"GlyphRenderer\"},{\"attributes\":{\"callback\":null,\"column_names\":[\"y\",\"x\",\"percent\"],\"data\":{\"percent\":[\"3.12%\",\"4.29%\",\"49.4%\",\"2.6%\",\"40.6%\"],\"x\":[\"Ex\",\"Fa\",\"Gd\",\"Po\",\"TA\"],\"y\":[24,33,380,20,313]}},\"id\":\"c13528b7-f3fb-4cca-95ae-a24343caf404\",\"type\":\"ColumnDataSource\"},{\"attributes\":{},\"id\":\"64f11dc4-7b51-4dc4-9beb-8163d0a1648c\",\"type\":\"CategoricalTicker\"},{\"attributes\":{\"callback\":null,\"plot\":{\"id\":\"87092fcd-a75a-4640-8111-2cc917334859\",\"subtype\":\"Figure\",\"type\":\"Plot\"},\"tooltips\":[[\"category\",\"@x\"],[\"percent\",\"@percent\"]]},\"id\":\"102e0075-596d-400c-9d2c-6a915e99f2cf\",\"type\":\"HoverTool\"},{\"attributes\":{},\"id\":\"df4b800e-101c-44d8-9490-f16ce325647c\",\"type\":\"BasicTicker\"},{\"attributes\":{\"formatter\":{\"id\":\"14900c66-23fd-4fc4-9c48-8cc501c0680e\",\"type\":\"BasicTickFormatter\"},\"plot\":{\"id\":\"0d46a34b-5740-468a-8de5-1e7a06c67629\",\"subtype\":\"Figure\",\"type\":\"Plot\"},\"ticker\":{\"id\":\"74c41d76-ba75-4339-8f93-0864aa72d847\",\"type\":\"BasicTicker\"},\"visible\":false},\"id\":\"fed02016-0deb-4151-8f10-539f56ad5368\",\"type\":\"LinearAxis\"},{\"attributes\":{},\"id\":\"122e2f4a-d0f3-4fc7-bb5f-6b6f0f9d6b9c\",\"type\":\"CategoricalTicker\"},{\"attributes\":{\"plot\":{\"id\":\"3eba35cf-e23d-4c2a-b555-b885e496ea54\",\"subtype\":\"Figure\",\"type\":\"Plot\"},\"ticker\":{\"id\":\"36f670e7-7034-44c4-a85a-2115617f2680\",\"type\":\"CategoricalTicker\"}},\"id\":\"ca4efd2b-f9fd-48d3-858a-8ab39a61fc84\",\"type\":\"Grid\"},{\"attributes\":{\"callback\":null,\"plot\":{\"id\":\"d63de79f-e567-4c32-abcc-a5857bdabcf6\",\"subtype\":\"Figure\",\"type\":\"Plot\"},\"tooltips\":[[\"category\",\"@x\"],[\"percent\",\"@percent\"]]},\"id\":\"45f04d00-a7a7-475e-92d5-f5e9389fc6d3\",\"type\":\"HoverTool\"},{\"attributes\":{\"data_source\":{\"id\":\"5e9fc9e3-4559-4946-99f4-b8920169e9ed\",\"type\":\"ColumnDataSource\"},\"glyph\":{\"id\":\"34d76c56-8851-4a29-a79f-9f2c941c0f88\",\"type\":\"VBar\"},\"hover_glyph\":null,\"nonselection_glyph\":{\"id\":\"cdc4aa0c-fe65-40ed-9c58-ed546c4248ae\",\"type\":\"VBar\"},\"selection_glyph\":null},\"id\":\"ec901f16-e6b6-4bb7-b8f8-ab40c942971e\",\"type\":\"GlyphRenderer\"},{\"attributes\":{\"axis_label\":\"LandContour\",\"axis_label_standoff\":-1,\"formatter\":{\"id\":\"73208643-15fd-42a4-91ad-4dd8cce283ee\",\"type\":\"CategoricalTickFormatter\"},\"plot\":{\"id\":\"3fb79034-c49d-46c1-bbb3-1494bc08b6af\",\"subtype\":\"Figure\",\"type\":\"Plot\"},\"ticker\":{\"id\":\"eb88f2d3-a21b-478e-b3c4-fba1addb328b\",\"type\":\"CategoricalTicker\"}},\"id\":\"61c272f6-ed99-48df-8a52-00187843252a\",\"type\":\"CategoricalAxis\"},{\"attributes\":{\"fill_alpha\":{\"value\":0.1},\"fill_color\":{\"value\":\"#1f77b4\"},\"line_alpha\":{\"value\":0.1},\"line_color\":{\"value\":\"#1f77b4\"},\"top\":{\"field\":\"y\"},\"width\":{\"value\":0.5},\"x\":{\"field\":\"x\"}},\"id\":\"0293c1aa-f0bd-403f-bd18-b7461324a918\",\"type\":\"VBar\"},{\"attributes\":{\"active_drag\":\"auto\",\"active_scroll\":\"auto\",\"active_tap\":\"auto\",\"tools\":[{\"id\":\"6cede237-ddb7-4e73-89f3-2c534fcfacba\",\"type\":\"HoverTool\"}]},\"id\":\"7139f983-cdc8-48c4-9236-62b019775b00\",\"type\":\"Toolbar\"},{\"attributes\":{\"children\":[{\"id\":\"d30830d5-3e36-4d6d-a266-dbaaa647e7c3\",\"subtype\":\"Figure\",\"type\":\"Plot\"},{\"id\":\"e907fdd6-ecdd-409f-9f46-311929b0772d\",\"subtype\":\"Figure\",\"type\":\"Plot\"},{\"id\":\"40d143ae-4a96-4acb-88cd-8f97deb42073\",\"subtype\":\"Figure\",\"type\":\"Plot\"}]},\"id\":\"2582bef7-1473-4938-a522-22c88904eb4a\",\"type\":\"Row\"},{\"attributes\":{\"data_source\":{\"id\":\"46d9b707-4955-474c-98e8-05b9e94a0111\",\"type\":\"ColumnDataSource\"},\"glyph\":{\"id\":\"7afe034c-7063-493a-aa9d-c34a560bbcc8\",\"type\":\"VBar\"},\"hover_glyph\":null,\"nonselection_glyph\":{\"id\":\"6134e739-c2c7-4ea3-bd82-4bacf75dc787\",\"type\":\"VBar\"},\"selection_glyph\":null},\"id\":\"2ce67c7a-e303-4093-8fd1-5bfcb6f2e7f4\",\"type\":\"GlyphRenderer\"},{\"attributes\":{\"callback\":null,\"factors\":[\"1\",\"2\",\"3\",\"4\",\"5\",\"6\",\"7\",\"8\",\"9\",\"10\"]},\"id\":\"bcc1cb97-8196-4fae-8bd4-c37cbb16cdfd\",\"type\":\"FactorRange\"},{\"attributes\":{\"callback\":null},\"id\":\"71eb0e3b-8f98-47a5-b7ae-b93e0f444316\",\"type\":\"DataRange1d\"},{\"attributes\":{},\"id\":\"386b3a2b-4227-44b9-b9ec-956341d14c1d\",\"type\":\"CategoricalTickFormatter\"},{\"attributes\":{},\"id\":\"e1027ac7-d9d8-48f1-9c9f-e75566a2f65e\",\"type\":\"ToolEvents\"},{\"attributes\":{\"data_source\":{\"id\":\"3b7cdf78-19ff-4272-8f8b-75947f2846d5\",\"type\":\"ColumnDataSource\"},\"glyph\":{\"id\":\"c7208dec-a2a0-4b65-a573-4180bea82a4f\",\"type\":\"VBar\"},\"hover_glyph\":null,\"nonselection_glyph\":{\"id\":\"06293fd9-de2a-473d-af18-726ea9b35c0b\",\"type\":\"VBar\"},\"selection_glyph\":null},\"id\":\"0addc96a-af10-4d99-883f-82b86dac8ae6\",\"type\":\"GlyphRenderer\"},{\"attributes\":{\"plot\":{\"id\":\"87092fcd-a75a-4640-8111-2cc917334859\",\"subtype\":\"Figure\",\"type\":\"Plot\"},\"ticker\":{\"id\":\"04c1bd42-d523-4905-997b-e7526e5f76be\",\"type\":\"CategoricalTicker\"}},\"id\":\"9a27fc78-f9ff-41cb-b5e1-35f18c7bf12f\",\"type\":\"Grid\"},{\"attributes\":{\"callback\":null,\"plot\":{\"id\":\"ced13ff6-4456-4ec8-9632-204fd2e8548d\",\"subtype\":\"Figure\",\"type\":\"Plot\"},\"tooltips\":[[\"category\",\"@x\"],[\"percent\",\"@percent\"]]},\"id\":\"ef4a03ea-0beb-4b98-ad45-e0d767bd2f25\",\"type\":\"HoverTool\"},{\"attributes\":{},\"id\":\"955bd738-0f30-4a8e-b876-257a3cd50150\",\"type\":\"CategoricalTickFormatter\"},{\"attributes\":{\"fill_color\":{\"value\":\"#1f77b4\"},\"line_color\":{\"value\":\"#1f77b4\"},\"top\":{\"field\":\"y\"},\"width\":{\"value\":0.5},\"x\":{\"field\":\"x\"}},\"id\":\"51902ed0-7ab8-49e4-9e39-99207917dc43\",\"type\":\"VBar\"},{\"attributes\":{\"callback\":null,\"factors\":[\"AllPub\",\"NoSeWa\"]},\"id\":\"be3465ba-ce9c-4f9b-997a-a630c2fb4fd1\",\"type\":\"FactorRange\"},{\"attributes\":{\"callback\":null},\"id\":\"c88a2b86-afc9-4769-a19c-502782b800cd\",\"type\":\"DataRange1d\"},{\"attributes\":{},\"id\":\"20968293-d50c-4fb2-983d-f1e3efcaba04\",\"type\":\"ToolEvents\"},{\"attributes\":{},\"id\":\"b6f3ca49-ab63-4363-aacd-cb663f4522bc\",\"type\":\"BasicTicker\"},{\"attributes\":{\"fill_alpha\":{\"value\":0.1},\"fill_color\":{\"value\":\"#1f77b4\"},\"line_alpha\":{\"value\":0.1},\"line_color\":{\"value\":\"#1f77b4\"},\"top\":{\"field\":\"y\"},\"width\":{\"value\":0.5},\"x\":{\"field\":\"x\"}},\"id\":\"c26b0bfb-e7a8-41cc-8329-e0f35d29868b\",\"type\":\"VBar\"},{\"attributes\":{\"fill_alpha\":{\"value\":0.1},\"fill_color\":{\"value\":\"#1f77b4\"},\"line_alpha\":{\"value\":0.1},\"line_color\":{\"value\":\"#1f77b4\"},\"top\":{\"field\":\"y\"},\"width\":{\"value\":0.5},\"x\":{\"field\":\"x\"}},\"id\":\"20cc2fcc-bd50-4876-a106-c037367b6373\",\"type\":\"VBar\"},{\"attributes\":{},\"id\":\"12f898a1-46ac-409c-aee6-79b31b4b5a66\",\"type\":\"CategoricalTicker\"},{\"attributes\":{\"formatter\":{\"id\":\"5e384984-2a84-4bdd-be58-d6bc42b90672\",\"type\":\"BasicTickFormatter\"},\"plot\":{\"id\":\"7a4a6a1b-feb7-4584-a51f-4f380b4502a1\",\"subtype\":\"Figure\",\"type\":\"Plot\"},\"ticker\":{\"id\":\"b072c16f-b6ad-4a29-9890-5be09a014a8e\",\"type\":\"BasicTicker\"},\"visible\":false},\"id\":\"d5a6076a-8237-41f5-8d4d-63a6867a1d8e\",\"type\":\"LinearAxis\"},{\"attributes\":{},\"id\":\"daaf75cf-8c80-4c59-bcee-36ec6799ee43\",\"type\":\"BasicTicker\"},{\"attributes\":{\"plot\":{\"id\":\"1ef9dabf-40a5-4aba-a9e4-3365f2546864\",\"subtype\":\"Figure\",\"type\":\"Plot\"},\"ticker\":{\"id\":\"62afbb24-52ca-401f-9906-396256cd9d4c\",\"type\":\"CategoricalTicker\"}},\"id\":\"d3df9646-7daf-4699-b8de-7c265b615b57\",\"type\":\"Grid\"},{\"attributes\":{},\"id\":\"7d4b3634-524e-41ab-9f87-03ddcacb8ac3\",\"type\":\"BasicTicker\"},{\"attributes\":{\"formatter\":{\"id\":\"97307c4a-f3e7-42bd-b3b2-c859fc7c5fe9\",\"type\":\"BasicTickFormatter\"},\"plot\":{\"id\":\"d63de79f-e567-4c32-abcc-a5857bdabcf6\",\"subtype\":\"Figure\",\"type\":\"Plot\"},\"ticker\":{\"id\":\"14f0cdde-fa60-4558-aba8-8d69534442da\",\"type\":\"BasicTicker\"},\"visible\":false},\"id\":\"521f6d08-fafe-4808-9c04-8d6856200cab\",\"type\":\"LinearAxis\"},{\"attributes\":{\"callback\":null,\"column_names\":[\"y\",\"x\",\"percent\"],\"data\":{\"percent\":[\"0.0685%\",\"97.8%\",\"1.23%\",\"0.479%\",\"0.137%\",\"0.274%\"],\"x\":[\"Floor\",\"GasA\",\"GasW\",\"Grav\",\"OthW\",\"Wall\"],\"y\":[1,1428,18,7,2,4]}},\"id\":\"ad7b94bd-294e-4e4a-b26e-be02acde24a7\",\"type\":\"ColumnDataSource\"},{\"attributes\":{\"callback\":null,\"column_names\":[\"y\",\"x\",\"percent\"],\"data\":{\"percent\":[\"15.5%\",\"9.42%\",\"8.02%\",\"67.0%\"],\"x\":[\"Av\",\"Gd\",\"Mn\",\"No\"],\"y\":[221,134,114,953]}},\"id\":\"333c2c0a-4a82-462e-ad29-77fde4a613e7\",\"type\":\"ColumnDataSource\"},{\"attributes\":{\"callback\":null},\"id\":\"1e73526c-f83d-42c8-b5ef-ccb51ef35730\",\"type\":\"DataRange1d\"},{\"attributes\":{\"dimension\":1,\"plot\":{\"id\":\"ebb0fac7-3f69-4a2e-886c-7e6e76d396b6\",\"subtype\":\"Figure\",\"type\":\"Plot\"},\"ticker\":{\"id\":\"4f45283f-9158-48cb-95e4-e69a584022c9\",\"type\":\"BasicTicker\"}},\"id\":\"6c05a8ad-9a21-4ee1-a701-478e6c14d521\",\"type\":\"Grid\"},{\"attributes\":{\"formatter\":{\"id\":\"db45f1e8-b148-47f6-8933-8014dbe938b2\",\"type\":\"BasicTickFormatter\"},\"plot\":{\"id\":\"a6ed27c2-1c61-4758-b0c5-2d176040f858\",\"subtype\":\"Figure\",\"type\":\"Plot\"},\"ticker\":{\"id\":\"661efc9b-8015-49b3-b4b0-312268fb3d06\",\"type\":\"BasicTicker\"},\"visible\":false},\"id\":\"2f39f3c5-7c2a-4b07-8c1e-4bcfe207ee9b\",\"type\":\"LinearAxis\"},{\"attributes\":{},\"id\":\"9d8d4794-09ff-4ce0-b1ac-e0f861cd91dc\",\"type\":\"BasicTicker\"},{\"attributes\":{\"axis_label\":\"BsmtFinType1\",\"axis_label_standoff\":-1,\"formatter\":{\"id\":\"72d698be-297b-495e-95d8-45250b25e468\",\"type\":\"CategoricalTickFormatter\"},\"plot\":{\"id\":\"e81f95b7-22a1-4308-a527-4afbd98198c6\",\"subtype\":\"Figure\",\"type\":\"Plot\"},\"ticker\":{\"id\":\"8a5f0e2f-b6ac-483d-a7b7-68f052899e3d\",\"type\":\"CategoricalTicker\"}},\"id\":\"023a54c5-5e53-465d-85bc-25f5a3155076\",\"type\":\"CategoricalAxis\"},{\"attributes\":{\"active_drag\":\"auto\",\"active_scroll\":\"auto\",\"active_tap\":\"auto\",\"tools\":[{\"id\":\"1b72ec9e-3ad0-4387-b4cb-4adece402d67\",\"type\":\"HoverTool\"}]},\"id\":\"07a0fa18-4137-4470-845e-4f1bc54d3b18\",\"type\":\"Toolbar\"},{\"attributes\":{\"fill_alpha\":{\"value\":0.1},\"fill_color\":{\"value\":\"#1f77b4\"},\"line_alpha\":{\"value\":0.1},\"line_color\":{\"value\":\"#1f77b4\"},\"top\":{\"field\":\"y\"},\"width\":{\"value\":0.5},\"x\":{\"field\":\"x\"}},\"id\":\"212b00ea-b3b9-4cf6-b910-55de44ec666c\",\"type\":\"VBar\"},{\"attributes\":{\"plot\":{\"id\":\"a16ed0bb-4306-49f1-b56e-7e7ed265efba\",\"subtype\":\"Figure\",\"type\":\"Plot\"},\"ticker\":{\"id\":\"15e3fb24-4dfc-4a58-9b31-e35ffc67c152\",\"type\":\"CategoricalTicker\"}},\"id\":\"2641377f-4b4c-4411-88f7-9389fb934a03\",\"type\":\"Grid\"},{\"attributes\":{\"plot\":{\"id\":\"f2d8e3a4-8482-4141-ad82-a24001eec5a5\",\"subtype\":\"Figure\",\"type\":\"Plot\"},\"ticker\":{\"id\":\"42c6905b-135a-4e79-90e2-256bb14ee3bf\",\"type\":\"CategoricalTicker\"}},\"id\":\"e355acd8-75b2-4ce0-813a-ac521a02939f\",\"type\":\"Grid\"},{\"attributes\":{\"below\":[{\"id\":\"55184f4c-ed00-4073-a35e-bc0446ce1238\",\"type\":\"CategoricalAxis\"}],\"left\":[{\"id\":\"5f9ee443-1a9c-4f77-a7de-f639e2ec844e\",\"type\":\"LinearAxis\"}],\"plot_height\":280,\"plot_width\":280,\"renderers\":[{\"id\":\"55184f4c-ed00-4073-a35e-bc0446ce1238\",\"type\":\"CategoricalAxis\"},{\"id\":\"1eff163f-651e-42c9-ae56-e650d970e172\",\"type\":\"Grid\"},{\"id\":\"5f9ee443-1a9c-4f77-a7de-f639e2ec844e\",\"type\":\"LinearAxis\"},{\"id\":\"4c7cfa40-9a8d-41df-a5bf-c8b8090023c6\",\"type\":\"Grid\"},{\"id\":\"dee4dae4-7f4d-4c66-89a1-af77a9e7a881\",\"type\":\"GlyphRenderer\"}],\"title\":null,\"tool_events\":{\"id\":\"ae46daec-7c22-4748-ad0f-f6a4f4f6cedd\",\"type\":\"ToolEvents\"},\"toolbar\":{\"id\":\"250f627b-bee1-4149-85ca-d7fe4431e111\",\"type\":\"Toolbar\"},\"toolbar_location\":null,\"x_range\":{\"id\":\"c08c94bd-9207-493a-b992-46c45dc467f3\",\"type\":\"FactorRange\"},\"y_range\":{\"id\":\"6387bd97-227f-470b-8d78-dfc4f95d2901\",\"type\":\"DataRange1d\"}},\"id\":\"efe52ccc-1088-4dc9-8433-9e687655f058\",\"subtype\":\"Figure\",\"type\":\"Plot\"},{\"attributes\":{},\"id\":\"70915915-bee0-49da-8fd7-8802164170d4\",\"type\":\"ToolEvents\"},{\"attributes\":{\"plot\":{\"id\":\"d66c958d-1e3e-4cf8-8df5-33dd32e7c442\",\"subtype\":\"Figure\",\"type\":\"Plot\"},\"ticker\":{\"id\":\"122e2f4a-d0f3-4fc7-bb5f-6b6f0f9d6b9c\",\"type\":\"CategoricalTicker\"}},\"id\":\"0b04906a-1b54-4691-85c9-b6b306ecbb08\",\"type\":\"Grid\"},{\"attributes\":{\"dimension\":1,\"plot\":{\"id\":\"20b68d48-f521-4eb5-aac3-496e5a3d0f9b\",\"subtype\":\"Figure\",\"type\":\"Plot\"},\"ticker\":{\"id\":\"81147633-0ac9-4d97-a174-1c1997b84ddf\",\"type\":\"BasicTicker\"}},\"id\":\"58c8a066-ce34-4288-ac52-75d7d7e20504\",\"type\":\"Grid\"},{\"attributes\":{},\"id\":\"e6547608-7383-4e1b-98ae-3db0e925aa09\",\"type\":\"BasicTickFormatter\"},{\"attributes\":{\"active_drag\":\"auto\",\"active_scroll\":\"auto\",\"active_tap\":\"auto\",\"tools\":[{\"id\":\"e15ea497-5208-4895-9d1c-5f0dd91a5797\",\"type\":\"HoverTool\"}]},\"id\":\"7d0a899f-a012-450a-a9e7-92826074bf9b\",\"type\":\"Toolbar\"},{\"attributes\":{\"fill_alpha\":{\"value\":0.1},\"fill_color\":{\"value\":\"#1f77b4\"},\"line_alpha\":{\"value\":0.1},\"line_color\":{\"value\":\"#1f77b4\"},\"top\":{\"field\":\"y\"},\"width\":{\"value\":0.5},\"x\":{\"field\":\"x\"}},\"id\":\"66c659c6-2ce5-467d-b2a4-c3fc86826ce2\",\"type\":\"VBar\"},{\"attributes\":{\"plot\":{\"id\":\"21c0b045-a9a9-4f41-b237-2ba52f036d02\",\"subtype\":\"Figure\",\"type\":\"Plot\"},\"ticker\":{\"id\":\"cafceae6-5659-4e1f-a0d3-cb163cd315b3\",\"type\":\"CategoricalTicker\"}},\"id\":\"9f41f5fd-2933-4c47-9f1e-b68495201206\",\"type\":\"Grid\"},{\"attributes\":{\"callback\":null},\"id\":\"d9347979-8a3a-4b01-a825-520cc57a87a9\",\"type\":\"DataRange1d\"},{\"attributes\":{\"dimension\":1,\"plot\":{\"id\":\"e28c73b6-0633-4af2-91c2-8d6057d5e23c\",\"subtype\":\"Figure\",\"type\":\"Plot\"},\"ticker\":{\"id\":\"f88106b9-b344-4667-b3eb-b02c8ea9c766\",\"type\":\"BasicTicker\"}},\"id\":\"aeb7c8b8-e519-45e6-9d7c-685c302b8d10\",\"type\":\"Grid\"},{\"attributes\":{\"fill_color\":{\"value\":\"#1f77b4\"},\"line_color\":{\"value\":\"#1f77b4\"},\"top\":{\"field\":\"y\"},\"width\":{\"value\":0.5},\"x\":{\"field\":\"x\"}},\"id\":\"83737c6a-aa7a-46e7-a209-e06cd9282e3a\",\"type\":\"VBar\"},{\"attributes\":{\"active_drag\":\"auto\",\"active_scroll\":\"auto\",\"active_tap\":\"auto\",\"tools\":[{\"id\":\"48f2c531-2743-4b2e-a032-5b258ff1d882\",\"type\":\"HoverTool\"}]},\"id\":\"ab9d3b4f-f5d3-4984-8149-394ad1176f09\",\"type\":\"Toolbar\"},{\"attributes\":{\"axis_label\":\"LandSlope\",\"axis_label_standoff\":-1,\"formatter\":{\"id\":\"f006f176-3411-4496-9819-a4f30d4069e7\",\"type\":\"CategoricalTickFormatter\"},\"plot\":{\"id\":\"19d7200f-ad23-4186-854c-2ff902ee6e7f\",\"subtype\":\"Figure\",\"type\":\"Plot\"},\"ticker\":{\"id\":\"a62a0d1f-245e-44de-9c11-b1f5839aca57\",\"type\":\"CategoricalTicker\"}},\"id\":\"280e6065-df7e-4347-ab07-6ec0259fbaf3\",\"type\":\"CategoricalAxis\"},{\"attributes\":{\"data_source\":{\"id\":\"a7006df9-c2ba-454e-a62f-3296806729db\",\"type\":\"ColumnDataSource\"},\"glyph\":{\"id\":\"32e1db32-9c22-4a5d-8fd6-793689077369\",\"type\":\"VBar\"},\"hover_glyph\":null,\"nonselection_glyph\":{\"id\":\"212b00ea-b3b9-4cf6-b910-55de44ec666c\",\"type\":\"VBar\"},\"selection_glyph\":null},\"id\":\"24d5e594-58af-4c16-8e08-e152790c43e2\",\"type\":\"GlyphRenderer\"},{\"attributes\":{\"data_source\":{\"id\":\"333c2c0a-4a82-462e-ad29-77fde4a613e7\",\"type\":\"ColumnDataSource\"},\"glyph\":{\"id\":\"76bfe2c9-d655-4db3-a9f6-61f728274ae1\",\"type\":\"VBar\"},\"hover_glyph\":null,\"nonselection_glyph\":{\"id\":\"6715dd03-c1b4-4402-8194-ae3950afd144\",\"type\":\"VBar\"},\"selection_glyph\":null},\"id\":\"dee4dae4-7f4d-4c66-89a1-af77a9e7a881\",\"type\":\"GlyphRenderer\"},{\"attributes\":{},\"id\":\"ce157eff-4c7e-47d1-9774-503d986375a3\",\"type\":\"BasicTickFormatter\"},{\"attributes\":{\"callback\":null,\"column_names\":[\"y\",\"x\",\"percent\"],\"data\":{\"percent\":[\"1.03%\",\"30.6%\",\"59.5%\",\"8.82%\"],\"x\":[\"BrkCmn\",\"BrkFace\",\"None\",\"Stone\"],\"y\":[15,445,864,128]}},\"id\":\"8f4047e1-680d-4180-854d-3dd5532c1556\",\"type\":\"ColumnDataSource\"},{\"attributes\":{\"dimension\":1,\"plot\":{\"id\":\"cc580fc7-55ff-495e-ade9-ff6fd30d4b78\",\"subtype\":\"Figure\",\"type\":\"Plot\"},\"ticker\":{\"id\":\"b96836a5-ffd8-40f2-bde5-f57a700d1661\",\"type\":\"BasicTicker\"}},\"id\":\"5e4091e9-7ee3-4faf-bae5-03f4dd049814\",\"type\":\"Grid\"},{\"attributes\":{},\"id\":\"f006f176-3411-4496-9819-a4f30d4069e7\",\"type\":\"CategoricalTickFormatter\"},{\"attributes\":{\"fill_color\":{\"value\":\"#1f77b4\"},\"line_color\":{\"value\":\"#1f77b4\"},\"top\":{\"field\":\"y\"},\"width\":{\"value\":0.5},\"x\":{\"field\":\"x\"}},\"id\":\"14e696c3-e919-40cf-b9ba-2cce98d4e206\",\"type\":\"VBar\"},{\"attributes\":{\"data_source\":{\"id\":\"c0cf64dd-c435-43bd-809b-c9c2436c2455\",\"type\":\"ColumnDataSource\"},\"glyph\":{\"id\":\"e25f53e0-254d-4217-963a-187540510f60\",\"type\":\"VBar\"},\"hover_glyph\":null,\"nonselection_glyph\":{\"id\":\"c26b0bfb-e7a8-41cc-8329-e0f35d29868b\",\"type\":\"VBar\"},\"selection_glyph\":null},\"id\":\"daccee6b-269e-4086-b4c3-c0b4913e4f44\",\"type\":\"GlyphRenderer\"},{\"attributes\":{\"fill_alpha\":{\"value\":0.1},\"fill_color\":{\"value\":\"#1f77b4\"},\"line_alpha\":{\"value\":0.1},\"line_color\":{\"value\":\"#1f77b4\"},\"top\":{\"field\":\"y\"},\"width\":{\"value\":0.5},\"x\":{\"field\":\"x\"}},\"id\":\"74534ea3-cf77-4107-8a7d-8c35f8c95d51\",\"type\":\"VBar\"},{\"attributes\":{\"callback\":null,\"plot\":{\"id\":\"f2d8e3a4-8482-4141-ad82-a24001eec5a5\",\"subtype\":\"Figure\",\"type\":\"Plot\"},\"tooltips\":[[\"category\",\"@x\"],[\"percent\",\"@percent\"]]},\"id\":\"e6db8680-5d12-491a-a055-2521cb769d2d\",\"type\":\"HoverTool\"},{\"attributes\":{\"dimension\":1,\"plot\":{\"id\":\"1ef9dabf-40a5-4aba-a9e4-3365f2546864\",\"subtype\":\"Figure\",\"type\":\"Plot\"},\"ticker\":{\"id\":\"25636b5c-ac36-450b-99f4-66917c7e1faa\",\"type\":\"BasicTicker\"}},\"id\":\"a7b58208-090b-4afc-9151-03d9204076e1\",\"type\":\"Grid\"},{\"attributes\":{\"fill_color\":{\"value\":\"#1f77b4\"},\"line_color\":{\"value\":\"#1f77b4\"},\"top\":{\"field\":\"y\"},\"width\":{\"value\":0.5},\"x\":{\"field\":\"x\"}},\"id\":\"627b9fb7-16aa-4e89-9438-396a4f6ab11b\",\"type\":\"VBar\"},{\"attributes\":{\"plot\":{\"id\":\"40d143ae-4a96-4acb-88cd-8f97deb42073\",\"subtype\":\"Figure\",\"type\":\"Plot\"},\"ticker\":{\"id\":\"0e28c431-ea97-4752-846b-1f7c6302e027\",\"type\":\"CategoricalTicker\"}},\"id\":\"546fa3b7-6ef0-4306-9f73-6825d7c60f36\",\"type\":\"Grid\"},{\"attributes\":{\"active_drag\":\"auto\",\"active_scroll\":\"auto\",\"active_tap\":\"auto\",\"tools\":[{\"id\":\"1945afdb-b011-485a-8a20-6300e963de8c\",\"type\":\"HoverTool\"}]},\"id\":\"d7bec5fe-a6cc-4227-af2f-b3573d4d6a76\",\"type\":\"Toolbar\"},{\"attributes\":{\"plot\":{\"id\":\"407e2119-03f6-436e-9d72-0edfa14fd5ff\",\"subtype\":\"Figure\",\"type\":\"Plot\"},\"ticker\":{\"id\":\"9e23f934-0749-4379-9d50-091d107204ba\",\"type\":\"CategoricalTicker\"}},\"id\":\"742eafcc-a233-4fb4-b51f-7db409e0fa1d\",\"type\":\"Grid\"},{\"attributes\":{\"formatter\":{\"id\":\"4f018435-0017-4053-93a7-6f8f10462a14\",\"type\":\"BasicTickFormatter\"},\"plot\":{\"id\":\"912438ae-1a2a-414e-b053-35282eff37f4\",\"subtype\":\"Figure\",\"type\":\"Plot\"},\"ticker\":{\"id\":\"27176093-72f4-47af-8d18-d201733e72b5\",\"type\":\"BasicTicker\"},\"visible\":false},\"id\":\"bd670f34-4c68-4921-86fa-252abcbe2ed5\",\"type\":\"LinearAxis\"},{\"attributes\":{\"dimension\":1,\"plot\":{\"id\":\"19eaf0a7-c2b3-47cd-b081-db26dac9def3\",\"subtype\":\"Figure\",\"type\":\"Plot\"},\"ticker\":{\"id\":\"7d4b3634-524e-41ab-9f87-03ddcacb8ac3\",\"type\":\"BasicTicker\"}},\"id\":\"86ab15cb-bfb9-4ff8-9ac6-7c717093c8f2\",\"type\":\"Grid\"},{\"attributes\":{\"callback\":null,\"column_names\":[\"y\",\"x\",\"percent\"],\"data\":{\"percent\":[\"3.56%\",\"0.959%\",\"33.4%\",\"62.1%\"],\"x\":[\"Ex\",\"Fa\",\"Gd\",\"TA\"],\"y\":[52,14,488,906]}},\"id\":\"bc4f0720-28c3-414a-95be-be7c6e42f582\",\"type\":\"ColumnDataSource\"},{\"attributes\":{\"below\":[{\"id\":\"407e5e63-4805-44f8-a400-e0d6b257db84\",\"type\":\"CategoricalAxis\"}],\"left\":[{\"id\":\"769f8d64-8598-4665-ad95-1d943f803ef1\",\"type\":\"LinearAxis\"}],\"plot_height\":280,\"plot_width\":280,\"renderers\":[{\"id\":\"407e5e63-4805-44f8-a400-e0d6b257db84\",\"type\":\"CategoricalAxis\"},{\"id\":\"2fc1162e-0daa-4b5c-95e3-8592e1370ae4\",\"type\":\"Grid\"},{\"id\":\"769f8d64-8598-4665-ad95-1d943f803ef1\",\"type\":\"LinearAxis\"},{\"id\":\"aeb7c8b8-e519-45e6-9d7c-685c302b8d10\",\"type\":\"Grid\"},{\"id\":\"daccee6b-269e-4086-b4c3-c0b4913e4f44\",\"type\":\"GlyphRenderer\"}],\"title\":null,\"tool_events\":{\"id\":\"20968293-d50c-4fb2-983d-f1e3efcaba04\",\"type\":\"ToolEvents\"},\"toolbar\":{\"id\":\"3e6bbd41-62d1-40f5-a379-e5b1e4aaf53e\",\"type\":\"Toolbar\"},\"toolbar_location\":null,\"x_range\":{\"id\":\"bc6c7e54-f9b5-415b-8b07-b73243d9f178\",\"type\":\"FactorRange\"},\"y_range\":{\"id\":\"c83093ba-5385-4309-bdd5-eb87af15fc0c\",\"type\":\"DataRange1d\"}},\"id\":\"e28c73b6-0633-4af2-91c2-8d6057d5e23c\",\"subtype\":\"Figure\",\"type\":\"Plot\"},{\"attributes\":{},\"id\":\"a19c93f0-0f65-42d9-bb41-9aa02e78c121\",\"type\":\"ToolEvents\"},{\"attributes\":{\"callback\":null},\"id\":\"21b24b6d-86d8-4f5b-abeb-4ee08f73fbc5\",\"type\":\"DataRange1d\"},{\"attributes\":{\"fill_color\":{\"value\":\"#1f77b4\"},\"line_color\":{\"value\":\"#1f77b4\"},\"top\":{\"field\":\"y\"},\"width\":{\"value\":0.5},\"x\":{\"field\":\"x\"}},\"id\":\"76cc18b2-4461-4086-bd74-8621171eb52c\",\"type\":\"VBar\"},{\"attributes\":{},\"id\":\"e8f3e410-b102-4c5d-aec7-24cd1c9a3ba7\",\"type\":\"BasicTicker\"},{\"attributes\":{\"axis_label\":\"OverallCond\",\"axis_label_standoff\":-1,\"formatter\":{\"id\":\"0cfd0eb5-ee54-49d0-82d5-160c3f7ae59a\",\"type\":\"CategoricalTickFormatter\"},\"plot\":{\"id\":\"ea2569aa-9b02-4c0d-919d-a5db66bd2426\",\"subtype\":\"Figure\",\"type\":\"Plot\"},\"ticker\":{\"id\":\"12977f34-7bed-4af4-bd86-b8bf6097f023\",\"type\":\"CategoricalTicker\"}},\"id\":\"63e95b63-f6e5-475a-8b04-a258e9c231d8\",\"type\":\"CategoricalAxis\"},{\"attributes\":{\"dimension\":1,\"plot\":{\"id\":\"bd937234-1d5c-473b-9719-6f8e3da4efb7\",\"subtype\":\"Figure\",\"type\":\"Plot\"},\"ticker\":{\"id\":\"e7bbf38c-21b6-401a-a0aa-b5b46c257da3\",\"type\":\"BasicTicker\"}},\"id\":\"d3df7579-2ad4-47cc-9bc7-0134ef57ce02\",\"type\":\"Grid\"},{\"attributes\":{\"fill_alpha\":{\"value\":0.1},\"fill_color\":{\"value\":\"#1f77b4\"},\"line_alpha\":{\"value\":0.1},\"line_color\":{\"value\":\"#1f77b4\"},\"top\":{\"field\":\"y\"},\"width\":{\"value\":0.5},\"x\":{\"field\":\"x\"}},\"id\":\"78c0905b-4bcc-4adf-a259-43e117f52246\",\"type\":\"VBar\"},{\"attributes\":{\"dimension\":1,\"plot\":{\"id\":\"e907fdd6-ecdd-409f-9f46-311929b0772d\",\"subtype\":\"Figure\",\"type\":\"Plot\"},\"ticker\":{\"id\":\"daaf75cf-8c80-4c59-bcee-36ec6799ee43\",\"type\":\"BasicTicker\"}},\"id\":\"e120d3b9-7863-45d5-8904-a22cbde0f286\",\"type\":\"Grid\"},{\"attributes\":{\"callback\":null,\"factors\":[\"FuseA\",\"FuseF\",\"FuseP\",\"Mix\",\"SBrkr\"]},\"id\":\"0e5cf708-0619-404c-9067-11b5062f58b5\",\"type\":\"FactorRange\"},{\"attributes\":{},\"id\":\"7201a014-3fac-4ee8-8509-22427f5429c6\",\"type\":\"BasicTickFormatter\"},{\"attributes\":{\"plot\":{\"id\":\"a6ed27c2-1c61-4758-b0c5-2d176040f858\",\"subtype\":\"Figure\",\"type\":\"Plot\"},\"ticker\":{\"id\":\"b3dd787c-ec83-4c0a-bf92-2c27937dd59c\",\"type\":\"CategoricalTicker\"}},\"id\":\"befb3bee-f0e8-46fc-8b5f-8f86a29824b1\",\"type\":\"Grid\"},{\"attributes\":{},\"id\":\"27176093-72f4-47af-8d18-d201733e72b5\",\"type\":\"BasicTicker\"},{\"attributes\":{\"data_source\":{\"id\":\"c562fbb2-c41a-47f8-9977-237982c2d828\",\"type\":\"ColumnDataSource\"},\"glyph\":{\"id\":\"e19d087f-0110-4e29-b073-658606586fe8\",\"type\":\"VBar\"},\"hover_glyph\":null,\"nonselection_glyph\":{\"id\":\"1bbf024a-2785-40f5-8631-7e49719d53b9\",\"type\":\"VBar\"},\"selection_glyph\":null},\"id\":\"46778bd9-2fd2-4bcf-8bdb-d274f4cff944\",\"type\":\"GlyphRenderer\"},{\"attributes\":{\"callback\":null,\"factors\":[\"Ex\",\"Fa\",\"Gd\",\"Po\",\"TA\"]},\"id\":\"667993c0-d996-4f25-a9ee-befaea31cf8c\",\"type\":\"FactorRange\"},{\"attributes\":{\"fill_alpha\":{\"value\":0.1},\"fill_color\":{\"value\":\"#1f77b4\"},\"line_alpha\":{\"value\":0.1},\"line_color\":{\"value\":\"#1f77b4\"},\"top\":{\"field\":\"y\"},\"width\":{\"value\":0.5},\"x\":{\"field\":\"x\"}},\"id\":\"6b6d748f-6325-431d-b693-324d82bcabc8\",\"type\":\"VBar\"},{\"attributes\":{\"callback\":null},\"id\":\"41f89a9c-915e-42be-a871-bf1cffb802e6\",\"type\":\"DataRange1d\"},{\"attributes\":{\"axis_label\":\"MSZoning\",\"axis_label_standoff\":-1,\"formatter\":{\"id\":\"f9f0e8d7-ad42-46f8-9ed7-a3260062fed2\",\"type\":\"CategoricalTickFormatter\"},\"plot\":{\"id\":\"a16ed0bb-4306-49f1-b56e-7e7ed265efba\",\"subtype\":\"Figure\",\"type\":\"Plot\"},\"ticker\":{\"id\":\"15e3fb24-4dfc-4a58-9b31-e35ffc67c152\",\"type\":\"CategoricalTicker\"}},\"id\":\"0260432f-f702-41bd-9dd5-8f7c7748e237\",\"type\":\"CategoricalAxis\"},{\"attributes\":{\"below\":[{\"id\":\"a2b47d2b-68f5-4089-8ac2-444c02815664\",\"type\":\"CategoricalAxis\"}],\"left\":[{\"id\":\"43fe74fe-d4e7-4ea2-a813-da78ca5337c6\",\"type\":\"LinearAxis\"}],\"plot_height\":280,\"plot_width\":280,\"renderers\":[{\"id\":\"a2b47d2b-68f5-4089-8ac2-444c02815664\",\"type\":\"CategoricalAxis\"},{\"id\":\"d0652f79-6edb-4783-9c7b-c695889c665a\",\"type\":\"Grid\"},{\"id\":\"43fe74fe-d4e7-4ea2-a813-da78ca5337c6\",\"type\":\"LinearAxis\"},{\"id\":\"93f649b3-34fa-478d-a839-7fda82d79eb7\",\"type\":\"Grid\"},{\"id\":\"618bbacc-69e6-4707-b57d-e1e0d6ac2eef\",\"type\":\"GlyphRenderer\"}],\"title\":null,\"tool_events\":{\"id\":\"70915915-bee0-49da-8fd7-8802164170d4\",\"type\":\"ToolEvents\"},\"toolbar\":{\"id\":\"0ca9645c-b150-4c81-9fd9-d1e2d123e49d\",\"type\":\"Toolbar\"},\"toolbar_location\":null,\"x_range\":{\"id\":\"57cd98b6-143d-4da2-ba1d-e553bc40594b\",\"type\":\"FactorRange\"},\"y_range\":{\"id\":\"defe71e1-2b12-4cd3-8db9-0a86a736567e\",\"type\":\"DataRange1d\"}},\"id\":\"ed58ce59-9feb-4fe7-99d1-4f27a9de1197\",\"subtype\":\"Figure\",\"type\":\"Plot\"},{\"attributes\":{\"formatter\":{\"id\":\"5802ba22-af30-4de9-980d-23528c259077\",\"type\":\"BasicTickFormatter\"},\"plot\":{\"id\":\"87092fcd-a75a-4640-8111-2cc917334859\",\"subtype\":\"Figure\",\"type\":\"Plot\"},\"ticker\":{\"id\":\"f4a5e6f5-cace-4d47-b961-752581a39594\",\"type\":\"BasicTicker\"},\"visible\":false},\"id\":\"1a845cb4-8e42-43b3-86dd-e05896643394\",\"type\":\"LinearAxis\"},{\"attributes\":{\"callback\":null,\"plot\":{\"id\":\"8c0ac025-9451-44e0-8084-ec322d7d97ea\",\"subtype\":\"Figure\",\"type\":\"Plot\"},\"tooltips\":[[\"category\",\"@x\"],[\"percent\",\"@percent\"]]},\"id\":\"6d4c854d-8081-4b5f-a5ad-28c091b123e8\",\"type\":\"HoverTool\"},{\"attributes\":{},\"id\":\"00f3a614-0a7a-4942-9771-bb5ef412a808\",\"type\":\"CategoricalTickFormatter\"},{\"attributes\":{\"callback\":null,\"plot\":{\"id\":\"8bd6487a-4865-4a35-8e96-41f7e5e4d20f\",\"subtype\":\"Figure\",\"type\":\"Plot\"},\"tooltips\":[[\"category\",\"@x\"],[\"percent\",\"@percent\"]]},\"id\":\"c349be4e-34af-4b8c-8abc-c426dc1da885\",\"type\":\"HoverTool\"},{\"attributes\":{\"callback\":null},\"id\":\"b3ab6f74-464d-4abb-bcd4-09038a8054f0\",\"type\":\"DataRange1d\"},{\"attributes\":{\"formatter\":{\"id\":\"3f03724b-aaaf-4a6e-b75b-6372e4586f77\",\"type\":\"BasicTickFormatter\"},\"plot\":{\"id\":\"ced13ff6-4456-4ec8-9632-204fd2e8548d\",\"subtype\":\"Figure\",\"type\":\"Plot\"},\"ticker\":{\"id\":\"e8f3e410-b102-4c5d-aec7-24cd1c9a3ba7\",\"type\":\"BasicTicker\"},\"visible\":false},\"id\":\"48bda607-2e83-404d-be69-f65751a10e0a\",\"type\":\"LinearAxis\"},{\"attributes\":{\"below\":[{\"id\":\"d6b1b9c4-f026-4982-b3cc-973fdea14a55\",\"type\":\"CategoricalAxis\"}],\"left\":[{\"id\":\"d3461e35-cd52-4b66-bba7-4176bb0fc1f1\",\"type\":\"LinearAxis\"}],\"plot_height\":280,\"plot_width\":280,\"renderers\":[{\"id\":\"d6b1b9c4-f026-4982-b3cc-973fdea14a55\",\"type\":\"CategoricalAxis\"},{\"id\":\"d3df9646-7daf-4699-b8de-7c265b615b57\",\"type\":\"Grid\"},{\"id\":\"d3461e35-cd52-4b66-bba7-4176bb0fc1f1\",\"type\":\"LinearAxis\"},{\"id\":\"a7b58208-090b-4afc-9151-03d9204076e1\",\"type\":\"Grid\"},{\"id\":\"08c967b7-67b3-466a-8fa3-14047ededfdb\",\"type\":\"GlyphRenderer\"}],\"title\":null,\"tool_events\":{\"id\":\"041c5077-2ccc-4467-962f-e85274a93d17\",\"type\":\"ToolEvents\"},\"toolbar\":{\"id\":\"8a88485a-8f7b-4986-aded-b79d8637a061\",\"type\":\"Toolbar\"},\"toolbar_location\":null,\"x_range\":{\"id\":\"0683d1d1-1f46-46fb-afb2-4e7dfd35e02c\",\"type\":\"FactorRange\"},\"y_range\":{\"id\":\"b3ab6f74-464d-4abb-bcd4-09038a8054f0\",\"type\":\"DataRange1d\"}},\"id\":\"1ef9dabf-40a5-4aba-a9e4-3365f2546864\",\"subtype\":\"Figure\",\"type\":\"Plot\"},{\"attributes\":{\"callback\":null},\"id\":\"1b4b0e7d-7560-4a07-9651-a75006acebb4\",\"type\":\"DataRange1d\"},{\"attributes\":{\"active_drag\":\"auto\",\"active_scroll\":\"auto\",\"active_tap\":\"auto\",\"tools\":[{\"id\":\"ebf0b0b2-9025-49bb-9428-9cb836faded1\",\"type\":\"HoverTool\"}]},\"id\":\"a47708b9-c08b-4b59-9742-05470ec8875e\",\"type\":\"Toolbar\"},{\"attributes\":{\"formatter\":{\"id\":\"e6547608-7383-4e1b-98ae-3db0e925aa09\",\"type\":\"BasicTickFormatter\"},\"plot\":{\"id\":\"e907fdd6-ecdd-409f-9f46-311929b0772d\",\"subtype\":\"Figure\",\"type\":\"Plot\"},\"ticker\":{\"id\":\"daaf75cf-8c80-4c59-bcee-36ec6799ee43\",\"type\":\"BasicTicker\"},\"visible\":false},\"id\":\"45fc403e-7ea5-45a9-b0b8-59b80c31026c\",\"type\":\"LinearAxis\"},{\"attributes\":{\"callback\":null,\"plot\":{\"id\":\"3b70817a-9307-427f-b184-c6bdea437bda\",\"subtype\":\"Figure\",\"type\":\"Plot\"},\"tooltips\":[[\"category\",\"@x\"],[\"percent\",\"@percent\"]]},\"id\":\"62fd9571-72bd-4ab3-860c-12926b17d8d5\",\"type\":\"HoverTool\"},{\"attributes\":{\"dimension\":1,\"plot\":{\"id\":\"ced13ff6-4456-4ec8-9632-204fd2e8548d\",\"subtype\":\"Figure\",\"type\":\"Plot\"},\"ticker\":{\"id\":\"e8f3e410-b102-4c5d-aec7-24cd1c9a3ba7\",\"type\":\"BasicTicker\"}},\"id\":\"8cf99686-dfd7-4c6e-8f77-b0e85e162b1a\",\"type\":\"Grid\"},{\"attributes\":{\"active_drag\":\"auto\",\"active_scroll\":\"auto\",\"active_tap\":\"auto\",\"tools\":[{\"id\":\"0fdb5606-49cc-4e5f-a739-d5a0b53325e4\",\"type\":\"HoverTool\"}]},\"id\":\"2bbc25bc-eeef-4338-ab8c-e061d92e27b3\",\"type\":\"Toolbar\"},{\"attributes\":{},\"id\":\"0fa5d001-8073-43d7-a1de-87538329b5a3\",\"type\":\"BasicTickFormatter\"},{\"attributes\":{},\"id\":\"383782ca-0a4d-4bfb-8e5b-05552dd5842a\",\"type\":\"BasicTickFormatter\"},{\"attributes\":{\"callback\":null,\"factors\":[\"GdPrv\",\"GdWo\",\"MnPrv\",\"MnWw\"]},\"id\":\"4e8d0dac-e16a-420c-96dd-77974ec5390d\",\"type\":\"FactorRange\"},{\"attributes\":{\"active_drag\":\"auto\",\"active_scroll\":\"auto\",\"active_tap\":\"auto\",\"tools\":[{\"id\":\"eaa1a63c-1e98-4e05-9249-161e608e4586\",\"type\":\"HoverTool\"}]},\"id\":\"6f863465-dae6-4bca-9b23-31f836006b09\",\"type\":\"Toolbar\"},{\"attributes\":{},\"id\":\"879b43d4-a890-4be4-a906-aaa982b5aebf\",\"type\":\"BasicTicker\"},{\"attributes\":{},\"id\":\"4b306a0c-c455-4435-93c2-fabc09367489\",\"type\":\"ToolEvents\"},{\"attributes\":{},\"id\":\"719a61fb-1864-43f9-84da-e01364513566\",\"type\":\"ToolEvents\"},{\"attributes\":{\"callback\":null,\"plot\":{\"id\":\"b3563cde-5e78-4851-be76-da25726e37b5\",\"subtype\":\"Figure\",\"type\":\"Plot\"},\"tooltips\":[[\"category\",\"@x\"],[\"percent\",\"@percent\"]]},\"id\":\"fbc87152-0c7d-48a0-9670-088c42bbcdb4\",\"type\":\"HoverTool\"},{\"attributes\":{\"dimension\":1,\"plot\":{\"id\":\"09dcb3ea-fe20-46a5-b2fb-be53f38c28ef\",\"subtype\":\"Figure\",\"type\":\"Plot\"},\"ticker\":{\"id\":\"64ac591d-d1e4-4779-8116-9b7ed4d71dc7\",\"type\":\"BasicTicker\"}},\"id\":\"5a297548-b35d-4da3-a6ed-7b8770fd3665\",\"type\":\"Grid\"},{\"attributes\":{\"callback\":null},\"id\":\"a8bd5f05-79fe-4af6-bc5a-0d41badb751c\",\"type\":\"DataRange1d\"},{\"attributes\":{\"callback\":null},\"id\":\"81a7269b-8370-490a-8200-110db2cecc28\",\"type\":\"DataRange1d\"},{\"attributes\":{\"children\":[{\"id\":\"1ef9dabf-40a5-4aba-a9e4-3365f2546864\",\"subtype\":\"Figure\",\"type\":\"Plot\"},{\"id\":\"722940e9-fd7c-4e4f-a184-76c7dd0dfb45\",\"subtype\":\"Figure\",\"type\":\"Plot\"},{\"id\":\"63591072-bbd7-4b0d-bdf1-309f26368411\",\"subtype\":\"Figure\",\"type\":\"Plot\"}]},\"id\":\"e94a6db9-26c6-477e-9b32-f10218bdf82c\",\"type\":\"Row\"},{\"attributes\":{\"axis_label\":\"Condition2\",\"axis_label_standoff\":-1,\"formatter\":{\"id\":\"9295dda0-445b-4ac3-8d7a-c9f6995ea23b\",\"type\":\"CategoricalTickFormatter\"},\"plot\":{\"id\":\"63591072-bbd7-4b0d-bdf1-309f26368411\",\"subtype\":\"Figure\",\"type\":\"Plot\"},\"ticker\":{\"id\":\"c1c22da9-18ba-494f-93dc-be4155943f50\",\"type\":\"CategoricalTicker\"}},\"id\":\"0e5b9ca9-b561-4f4a-bed9-59a7991e2694\",\"type\":\"CategoricalAxis\"},{\"attributes\":{\"callback\":null,\"column_names\":[\"y\",\"x\",\"percent\"],\"data\":{\"percent\":[\"33.2%\",\"2.81%\",\"0.685%\",\"63.4%\"],\"x\":[\"IR1\",\"IR2\",\"IR3\",\"Reg\"],\"y\":[484,41,10,925]}},\"id\":\"5e9fc9e3-4559-4946-99f4-b8920169e9ed\",\"type\":\"ColumnDataSource\"},{\"attributes\":{},\"id\":\"8c7a040b-ab61-4bde-9fc3-f3833c18a517\",\"type\":\"CategoricalTicker\"},{\"attributes\":{},\"id\":\"96f911e3-058f-49fc-8563-ff97e5116ba7\",\"type\":\"CategoricalTicker\"},{\"attributes\":{\"callback\":null,\"factors\":[\"Av\",\"Gd\",\"Mn\",\"No\"]},\"id\":\"c08c94bd-9207-493a-b992-46c45dc467f3\",\"type\":\"FactorRange\"},{\"attributes\":{\"callback\":null},\"id\":\"1bcee492-a4a4-426e-ae75-cf4885753832\",\"type\":\"DataRange1d\"},{\"attributes\":{\"plot\":{\"id\":\"800cccbd-c4ff-4d12-915c-59e1ff45bfea\",\"subtype\":\"Figure\",\"type\":\"Plot\"},\"ticker\":{\"id\":\"6d3d9258-6b7f-4750-aadb-485fdce828af\",\"type\":\"CategoricalTicker\"}},\"id\":\"313b2f95-aa8a-4532-8ef3-20b673005a99\",\"type\":\"Grid\"},{\"attributes\":{},\"id\":\"60a7c95a-841e-4ac4-9d53-7f772ed03cb7\",\"type\":\"BasicTicker\"},{\"attributes\":{\"fill_color\":{\"value\":\"#1f77b4\"},\"line_color\":{\"value\":\"#1f77b4\"},\"top\":{\"field\":\"y\"},\"width\":{\"value\":0.5},\"x\":{\"field\":\"x\"}},\"id\":\"938e146e-2152-49dc-a1d3-440b225d5882\",\"type\":\"VBar\"},{\"attributes\":{},\"id\":\"8d510f60-8476-44a6-9d6e-f82b9ce6ae20\",\"type\":\"ToolEvents\"},{\"attributes\":{\"fill_alpha\":{\"value\":0.1},\"fill_color\":{\"value\":\"#1f77b4\"},\"line_alpha\":{\"value\":0.1},\"line_color\":{\"value\":\"#1f77b4\"},\"top\":{\"field\":\"y\"},\"width\":{\"value\":0.5},\"x\":{\"field\":\"x\"}},\"id\":\"45c4cd27-b476-4c9e-8ba1-0d36537c3393\",\"type\":\"VBar\"},{\"attributes\":{\"dimension\":1,\"plot\":{\"id\":\"21c0b045-a9a9-4f41-b237-2ba52f036d02\",\"subtype\":\"Figure\",\"type\":\"Plot\"},\"ticker\":{\"id\":\"10b14a19-224f-4218-9cb5-caaaa0a2b89e\",\"type\":\"BasicTicker\"}},\"id\":\"df74c6e3-5007-43b5-bdeb-2176d41a2e26\",\"type\":\"Grid\"},{\"attributes\":{},\"id\":\"59ee2330-f70d-4b77-8027-055f36fc77fd\",\"type\":\"ToolEvents\"},{\"attributes\":{\"callback\":null,\"factors\":[\"Ex\",\"Fa\",\"Gd\",\"Po\",\"TA\"]},\"id\":\"fe9a1e7d-41fd-411e-8436-3a4e22c227ab\",\"type\":\"FactorRange\"},{\"attributes\":{\"axis_label\":\"Alley\",\"axis_label_standoff\":-1,\"formatter\":{\"id\":\"c923256c-6269-4340-aa30-c11a05ccbd89\",\"type\":\"CategoricalTickFormatter\"},\"plot\":{\"id\":\"bd937234-1d5c-473b-9719-6f8e3da4efb7\",\"subtype\":\"Figure\",\"type\":\"Plot\"},\"ticker\":{\"id\":\"b056a7d1-a870-45b5-a394-1bb4bab56c85\",\"type\":\"CategoricalTicker\"}},\"id\":\"54ab53ec-6704-4841-bcc5-b64de4ce62d4\",\"type\":\"CategoricalAxis\"},{\"attributes\":{\"fill_alpha\":{\"value\":0.1},\"fill_color\":{\"value\":\"#1f77b4\"},\"line_alpha\":{\"value\":0.1},\"line_color\":{\"value\":\"#1f77b4\"},\"top\":{\"field\":\"y\"},\"width\":{\"value\":0.5},\"x\":{\"field\":\"x\"}},\"id\":\"668e9a90-2074-4e91-bae0-00fe422bc076\",\"type\":\"VBar\"},{\"attributes\":{},\"id\":\"4d34869f-eaa0-4f9c-b1d4-6d702283a8d9\",\"type\":\"CategoricalTickFormatter\"},{\"attributes\":{\"callback\":null,\"plot\":{\"id\":\"efe52ccc-1088-4dc9-8433-9e687655f058\",\"subtype\":\"Figure\",\"type\":\"Plot\"},\"tooltips\":[[\"category\",\"@x\"],[\"percent\",\"@percent\"]]},\"id\":\"86d8f773-46bf-4fcf-a52a-a9e3284e652d\",\"type\":\"HoverTool\"},{\"attributes\":{},\"id\":\"312cbe9b-2420-4ec2-b005-1d84f88b0d60\",\"type\":\"BasicTickFormatter\"},{\"attributes\":{},\"id\":\"41f2a25d-4767-4d9b-a9a3-38420dd32f2d\",\"type\":\"ToolEvents\"},{\"attributes\":{\"callback\":null,\"factors\":[\"ALQ\",\"BLQ\",\"GLQ\",\"LwQ\",\"Rec\",\"Unf\"]},\"id\":\"3e11bd87-6da4-4d0a-ad32-102607abc166\",\"type\":\"FactorRange\"},{\"attributes\":{\"fill_color\":{\"value\":\"#1f77b4\"},\"line_color\":{\"value\":\"#1f77b4\"},\"top\":{\"field\":\"y\"},\"width\":{\"value\":0.5},\"x\":{\"field\":\"x\"}},\"id\":\"d4fbce04-62b0-47cb-b736-c29fda2c3c89\",\"type\":\"VBar\"},{\"attributes\":{},\"id\":\"52f690f0-8174-401b-abd1-ec920c03b94c\",\"type\":\"ToolEvents\"},{\"attributes\":{\"active_drag\":\"auto\",\"active_scroll\":\"auto\",\"active_tap\":\"auto\",\"tools\":[{\"id\":\"c349be4e-34af-4b8c-8abc-c426dc1da885\",\"type\":\"HoverTool\"}]},\"id\":\"0c8a12f6-7644-4a2f-81b0-69b533564a63\",\"type\":\"Toolbar\"},{\"attributes\":{},\"id\":\"25636b5c-ac36-450b-99f4-66917c7e1faa\",\"type\":\"BasicTicker\"},{\"attributes\":{\"dimension\":1,\"plot\":{\"id\":\"f2d8e3a4-8482-4141-ad82-a24001eec5a5\",\"subtype\":\"Figure\",\"type\":\"Plot\"},\"ticker\":{\"id\":\"c844d010-73f0-4c07-9e91-bcaad2037e42\",\"type\":\"BasicTicker\"}},\"id\":\"a70208b2-e85c-4a3c-902b-f133c4c2713c\",\"type\":\"Grid\"},{\"attributes\":{\"callback\":null,\"column_names\":[\"y\",\"x\",\"percent\"],\"data\":{\"percent\":[\"6.16%\",\"2.05%\",\"91.8%\"],\"x\":[\"N\",\"P\",\"Y\"],\"y\":[90,30,1340]}},\"id\":\"e2b13d2a-d437-47a0-bd27-dfca8fce0478\",\"type\":\"ColumnDataSource\"},{\"attributes\":{},\"id\":\"a39d104e-c122-4842-b0b3-9f30cfcdf441\",\"type\":\"BasicTicker\"},{\"attributes\":{},\"id\":\"74c41d76-ba75-4339-8f93-0864aa72d847\",\"type\":\"BasicTicker\"},{\"attributes\":{\"active_drag\":\"auto\",\"active_scroll\":\"auto\",\"active_tap\":\"auto\",\"tools\":[{\"id\":\"864fa7bb-6f77-483a-80e9-f176c2e5f3ef\",\"type\":\"HoverTool\"}]},\"id\":\"8e335a57-8e28-49dd-a16b-703d0c95aa31\",\"type\":\"Toolbar\"},{\"attributes\":{\"fill_color\":{\"value\":\"#1f77b4\"},\"line_color\":{\"value\":\"#1f77b4\"},\"top\":{\"field\":\"y\"},\"width\":{\"value\":0.5},\"x\":{\"field\":\"x\"}},\"id\":\"d519c8fd-6f41-43c0-baf8-9bde6c37937e\",\"type\":\"VBar\"},{\"attributes\":{\"callback\":null,\"column_names\":[\"y\",\"x\",\"percent\"],\"data\":{\"percent\":[\"6.51%\",\"93.5%\"],\"x\":[\"N\",\"Y\"],\"y\":[95,1365]}},\"id\":\"51512cb1-ba09-471b-8083-f1df6d4df7e7\",\"type\":\"ColumnDataSource\"},{\"attributes\":{},\"id\":\"661efc9b-8015-49b3-b4b0-312268fb3d06\",\"type\":\"BasicTicker\"},{\"attributes\":{\"fill_alpha\":{\"value\":0.1},\"fill_color\":{\"value\":\"#1f77b4\"},\"line_alpha\":{\"value\":0.1},\"line_color\":{\"value\":\"#1f77b4\"},\"top\":{\"field\":\"y\"},\"width\":{\"value\":0.5},\"x\":{\"field\":\"x\"}},\"id\":\"2886e806-2062-4495-a12b-81196db422a5\",\"type\":\"VBar\"},{\"attributes\":{\"callback\":null},\"id\":\"793baadc-4e22-412b-a1b7-f86d038bc828\",\"type\":\"DataRange1d\"},{\"attributes\":{\"callback\":null,\"column_names\":[\"y\",\"x\",\"percent\"],\"data\":{\"percent\":[\"94.7%\",\"4.45%\",\"0.89%\"],\"x\":[\"Gtl\",\"Mod\",\"Sev\"],\"y\":[1382,65,13]}},\"id\":\"66004b5a-b736-43a7-bcbb-69001d82c02f\",\"type\":\"ColumnDataSource\"},{\"attributes\":{},\"id\":\"15e3fb24-4dfc-4a58-9b31-e35ffc67c152\",\"type\":\"CategoricalTicker\"},{\"attributes\":{},\"id\":\"bf3fab08-2ee5-4959-a7ea-68244c46b927\",\"type\":\"CategoricalTickFormatter\"},{\"attributes\":{\"callback\":null},\"id\":\"c3b3990f-ec12-47d9-b1c6-ed0d9bdce904\",\"type\":\"DataRange1d\"},{\"attributes\":{\"formatter\":{\"id\":\"c15cbbce-529f-4912-af61-a8fce3060e70\",\"type\":\"BasicTickFormatter\"},\"plot\":{\"id\":\"e81f95b7-22a1-4308-a527-4afbd98198c6\",\"subtype\":\"Figure\",\"type\":\"Plot\"},\"ticker\":{\"id\":\"aef82277-5311-483a-9669-265ae31c81a2\",\"type\":\"BasicTicker\"},\"visible\":false},\"id\":\"9e70bffd-0645-4f3f-8ffe-b3c625aa3daf\",\"type\":\"LinearAxis\"},{\"attributes\":{\"callback\":null,\"factors\":[\"AsbShng\",\"AsphShn\",\"Brk Cmn\",\"BrkFace\",\"CBlock\",\"CmentBd\",\"HdBoard\",\"ImStucc\",\"MetalSd\",\"Other\",\"Plywood\",\"Stone\",\"Stucco\",\"VinylSd\",\"Wd Sdng\",\"Wd Shng\"]},\"id\":\"b951eae2-0a54-4716-b380-42bf498acefa\",\"type\":\"FactorRange\"},{\"attributes\":{\"fill_alpha\":{\"value\":0.1},\"fill_color\":{\"value\":\"#1f77b4\"},\"line_alpha\":{\"value\":0.1},\"line_color\":{\"value\":\"#1f77b4\"},\"top\":{\"field\":\"y\"},\"width\":{\"value\":0.5},\"x\":{\"field\":\"x\"}},\"id\":\"c9f8ce9d-94e4-4db0-82d2-a908b27ca696\",\"type\":\"VBar\"},{\"attributes\":{\"dimension\":1,\"plot\":{\"id\":\"ed58ce59-9feb-4fe7-99d1-4f27a9de1197\",\"subtype\":\"Figure\",\"type\":\"Plot\"},\"ticker\":{\"id\":\"72ea0724-1ed0-4131-95b2-432a41859e65\",\"type\":\"BasicTicker\"}},\"id\":\"93f649b3-34fa-478d-a839-7fda82d79eb7\",\"type\":\"Grid\"},{\"attributes\":{},\"id\":\"9e23f934-0749-4379-9d50-091d107204ba\",\"type\":\"CategoricalTicker\"},{\"attributes\":{\"active_drag\":\"auto\",\"active_scroll\":\"auto\",\"active_tap\":\"auto\",\"tools\":[{\"id\":\"70984394-9b9d-4447-a953-423db8abc6cc\",\"type\":\"HoverTool\"}]},\"id\":\"7692eb4d-0a49-47f6-9644-7d124aa452fd\",\"type\":\"Toolbar\"},{\"attributes\":{\"callback\":null,\"factors\":[\"1Fam\",\"2fmCon\",\"Duplex\",\"Twnhs\",\"TwnhsE\"]},\"id\":\"03b75291-8e90-404c-86d0-12005f061170\",\"type\":\"FactorRange\"},{\"attributes\":{},\"id\":\"83bde2b1-18c8-4c03-ba4a-62b8d8e386dd\",\"type\":\"CategoricalTicker\"},{\"attributes\":{\"below\":[{\"id\":\"0e5b9ca9-b561-4f4a-bed9-59a7991e2694\",\"type\":\"CategoricalAxis\"}],\"left\":[{\"id\":\"d84bcf62-9f2f-41f9-8d23-47e5ab88d03f\",\"type\":\"LinearAxis\"}],\"plot_height\":280,\"plot_width\":280,\"renderers\":[{\"id\":\"0e5b9ca9-b561-4f4a-bed9-59a7991e2694\",\"type\":\"CategoricalAxis\"},{\"id\":\"7b6e2c7a-1226-4b0e-aa9f-f993a85d59f1\",\"type\":\"Grid\"},{\"id\":\"d84bcf62-9f2f-41f9-8d23-47e5ab88d03f\",\"type\":\"LinearAxis\"},{\"id\":\"64590458-ecb1-4d35-8f56-57170c85f92b\",\"type\":\"Grid\"},{\"id\":\"c348add4-d50a-477b-b5a8-81d3fe6388df\",\"type\":\"GlyphRenderer\"}],\"title\":null,\"tool_events\":{\"id\":\"042a0797-e2b6-49f6-8d05-b018501b1d6b\",\"type\":\"ToolEvents\"},\"toolbar\":{\"id\":\"8fe0356d-ee42-49e0-88c3-f7d701e59c3f\",\"type\":\"Toolbar\"},\"toolbar_location\":null,\"x_range\":{\"id\":\"f2d67f02-29eb-4579-a31d-8929878a1aff\",\"type\":\"FactorRange\"},\"y_range\":{\"id\":\"3d7d3b23-a022-45bf-a983-92857effcf44\",\"type\":\"DataRange1d\"}},\"id\":\"63591072-bbd7-4b0d-bdf1-309f26368411\",\"subtype\":\"Figure\",\"type\":\"Plot\"},{\"attributes\":{\"below\":[{\"id\":\"97f215b6-1864-47d1-b283-0e84e0274819\",\"type\":\"CategoricalAxis\"}],\"left\":[{\"id\":\"1a845cb4-8e42-43b3-86dd-e05896643394\",\"type\":\"LinearAxis\"}],\"plot_height\":280,\"plot_width\":280,\"renderers\":[{\"id\":\"97f215b6-1864-47d1-b283-0e84e0274819\",\"type\":\"CategoricalAxis\"},{\"id\":\"9a27fc78-f9ff-41cb-b5e1-35f18c7bf12f\",\"type\":\"Grid\"},{\"id\":\"1a845cb4-8e42-43b3-86dd-e05896643394\",\"type\":\"LinearAxis\"},{\"id\":\"10306c6a-c795-4ff5-ad7e-ed27c390668b\",\"type\":\"Grid\"},{\"id\":\"15cc61b2-d9e8-4e7d-b25d-f50d3b03ebbf\",\"type\":\"GlyphRenderer\"}],\"title\":null,\"tool_events\":{\"id\":\"dd01c33b-b0d3-426d-a1e9-beb3405437f5\",\"type\":\"ToolEvents\"},\"toolbar\":{\"id\":\"2fe5e5db-0778-4452-90d1-cdb41cd28c15\",\"type\":\"Toolbar\"},\"toolbar_location\":null,\"x_range\":{\"id\":\"b951eae2-0a54-4716-b380-42bf498acefa\",\"type\":\"FactorRange\"},\"y_range\":{\"id\":\"a8bd5f05-79fe-4af6-bc5a-0d41badb751c\",\"type\":\"DataRange1d\"}},\"id\":\"87092fcd-a75a-4640-8111-2cc917334859\",\"subtype\":\"Figure\",\"type\":\"Plot\"},{\"attributes\":{\"callback\":null,\"column_names\":[\"y\",\"x\",\"percent\"],\"data\":{\"percent\":[\"6.92%\",\"0.274%\",\"0.822%\",\"1.37%\",\"82.1%\",\"8.56%\"],\"x\":[\"Abnorml\",\"AdjLand\",\"Alloca\",\"Family\",\"Normal\",\"Partial\"],\"y\":[101,4,12,20,1198,125]}},\"id\":\"a7006df9-c2ba-454e-a62f-3296806729db\",\"type\":\"ColumnDataSource\"},{\"attributes\":{\"active_drag\":\"auto\",\"active_scroll\":\"auto\",\"active_tap\":\"auto\",\"tools\":[{\"id\":\"d42c189f-c297-45eb-a97a-db3c4dd32eca\",\"type\":\"HoverTool\"}]},\"id\":\"3cb99cad-d890-45ec-aab4-007f5c3d4b22\",\"type\":\"Toolbar\"},{\"attributes\":{\"data_source\":{\"id\":\"8f0a3949-09e2-417a-a324-3ffa96726f3f\",\"type\":\"ColumnDataSource\"},\"glyph\":{\"id\":\"b17e1d2d-8bb5-4fce-a9df-3f9251aa19b8\",\"type\":\"VBar\"},\"hover_glyph\":null,\"nonselection_glyph\":{\"id\":\"f11e2029-d288-43fc-893b-91a32b73bd3e\",\"type\":\"VBar\"},\"selection_glyph\":null},\"id\":\"8431164f-9a84-4393-b42f-1800c1f95c11\",\"type\":\"GlyphRenderer\"},{\"attributes\":{\"plot\":{\"id\":\"722940e9-fd7c-4e4f-a184-76c7dd0dfb45\",\"subtype\":\"Figure\",\"type\":\"Plot\"},\"ticker\":{\"id\":\"8c7a040b-ab61-4bde-9fc3-f3833c18a517\",\"type\":\"CategoricalTicker\"}},\"id\":\"70b83631-74ff-40ed-a940-cd5e18d37895\",\"type\":\"Grid\"},{\"attributes\":{},\"id\":\"e1252594-3d04-47d0-b942-adae434d47c9\",\"type\":\"ToolEvents\"},{\"attributes\":{\"fill_color\":{\"value\":\"#1f77b4\"},\"line_color\":{\"value\":\"#1f77b4\"},\"top\":{\"field\":\"y\"},\"width\":{\"value\":0.5},\"x\":{\"field\":\"x\"}},\"id\":\"4919a5e3-d081-473d-8d64-6cbc3313bdc8\",\"type\":\"VBar\"},{\"attributes\":{\"fill_color\":{\"value\":\"#1f77b4\"},\"line_color\":{\"value\":\"#1f77b4\"},\"top\":{\"field\":\"y\"},\"width\":{\"value\":0.5},\"x\":{\"field\":\"x\"}},\"id\":\"51e47200-6fd6-4f36-a1f3-05731bbcd3ce\",\"type\":\"VBar\"},{\"attributes\":{},\"id\":\"4e9d037b-1bef-46cc-805f-f81852012b86\",\"type\":\"BasicTicker\"},{\"attributes\":{\"data_source\":{\"id\":\"8f4047e1-680d-4180-854d-3dd5532c1556\",\"type\":\"ColumnDataSource\"},\"glyph\":{\"id\":\"627b9fb7-16aa-4e89-9438-396a4f6ab11b\",\"type\":\"VBar\"},\"hover_glyph\":null,\"nonselection_glyph\":{\"id\":\"3a87864b-b0a0-4d70-a458-ea1d2607469d\",\"type\":\"VBar\"},\"selection_glyph\":null},\"id\":\"799f8c3e-778e-4b26-872e-5c3b2c847794\",\"type\":\"GlyphRenderer\"},{\"attributes\":{\"callback\":null,\"column_names\":[\"y\",\"x\",\"percent\"],\"data\":{\"percent\":[\"0.0685%\",\"0.342%\",\"1.71%\",\"3.9%\",\"56.2%\",\"17.3%\",\"14.0%\",\"4.93%\",\"1.51%\"],\"x\":[\"1\",\"2\",\"3\",\"4\",\"5\",\"6\",\"7\",\"8\",\"9\"],\"y\":[1,5,25,57,821,252,205,72,22]}},\"id\":\"ce53c3f1-4805-4891-9f97-7d13d2e56a55\",\"type\":\"ColumnDataSource\"},{\"attributes\":{\"children\":[{\"id\":\"800cccbd-c4ff-4d12-915c-59e1ff45bfea\",\"subtype\":\"Figure\",\"type\":\"Plot\"},{\"id\":\"20b68d48-f521-4eb5-aac3-496e5a3d0f9b\",\"subtype\":\"Figure\",\"type\":\"Plot\"},{\"id\":\"d66c958d-1e3e-4cf8-8df5-33dd32e7c442\",\"subtype\":\"Figure\",\"type\":\"Plot\"}]},\"id\":\"d9ba015c-b7bd-429a-baf7-8b579cc0bf1d\",\"type\":\"Row\"},{\"attributes\":{\"fill_color\":{\"value\":\"#1f77b4\"},\"line_color\":{\"value\":\"#1f77b4\"},\"top\":{\"field\":\"y\"},\"width\":{\"value\":0.5},\"x\":{\"field\":\"x\"}},\"id\":\"9b00d90a-9741-4a6e-9709-86644fe9dd3e\",\"type\":\"VBar\"},{\"attributes\":{},\"id\":\"e7bbf38c-21b6-401a-a0aa-b5b46c257da3\",\"type\":\"BasicTicker\"},{\"attributes\":{\"data_source\":{\"id\":\"c4d95660-7d6e-4a5b-bd5a-dcd73c311714\",\"type\":\"ColumnDataSource\"},\"glyph\":{\"id\":\"3916014f-b4d1-41eb-bee5-b9e5f310a4e8\",\"type\":\"VBar\"},\"hover_glyph\":null,\"nonselection_glyph\":{\"id\":\"5001c002-ed82-4f22-8262-441e805c05f5\",\"type\":\"VBar\"},\"selection_glyph\":null},\"id\":\"f68ae596-b4d3-43be-be7c-91f94ced6181\",\"type\":\"GlyphRenderer\"},{\"attributes\":{\"fill_alpha\":{\"value\":0.1},\"fill_color\":{\"value\":\"#1f77b4\"},\"line_alpha\":{\"value\":0.1},\"line_color\":{\"value\":\"#1f77b4\"},\"top\":{\"field\":\"y\"},\"width\":{\"value\":0.5},\"x\":{\"field\":\"x\"}},\"id\":\"a3bceea6-ad5f-46a1-a47e-1ac4b00f07b9\",\"type\":\"VBar\"},{\"attributes\":{\"dimension\":1,\"plot\":{\"id\":\"6ceb70a4-3bd7-407f-8131-2b6d362726cf\",\"subtype\":\"Figure\",\"type\":\"Plot\"},\"ticker\":{\"id\":\"610327ce-2e67-4f54-a2b2-9b77cb51c8aa\",\"type\":\"BasicTicker\"}},\"id\":\"549b1d62-6075-43ef-8419-a55b3b4d4040\",\"type\":\"Grid\"},{\"attributes\":{\"active_drag\":\"auto\",\"active_scroll\":\"auto\",\"active_tap\":\"auto\",\"tools\":[{\"id\":\"779035ba-9ef0-4dbf-874d-2ac767b1b7e9\",\"type\":\"HoverTool\"}]},\"id\":\"bb43c398-a573-4e27-8758-541e4cf91d18\",\"type\":\"Toolbar\"},{\"attributes\":{\"data_source\":{\"id\":\"d6a99236-d0c8-43de-aa40-711af5bf05ff\",\"type\":\"ColumnDataSource\"},\"glyph\":{\"id\":\"e2a1149a-9107-4b02-8957-62dd3bfd1dc5\",\"type\":\"VBar\"},\"hover_glyph\":null,\"nonselection_glyph\":{\"id\":\"b7db57ba-b1f7-404c-84d6-535efcd588ec\",\"type\":\"VBar\"},\"selection_glyph\":null},\"id\":\"ae782e19-266d-469b-bac2-07eb75ca1072\",\"type\":\"GlyphRenderer\"},{\"attributes\":{\"data_source\":{\"id\":\"0a04b96f-ed58-4952-baee-964d17f87961\",\"type\":\"ColumnDataSource\"},\"glyph\":{\"id\":\"a18fbf8c-66b6-4478-b554-a844804cba33\",\"type\":\"VBar\"},\"hover_glyph\":null,\"nonselection_glyph\":{\"id\":\"c3e44ce1-354d-4d4e-87eb-2eec15277cb5\",\"type\":\"VBar\"},\"selection_glyph\":null},\"id\":\"47fd75d4-8dcd-46f7-a0bd-1f4000c2a23a\",\"type\":\"GlyphRenderer\"},{\"attributes\":{\"callback\":null,\"column_names\":[\"y\",\"x\",\"percent\"],\"data\":{\"percent\":[\"36.7%\",\"4.73%\",\"0.274%\",\"0.822%\",\"9.86%\",\"20.5%\",\"4.11%\",\"1.1%\",\"3.97%\",\"1.37%\",\"3.56%\",\"5.96%\",\"4.32%\",\"0.685%\",\"2.05%\"],\"x\":[\"20\",\"30\",\"40\",\"45\",\"50\",\"60\",\"70\",\"75\",\"80\",\"85\",\"90\",\"120\",\"160\",\"180\",\"190\"],\"y\":[536,69,4,12,144,299,60,16,58,20,52,87,63,10,30]}},\"id\":\"ccdaace8-6c01-4c51-8d08-9f5801cdc993\",\"type\":\"ColumnDataSource\"},{\"attributes\":{\"callback\":null,\"plot\":{\"id\":\"407e2119-03f6-436e-9d72-0edfa14fd5ff\",\"subtype\":\"Figure\",\"type\":\"Plot\"},\"tooltips\":[[\"category\",\"@x\"],[\"percent\",\"@percent\"]]},\"id\":\"866d4a89-801a-4a2f-b7b3-a20dccb36e51\",\"type\":\"HoverTool\"},{\"attributes\":{},\"id\":\"10b14a19-224f-4218-9cb5-caaaa0a2b89e\",\"type\":\"BasicTicker\"},{\"attributes\":{\"callback\":null,\"column_names\":[\"y\",\"x\",\"percent\"],\"data\":{\"percent\":[\"21.5%\",\"22.5%\",\"20.8%\",\"23.2%\",\"12.0%\"],\"x\":[\"2006\",\"2007\",\"2008\",\"2009\",\"2010\"],\"y\":[314,329,304,338,175]}},\"id\":\"46d9b707-4955-474c-98e8-05b9e94a0111\",\"type\":\"ColumnDataSource\"},{\"attributes\":{\"callback\":null,\"column_names\":[\"y\",\"x\",\"percent\"],\"data\":{\"percent\":[\"99.9%\",\"0.0685%\"],\"x\":[\"AllPub\",\"NoSeWa\"],\"y\":[1459,1]}},\"id\":\"0e80db09-6b28-4042-8a0e-b0c6c9d1f7a9\",\"type\":\"ColumnDataSource\"},{\"attributes\":{\"callback\":null,\"plot\":{\"id\":\"6ceb70a4-3bd7-407f-8131-2b6d362726cf\",\"subtype\":\"Figure\",\"type\":\"Plot\"},\"tooltips\":[[\"category\",\"@x\"],[\"percent\",\"@percent\"]]},\"id\":\"2230d43c-36d9-40ba-a099-8880a2e9efa3\",\"type\":\"HoverTool\"},{\"attributes\":{\"fill_color\":{\"value\":\"#1f77b4\"},\"line_color\":{\"value\":\"#1f77b4\"},\"top\":{\"field\":\"y\"},\"width\":{\"value\":0.5},\"x\":{\"field\":\"x\"}},\"id\":\"575ecab6-6c8c-4c4c-b299-01381513916b\",\"type\":\"VBar\"},{\"attributes\":{},\"id\":\"14f0cdde-fa60-4558-aba8-8d69534442da\",\"type\":\"BasicTicker\"},{\"attributes\":{\"fill_color\":{\"value\":\"#1f77b4\"},\"line_color\":{\"value\":\"#1f77b4\"},\"top\":{\"field\":\"y\"},\"width\":{\"value\":0.5},\"x\":{\"field\":\"x\"}},\"id\":\"a3fd4f38-95f0-4dc8-b883-98a09fba7d67\",\"type\":\"VBar\"},{\"attributes\":{\"axis_label\":\"PavedDrive\",\"axis_label_standoff\":-1,\"formatter\":{\"id\":\"4d34869f-eaa0-4f9c-b1d4-6d702283a8d9\",\"type\":\"CategoricalTickFormatter\"},\"plot\":{\"id\":\"8bd6487a-4865-4a35-8e96-41f7e5e4d20f\",\"subtype\":\"Figure\",\"type\":\"Plot\"},\"ticker\":{\"id\":\"12f898a1-46ac-409c-aee6-79b31b4b5a66\",\"type\":\"CategoricalTicker\"}},\"id\":\"16e8c3f4-f138-4b26-bbe3-e50a5dfa1087\",\"type\":\"CategoricalAxis\"},{\"attributes\":{},\"id\":\"c8f35db7-c968-48aa-8e7b-4fdc7a778c36\",\"type\":\"BasicTicker\"},{\"attributes\":{\"formatter\":{\"id\":\"e71e52c7-4dc0-47ef-8dda-aba4899424f0\",\"type\":\"BasicTickFormatter\"},\"plot\":{\"id\":\"3fb79034-c49d-46c1-bbb3-1494bc08b6af\",\"subtype\":\"Figure\",\"type\":\"Plot\"},\"ticker\":{\"id\":\"70caeaee-9020-4ebd-bea0-8d0b6019bd49\",\"type\":\"BasicTicker\"},\"visible\":false},\"id\":\"a1cf666e-c80f-410c-a917-711917818674\",\"type\":\"LinearAxis\"},{\"attributes\":{\"fill_alpha\":{\"value\":0.1},\"fill_color\":{\"value\":\"#1f77b4\"},\"line_alpha\":{\"value\":0.1},\"line_color\":{\"value\":\"#1f77b4\"},\"top\":{\"field\":\"y\"},\"width\":{\"value\":0.5},\"x\":{\"field\":\"x\"}},\"id\":\"3a2ba219-760f-4d5c-bf70-01caa2de48e5\",\"type\":\"VBar\"},{\"attributes\":{\"callback\":null,\"column_names\":[\"y\",\"x\",\"percent\"],\"data\":{\"percent\":[\"6.44%\",\"1.85%\",\"0.206%\",\"0.0685%\",\"91.4%\"],\"x\":[\"FuseA\",\"FuseF\",\"FuseP\",\"Mix\",\"SBrkr\"],\"y\":[94,27,3,1,1334]}},\"id\":\"715ad06a-9da0-4f8c-9c30-638d16a59933\",\"type\":\"ColumnDataSource\"},{\"attributes\":{\"dimension\":1,\"plot\":{\"id\":\"8c0ac025-9451-44e0-8084-ec322d7d97ea\",\"subtype\":\"Figure\",\"type\":\"Plot\"},\"ticker\":{\"id\":\"c8f35db7-c968-48aa-8e7b-4fdc7a778c36\",\"type\":\"BasicTicker\"}},\"id\":\"f7119374-2375-4649-80c2-7f69621245a0\",\"type\":\"Grid\"},{\"attributes\":{\"active_drag\":\"auto\",\"active_scroll\":\"auto\",\"active_tap\":\"auto\",\"tools\":[{\"id\":\"8670aa91-0d04-4763-a75c-e0b4d85773a2\",\"type\":\"HoverTool\"}]},\"id\":\"c3a9a933-1f45-49e0-9f9a-9af396ecf882\",\"type\":\"Toolbar\"},{\"attributes\":{\"below\":[{\"id\":\"94aa632e-7b5e-417e-9755-4e03a81d46f7\",\"type\":\"CategoricalAxis\"}],\"left\":[{\"id\":\"d808e9e5-3e77-4add-9a04-5d1c82fdac06\",\"type\":\"LinearAxis\"}],\"plot_height\":280,\"plot_width\":280,\"renderers\":[{\"id\":\"94aa632e-7b5e-417e-9755-4e03a81d46f7\",\"type\":\"CategoricalAxis\"},{\"id\":\"febeff18-62ea-4bb3-a77b-d4340c6a8faa\",\"type\":\"Grid\"},{\"id\":\"d808e9e5-3e77-4add-9a04-5d1c82fdac06\",\"type\":\"LinearAxis\"},{\"id\":\"a7a2184d-e442-4572-bd50-7e1c923f03a5\",\"type\":\"Grid\"},{\"id\":\"b4d18805-376c-4a83-9e86-6267fb1223d8\",\"type\":\"GlyphRenderer\"}],\"title\":null,\"tool_events\":{\"id\":\"02d1240e-3b8e-459f-958b-b9c0e829bc17\",\"type\":\"ToolEvents\"},\"toolbar\":{\"id\":\"b21a54bf-9a0c-4fe1-9754-8253dabb6228\",\"type\":\"Toolbar\"},\"toolbar_location\":null,\"x_range\":{\"id\":\"75a26360-166a-417e-b9ab-c429f8b7e0a3\",\"type\":\"FactorRange\"},\"y_range\":{\"id\":\"424e15f9-a3ed-4e44-ad1d-656726043946\",\"type\":\"DataRange1d\"}},\"id\":\"d7d96d65-8344-4652-a2b5-ed1edda72479\",\"subtype\":\"Figure\",\"type\":\"Plot\"},{\"attributes\":{},\"id\":\"0c50511c-98e7-4dfb-b7c0-f88ce5106cac\",\"type\":\"BasicTickFormatter\"},{\"attributes\":{\"active_drag\":\"auto\",\"active_scroll\":\"auto\",\"active_tap\":\"auto\",\"tools\":[{\"id\":\"c5bc4cff-a97e-43f6-9c23-f6ba1f322e63\",\"type\":\"HoverTool\"}]},\"id\":\"696474d7-377b-4d3c-be6c-3444c00bea4f\",\"type\":\"Toolbar\"},{\"attributes\":{\"formatter\":{\"id\":\"86395716-4621-4d13-b286-388308ccf32e\",\"type\":\"BasicTickFormatter\"},\"plot\":{\"id\":\"7f3d9ab9-eb4b-4a5c-bac5-cb0a24e3d8e4\",\"subtype\":\"Figure\",\"type\":\"Plot\"},\"ticker\":{\"id\":\"12bb0a7b-b82a-4b40-a1c8-522be04b8e03\",\"type\":\"BasicTicker\"},\"visible\":false},\"id\":\"7c717a55-c647-4222-9c9a-6c380b43ca56\",\"type\":\"LinearAxis\"},{\"attributes\":{},\"id\":\"8552f1e6-feeb-4774-adaa-d71f0b1bd49a\",\"type\":\"CategoricalTickFormatter\"},{\"attributes\":{},\"id\":\"42c6905b-135a-4e79-90e2-256bb14ee3bf\",\"type\":\"CategoricalTicker\"},{\"attributes\":{\"fill_color\":{\"value\":\"#1f77b4\"},\"line_color\":{\"value\":\"#1f77b4\"},\"top\":{\"field\":\"y\"},\"width\":{\"value\":0.5},\"x\":{\"field\":\"x\"}},\"id\":\"c62d1961-0ebb-45e8-86ce-d352e7b6aa18\",\"type\":\"VBar\"},{\"attributes\":{},\"id\":\"d4ae8af8-7db0-44ed-88f7-5b1d7b62c2ea\",\"type\":\"ToolEvents\"},{\"attributes\":{\"dimension\":1,\"plot\":{\"id\":\"a16ed0bb-4306-49f1-b56e-7e7ed265efba\",\"subtype\":\"Figure\",\"type\":\"Plot\"},\"ticker\":{\"id\":\"4e9d037b-1bef-46cc-805f-f81852012b86\",\"type\":\"BasicTicker\"}},\"id\":\"7c46214d-1866-4d9e-a4ec-b6f2336a942e\",\"type\":\"Grid\"},{\"attributes\":{\"fill_color\":{\"value\":\"#1f77b4\"},\"line_color\":{\"value\":\"#1f77b4\"},\"top\":{\"field\":\"y\"},\"width\":{\"value\":0.5},\"x\":{\"field\":\"x\"}},\"id\":\"e2a1149a-9107-4b02-8957-62dd3bfd1dc5\",\"type\":\"VBar\"},{\"attributes\":{\"data_source\":{\"id\":\"79786a17-a873-49e3-b3c1-a0ccea9745b8\",\"type\":\"ColumnDataSource\"},\"glyph\":{\"id\":\"90c2c498-db38-41b7-a4cc-cf330bdd43bf\",\"type\":\"VBar\"},\"hover_glyph\":null,\"nonselection_glyph\":{\"id\":\"a3bceea6-ad5f-46a1-a47e-1ac4b00f07b9\",\"type\":\"VBar\"},\"selection_glyph\":null},\"id\":\"45439408-39db-40f6-8e77-b28bdc73f396\",\"type\":\"GlyphRenderer\"},{\"attributes\":{\"axis_label\":\"FireplaceQu\",\"axis_label_standoff\":-1,\"formatter\":{\"id\":\"ce537d15-2609-4e27-8482-80f64462f01d\",\"type\":\"CategoricalTickFormatter\"},\"plot\":{\"id\":\"d7d96d65-8344-4652-a2b5-ed1edda72479\",\"subtype\":\"Figure\",\"type\":\"Plot\"},\"ticker\":{\"id\":\"28587e91-ae91-4ee0-bb78-33b3e5349b59\",\"type\":\"CategoricalTicker\"}},\"id\":\"94aa632e-7b5e-417e-9755-4e03a81d46f7\",\"type\":\"CategoricalAxis\"},{\"attributes\":{\"data_source\":{\"id\":\"e2b13d2a-d437-47a0-bd27-dfca8fce0478\",\"type\":\"ColumnDataSource\"},\"glyph\":{\"id\":\"c62d1961-0ebb-45e8-86ce-d352e7b6aa18\",\"type\":\"VBar\"},\"hover_glyph\":null,\"nonselection_glyph\":{\"id\":\"28ff0816-148b-4e26-904f-8166d0bc440f\",\"type\":\"VBar\"},\"selection_glyph\":null},\"id\":\"2343e351-daf4-432b-b783-59fcdc24750a\",\"type\":\"GlyphRenderer\"},{\"attributes\":{\"formatter\":{\"id\":\"b6511358-9be1-4fd1-aeaa-f367d8d54ff9\",\"type\":\"BasicTickFormatter\"},\"plot\":{\"id\":\"3b70817a-9307-427f-b184-c6bdea437bda\",\"subtype\":\"Figure\",\"type\":\"Plot\"},\"ticker\":{\"id\":\"57edf486-4069-4469-a494-1583dca7e15e\",\"type\":\"BasicTicker\"},\"visible\":false},\"id\":\"92c0ba03-f22c-4502-993b-3c068fb2f950\",\"type\":\"LinearAxis\"},{\"attributes\":{\"dimension\":1,\"plot\":{\"id\":\"800cccbd-c4ff-4d12-915c-59e1ff45bfea\",\"subtype\":\"Figure\",\"type\":\"Plot\"},\"ticker\":{\"id\":\"5b221ca7-db56-484f-bc48-337474a29ebc\",\"type\":\"BasicTicker\"}},\"id\":\"44ee29bc-b70d-43c5-a2b5-496282c62f7a\",\"type\":\"Grid\"},{\"attributes\":{},\"id\":\"53960d93-1e25-4b22-b05f-c149f83ab570\",\"type\":\"CategoricalTickFormatter\"},{\"attributes\":{},\"id\":\"113640f5-9edd-4909-9c27-4f5c4469b1ec\",\"type\":\"CategoricalTickFormatter\"},{\"attributes\":{\"callback\":null},\"id\":\"0194391b-f618-4f2a-8ff4-fa4956e37018\",\"type\":\"DataRange1d\"},{\"attributes\":{\"callback\":null,\"factors\":[\"Gtl\",\"Mod\",\"Sev\"]},\"id\":\"11d16556-d512-40b7-bc7c-248a7fc1f65f\",\"type\":\"FactorRange\"},{\"attributes\":{\"plot\":{\"id\":\"f584a782-04af-4297-9b33-cfa2b70f63d2\",\"subtype\":\"Figure\",\"type\":\"Plot\"},\"ticker\":{\"id\":\"e083dd7d-5f3d-4bb8-bf55-40c3efaaf511\",\"type\":\"CategoricalTicker\"}},\"id\":\"64244974-b991-4c34-bf65-05cf4f673f92\",\"type\":\"Grid\"},{\"attributes\":{\"dimension\":1,\"plot\":{\"id\":\"7a4a6a1b-feb7-4584-a51f-4f380b4502a1\",\"subtype\":\"Figure\",\"type\":\"Plot\"},\"ticker\":{\"id\":\"b072c16f-b6ad-4a29-9890-5be09a014a8e\",\"type\":\"BasicTicker\"}},\"id\":\"d998d02e-8db0-4a3e-97d7-54fb024507a0\",\"type\":\"Grid\"},{\"attributes\":{\"plot\":{\"id\":\"20b68d48-f521-4eb5-aac3-496e5a3d0f9b\",\"subtype\":\"Figure\",\"type\":\"Plot\"},\"ticker\":{\"id\":\"bddbc754-42a7-498e-ab58-3d948ff38082\",\"type\":\"CategoricalTicker\"}},\"id\":\"f3ed6322-376d-4c2a-85c1-0a13db3e4ac4\",\"type\":\"Grid\"},{\"attributes\":{\"fill_alpha\":{\"value\":0.1},\"fill_color\":{\"value\":\"#1f77b4\"},\"line_alpha\":{\"value\":0.1},\"line_color\":{\"value\":\"#1f77b4\"},\"top\":{\"field\":\"y\"},\"width\":{\"value\":0.5},\"x\":{\"field\":\"x\"}},\"id\":\"23adfe8d-3cc4-498b-91b5-4bf70e9f739b\",\"type\":\"VBar\"},{\"attributes\":{\"active_drag\":\"auto\",\"active_scroll\":\"auto\",\"active_tap\":\"auto\",\"tools\":[{\"id\":\"866d4a89-801a-4a2f-b7b3-a20dccb36e51\",\"type\":\"HoverTool\"}]},\"id\":\"929ac761-d71e-44ce-a1aa-ba06dd863cb4\",\"type\":\"Toolbar\"},{\"attributes\":{\"callback\":null,\"plot\":{\"id\":\"03df4bb5-c9d4-48d0-924e-f350f9729d19\",\"subtype\":\"Figure\",\"type\":\"Plot\"},\"tooltips\":[[\"category\",\"@x\"],[\"percent\",\"@percent\"]]},\"id\":\"3e0a3892-9903-4e4a-9a2c-3ab24352cf42\",\"type\":\"HoverTool\"},{\"attributes\":{},\"id\":\"1fd1ef37-8cdc-4210-96a9-779a844769c1\",\"type\":\"BasicTickFormatter\"},{\"attributes\":{\"callback\":null},\"id\":\"3aae575c-942d-4d17-b39a-a0d735df8d18\",\"type\":\"DataRange1d\"},{\"attributes\":{\"dimension\":1,\"plot\":{\"id\":\"03df4bb5-c9d4-48d0-924e-f350f9729d19\",\"subtype\":\"Figure\",\"type\":\"Plot\"},\"ticker\":{\"id\":\"070b0a27-5155-4166-bec0-e4c57e23cd18\",\"type\":\"BasicTicker\"}},\"id\":\"746d48bf-89cb-4db8-a119-64afd6500c16\",\"type\":\"Grid\"},{\"attributes\":{},\"id\":\"c15cbbce-529f-4912-af61-a8fce3060e70\",\"type\":\"BasicTickFormatter\"},{\"attributes\":{\"callback\":null},\"id\":\"62a8c6e3-cd2d-49eb-a87e-d002496a628a\",\"type\":\"DataRange1d\"},{\"attributes\":{},\"id\":\"14900c66-23fd-4fc4-9c48-8cc501c0680e\",\"type\":\"BasicTickFormatter\"},{\"attributes\":{\"callback\":null,\"factors\":[\"BrkTil\",\"CBlock\",\"PConc\",\"Slab\",\"Stone\",\"Wood\"]},\"id\":\"0240d029-8d66-4198-9329-e1a06e1e012a\",\"type\":\"FactorRange\"},{\"attributes\":{},\"id\":\"62afbb24-52ca-401f-9906-396256cd9d4c\",\"type\":\"CategoricalTicker\"},{\"attributes\":{\"callback\":null,\"column_names\":[\"y\",\"x\",\"percent\"],\"data\":{\"percent\":[\"83.6%\",\"2.12%\",\"3.56%\",\"2.95%\",\"7.81%\"],\"x\":[\"1Fam\",\"2fmCon\",\"Duplex\",\"Twnhs\",\"TwnhsE\"],\"y\":[1220,31,52,43,114]}},\"id\":\"35f43988-d697-4458-8d53-1189fe673e76\",\"type\":\"ColumnDataSource\"},{\"attributes\":{\"active_drag\":\"auto\",\"active_scroll\":\"auto\",\"active_tap\":\"auto\",\"tools\":[{\"id\":\"ff9bbc3d-b4c2-42c0-b14f-41e44cf3f5db\",\"type\":\"HoverTool\"}]},\"id\":\"0ca9645c-b150-4c81-9fd9-d1e2d123e49d\",\"type\":\"Toolbar\"},{\"attributes\":{\"below\":[{\"id\":\"c71de02d-9901-4496-9da6-9fc89c1bd75a\",\"type\":\"CategoricalAxis\"}],\"left\":[{\"id\":\"8eb3600c-6895-4251-8e83-916e9f09047a\",\"type\":\"LinearAxis\"}],\"plot_height\":280,\"plot_width\":280,\"renderers\":[{\"id\":\"c71de02d-9901-4496-9da6-9fc89c1bd75a\",\"type\":\"CategoricalAxis\"},{\"id\":\"313b2f95-aa8a-4532-8ef3-20b673005a99\",\"type\":\"Grid\"},{\"id\":\"8eb3600c-6895-4251-8e83-916e9f09047a\",\"type\":\"LinearAxis\"},{\"id\":\"44ee29bc-b70d-43c5-a2b5-496282c62f7a\",\"type\":\"Grid\"},{\"id\":\"9728c124-f139-42f1-abf8-6a1879695d37\",\"type\":\"GlyphRenderer\"}],\"title\":null,\"tool_events\":{\"id\":\"5603d852-364c-46a9-b40f-b4cfff733196\",\"type\":\"ToolEvents\"},\"toolbar\":{\"id\":\"345dd242-3978-4697-93d1-c94b82055494\",\"type\":\"Toolbar\"},\"toolbar_location\":null,\"x_range\":{\"id\":\"667993c0-d996-4f25-a9ee-befaea31cf8c\",\"type\":\"FactorRange\"},\"y_range\":{\"id\":\"3aae575c-942d-4d17-b39a-a0d735df8d18\",\"type\":\"DataRange1d\"}},\"id\":\"800cccbd-c4ff-4d12-915c-59e1ff45bfea\",\"subtype\":\"Figure\",\"type\":\"Plot\"},{\"attributes\":{\"formatter\":{\"id\":\"f892ee72-2cb1-4fbd-a032-341252b08345\",\"type\":\"BasicTickFormatter\"},\"plot\":{\"id\":\"b3563cde-5e78-4851-be76-da25726e37b5\",\"subtype\":\"Figure\",\"type\":\"Plot\"},\"ticker\":{\"id\":\"9c841bb9-c573-41ad-9949-680c1910751f\",\"type\":\"BasicTicker\"},\"visible\":false},\"id\":\"6e9cf0b0-253b-404f-9f0c-41e491eecdd6\",\"type\":\"LinearAxis\"},{\"attributes\":{\"active_drag\":\"auto\",\"active_scroll\":\"auto\",\"active_tap\":\"auto\",\"tools\":[{\"id\":\"102e0075-596d-400c-9d2c-6a915e99f2cf\",\"type\":\"HoverTool\"}]},\"id\":\"2fe5e5db-0778-4452-90d1-cdb41cd28c15\",\"type\":\"Toolbar\"},{\"attributes\":{\"fill_color\":{\"value\":\"#1f77b4\"},\"line_color\":{\"value\":\"#1f77b4\"},\"top\":{\"field\":\"y\"},\"width\":{\"value\":0.5},\"x\":{\"field\":\"x\"}},\"id\":\"9cba08de-a4a1-40af-af84-3debc4379b93\",\"type\":\"VBar\"},{\"attributes\":{\"callback\":null},\"id\":\"a7ef9010-a792-4adc-bc71-aa114db2d873\",\"type\":\"DataRange1d\"},{\"attributes\":{},\"id\":\"7733af4d-c11a-47ec-8222-9df14b8f280d\",\"type\":\"ToolEvents\"},{\"attributes\":{},\"id\":\"57edf486-4069-4469-a494-1583dca7e15e\",\"type\":\"BasicTicker\"},{\"attributes\":{},\"id\":\"360b7391-feab-4563-9f54-3d920ae99b0c\",\"type\":\"ToolEvents\"},{\"attributes\":{\"plot\":{\"id\":\"6ceb70a4-3bd7-407f-8131-2b6d362726cf\",\"subtype\":\"Figure\",\"type\":\"Plot\"},\"ticker\":{\"id\":\"83bde2b1-18c8-4c03-ba4a-62b8d8e386dd\",\"type\":\"CategoricalTicker\"}},\"id\":\"3bb6227e-5022-432b-b178-10862f91d5a3\",\"type\":\"Grid\"},{\"attributes\":{},\"id\":\"11b90ea3-c225-4b49-bc2b-0a3c925416bb\",\"type\":\"CategoricalTicker\"},{\"attributes\":{\"children\":[{\"id\":\"ea2569aa-9b02-4c0d-919d-a5db66bd2426\",\"subtype\":\"Figure\",\"type\":\"Plot\"},{\"id\":\"407e2119-03f6-436e-9d72-0edfa14fd5ff\",\"subtype\":\"Figure\",\"type\":\"Plot\"},{\"id\":\"f1dfed20-240a-4bc9-a109-b5c6aad290bf\",\"subtype\":\"Figure\",\"type\":\"Plot\"}]},\"id\":\"8a78df38-5b25-4c63-b47b-ce63e2dffaf1\",\"type\":\"Row\"},{\"attributes\":{},\"id\":\"c1c22da9-18ba-494f-93dc-be4155943f50\",\"type\":\"CategoricalTicker\"},{\"attributes\":{\"formatter\":{\"id\":\"fab33b32-d852-4074-8786-72daf5fc735b\",\"type\":\"BasicTickFormatter\"},\"plot\":{\"id\":\"19d7200f-ad23-4186-854c-2ff902ee6e7f\",\"subtype\":\"Figure\",\"type\":\"Plot\"},\"ticker\":{\"id\":\"879b43d4-a890-4be4-a906-aaa982b5aebf\",\"type\":\"BasicTicker\"},\"visible\":false},\"id\":\"9ae4d881-4830-4bc3-89eb-4a470750729f\",\"type\":\"LinearAxis\"},{\"attributes\":{\"callback\":null,\"column_names\":[\"y\",\"x\",\"percent\"],\"data\":{\"percent\":[\"0.685%\",\"4.45%\",\"1.1%\",\"78.8%\",\"14.9%\"],\"x\":[\"C (all)\",\"FV\",\"RH\",\"RL\",\"RM\"],\"y\":[10,65,16,1151,218]}},\"id\":\"5722e1f5-14cf-4dd9-b510-86b4b8d53330\",\"type\":\"ColumnDataSource\"},{\"attributes\":{\"callback\":null,\"column_names\":[\"y\",\"x\",\"percent\"],\"data\":{\"percent\":[\"2.95%\",\"0.274%\",\"0.137%\",\"0.616%\",\"0.342%\",\"0.342%\",\"8.36%\",\"0.205%\",\"86.8%\"],\"x\":[\"COD\",\"CWD\",\"Con\",\"ConLD\",\"ConLI\",\"ConLw\",\"New\",\"Oth\",\"WD\"],\"y\":[43,4,2,9,5,5,122,3,1267]}},\"id\":\"3b7cdf78-19ff-4272-8f8b-75947f2846d5\",\"type\":\"ColumnDataSource\"},{\"attributes\":{\"fill_color\":{\"value\":\"#1f77b4\"},\"line_color\":{\"value\":\"#1f77b4\"},\"top\":{\"field\":\"y\"},\"width\":{\"value\":0.5},\"x\":{\"field\":\"x\"}},\"id\":\"e73ed174-8b32-49f8-afaf-06d898a449e1\",\"type\":\"VBar\"},{\"attributes\":{\"data_source\":{\"id\":\"bc4f0720-28c3-414a-95be-be7c6e42f582\",\"type\":\"ColumnDataSource\"},\"glyph\":{\"id\":\"f2721b09-39da-4737-a2ad-66b2905fe85e\",\"type\":\"VBar\"},\"hover_glyph\":null,\"nonselection_glyph\":{\"id\":\"c9f8ce9d-94e4-4db0-82d2-a908b27ca696\",\"type\":\"VBar\"},\"selection_glyph\":null},\"id\":\"a7d70a19-15ba-41e4-9787-cfd76121493b\",\"type\":\"GlyphRenderer\"},{\"attributes\":{\"children\":[{\"id\":\"2bd6175e-b0c1-4f1b-86d2-5fb74fb04c34\",\"subtype\":\"Figure\",\"type\":\"Plot\"},{\"id\":\"e28c73b6-0633-4af2-91c2-8d6057d5e23c\",\"subtype\":\"Figure\",\"type\":\"Plot\"},{\"id\":\"a6ed27c2-1c61-4758-b0c5-2d176040f858\",\"subtype\":\"Figure\",\"type\":\"Plot\"}]},\"id\":\"7909bb55-5738-46fd-a5a8-852f47f8f6b0\",\"type\":\"Row\"},{\"attributes\":{},\"id\":\"ae46daec-7c22-4748-ad0f-f6a4f4f6cedd\",\"type\":\"ToolEvents\"},{\"attributes\":{\"formatter\":{\"id\":\"0fa5d001-8073-43d7-a1de-87538329b5a3\",\"type\":\"BasicTickFormatter\"},\"plot\":{\"id\":\"03df4bb5-c9d4-48d0-924e-f350f9729d19\",\"subtype\":\"Figure\",\"type\":\"Plot\"},\"ticker\":{\"id\":\"070b0a27-5155-4166-bec0-e4c57e23cd18\",\"type\":\"BasicTicker\"},\"visible\":false},\"id\":\"1d05efc5-299d-43b8-be4a-1e033d01ed0f\",\"type\":\"LinearAxis\"},{\"attributes\":{},\"id\":\"42f9981f-30a1-48c0-9af6-904350abf7a8\",\"type\":\"CategoricalTickFormatter\"},{\"attributes\":{\"callback\":null,\"plot\":{\"id\":\"3fb79034-c49d-46c1-bbb3-1494bc08b6af\",\"subtype\":\"Figure\",\"type\":\"Plot\"},\"tooltips\":[[\"category\",\"@x\"],[\"percent\",\"@percent\"]]},\"id\":\"eaa1a63c-1e98-4e05-9249-161e608e4586\",\"type\":\"HoverTool\"},{\"attributes\":{\"data_source\":{\"id\":\"12a79802-ce73-4fce-9343-0a7ea51ef4af\",\"type\":\"ColumnDataSource\"},\"glyph\":{\"id\":\"e73ed174-8b32-49f8-afaf-06d898a449e1\",\"type\":\"VBar\"},\"hover_glyph\":null,\"nonselection_glyph\":{\"id\":\"b5a0fde5-d814-4619-abd6-10c499b2dda4\",\"type\":\"VBar\"},\"selection_glyph\":null},\"id\":\"ca10e017-b4d2-4cbb-89d0-8349c62dcc63\",\"type\":\"GlyphRenderer\"},{\"attributes\":{},\"id\":\"ef280b32-2326-4082-9164-f5ed21760a3f\",\"type\":\"ToolEvents\"},{\"attributes\":{},\"id\":\"8cf35278-c562-4c8a-abde-a25ae8f7c5f8\",\"type\":\"BasicTickFormatter\"},{\"attributes\":{\"callback\":null},\"id\":\"ada58ade-1f45-4d80-97e3-9c983e72901e\",\"type\":\"DataRange1d\"},{\"attributes\":{\"active_drag\":\"auto\",\"active_scroll\":\"auto\",\"active_tap\":\"auto\",\"tools\":[{\"id\":\"fbc87152-0c7d-48a0-9670-088c42bbcdb4\",\"type\":\"HoverTool\"}]},\"id\":\"3c614cad-23e6-41d9-8025-026c2d53e3d4\",\"type\":\"Toolbar\"},{\"attributes\":{\"formatter\":{\"id\":\"436a2601-8c85-4088-8a4c-da66fcd67229\",\"type\":\"BasicTickFormatter\"},\"plot\":{\"id\":\"63591072-bbd7-4b0d-bdf1-309f26368411\",\"subtype\":\"Figure\",\"type\":\"Plot\"},\"ticker\":{\"id\":\"7c5470a6-9dc2-44e9-96b1-9c6d2a0a7485\",\"type\":\"BasicTicker\"},\"visible\":false},\"id\":\"d84bcf62-9f2f-41f9-8d23-47e5ab88d03f\",\"type\":\"LinearAxis\"},{\"attributes\":{\"dimension\":1,\"plot\":{\"id\":\"cb04c9b6-2792-4588-807e-2f34cec3095d\",\"subtype\":\"Figure\",\"type\":\"Plot\"},\"ticker\":{\"id\":\"fd151f82-c824-4c58-aaae-71ecb6f3fac3\",\"type\":\"BasicTicker\"}},\"id\":\"8d19941e-d005-41e1-ac0f-5deac6b441be\",\"type\":\"Grid\"},{\"attributes\":{\"callback\":null},\"id\":\"424e15f9-a3ed-4e44-ad1d-656726043946\",\"type\":\"DataRange1d\"},{\"attributes\":{\"plot\":{\"id\":\"8bd6487a-4865-4a35-8e96-41f7e5e4d20f\",\"subtype\":\"Figure\",\"type\":\"Plot\"},\"ticker\":{\"id\":\"12f898a1-46ac-409c-aee6-79b31b4b5a66\",\"type\":\"CategoricalTicker\"}},\"id\":\"f6255076-b544-4fab-be1c-363cd740300c\",\"type\":\"Grid\"},{\"attributes\":{\"active_drag\":\"auto\",\"active_scroll\":\"auto\",\"active_tap\":\"auto\",\"tools\":[{\"id\":\"6d4c854d-8081-4b5f-a5ad-28c091b123e8\",\"type\":\"HoverTool\"}]},\"id\":\"e43927f1-eaf8-4194-8783-6304706d0478\",\"type\":\"Toolbar\"},{\"attributes\":{\"callback\":null,\"plot\":{\"id\":\"800cccbd-c4ff-4d12-915c-59e1ff45bfea\",\"subtype\":\"Figure\",\"type\":\"Plot\"},\"tooltips\":[[\"category\",\"@x\"],[\"percent\",\"@percent\"]]},\"id\":\"b5442288-b2ed-4b52-8fd1-e9465bf21a2c\",\"type\":\"HoverTool\"},{\"attributes\":{\"data_source\":{\"id\":\"16a4f33c-e55c-49b7-8c8e-3a69eeaeedc9\",\"type\":\"ColumnDataSource\"},\"glyph\":{\"id\":\"51902ed0-7ab8-49e4-9e39-99207917dc43\",\"type\":\"VBar\"},\"hover_glyph\":null,\"nonselection_glyph\":{\"id\":\"2d33fe2a-52de-47b2-ac48-d0355c0ad131\",\"type\":\"VBar\"},\"selection_glyph\":null},\"id\":\"3f5ae67c-ca79-4575-a792-e3b129805bbc\",\"type\":\"GlyphRenderer\"},{\"attributes\":{\"formatter\":{\"id\":\"fe4cfad2-1ffa-4877-b440-be36ec54355e\",\"type\":\"BasicTickFormatter\"},\"plot\":{\"id\":\"8c0ac025-9451-44e0-8084-ec322d7d97ea\",\"subtype\":\"Figure\",\"type\":\"Plot\"},\"ticker\":{\"id\":\"c8f35db7-c968-48aa-8e7b-4fdc7a778c36\",\"type\":\"BasicTicker\"},\"visible\":false},\"id\":\"665b4f53-c59a-49d2-a800-18d605bfc6c2\",\"type\":\"LinearAxis\"},{\"attributes\":{\"callback\":null},\"id\":\"beb1e7d8-9232-4e43-8d9c-aebf705f773d\",\"type\":\"DataRange1d\"},{\"attributes\":{},\"id\":\"b12428e0-f0de-4394-9818-e533d05df6d1\",\"type\":\"BasicTicker\"},{\"attributes\":{\"fill_color\":{\"value\":\"#1f77b4\"},\"line_color\":{\"value\":\"#1f77b4\"},\"top\":{\"field\":\"y\"},\"width\":{\"value\":0.5},\"x\":{\"field\":\"x\"}},\"id\":\"7afe034c-7063-493a-aa9d-c34a560bbcc8\",\"type\":\"VBar\"},{\"attributes\":{},\"id\":\"6a18e135-cf3e-4d1f-b680-de8dd5f4c429\",\"type\":\"ToolEvents\"},{\"attributes\":{\"below\":[{\"id\":\"7a1412a7-193c-4a09-8cbe-80dccc3da2bd\",\"type\":\"CategoricalAxis\"}],\"left\":[{\"id\":\"2a89db60-3e8a-4f56-9c67-fc0b758501cb\",\"type\":\"LinearAxis\"}],\"plot_height\":280,\"plot_width\":280,\"renderers\":[{\"id\":\"7a1412a7-193c-4a09-8cbe-80dccc3da2bd\",\"type\":\"CategoricalAxis\"},{\"id\":\"ca4efd2b-f9fd-48d3-858a-8ab39a61fc84\",\"type\":\"Grid\"},{\"id\":\"2a89db60-3e8a-4f56-9c67-fc0b758501cb\",\"type\":\"LinearAxis\"},{\"id\":\"a04c51ba-c1ff-4444-a050-390190b83d69\",\"type\":\"Grid\"},{\"id\":\"2ce67c7a-e303-4093-8fd1-5bfcb6f2e7f4\",\"type\":\"GlyphRenderer\"}],\"title\":null,\"tool_events\":{\"id\":\"41f2a25d-4767-4d9b-a9a3-38420dd32f2d\",\"type\":\"ToolEvents\"},\"toolbar\":{\"id\":\"66bdc01a-d2ac-4d1b-ae4b-db2690910a97\",\"type\":\"Toolbar\"},\"toolbar_location\":null,\"x_range\":{\"id\":\"7cb05520-0544-4786-9ec9-5ebcbd8841f4\",\"type\":\"FactorRange\"},\"y_range\":{\"id\":\"1bcee492-a4a4-426e-ae75-cf4885753832\",\"type\":\"DataRange1d\"}},\"id\":\"3eba35cf-e23d-4c2a-b555-b885e496ea54\",\"subtype\":\"Figure\",\"type\":\"Plot\"},{\"attributes\":{},\"id\":\"33bb0209-436e-466f-97b0-ed7f9534f25a\",\"type\":\"CategoricalTickFormatter\"},{\"attributes\":{\"axis_label\":\"GarageQual\",\"axis_label_standoff\":-1,\"formatter\":{\"id\":\"bf147991-64bd-4038-aad5-aea6c74c9692\",\"type\":\"CategoricalTickFormatter\"},\"plot\":{\"id\":\"f2d8e3a4-8482-4141-ad82-a24001eec5a5\",\"subtype\":\"Figure\",\"type\":\"Plot\"},\"ticker\":{\"id\":\"42c6905b-135a-4e79-90e2-256bb14ee3bf\",\"type\":\"CategoricalTicker\"}},\"id\":\"836cbf1d-3acc-4314-811b-58a1ecdc5bd4\",\"type\":\"CategoricalAxis\"},{\"attributes\":{},\"id\":\"0cfd0eb5-ee54-49d0-82d5-160c3f7ae59a\",\"type\":\"CategoricalTickFormatter\"},{\"attributes\":{\"below\":[{\"id\":\"3d4b312b-a4b1-4f76-8d71-bbd5fa62361f\",\"type\":\"CategoricalAxis\"}],\"left\":[{\"id\":\"1d05efc5-299d-43b8-be4a-1e033d01ed0f\",\"type\":\"LinearAxis\"}],\"plot_height\":280,\"plot_width\":280,\"renderers\":[{\"id\":\"3d4b312b-a4b1-4f76-8d71-bbd5fa62361f\",\"type\":\"CategoricalAxis\"},{\"id\":\"a0ce5e53-10d2-4dab-a1c8-94be5f6fd807\",\"type\":\"Grid\"},{\"id\":\"1d05efc5-299d-43b8-be4a-1e033d01ed0f\",\"type\":\"LinearAxis\"},{\"id\":\"746d48bf-89cb-4db8-a119-64afd6500c16\",\"type\":\"Grid\"},{\"id\":\"a2e838bb-078a-4bf6-b24a-7c7d06f6493b\",\"type\":\"GlyphRenderer\"}],\"title\":null,\"tool_events\":{\"id\":\"fc5ddf90-845b-40e7-bca5-c84b721fa190\",\"type\":\"ToolEvents\"},\"toolbar\":{\"id\":\"b82bbab4-d501-4b73-b96c-ef9132bf350c\",\"type\":\"Toolbar\"},\"toolbar_location\":null,\"x_range\":{\"id\":\"5b20e086-584a-4023-950c-b4920abd1e1e\",\"type\":\"FactorRange\"},\"y_range\":{\"id\":\"62a8c6e3-cd2d-49eb-a87e-d002496a628a\",\"type\":\"DataRange1d\"}},\"id\":\"03df4bb5-c9d4-48d0-924e-f350f9729d19\",\"subtype\":\"Figure\",\"type\":\"Plot\"},{\"attributes\":{\"formatter\":{\"id\":\"55a69567-1850-489d-a12c-cb3fc6d23fda\",\"type\":\"BasicTickFormatter\"},\"plot\":{\"id\":\"9f450253-495d-4765-a3bb-69fb2c6102d7\",\"subtype\":\"Figure\",\"type\":\"Plot\"},\"ticker\":{\"id\":\"a64e6f84-014f-4346-b93f-350f20c47015\",\"type\":\"BasicTicker\"},\"visible\":false},\"id\":\"953442cf-ae26-4527-8474-decf7f43f061\",\"type\":\"LinearAxis\"},{\"attributes\":{},\"id\":\"cac6d01a-f8bf-4a1e-9464-5e66f90d39e4\",\"type\":\"ToolEvents\"},{\"attributes\":{\"below\":[{\"id\":\"48b175a2-7bb6-43df-ae9b-2441bf6f69b3\",\"type\":\"CategoricalAxis\"}],\"left\":[{\"id\":\"45fc403e-7ea5-45a9-b0b8-59b80c31026c\",\"type\":\"LinearAxis\"}],\"plot_height\":280,\"plot_width\":280,\"renderers\":[{\"id\":\"48b175a2-7bb6-43df-ae9b-2441bf6f69b3\",\"type\":\"CategoricalAxis\"},{\"id\":\"ff79612c-7e6f-4849-9a07-66d414896bb3\",\"type\":\"Grid\"},{\"id\":\"45fc403e-7ea5-45a9-b0b8-59b80c31026c\",\"type\":\"LinearAxis\"},{\"id\":\"e120d3b9-7863-45d5-8904-a22cbde0f286\",\"type\":\"Grid\"},{\"id\":\"a1d4869c-8872-4010-b1ea-3835f8c599b2\",\"type\":\"GlyphRenderer\"}],\"title\":null,\"tool_events\":{\"id\":\"aa7c2dbe-1621-47d8-9801-7071a8a2d350\",\"type\":\"ToolEvents\"},\"toolbar\":{\"id\":\"07a0fa18-4137-4470-845e-4f1bc54d3b18\",\"type\":\"Toolbar\"},\"toolbar_location\":null,\"x_range\":{\"id\":\"16b26e4c-6178-45fb-a780-b335461df3a4\",\"type\":\"FactorRange\"},\"y_range\":{\"id\":\"f77900eb-b130-41f3-a37d-df0277a0ec57\",\"type\":\"DataRange1d\"}},\"id\":\"e907fdd6-ecdd-409f-9f46-311929b0772d\",\"subtype\":\"Figure\",\"type\":\"Plot\"},{\"attributes\":{\"callback\":null},\"id\":\"f77900eb-b130-41f3-a37d-df0277a0ec57\",\"type\":\"DataRange1d\"},{\"attributes\":{\"callback\":null,\"factors\":[\"Ex\",\"Fa\",\"Gd\",\"Po\",\"TA\"]},\"id\":\"75a26360-166a-417e-b9ab-c429f8b7e0a3\",\"type\":\"FactorRange\"},{\"attributes\":{\"callback\":null},\"id\":\"42113bc6-0a3e-4783-a78c-fe4b41468910\",\"type\":\"DataRange1d\"},{\"attributes\":{\"callback\":null,\"column_names\":[\"y\",\"x\",\"percent\"],\"data\":{\"percent\":[\"10.5%\",\"0.959%\",\"49.7%\",\"0.548%\",\"0.753%\",\"30.5%\",\"2.53%\",\"4.45%\"],\"x\":[\"1.5Fin\",\"1.5Unf\",\"1Story\",\"2.5Fin\",\"2.5Unf\",\"2Story\",\"SFoyer\",\"SLvl\"],\"y\":[154,14,726,8,11,445,37,65]}},\"id\":\"26f741b7-f6e1-4ab0-beac-88789e340390\",\"type\":\"ColumnDataSource\"},{\"attributes\":{},\"id\":\"b056a7d1-a870-45b5-a394-1bb4bab56c85\",\"type\":\"CategoricalTicker\"},{\"attributes\":{\"below\":[{\"id\":\"b615e4a1-5b94-49ee-ab40-ebf2e9551728\",\"type\":\"CategoricalAxis\"}],\"left\":[{\"id\":\"6e9cf0b0-253b-404f-9f0c-41e491eecdd6\",\"type\":\"LinearAxis\"}],\"plot_height\":280,\"plot_width\":280,\"renderers\":[{\"id\":\"b615e4a1-5b94-49ee-ab40-ebf2e9551728\",\"type\":\"CategoricalAxis\"},{\"id\":\"31f58f4f-0643-4221-9eea-5485f7137d66\",\"type\":\"Grid\"},{\"id\":\"6e9cf0b0-253b-404f-9f0c-41e491eecdd6\",\"type\":\"LinearAxis\"},{\"id\":\"671b5b9d-3ef3-4dd5-b6dd-8fc5d1364283\",\"type\":\"Grid\"},{\"id\":\"3f5ae67c-ca79-4575-a792-e3b129805bbc\",\"type\":\"GlyphRenderer\"}],\"title\":null,\"tool_events\":{\"id\":\"641f7d23-83a1-4812-987c-af162126243b\",\"type\":\"ToolEvents\"},\"toolbar\":{\"id\":\"3c614cad-23e6-41d9-8025-026c2d53e3d4\",\"type\":\"Toolbar\"},\"toolbar_location\":null,\"x_range\":{\"id\":\"d28e94eb-96f3-4c27-8be3-641e67910aa7\",\"type\":\"FactorRange\"},\"y_range\":{\"id\":\"beb1e7d8-9232-4e43-8d9c-aebf705f773d\",\"type\":\"DataRange1d\"}},\"id\":\"b3563cde-5e78-4851-be76-da25726e37b5\",\"subtype\":\"Figure\",\"type\":\"Plot\"},{\"attributes\":{\"callback\":null,\"factors\":[\"2Types\",\"Attchd\",\"Basment\",\"BuiltIn\",\"CarPort\",\"Detchd\"]},\"id\":\"85b4bc9d-b299-4def-9911-6afa88ef2dbc\",\"type\":\"FactorRange\"},{\"attributes\":{\"active_drag\":\"auto\",\"active_scroll\":\"auto\",\"active_tap\":\"auto\",\"tools\":[{\"id\":\"45f04d00-a7a7-475e-92d5-f5e9389fc6d3\",\"type\":\"HoverTool\"}]},\"id\":\"cc8f1aca-0210-4200-bf2c-4c9059389184\",\"type\":\"Toolbar\"},{\"attributes\":{},\"id\":\"f9f0e8d7-ad42-46f8-9ed7-a3260062fed2\",\"type\":\"CategoricalTickFormatter\"},{\"attributes\":{\"callback\":null,\"factors\":[\"Maj1\",\"Maj2\",\"Min1\",\"Min2\",\"Mod\",\"Sev\",\"Typ\"]},\"id\":\"5b20e086-584a-4023-950c-b4920abd1e1e\",\"type\":\"FactorRange\"},{\"attributes\":{\"data_source\":{\"id\":\"5722e1f5-14cf-4dd9-b510-86b4b8d53330\",\"type\":\"ColumnDataSource\"},\"glyph\":{\"id\":\"a3fd4f38-95f0-4dc8-b883-98a09fba7d67\",\"type\":\"VBar\"},\"hover_glyph\":null,\"nonselection_glyph\":{\"id\":\"9cc4232f-00f7-4dec-bcef-49c64bf1a478\",\"type\":\"VBar\"},\"selection_glyph\":null},\"id\":\"2eed2a74-8c78-4eb7-954d-ba76222a6d22\",\"type\":\"GlyphRenderer\"},{\"attributes\":{\"callback\":null,\"plot\":{\"id\":\"912438ae-1a2a-414e-b053-35282eff37f4\",\"subtype\":\"Figure\",\"type\":\"Plot\"},\"tooltips\":[[\"category\",\"@x\"],[\"percent\",\"@percent\"]]},\"id\":\"4f946e33-a764-4899-8474-9e790c2169ed\",\"type\":\"HoverTool\"},{\"attributes\":{\"formatter\":{\"id\":\"312cbe9b-2420-4ec2-b005-1d84f88b0d60\",\"type\":\"BasicTickFormatter\"},\"plot\":{\"id\":\"bd937234-1d5c-473b-9719-6f8e3da4efb7\",\"subtype\":\"Figure\",\"type\":\"Plot\"},\"ticker\":{\"id\":\"e7bbf38c-21b6-401a-a0aa-b5b46c257da3\",\"type\":\"BasicTicker\"},\"visible\":false},\"id\":\"3962209d-0fe3-4991-aeeb-13fc5af74dcc\",\"type\":\"LinearAxis\"},{\"attributes\":{\"axis_label\":\"Exterior1st\",\"axis_label_standoff\":-1,\"formatter\":{\"id\":\"113640f5-9edd-4909-9c27-4f5c4469b1ec\",\"type\":\"CategoricalTickFormatter\"},\"plot\":{\"id\":\"ebb0fac7-3f69-4a2e-886c-7e6e76d396b6\",\"subtype\":\"Figure\",\"type\":\"Plot\"},\"ticker\":{\"id\":\"30010572-c38b-49c6-9823-c41db7162198\",\"type\":\"CategoricalTicker\"}},\"id\":\"33627372-fb8b-4a0c-9659-d852083fc185\",\"type\":\"CategoricalAxis\"},{\"attributes\":{\"callback\":null,\"column_names\":[\"y\",\"x\",\"percent\"],\"data\":{\"percent\":[\"0.0685%\",\"98.2%\",\"0.0685%\",\"0.0685%\",\"0.0685%\",\"0.753%\",\"0.342%\",\"0.411%\"],\"x\":[\"ClyTile\",\"CompShg\",\"Membran\",\"Metal\",\"Roll\",\"Tar&Grv\",\"WdShake\",\"WdShngl\"],\"y\":[1,1434,1,1,1,11,5,6]}},\"id\":\"146e7be1-ee09-4af2-bd78-329c0979ef5a\",\"type\":\"ColumnDataSource\"},{\"attributes\":{\"axis_label\":\"PoolQC\",\"axis_label_standoff\":-1,\"formatter\":{\"id\":\"19aa6560-1d18-4adc-8fca-728470431fef\",\"type\":\"CategoricalTickFormatter\"},\"plot\":{\"id\":\"ed58ce59-9feb-4fe7-99d1-4f27a9de1197\",\"subtype\":\"Figure\",\"type\":\"Plot\"},\"ticker\":{\"id\":\"bdc4d60e-d716-4c2e-a499-9fd7a4ce9640\",\"type\":\"CategoricalTicker\"}},\"id\":\"a2b47d2b-68f5-4089-8ac2-444c02815664\",\"type\":\"CategoricalAxis\"},{\"attributes\":{},\"id\":\"3f03724b-aaaf-4a6e-b75b-6372e4586f77\",\"type\":\"BasicTickFormatter\"},{\"attributes\":{\"plot\":{\"id\":\"d30830d5-3e36-4d6d-a266-dbaaa647e7c3\",\"subtype\":\"Figure\",\"type\":\"Plot\"},\"ticker\":{\"id\":\"5670d63a-430c-4041-86af-97b43948078e\",\"type\":\"CategoricalTicker\"}},\"id\":\"574186cd-c0e4-4d1b-960a-8cfd327593e6\",\"type\":\"Grid\"},{\"attributes\":{\"data_source\":{\"id\":\"ad7b94bd-294e-4e4a-b26e-be02acde24a7\",\"type\":\"ColumnDataSource\"},\"glyph\":{\"id\":\"938e146e-2152-49dc-a1d3-440b225d5882\",\"type\":\"VBar\"},\"hover_glyph\":null,\"nonselection_glyph\":{\"id\":\"24b4eba2-426a-412d-b2ac-23ce06948ace\",\"type\":\"VBar\"},\"selection_glyph\":null},\"id\":\"f48c26de-a099-45e3-bf50-d38f5f567a7b\",\"type\":\"GlyphRenderer\"},{\"attributes\":{\"formatter\":{\"id\":\"3a14e185-3731-4d30-8639-19bff23dcdf4\",\"type\":\"BasicTickFormatter\"},\"plot\":{\"id\":\"ea2569aa-9b02-4c0d-919d-a5db66bd2426\",\"subtype\":\"Figure\",\"type\":\"Plot\"},\"ticker\":{\"id\":\"b12428e0-f0de-4394-9818-e533d05df6d1\",\"type\":\"BasicTicker\"},\"visible\":false},\"id\":\"4699e055-a8b1-40b0-a56b-0d99ab0055a1\",\"type\":\"LinearAxis\"},{\"attributes\":{},\"id\":\"610327ce-2e67-4f54-a2b2-9b77cb51c8aa\",\"type\":\"BasicTicker\"},{\"attributes\":{},\"id\":\"81147633-0ac9-4d97-a174-1c1997b84ddf\",\"type\":\"BasicTicker\"},{\"attributes\":{\"callback\":null,\"column_names\":[\"y\",\"x\",\"percent\"],\"data\":{\"percent\":[\"50.8%\",\"3.36%\",\"16.5%\",\"0.0685%\",\"29.3%\"],\"x\":[\"Ex\",\"Fa\",\"Gd\",\"Po\",\"TA\"],\"y\":[741,49,241,1,428]}},\"id\":\"7436ac4d-36a4-4f71-b678-af357b0e35fb\",\"type\":\"ColumnDataSource\"},{\"attributes\":{},\"id\":\"5b221ca7-db56-484f-bc48-337474a29ebc\",\"type\":\"BasicTicker\"},{\"attributes\":{},\"id\":\"6d3d9258-6b7f-4750-aadb-485fdce828af\",\"type\":\"CategoricalTicker\"},{\"attributes\":{\"active_drag\":\"auto\",\"active_scroll\":\"auto\",\"active_tap\":\"auto\",\"tools\":[{\"id\":\"07944cd6-95df-4070-a265-91e1a18eb9aa\",\"type\":\"HoverTool\"}]},\"id\":\"61fc9c48-9ac6-46b2-868a-c666359d0625\",\"type\":\"Toolbar\"},{\"attributes\":{\"below\":[{\"id\":\"11ff63ad-1677-4521-8dd6-c85407ac2f89\",\"type\":\"CategoricalAxis\"}],\"left\":[{\"id\":\"66ac3bef-4f4f-431e-a478-41878ab4319f\",\"type\":\"LinearAxis\"}],\"plot_height\":280,\"plot_width\":280,\"renderers\":[{\"id\":\"11ff63ad-1677-4521-8dd6-c85407ac2f89\",\"type\":\"CategoricalAxis\"},{\"id\":\"b3713521-3d35-4eec-8c04-272bb0f05a12\",\"type\":\"Grid\"},{\"id\":\"66ac3bef-4f4f-431e-a478-41878ab4319f\",\"type\":\"LinearAxis\"},{\"id\":\"5a297548-b35d-4da3-a6ed-7b8770fd3665\",\"type\":\"Grid\"},{\"id\":\"0addc96a-af10-4d99-883f-82b86dac8ae6\",\"type\":\"GlyphRenderer\"}],\"title\":null,\"tool_events\":{\"id\":\"84e00ba0-b767-48ae-83e7-49a442e71c81\",\"type\":\"ToolEvents\"},\"toolbar\":{\"id\":\"c3a9a933-1f45-49e0-9f9a-9af396ecf882\",\"type\":\"Toolbar\"},\"toolbar_location\":null,\"x_range\":{\"id\":\"bb8b575d-ad73-48d0-a78f-43fc5c699cf6\",\"type\":\"FactorRange\"},\"y_range\":{\"id\":\"c88a2b86-afc9-4769-a19c-502782b800cd\",\"type\":\"DataRange1d\"}},\"id\":\"09dcb3ea-fe20-46a5-b2fb-be53f38c28ef\",\"subtype\":\"Figure\",\"type\":\"Plot\"},{\"attributes\":{\"callback\":null,\"column_names\":[\"y\",\"x\",\"percent\"],\"data\":{\"percent\":[\"1.34%\",\"2.32%\",\"0.985%\",\"3.23%\",\"3.8%\",\"88.3%\"],\"x\":[\"ALQ\",\"BLQ\",\"GLQ\",\"LwQ\",\"Rec\",\"Unf\"],\"y\":[19,33,14,46,54,1256]}},\"id\":\"1e032f97-8c0b-4d11-8e92-0cec25f93c5f\",\"type\":\"ColumnDataSource\"},{\"attributes\":{\"data_source\":{\"id\":\"c13528b7-f3fb-4cca-95ae-a24343caf404\",\"type\":\"ColumnDataSource\"},\"glyph\":{\"id\":\"76cc18b2-4461-4086-bd74-8621171eb52c\",\"type\":\"VBar\"},\"hover_glyph\":null,\"nonselection_glyph\":{\"id\":\"da42c1af-b8dd-421e-8f0b-ece92efaf704\",\"type\":\"VBar\"},\"selection_glyph\":null},\"id\":\"b4d18805-376c-4a83-9e86-6267fb1223d8\",\"type\":\"GlyphRenderer\"},{\"attributes\":{\"formatter\":{\"id\":\"2ebc3dcb-a7fc-4083-9c9d-90d0a842bf43\",\"type\":\"BasicTickFormatter\"},\"plot\":{\"id\":\"2bd6175e-b0c1-4f1b-86d2-5fb74fb04c34\",\"subtype\":\"Figure\",\"type\":\"Plot\"},\"ticker\":{\"id\":\"4bb0d87d-ee9e-4ec5-b928-2d9e38cfacd8\",\"type\":\"BasicTicker\"},\"visible\":false},\"id\":\"f01ec509-708b-4a27-821d-7668c7332271\",\"type\":\"LinearAxis\"},{\"attributes\":{\"data_source\":{\"id\":\"33cc73ad-6e13-405d-85df-126b48761d8b\",\"type\":\"ColumnDataSource\"},\"glyph\":{\"id\":\"9ce4f080-08db-4727-8061-1b5471228e01\",\"type\":\"VBar\"},\"hover_glyph\":null,\"nonselection_glyph\":{\"id\":\"66c659c6-2ce5-467d-b2a4-c3fc86826ce2\",\"type\":\"VBar\"},\"selection_glyph\":null},\"id\":\"82793ca5-5da8-4eba-a74e-8a0d1b892e9a\",\"type\":\"GlyphRenderer\"},{\"attributes\":{},\"id\":\"aec9bccf-faa3-4078-9b63-e80acdeadc76\",\"type\":\"ToolEvents\"},{\"attributes\":{\"axis_label\":\"CentralAir\",\"axis_label_standoff\":-1,\"formatter\":{\"id\":\"bea1bb8d-89d0-4bd8-927f-b94e5863ac40\",\"type\":\"CategoricalTickFormatter\"},\"plot\":{\"id\":\"20b68d48-f521-4eb5-aac3-496e5a3d0f9b\",\"subtype\":\"Figure\",\"type\":\"Plot\"},\"ticker\":{\"id\":\"bddbc754-42a7-498e-ab58-3d948ff38082\",\"type\":\"CategoricalTicker\"}},\"id\":\"4e5a30b1-02ee-4318-98e2-5e242451f9b1\",\"type\":\"CategoricalAxis\"},{\"attributes\":{\"plot\":{\"id\":\"ebb0fac7-3f69-4a2e-886c-7e6e76d396b6\",\"subtype\":\"Figure\",\"type\":\"Plot\"},\"ticker\":{\"id\":\"30010572-c38b-49c6-9823-c41db7162198\",\"type\":\"CategoricalTicker\"}},\"id\":\"7d9dc3c7-7c0f-42dd-b45e-d481f3baf7c9\",\"type\":\"Grid\"},{\"attributes\":{\"below\":[{\"id\":\"550e9219-a67c-4d0e-90ca-b448b6e8adf1\",\"type\":\"CategoricalAxis\"}],\"left\":[{\"id\":\"953442cf-ae26-4527-8474-decf7f43f061\",\"type\":\"LinearAxis\"}],\"plot_height\":280,\"plot_width\":280,\"renderers\":[{\"id\":\"550e9219-a67c-4d0e-90ca-b448b6e8adf1\",\"type\":\"CategoricalAxis\"},{\"id\":\"ed732253-123e-425f-aa83-3795150874f6\",\"type\":\"Grid\"},{\"id\":\"953442cf-ae26-4527-8474-decf7f43f061\",\"type\":\"LinearAxis\"},{\"id\":\"cc0acb0f-0e07-467c-acd9-aa704ea38c8b\",\"type\":\"Grid\"},{\"id\":\"f48c26de-a099-45e3-bf50-d38f5f567a7b\",\"type\":\"GlyphRenderer\"}],\"title\":null,\"tool_events\":{\"id\":\"52f690f0-8174-401b-abd1-ec920c03b94c\",\"type\":\"ToolEvents\"},\"toolbar\":{\"id\":\"03d415d8-1f12-4532-9ee6-8cc454bfa68e\",\"type\":\"Toolbar\"},\"toolbar_location\":null,\"x_range\":{\"id\":\"052d6cca-59f3-4340-8901-105f48fe789a\",\"type\":\"FactorRange\"},\"y_range\":{\"id\":\"0e051a2e-5753-4d6f-ab79-8c8043ef92c3\",\"type\":\"DataRange1d\"}},\"id\":\"9f450253-495d-4765-a3bb-69fb2c6102d7\",\"subtype\":\"Figure\",\"type\":\"Plot\"},{\"attributes\":{\"fill_color\":{\"value\":\"#1f77b4\"},\"line_color\":{\"value\":\"#1f77b4\"},\"top\":{\"field\":\"y\"},\"width\":{\"value\":0.5},\"x\":{\"field\":\"x\"}},\"id\":\"e25f53e0-254d-4217-963a-187540510f60\",\"type\":\"VBar\"},{\"attributes\":{\"dimension\":1,\"plot\":{\"id\":\"f584a782-04af-4297-9b33-cfa2b70f63d2\",\"subtype\":\"Figure\",\"type\":\"Plot\"},\"ticker\":{\"id\":\"a39d104e-c122-4842-b0b3-9f30cfcdf441\",\"type\":\"BasicTicker\"}},\"id\":\"a83085f2-e370-44ca-be64-d46b84618fee\",\"type\":\"Grid\"},{\"attributes\":{},\"id\":\"296bccd5-64e8-4801-9c09-66eae55a536d\",\"type\":\"CategoricalTicker\"},{\"attributes\":{},\"id\":\"5383be71-ac43-4043-b059-9a4d47ee4a0b\",\"type\":\"BasicTickFormatter\"},{\"attributes\":{\"below\":[{\"id\":\"280e6065-df7e-4347-ab07-6ec0259fbaf3\",\"type\":\"CategoricalAxis\"}],\"left\":[{\"id\":\"9ae4d881-4830-4bc3-89eb-4a470750729f\",\"type\":\"LinearAxis\"}],\"plot_height\":280,\"plot_width\":280,\"renderers\":[{\"id\":\"280e6065-df7e-4347-ab07-6ec0259fbaf3\",\"type\":\"CategoricalAxis\"},{\"id\":\"433d56a4-a0ce-4e3e-8dde-ace679de0c0a\",\"type\":\"Grid\"},{\"id\":\"9ae4d881-4830-4bc3-89eb-4a470750729f\",\"type\":\"LinearAxis\"},{\"id\":\"8aeb57f9-a3ac-4c75-8d3d-41ef9a580894\",\"type\":\"Grid\"},{\"id\":\"e0fed9fa-e30a-47b9-8b90-f2eddf557381\",\"type\":\"GlyphRenderer\"}],\"title\":null,\"tool_events\":{\"id\":\"cac6d01a-f8bf-4a1e-9464-5e66f90d39e4\",\"type\":\"ToolEvents\"},\"toolbar\":{\"id\":\"9e97f5b8-54a5-4730-97c3-ad5403a57937\",\"type\":\"Toolbar\"},\"toolbar_location\":null,\"x_range\":{\"id\":\"11d16556-d512-40b7-bc7c-248a7fc1f65f\",\"type\":\"FactorRange\"},\"y_range\":{\"id\":\"71eb0e3b-8f98-47a5-b7ae-b93e0f444316\",\"type\":\"DataRange1d\"}},\"id\":\"19d7200f-ad23-4186-854c-2ff902ee6e7f\",\"subtype\":\"Figure\",\"type\":\"Plot\"},{\"attributes\":{\"data_source\":{\"id\":\"77376d3f-7838-4275-9a00-8483b88b63da\",\"type\":\"ColumnDataSource\"},\"glyph\":{\"id\":\"644b4f10-7913-43c2-bc32-8b8087cd9fe6\",\"type\":\"VBar\"},\"hover_glyph\":null,\"nonselection_glyph\":{\"id\":\"8aee9fcd-3b32-46bc-b791-0a4c677e2cfe\",\"type\":\"VBar\"},\"selection_glyph\":null},\"id\":\"a69032d3-17dd-4891-91e5-4c55cf9e1eee\",\"type\":\"GlyphRenderer\"},{\"attributes\":{},\"id\":\"5603d852-364c-46a9-b40f-b4cfff733196\",\"type\":\"ToolEvents\"},{\"attributes\":{\"fill_alpha\":{\"value\":0.1},\"fill_color\":{\"value\":\"#1f77b4\"},\"line_alpha\":{\"value\":0.1},\"line_color\":{\"value\":\"#1f77b4\"},\"top\":{\"field\":\"y\"},\"width\":{\"value\":0.5},\"x\":{\"field\":\"x\"}},\"id\":\"3dd7df42-6894-4729-a0d1-f2ce6254adb2\",\"type\":\"VBar\"},{\"attributes\":{},\"id\":\"573023c9-5f45-4f28-84cf-8fd289972b89\",\"type\":\"CategoricalTickFormatter\"},{\"attributes\":{\"data_source\":{\"id\":\"ed51779c-ae2a-4f1d-8d88-2df94f1513a3\",\"type\":\"ColumnDataSource\"},\"glyph\":{\"id\":\"51e47200-6fd6-4f36-a1f3-05731bbcd3ce\",\"type\":\"VBar\"},\"hover_glyph\":null,\"nonselection_glyph\":{\"id\":\"f4cf17f9-ce15-46dd-aa65-051ce94f65a4\",\"type\":\"VBar\"},\"selection_glyph\":null},\"id\":\"a2e838bb-078a-4bf6-b24a-7c7d06f6493b\",\"type\":\"GlyphRenderer\"},{\"attributes\":{\"fill_color\":{\"value\":\"#1f77b4\"},\"line_color\":{\"value\":\"#1f77b4\"},\"top\":{\"field\":\"y\"},\"width\":{\"value\":0.5},\"x\":{\"field\":\"x\"}},\"id\":\"90c2c498-db38-41b7-a4cc-cf330bdd43bf\",\"type\":\"VBar\"},{\"attributes\":{\"callback\":null,\"factors\":[\"Gar2\",\"Othr\",\"Shed\",\"TenC\"]},\"id\":\"82548a31-cab2-49cd-8d2c-a6cec6e9472b\",\"type\":\"FactorRange\"},{\"attributes\":{},\"id\":\"28587e91-ae91-4ee0-bb78-33b3e5349b59\",\"type\":\"CategoricalTicker\"},{\"attributes\":{\"callback\":null},\"id\":\"215ede08-cf30-424f-8900-edfe1cd20636\",\"type\":\"DataRange1d\"},{\"attributes\":{\"callback\":null,\"plot\":{\"id\":\"3eba35cf-e23d-4c2a-b555-b885e496ea54\",\"subtype\":\"Figure\",\"type\":\"Plot\"},\"tooltips\":[[\"category\",\"@x\"],[\"percent\",\"@percent\"]]},\"id\":\"e51cf96d-4b2a-444e-a977-643cc4884850\",\"type\":\"HoverTool\"},{\"attributes\":{\"active_drag\":\"auto\",\"active_scroll\":\"auto\",\"active_tap\":\"auto\",\"tools\":[{\"id\":\"7e69fea2-ed14-488a-bb43-e4f2bac891cf\",\"type\":\"HoverTool\"}]},\"id\":\"68eddfcf-a4fd-42c1-a5d6-7c9ddaa73b41\",\"type\":\"Toolbar\"},{\"attributes\":{\"fill_alpha\":{\"value\":0.1},\"fill_color\":{\"value\":\"#1f77b4\"},\"line_alpha\":{\"value\":0.1},\"line_color\":{\"value\":\"#1f77b4\"},\"top\":{\"field\":\"y\"},\"width\":{\"value\":0.5},\"x\":{\"field\":\"x\"}},\"id\":\"6614a23d-d661-48dc-b97a-0ae18f98035e\",\"type\":\"VBar\"},{\"attributes\":{\"callback\":null},\"id\":\"0e0e5783-2a92-40f4-812a-debc0c4db89e\",\"type\":\"DataRange1d\"},{\"attributes\":{\"axis_label\":\"Fence\",\"axis_label_standoff\":-1,\"formatter\":{\"id\":\"3fc66504-99ef-47c5-9924-bc6098239775\",\"type\":\"CategoricalTickFormatter\"},\"plot\":{\"id\":\"0d46a34b-5740-468a-8de5-1e7a06c67629\",\"subtype\":\"Figure\",\"type\":\"Plot\"},\"ticker\":{\"id\":\"69f78ec8-16ba-4245-8aa1-9a832ae57f2f\",\"type\":\"CategoricalTicker\"}},\"id\":\"517a0f7f-4e2a-4684-9dd0-5bdbf9a0422f\",\"type\":\"CategoricalAxis\"},{\"attributes\":{\"axis_label\":\"Functional\",\"axis_label_standoff\":-1,\"formatter\":{\"id\":\"8f800ee6-537a-4065-b9dc-45f486746078\",\"type\":\"CategoricalTickFormatter\"},\"plot\":{\"id\":\"03df4bb5-c9d4-48d0-924e-f350f9729d19\",\"subtype\":\"Figure\",\"type\":\"Plot\"},\"ticker\":{\"id\":\"ec9abe11-1a7c-4811-8d09-27c996117850\",\"type\":\"CategoricalTicker\"}},\"id\":\"3d4b312b-a4b1-4f76-8d71-bbd5fa62361f\",\"type\":\"CategoricalAxis\"},{\"attributes\":{\"below\":[{\"id\":\"55e50435-727d-4d46-9ea2-d2b3d78ca711\",\"type\":\"CategoricalAxis\"}],\"left\":[{\"id\":\"2fe2993a-d9ef-4974-9fed-ee6a2674e291\",\"type\":\"LinearAxis\"}],\"plot_height\":280,\"plot_width\":280,\"renderers\":[{\"id\":\"55e50435-727d-4d46-9ea2-d2b3d78ca711\",\"type\":\"CategoricalAxis\"},{\"id\":\"4452308a-5a68-447d-992c-f00d2a2b6abb\",\"type\":\"Grid\"},{\"id\":\"2fe2993a-d9ef-4974-9fed-ee6a2674e291\",\"type\":\"LinearAxis\"},{\"id\":\"8d19941e-d005-41e1-ac0f-5deac6b441be\",\"type\":\"Grid\"},{\"id\":\"24d5e594-58af-4c16-8e08-e152790c43e2\",\"type\":\"GlyphRenderer\"}],\"title\":null,\"tool_events\":{\"id\":\"eafbd528-e1d6-4fd0-b551-30a5660c768f\",\"type\":\"ToolEvents\"},\"toolbar\":{\"id\":\"a47708b9-c08b-4b59-9742-05470ec8875e\",\"type\":\"Toolbar\"},\"toolbar_location\":null,\"x_range\":{\"id\":\"b8e91d63-dbbc-4daa-9532-777fda2ef1e1\",\"type\":\"FactorRange\"},\"y_range\":{\"id\":\"d3b87bb9-5c87-456c-9ec2-cbd2af6930b0\",\"type\":\"DataRange1d\"}},\"id\":\"cb04c9b6-2792-4588-807e-2f34cec3095d\",\"subtype\":\"Figure\",\"type\":\"Plot\"},{\"attributes\":{\"formatter\":{\"id\":\"383782ca-0a4d-4bfb-8e5b-05552dd5842a\",\"type\":\"BasicTickFormatter\"},\"plot\":{\"id\":\"3eba35cf-e23d-4c2a-b555-b885e496ea54\",\"subtype\":\"Figure\",\"type\":\"Plot\"},\"ticker\":{\"id\":\"b6f3ca49-ab63-4363-aacd-cb663f4522bc\",\"type\":\"BasicTicker\"},\"visible\":false},\"id\":\"2a89db60-3e8a-4f56-9c67-fc0b758501cb\",\"type\":\"LinearAxis\"},{\"attributes\":{\"callback\":null,\"plot\":{\"id\":\"21c0b045-a9a9-4f41-b237-2ba52f036d02\",\"subtype\":\"Figure\",\"type\":\"Plot\"},\"tooltips\":[[\"category\",\"@x\"],[\"percent\",\"@percent\"]]},\"id\":\"a96b65d2-3160-4a3c-983a-9b93de6d6d46\",\"type\":\"HoverTool\"},{\"attributes\":{\"callback\":null,\"factors\":[\"ALQ\",\"BLQ\",\"GLQ\",\"LwQ\",\"Rec\",\"Unf\"]},\"id\":\"32ef4b4b-9aca-49a8-bea7-b5d41e2a05ed\",\"type\":\"FactorRange\"},{\"attributes\":{\"callback\":null,\"column_names\":[\"y\",\"x\",\"percent\"],\"data\":{\"percent\":[\"10.0%\",\"43.4%\",\"44.3%\",\"1.64%\",\"0.411%\",\"0.205%\"],\"x\":[\"BrkTil\",\"CBlock\",\"PConc\",\"Slab\",\"Stone\",\"Wood\"],\"y\":[146,634,647,24,6,3]}},\"id\":\"d6a99236-d0c8-43de-aa40-711af5bf05ff\",\"type\":\"ColumnDataSource\"},{\"attributes\":{\"children\":[{\"id\":\"ebb0fac7-3f69-4a2e-886c-7e6e76d396b6\",\"subtype\":\"Figure\",\"type\":\"Plot\"},{\"id\":\"87092fcd-a75a-4640-8111-2cc917334859\",\"subtype\":\"Figure\",\"type\":\"Plot\"},{\"id\":\"7f3d9ab9-eb4b-4a5c-bac5-cb0a24e3d8e4\",\"subtype\":\"Figure\",\"type\":\"Plot\"}]},\"id\":\"81908ab2-feab-4f40-a89f-35fe8c844abe\",\"type\":\"Row\"},{\"attributes\":{\"fill_color\":{\"value\":\"#1f77b4\"},\"line_color\":{\"value\":\"#1f77b4\"},\"top\":{\"field\":\"y\"},\"width\":{\"value\":0.5},\"x\":{\"field\":\"x\"}},\"id\":\"a4c3b93c-14fb-43bb-be9b-c8779d96d53e\",\"type\":\"VBar\"},{\"attributes\":{\"active_drag\":\"auto\",\"active_scroll\":\"auto\",\"active_tap\":\"auto\",\"tools\":[{\"id\":\"877ba2a1-c5e3-40aa-80dd-6f3156e6fb5f\",\"type\":\"HoverTool\"}]},\"id\":\"d1f3c5f7-43e1-4c26-aa30-386de6eb2826\",\"type\":\"Toolbar\"},{\"attributes\":{\"callback\":null,\"factors\":[\"Grvl\",\"Pave\"]},\"id\":\"2a3f2820-9d50-4385-bcac-a1889ee1d6bd\",\"type\":\"FactorRange\"},{\"attributes\":{\"formatter\":{\"id\":\"80fd71d4-580e-4f82-91ca-d0bc460ecaec\",\"type\":\"BasicTickFormatter\"},\"plot\":{\"id\":\"6ceb70a4-3bd7-407f-8131-2b6d362726cf\",\"subtype\":\"Figure\",\"type\":\"Plot\"},\"ticker\":{\"id\":\"610327ce-2e67-4f54-a2b2-9b77cb51c8aa\",\"type\":\"BasicTicker\"},\"visible\":false},\"id\":\"02718736-6e7f-42ae-86d1-b49d6c80c770\",\"type\":\"LinearAxis\"},{\"attributes\":{\"callback\":null,\"plot\":{\"id\":\"f584a782-04af-4297-9b33-cfa2b70f63d2\",\"subtype\":\"Figure\",\"type\":\"Plot\"},\"tooltips\":[[\"category\",\"@x\"],[\"percent\",\"@percent\"]]},\"id\":\"48f2c531-2743-4b2e-a032-5b258ff1d882\",\"type\":\"HoverTool\"},{\"attributes\":{},\"id\":\"2b73671b-420b-4731-ac78-24e0d46ca838\",\"type\":\"CategoricalTicker\"},{\"attributes\":{\"callback\":null,\"column_names\":[\"y\",\"x\",\"percent\"],\"data\":{\"percent\":[\"0.145%\",\"2.54%\",\"0.653%\",\"0.508%\",\"96.2%\"],\"x\":[\"Ex\",\"Fa\",\"Gd\",\"Po\",\"TA\"],\"y\":[2,35,9,7,1326]}},\"id\":\"e9cf4870-d182-4bd4-9f0c-34a414fc25e0\",\"type\":\"ColumnDataSource\"},{\"attributes\":{\"callback\":null},\"id\":\"cc767ba4-fef5-4917-85ef-48619aba0756\",\"type\":\"DataRange1d\"},{\"attributes\":{},\"id\":\"e71e52c7-4dc0-47ef-8dda-aba4899424f0\",\"type\":\"BasicTickFormatter\"},{\"attributes\":{},\"id\":\"84e00ba0-b767-48ae-83e7-49a442e71c81\",\"type\":\"ToolEvents\"},{\"attributes\":{\"fill_color\":{\"value\":\"#1f77b4\"},\"line_color\":{\"value\":\"#1f77b4\"},\"top\":{\"field\":\"y\"},\"width\":{\"value\":0.5},\"x\":{\"field\":\"x\"}},\"id\":\"c7208dec-a2a0-4b65-a573-4180bea82a4f\",\"type\":\"VBar\"},{\"attributes\":{},\"id\":\"8f800ee6-537a-4065-b9dc-45f486746078\",\"type\":\"CategoricalTickFormatter\"},{\"attributes\":{\"fill_alpha\":{\"value\":0.1},\"fill_color\":{\"value\":\"#1f77b4\"},\"line_alpha\":{\"value\":0.1},\"line_color\":{\"value\":\"#1f77b4\"},\"top\":{\"field\":\"y\"},\"width\":{\"value\":0.5},\"x\":{\"field\":\"x\"}},\"id\":\"1bbf024a-2785-40f5-8631-7e49719d53b9\",\"type\":\"VBar\"},{\"attributes\":{},\"id\":\"4302ad5c-5c12-438c-8a9d-21af7370b207\",\"type\":\"CategoricalTicker\"},{\"attributes\":{\"plot\":{\"id\":\"03df4bb5-c9d4-48d0-924e-f350f9729d19\",\"subtype\":\"Figure\",\"type\":\"Plot\"},\"ticker\":{\"id\":\"ec9abe11-1a7c-4811-8d09-27c996117850\",\"type\":\"CategoricalTicker\"}},\"id\":\"a0ce5e53-10d2-4dab-a1c8-94be5f6fd807\",\"type\":\"Grid\"},{\"attributes\":{\"callback\":null,\"column_names\":[\"y\",\"x\",\"percent\"],\"data\":{\"percent\":[\"25.5%\",\"30.6%\",\"43.9%\"],\"x\":[\"Fin\",\"RFn\",\"Unf\"],\"y\":[352,422,605]}},\"id\":\"12a79802-ce73-4fce-9343-0a7ea51ef4af\",\"type\":\"ColumnDataSource\"},{\"attributes\":{\"active_drag\":\"auto\",\"active_scroll\":\"auto\",\"active_tap\":\"auto\",\"tools\":[{\"id\":\"3beddc5a-d481-4ef4-90c2-8b19e5da0222\",\"type\":\"HoverTool\"}]},\"id\":\"c9141680-bd61-4b36-87fc-32c7d6c91175\",\"type\":\"Toolbar\"},{\"attributes\":{},\"id\":\"89410988-2ebd-4b20-9a3f-5b65fbafbc59\",\"type\":\"CategoricalTickFormatter\"},{\"attributes\":{\"callback\":null,\"factors\":[\"AsbShng\",\"AsphShn\",\"BrkComm\",\"BrkFace\",\"CBlock\",\"CemntBd\",\"HdBoard\",\"ImStucc\",\"MetalSd\",\"Plywood\",\"Stone\",\"Stucco\",\"VinylSd\",\"Wd Sdng\",\"WdShing\"]},\"id\":\"541f6455-d934-4878-ac03-cd5c830d6da7\",\"type\":\"FactorRange\"},{\"attributes\":{\"data_source\":{\"id\":\"35f43988-d697-4458-8d53-1189fe673e76\",\"type\":\"ColumnDataSource\"},\"glyph\":{\"id\":\"2abddce4-4cdb-4ed8-8ca0-f3a48fff7f18\",\"type\":\"VBar\"},\"hover_glyph\":null,\"nonselection_glyph\":{\"id\":\"d4defd81-8a45-4e2a-95ec-692f1a3fb7b3\",\"type\":\"VBar\"},\"selection_glyph\":null},\"id\":\"b98b99cb-38c4-44dd-819c-f10c003df62f\",\"type\":\"GlyphRenderer\"},{\"attributes\":{},\"id\":\"511df0f6-7cb5-4a31-96e2-0163d54d4ffa\",\"type\":\"BasicTickFormatter\"},{\"attributes\":{\"children\":[{\"id\":\"b62f2268-f543-400a-8091-cf0d8adb9579\",\"type\":\"Row\"},{\"id\":\"1d390b71-358b-473d-a018-85a29be1659b\",\"type\":\"Row\"},{\"id\":\"fec9ca6d-a143-4045-829c-34450314d3d3\",\"type\":\"Row\"},{\"id\":\"e94a6db9-26c6-477e-9b32-f10218bdf82c\",\"type\":\"Row\"},{\"id\":\"2582bef7-1473-4938-a522-22c88904eb4a\",\"type\":\"Row\"},{\"id\":\"8a78df38-5b25-4c63-b47b-ce63e2dffaf1\",\"type\":\"Row\"},{\"id\":\"81908ab2-feab-4f40-a89f-35fe8c844abe\",\"type\":\"Row\"},{\"id\":\"7909bb55-5738-46fd-a5a8-852f47f8f6b0\",\"type\":\"Row\"},{\"id\":\"8b9be8a7-5f75-4532-b855-8d33fc2329da\",\"type\":\"Row\"},{\"id\":\"623c6c20-e3a8-42fb-9b55-e591f928d050\",\"type\":\"Row\"},{\"id\":\"d9ba015c-b7bd-429a-baf7-8b579cc0bf1d\",\"type\":\"Row\"},{\"id\":\"0c98ff4f-800b-4451-8b54-b032d70bed41\",\"type\":\"Row\"},{\"id\":\"0349266e-a7e9-4415-a432-ac968f421d2a\",\"type\":\"Row\"},{\"id\":\"437e0085-21df-42a9-b7ac-874deaf886b8\",\"type\":\"Row\"},{\"id\":\"c0545275-9c02-4934-8f96-8742f8f78d2c\",\"type\":\"Row\"},{\"id\":\"47abb477-dacb-4346-95ec-b12880213bf8\",\"type\":\"Row\"}]},\"id\":\"479d4ce0-6c57-43b2-b649-479edd61ab09\",\"type\":\"Column\"},{\"attributes\":{},\"id\":\"30010572-c38b-49c6-9823-c41db7162198\",\"type\":\"CategoricalTicker\"},{\"attributes\":{\"data_source\":{\"id\":\"66004b5a-b736-43a7-bcbb-69001d82c02f\",\"type\":\"ColumnDataSource\"},\"glyph\":{\"id\":\"7b224bb9-da25-4e4b-91ac-10f93eefcf9b\",\"type\":\"VBar\"},\"hover_glyph\":null,\"nonselection_glyph\":{\"id\":\"5535614e-7900-4a23-bac5-961b25ae91c9\",\"type\":\"VBar\"},\"selection_glyph\":null},\"id\":\"e0fed9fa-e30a-47b9-8b90-f2eddf557381\",\"type\":\"GlyphRenderer\"},{\"attributes\":{\"below\":[{\"id\":\"fb2fab26-2a49-4575-b2af-c4840ff850c8\",\"type\":\"CategoricalAxis\"}],\"left\":[{\"id\":\"f01ec509-708b-4a27-821d-7668c7332271\",\"type\":\"LinearAxis\"}],\"plot_height\":280,\"plot_width\":280,\"renderers\":[{\"id\":\"fb2fab26-2a49-4575-b2af-c4840ff850c8\",\"type\":\"CategoricalAxis\"},{\"id\":\"ce84906f-2c7d-4974-93da-a8f2a657564f\",\"type\":\"Grid\"},{\"id\":\"f01ec509-708b-4a27-821d-7668c7332271\",\"type\":\"LinearAxis\"},{\"id\":\"4cca6721-1bb1-4098-bf94-f4f14e09b7a3\",\"type\":\"Grid\"},{\"id\":\"a7d70a19-15ba-41e4-9787-cfd76121493b\",\"type\":\"GlyphRenderer\"}],\"title\":null,\"tool_events\":{\"id\":\"4e13ba34-6591-412f-b149-8eb3b45f8223\",\"type\":\"ToolEvents\"},\"toolbar\":{\"id\":\"7d0a899f-a012-450a-a9e7-92826074bf9b\",\"type\":\"Toolbar\"},\"toolbar_location\":null,\"x_range\":{\"id\":\"90714cd6-da7c-4890-aa54-707bce210756\",\"type\":\"FactorRange\"},\"y_range\":{\"id\":\"69bf8738-d540-4a8d-82d1-791a4b7986ea\",\"type\":\"DataRange1d\"}},\"id\":\"2bd6175e-b0c1-4f1b-86d2-5fb74fb04c34\",\"subtype\":\"Figure\",\"type\":\"Plot\"},{\"attributes\":{},\"id\":\"dd01c33b-b0d3-426d-a1e9-beb3405437f5\",\"type\":\"ToolEvents\"},{\"attributes\":{\"callback\":null,\"column_names\":[\"y\",\"x\",\"percent\"],\"data\":{\"percent\":[\"54.9%\",\"45.1%\"],\"x\":[\"Grvl\",\"Pave\"],\"y\":[50,41]}},\"id\":\"9f7527e9-143d-4ebb-884a-39c8c6c9c118\",\"type\":\"ColumnDataSource\"},{\"attributes\":{\"children\":[{\"id\":\"bd937234-1d5c-473b-9719-6f8e3da4efb7\",\"subtype\":\"Figure\",\"type\":\"Plot\"},{\"id\":\"f584a782-04af-4297-9b33-cfa2b70f63d2\",\"subtype\":\"Figure\",\"type\":\"Plot\"},{\"id\":\"3fb79034-c49d-46c1-bbb3-1494bc08b6af\",\"subtype\":\"Figure\",\"type\":\"Plot\"}]},\"id\":\"1d390b71-358b-473d-a018-85a29be1659b\",\"type\":\"Row\"},{\"attributes\":{},\"id\":\"d0f8f503-e0f2-4025-8d8f-38b3ec4b3a1e\",\"type\":\"ToolEvents\"},{\"attributes\":{},\"id\":\"4bb0d87d-ee9e-4ec5-b928-2d9e38cfacd8\",\"type\":\"BasicTicker\"},{\"attributes\":{},\"id\":\"e6202542-52ff-4136-a0a4-174fadf7d7c0\",\"type\":\"ToolEvents\"},{\"attributes\":{\"callback\":null,\"factors\":[\"Abnorml\",\"AdjLand\",\"Alloca\",\"Family\",\"Normal\",\"Partial\"]},\"id\":\"b8e91d63-dbbc-4daa-9532-777fda2ef1e1\",\"type\":\"FactorRange\"},{\"attributes\":{\"data_source\":{\"id\":\"51512cb1-ba09-471b-8083-f1df6d4df7e7\",\"type\":\"ColumnDataSource\"},\"glyph\":{\"id\":\"c096b7b4-9338-4b3e-8f52-2ea17f399fe8\",\"type\":\"VBar\"},\"hover_glyph\":null,\"nonselection_glyph\":{\"id\":\"74534ea3-cf77-4107-8a7d-8c35f8c95d51\",\"type\":\"VBar\"},\"selection_glyph\":null},\"id\":\"c053b9c2-ed0a-4441-a75f-e16a0f018a91\",\"type\":\"GlyphRenderer\"},{\"attributes\":{\"fill_color\":{\"value\":\"#1f77b4\"},\"line_color\":{\"value\":\"#1f77b4\"},\"top\":{\"field\":\"y\"},\"width\":{\"value\":0.5},\"x\":{\"field\":\"x\"}},\"id\":\"1483fbc5-046b-4cda-9576-025f48fd52d3\",\"type\":\"VBar\"},{\"attributes\":{\"active_drag\":\"auto\",\"active_scroll\":\"auto\",\"active_tap\":\"auto\",\"tools\":[{\"id\":\"e51cf96d-4b2a-444e-a977-643cc4884850\",\"type\":\"HoverTool\"}]},\"id\":\"66bdc01a-d2ac-4d1b-ae4b-db2690910a97\",\"type\":\"Toolbar\"},{\"attributes\":{\"callback\":null},\"id\":\"08c3394a-248c-4ae4-87c3-81b7122b3fcb\",\"type\":\"DataRange1d\"},{\"attributes\":{},\"id\":\"a38992e4-488a-4ff7-929e-c1b0ef7f052f\",\"type\":\"CategoricalTickFormatter\"},{\"attributes\":{\"axis_label\":\"SaleType\",\"axis_label_standoff\":-1,\"formatter\":{\"id\":\"d0d088da-b5f6-42f7-ac47-c23a56ae58bc\",\"type\":\"CategoricalTickFormatter\"},\"plot\":{\"id\":\"09dcb3ea-fe20-46a5-b2fb-be53f38c28ef\",\"subtype\":\"Figure\",\"type\":\"Plot\"},\"ticker\":{\"id\":\"103179a7-19f2-4a19-be5b-04c0f0b02bf3\",\"type\":\"CategoricalTicker\"}},\"id\":\"11ff63ad-1677-4521-8dd6-c85407ac2f89\",\"type\":\"CategoricalAxis\"},{\"attributes\":{\"callback\":null,\"factors\":[\"1\",\"2\",\"3\",\"4\",\"5\",\"6\",\"7\",\"8\",\"9\"]},\"id\":\"a2b62b3e-3c79-4db8-9722-a7f7ea37df3a\",\"type\":\"FactorRange\"},{\"attributes\":{\"callback\":null,\"column_names\":[\"y\",\"x\",\"percent\"],\"data\":{\"percent\":[\"28.6%\",\"28.6%\",\"42.9%\"],\"x\":[\"Ex\",\"Fa\",\"Gd\"],\"y\":[2,2,3]}},\"id\":\"d608070a-3619-4859-ab53-2c5935361c5f\",\"type\":\"ColumnDataSource\"},{\"attributes\":{\"callback\":null,\"column_names\":[\"y\",\"x\",\"percent\"],\"data\":{\"percent\":[\"3.7%\",\"3.7%\",\"90.7%\",\"1.85%\"],\"x\":[\"Gar2\",\"Othr\",\"Shed\",\"TenC\"],\"y\":[2,2,49,1]}},\"id\":\"33cc73ad-6e13-405d-85df-126b48761d8b\",\"type\":\"ColumnDataSource\"},{\"attributes\":{\"fill_alpha\":{\"value\":0.1},\"fill_color\":{\"value\":\"#1f77b4\"},\"line_alpha\":{\"value\":0.1},\"line_color\":{\"value\":\"#1f77b4\"},\"top\":{\"field\":\"y\"},\"width\":{\"value\":0.5},\"x\":{\"field\":\"x\"}},\"id\":\"5001c002-ed82-4f22-8262-441e805c05f5\",\"type\":\"VBar\"},{\"attributes\":{\"formatter\":{\"id\":\"0c50511c-98e7-4dfb-b7c0-f88ce5106cac\",\"type\":\"BasicTickFormatter\"},\"plot\":{\"id\":\"407e2119-03f6-436e-9d72-0edfa14fd5ff\",\"subtype\":\"Figure\",\"type\":\"Plot\"},\"ticker\":{\"id\":\"28a66831-daf7-471b-98e8-ff7384a01766\",\"type\":\"BasicTicker\"},\"visible\":false},\"id\":\"73707b6f-62ae-46b1-ba5f-16840bd96d8d\",\"type\":\"LinearAxis\"},{\"attributes\":{\"callback\":null,\"column_names\":[\"y\",\"x\",\"percent\"],\"data\":{\"percent\":[\"0.137%\",\"0.411%\",\"99.0%\",\"0.0685%\",\"0.137%\",\"0.0685%\",\"0.0685%\",\"0.137%\"],\"x\":[\"Artery\",\"Feedr\",\"Norm\",\"PosA\",\"PosN\",\"RRAe\",\"RRAn\",\"RRNn\"],\"y\":[2,6,1445,1,2,1,1,2]}},\"id\":\"932c458d-5aa1-40b7-a271-f93a3aa0e3ec\",\"type\":\"ColumnDataSource\"},{\"attributes\":{\"axis_label\":\"KitchenQual\",\"axis_label_standoff\":-1,\"formatter\":{\"id\":\"f6d0ceb4-e536-4dbe-8313-2397dd0d7074\",\"type\":\"CategoricalTickFormatter\"},\"plot\":{\"id\":\"ced13ff6-4456-4ec8-9632-204fd2e8548d\",\"subtype\":\"Figure\",\"type\":\"Plot\"},\"ticker\":{\"id\":\"b3c0c53c-d829-4e6b-9da0-ea6356a1ceb0\",\"type\":\"CategoricalTicker\"}},\"id\":\"7aea7ea4-5a00-49eb-a3e2-fb5acece3f23\",\"type\":\"CategoricalAxis\"},{\"attributes\":{\"plot\":{\"id\":\"b3563cde-5e78-4851-be76-da25726e37b5\",\"subtype\":\"Figure\",\"type\":\"Plot\"},\"ticker\":{\"id\":\"2eb7cb95-aa94-406b-94d3-a675f5da56ce\",\"type\":\"CategoricalTicker\"}},\"id\":\"31f58f4f-0643-4221-9eea-5485f7137d66\",\"type\":\"Grid\"},{\"attributes\":{\"formatter\":{\"id\":\"ce157eff-4c7e-47d1-9774-503d986375a3\",\"type\":\"BasicTickFormatter\"},\"plot\":{\"id\":\"d7d96d65-8344-4652-a2b5-ed1edda72479\",\"subtype\":\"Figure\",\"type\":\"Plot\"},\"ticker\":{\"id\":\"df4b800e-101c-44d8-9490-f16ce325647c\",\"type\":\"BasicTicker\"},\"visible\":false},\"id\":\"d808e9e5-3e77-4add-9a04-5d1c82fdac06\",\"type\":\"LinearAxis\"},{\"attributes\":{\"formatter\":{\"id\":\"5ac6b35b-d896-4b0f-b8b9-d08a739e4280\",\"type\":\"BasicTickFormatter\"},\"plot\":{\"id\":\"ebb0fac7-3f69-4a2e-886c-7e6e76d396b6\",\"subtype\":\"Figure\",\"type\":\"Plot\"},\"ticker\":{\"id\":\"4f45283f-9158-48cb-95e4-e69a584022c9\",\"type\":\"BasicTicker\"},\"visible\":false},\"id\":\"d1535e11-04ac-4a1a-b41d-08b34f79fda2\",\"type\":\"LinearAxis\"},{\"attributes\":{\"dimension\":1,\"plot\":{\"id\":\"87092fcd-a75a-4640-8111-2cc917334859\",\"subtype\":\"Figure\",\"type\":\"Plot\"},\"ticker\":{\"id\":\"f4a5e6f5-cace-4d47-b961-752581a39594\",\"type\":\"BasicTicker\"}},\"id\":\"10306c6a-c795-4ff5-ad7e-ed27c390668b\",\"type\":\"Grid\"},{\"attributes\":{\"data_source\":{\"id\":\"49e606db-866a-404c-a357-9a5ebb80aad6\",\"type\":\"ColumnDataSource\"},\"glyph\":{\"id\":\"83737c6a-aa7a-46e7-a209-e06cd9282e3a\",\"type\":\"VBar\"},\"hover_glyph\":null,\"nonselection_glyph\":{\"id\":\"45c4cd27-b476-4c9e-8ba1-0d36537c3393\",\"type\":\"VBar\"},\"selection_glyph\":null},\"id\":\"250bc0ca-e0a7-4afd-90c4-4f8d1ce2e630\",\"type\":\"GlyphRenderer\"},{\"attributes\":{\"callback\":null,\"plot\":{\"id\":\"09dcb3ea-fe20-46a5-b2fb-be53f38c28ef\",\"subtype\":\"Figure\",\"type\":\"Plot\"},\"tooltips\":[[\"category\",\"@x\"],[\"percent\",\"@percent\"]]},\"id\":\"8670aa91-0d04-4763-a75c-e0b4d85773a2\",\"type\":\"HoverTool\"},{\"attributes\":{\"callback\":null},\"id\":\"69bf8738-d540-4a8d-82d1-791a4b7986ea\",\"type\":\"DataRange1d\"},{\"attributes\":{\"active_drag\":\"auto\",\"active_scroll\":\"auto\",\"active_tap\":\"auto\",\"tools\":[{\"id\":\"6485b7b3-cd81-4994-bef3-776eb1d3a7e2\",\"type\":\"HoverTool\"}]},\"id\":\"23f507b7-d7bc-4c15-9af6-1b28556f3f54\",\"type\":\"Toolbar\"},{\"attributes\":{\"plot\":{\"id\":\"7a4a6a1b-feb7-4584-a51f-4f380b4502a1\",\"subtype\":\"Figure\",\"type\":\"Plot\"},\"ticker\":{\"id\":\"11361cbb-ff34-4c60-b082-ff0fafd24b0e\",\"type\":\"CategoricalTicker\"}},\"id\":\"54c0d11a-e124-43b9-b993-7ee4db356ccd\",\"type\":\"Grid\"},{\"attributes\":{},\"id\":\"5ac6b35b-d896-4b0f-b8b9-d08a739e4280\",\"type\":\"BasicTickFormatter\"},{\"attributes\":{\"fill_alpha\":{\"value\":0.1},\"fill_color\":{\"value\":\"#1f77b4\"},\"line_alpha\":{\"value\":0.1},\"line_color\":{\"value\":\"#1f77b4\"},\"top\":{\"field\":\"y\"},\"width\":{\"value\":0.5},\"x\":{\"field\":\"x\"}},\"id\":\"da42c1af-b8dd-421e-8f0b-ece92efaf704\",\"type\":\"VBar\"},{\"attributes\":{\"callback\":null,\"plot\":{\"id\":\"cc580fc7-55ff-495e-ade9-ff6fd30d4b78\",\"subtype\":\"Figure\",\"type\":\"Plot\"},\"tooltips\":[[\"category\",\"@x\"],[\"percent\",\"@percent\"]]},\"id\":\"779035ba-9ef0-4dbf-874d-2ac767b1b7e9\",\"type\":\"HoverTool\"},{\"attributes\":{},\"id\":\"04c1bd42-d523-4905-997b-e7526e5f76be\",\"type\":\"CategoricalTicker\"},{\"attributes\":{\"callback\":null,\"plot\":{\"id\":\"d66c958d-1e3e-4cf8-8df5-33dd32e7c442\",\"subtype\":\"Figure\",\"type\":\"Plot\"},\"tooltips\":[[\"category\",\"@x\"],[\"percent\",\"@percent\"]]},\"id\":\"7e69fea2-ed14-488a-bb43-e4f2bac891cf\",\"type\":\"HoverTool\"},{\"attributes\":{},\"id\":\"73208643-15fd-42a4-91ad-4dd8cce283ee\",\"type\":\"CategoricalTickFormatter\"},{\"attributes\":{\"dimension\":1,\"plot\":{\"id\":\"722940e9-fd7c-4e4f-a184-76c7dd0dfb45\",\"subtype\":\"Figure\",\"type\":\"Plot\"},\"ticker\":{\"id\":\"d932b7a7-3417-4e7a-838a-9969dcf20464\",\"type\":\"BasicTicker\"}},\"id\":\"31944e00-0ba3-4f7a-9cb4-c4f78b201d84\",\"type\":\"Grid\"},{\"attributes\":{\"fill_color\":{\"value\":\"#1f77b4\"},\"line_color\":{\"value\":\"#1f77b4\"},\"top\":{\"field\":\"y\"},\"width\":{\"value\":0.5},\"x\":{\"field\":\"x\"}},\"id\":\"34d76c56-8851-4a29-a79f-9f2c941c0f88\",\"type\":\"VBar\"},{\"attributes\":{},\"id\":\"c8b0da31-afa4-4cdc-a514-252d60da38d0\",\"type\":\"ToolEvents\"},{\"attributes\":{\"fill_alpha\":{\"value\":0.1},\"fill_color\":{\"value\":\"#1f77b4\"},\"line_alpha\":{\"value\":0.1},\"line_color\":{\"value\":\"#1f77b4\"},\"top\":{\"field\":\"y\"},\"width\":{\"value\":0.5},\"x\":{\"field\":\"x\"}},\"id\":\"315a9113-4f79-45d0-bf16-940345c85a4c\",\"type\":\"VBar\"},{\"attributes\":{\"below\":[{\"id\":\"517a0f7f-4e2a-4684-9dd0-5bdbf9a0422f\",\"type\":\"CategoricalAxis\"}],\"left\":[{\"id\":\"fed02016-0deb-4151-8f10-539f56ad5368\",\"type\":\"LinearAxis\"}],\"plot_height\":280,\"plot_width\":280,\"renderers\":[{\"id\":\"517a0f7f-4e2a-4684-9dd0-5bdbf9a0422f\",\"type\":\"CategoricalAxis\"},{\"id\":\"cb354984-4c1c-4c05-a400-f4e6fb101afd\",\"type\":\"Grid\"},{\"id\":\"fed02016-0deb-4151-8f10-539f56ad5368\",\"type\":\"LinearAxis\"},{\"id\":\"aee7ef6b-7669-483c-96b4-dff36f66c4e6\",\"type\":\"Grid\"},{\"id\":\"a69032d3-17dd-4891-91e5-4c55cf9e1eee\",\"type\":\"GlyphRenderer\"}],\"title\":null,\"tool_events\":{\"id\":\"1ab17d3e-3d8b-4fbd-9b22-6473e9870617\",\"type\":\"ToolEvents\"},\"toolbar\":{\"id\":\"696474d7-377b-4d3c-be6c-3444c00bea4f\",\"type\":\"Toolbar\"},\"toolbar_location\":null,\"x_range\":{\"id\":\"4e8d0dac-e16a-420c-96dd-77974ec5390d\",\"type\":\"FactorRange\"},\"y_range\":{\"id\":\"0e0e5783-2a92-40f4-812a-debc0c4db89e\",\"type\":\"DataRange1d\"}},\"id\":\"0d46a34b-5740-468a-8de5-1e7a06c67629\",\"subtype\":\"Figure\",\"type\":\"Plot\"},{\"attributes\":{\"fill_color\":{\"value\":\"#1f77b4\"},\"line_color\":{\"value\":\"#1f77b4\"},\"top\":{\"field\":\"y\"},\"width\":{\"value\":0.5},\"x\":{\"field\":\"x\"}},\"id\":\"a18fbf8c-66b6-4478-b554-a844804cba33\",\"type\":\"VBar\"},{\"attributes\":{},\"id\":\"f6d0ceb4-e536-4dbe-8313-2397dd0d7074\",\"type\":\"CategoricalTickFormatter\"},{\"attributes\":{\"callback\":null,\"plot\":{\"id\":\"d7d96d65-8344-4652-a2b5-ed1edda72479\",\"subtype\":\"Figure\",\"type\":\"Plot\"},\"tooltips\":[[\"category\",\"@x\"],[\"percent\",\"@percent\"]]},\"id\":\"2d305d7b-7e21-4d93-bcc1-7c0911330b5b\",\"type\":\"HoverTool\"},{\"attributes\":{\"children\":[{\"id\":\"19eaf0a7-c2b3-47cd-b081-db26dac9def3\",\"subtype\":\"Figure\",\"type\":\"Plot\"},{\"id\":\"8bd6487a-4865-4a35-8e96-41f7e5e4d20f\",\"subtype\":\"Figure\",\"type\":\"Plot\"},{\"id\":\"ed58ce59-9feb-4fe7-99d1-4f27a9de1197\",\"subtype\":\"Figure\",\"type\":\"Plot\"}]},\"id\":\"437e0085-21df-42a9-b7ac-874deaf886b8\",\"type\":\"Row\"},{\"attributes\":{\"callback\":null,\"factors\":[\"Fin\",\"RFn\",\"Unf\"]},\"id\":\"208e0c25-66c4-4e57-9ddc-8910f67ce5bb\",\"type\":\"FactorRange\"},{\"attributes\":{},\"id\":\"60b6f53f-c021-4101-8742-b00ff0f385bd\",\"type\":\"CategoricalTickFormatter\"},{\"attributes\":{\"active_drag\":\"auto\",\"active_scroll\":\"auto\",\"active_tap\":\"auto\",\"tools\":[{\"id\":\"e6db8680-5d12-491a-a055-2521cb769d2d\",\"type\":\"HoverTool\"}]},\"id\":\"87925038-ff6b-4412-9168-88d434728d12\",\"type\":\"Toolbar\"},{\"attributes\":{\"callback\":null,\"plot\":{\"id\":\"1ef9dabf-40a5-4aba-a9e4-3365f2546864\",\"subtype\":\"Figure\",\"type\":\"Plot\"},\"tooltips\":[[\"category\",\"@x\"],[\"percent\",\"@percent\"]]},\"id\":\"6647bdbb-60d9-4500-9806-a2c06d294d24\",\"type\":\"HoverTool\"},{\"attributes\":{\"plot\":{\"id\":\"0ef37e0d-ba62-47c4-a331-6a0c4181a6b7\",\"subtype\":\"Figure\",\"type\":\"Plot\"},\"ticker\":{\"id\":\"2b73671b-420b-4731-ac78-24e0d46ca838\",\"type\":\"CategoricalTicker\"}},\"id\":\"55527567-7daf-4cbe-8b88-c90b7d949fc6\",\"type\":\"Grid\"},{\"attributes\":{\"axis_label\":\"RoofMatl\",\"axis_label_standoff\":-1,\"formatter\":{\"id\":\"f9c508a3-0829-43de-bfc9-45117bb75ab0\",\"type\":\"CategoricalTickFormatter\"},\"plot\":{\"id\":\"f1dfed20-240a-4bc9-a109-b5c6aad290bf\",\"subtype\":\"Figure\",\"type\":\"Plot\"},\"ticker\":{\"id\":\"2a4913b2-9aa4-458a-b01f-469c4ef8aeb0\",\"type\":\"CategoricalTicker\"}},\"id\":\"1c108fa4-cb5e-4b47-a324-4bd4f99a16c9\",\"type\":\"CategoricalAxis\"},{\"attributes\":{\"callback\":null,\"plot\":{\"id\":\"19eaf0a7-c2b3-47cd-b081-db26dac9def3\",\"subtype\":\"Figure\",\"type\":\"Plot\"},\"tooltips\":[[\"category\",\"@x\"],[\"percent\",\"@percent\"]]},\"id\":\"877ba2a1-c5e3-40aa-80dd-6f3156e6fb5f\",\"type\":\"HoverTool\"},{\"attributes\":{\"dimension\":1,\"plot\":{\"id\":\"19d7200f-ad23-4186-854c-2ff902ee6e7f\",\"subtype\":\"Figure\",\"type\":\"Plot\"},\"ticker\":{\"id\":\"879b43d4-a890-4be4-a906-aaa982b5aebf\",\"type\":\"BasicTicker\"}},\"id\":\"8aeb57f9-a3ac-4c75-8d3d-41ef9a580894\",\"type\":\"Grid\"},{\"attributes\":{},\"id\":\"b6511358-9be1-4fd1-aeaa-f367d8d54ff9\",\"type\":\"BasicTickFormatter\"},{\"attributes\":{\"plot\":{\"id\":\"19d7200f-ad23-4186-854c-2ff902ee6e7f\",\"subtype\":\"Figure\",\"type\":\"Plot\"},\"ticker\":{\"id\":\"a62a0d1f-245e-44de-9c11-b1f5839aca57\",\"type\":\"CategoricalTicker\"}},\"id\":\"433d56a4-a0ce-4e3e-8dde-ace679de0c0a\",\"type\":\"Grid\"},{\"attributes\":{\"axis_label\":\"ExterQual\",\"axis_label_standoff\":-1,\"formatter\":{\"id\":\"1bccd376-93df-48c0-9434-33cbbe75e80f\",\"type\":\"CategoricalTickFormatter\"},\"plot\":{\"id\":\"2bd6175e-b0c1-4f1b-86d2-5fb74fb04c34\",\"subtype\":\"Figure\",\"type\":\"Plot\"},\"ticker\":{\"id\":\"715f0612-a74c-46c3-a6b8-761a7d898a1a\",\"type\":\"CategoricalTicker\"}},\"id\":\"fb2fab26-2a49-4575-b2af-c4840ff850c8\",\"type\":\"CategoricalAxis\"},{\"attributes\":{\"callback\":null,\"column_names\":[\"y\",\"x\",\"percent\"],\"data\":{\"percent\":[\"8.5%\",\"2.46%\",\"43.4%\",\"45.6%\"],\"x\":[\"Ex\",\"Fa\",\"Gd\",\"TA\"],\"y\":[121,35,618,649]}},\"id\":\"c4d95660-7d6e-4a5b-bd5a-dcd73c311714\",\"type\":\"ColumnDataSource\"},{\"attributes\":{},\"id\":\"bea1bb8d-89d0-4bd8-927f-b94e5863ac40\",\"type\":\"CategoricalTickFormatter\"},{\"attributes\":{\"callback\":null},\"id\":\"d3b87bb9-5c87-456c-9ec2-cbd2af6930b0\",\"type\":\"DataRange1d\"},{\"attributes\":{\"axis_label\":\"Utilities\",\"axis_label_standoff\":-1,\"formatter\":{\"id\":\"386b3a2b-4227-44b9-b9ec-956341d14c1d\",\"type\":\"CategoricalTickFormatter\"},\"plot\":{\"id\":\"7a4a6a1b-feb7-4584-a51f-4f380b4502a1\",\"subtype\":\"Figure\",\"type\":\"Plot\"},\"ticker\":{\"id\":\"11361cbb-ff34-4c60-b082-ff0fafd24b0e\",\"type\":\"CategoricalTicker\"}},\"id\":\"254025da-2e50-4eae-897d-e28a7a61d3e0\",\"type\":\"CategoricalAxis\"},{\"attributes\":{\"active_drag\":\"auto\",\"active_scroll\":\"auto\",\"active_tap\":\"auto\",\"tools\":[{\"id\":\"3e0a3892-9903-4e4a-9a2c-3ab24352cf42\",\"type\":\"HoverTool\"}]},\"id\":\"b82bbab4-d501-4b73-b96c-ef9132bf350c\",\"type\":\"Toolbar\"},{\"attributes\":{},\"id\":\"cae0a668-ce20-4004-9329-28a918663ae4\",\"type\":\"CategoricalTickFormatter\"},{\"attributes\":{\"formatter\":{\"id\":\"9c750931-fdbc-49b6-b334-85d62ba14463\",\"type\":\"BasicTickFormatter\"},\"plot\":{\"id\":\"1ef9dabf-40a5-4aba-a9e4-3365f2546864\",\"subtype\":\"Figure\",\"type\":\"Plot\"},\"ticker\":{\"id\":\"25636b5c-ac36-450b-99f4-66917c7e1faa\",\"type\":\"BasicTicker\"},\"visible\":false},\"id\":\"d3461e35-cd52-4b66-bba7-4176bb0fc1f1\",\"type\":\"LinearAxis\"},{\"attributes\":{\"fill_alpha\":{\"value\":0.1},\"fill_color\":{\"value\":\"#1f77b4\"},\"line_alpha\":{\"value\":0.1},\"line_color\":{\"value\":\"#1f77b4\"},\"top\":{\"field\":\"y\"},\"width\":{\"value\":0.5},\"x\":{\"field\":\"x\"}},\"id\":\"6715dd03-c1b4-4402-8194-ae3950afd144\",\"type\":\"VBar\"},{\"attributes\":{\"formatter\":{\"id\":\"5383be71-ac43-4043-b059-9a4d47ee4a0b\",\"type\":\"BasicTickFormatter\"},\"plot\":{\"id\":\"e28c73b6-0633-4af2-91c2-8d6057d5e23c\",\"subtype\":\"Figure\",\"type\":\"Plot\"},\"ticker\":{\"id\":\"f88106b9-b344-4667-b3eb-b02c8ea9c766\",\"type\":\"BasicTicker\"},\"visible\":false},\"id\":\"769f8d64-8598-4665-ad95-1d943f803ef1\",\"type\":\"LinearAxis\"},{\"attributes\":{},\"id\":\"f88106b9-b344-4667-b3eb-b02c8ea9c766\",\"type\":\"BasicTicker\"},{\"attributes\":{},\"id\":\"fe0c5d43-fe73-48e0-b92e-072d2f476aea\",\"type\":\"CategoricalTicker\"},{\"attributes\":{\"formatter\":{\"id\":\"1fd1ef37-8cdc-4210-96a9-779a844769c1\",\"type\":\"BasicTickFormatter\"},\"plot\":{\"id\":\"ed58ce59-9feb-4fe7-99d1-4f27a9de1197\",\"subtype\":\"Figure\",\"type\":\"Plot\"},\"ticker\":{\"id\":\"72ea0724-1ed0-4131-95b2-432a41859e65\",\"type\":\"BasicTicker\"},\"visible\":false},\"id\":\"43fe74fe-d4e7-4ea2-a813-da78ca5337c6\",\"type\":\"LinearAxis\"},{\"attributes\":{\"callback\":null},\"id\":\"6603bdd1-7cf8-4e72-a936-2519b22aaa6f\",\"type\":\"DataRange1d\"},{\"attributes\":{},\"id\":\"b96836a5-ffd8-40f2-bde5-f57a700d1661\",\"type\":\"BasicTicker\"},{\"attributes\":{\"fill_color\":{\"value\":\"#1f77b4\"},\"line_color\":{\"value\":\"#1f77b4\"},\"top\":{\"field\":\"y\"},\"width\":{\"value\":0.5},\"x\":{\"field\":\"x\"}},\"id\":\"cea26d01-14f0-45cb-bbfc-e7162a80db70\",\"type\":\"VBar\"},{\"attributes\":{\"dimension\":1,\"plot\":{\"id\":\"0d46a34b-5740-468a-8de5-1e7a06c67629\",\"subtype\":\"Figure\",\"type\":\"Plot\"},\"ticker\":{\"id\":\"74c41d76-ba75-4339-8f93-0864aa72d847\",\"type\":\"BasicTicker\"}},\"id\":\"aee7ef6b-7669-483c-96b4-dff36f66c4e6\",\"type\":\"Grid\"},{\"attributes\":{\"axis_label\":\"SaleCondition\",\"axis_label_standoff\":-1,\"formatter\":{\"id\":\"6e3d2e73-9bb0-43f5-b3e9-2cf8a15c9c32\",\"type\":\"CategoricalTickFormatter\"},\"plot\":{\"id\":\"cb04c9b6-2792-4588-807e-2f34cec3095d\",\"subtype\":\"Figure\",\"type\":\"Plot\"},\"ticker\":{\"id\":\"8e073f55-f314-4bb2-9bd7-10fa6d9850ee\",\"type\":\"CategoricalTicker\"}},\"id\":\"55e50435-727d-4d46-9ea2-d2b3d78ca711\",\"type\":\"CategoricalAxis\"},{\"attributes\":{\"plot\":{\"id\":\"d63de79f-e567-4c32-abcc-a5857bdabcf6\",\"subtype\":\"Figure\",\"type\":\"Plot\"},\"ticker\":{\"id\":\"f875368c-caa6-43fe-9719-1d83dc591aab\",\"type\":\"CategoricalTicker\"}},\"id\":\"a85e3037-33f7-49e1-8331-dd8521d52701\",\"type\":\"Grid\"},{\"attributes\":{\"fill_alpha\":{\"value\":0.1},\"fill_color\":{\"value\":\"#1f77b4\"},\"line_alpha\":{\"value\":0.1},\"line_color\":{\"value\":\"#1f77b4\"},\"top\":{\"field\":\"y\"},\"width\":{\"value\":0.5},\"x\":{\"field\":\"x\"}},\"id\":\"b5a0fde5-d814-4619-abd6-10c499b2dda4\",\"type\":\"VBar\"},{\"attributes\":{},\"id\":\"ec9abe11-1a7c-4811-8d09-27c996117850\",\"type\":\"CategoricalTicker\"},{\"attributes\":{},\"id\":\"9a2da8cd-c1a1-4d41-98fa-e6b2a0f44b35\",\"type\":\"CategoricalTickFormatter\"},{\"attributes\":{},\"id\":\"fab33b32-d852-4074-8786-72daf5fc735b\",\"type\":\"BasicTickFormatter\"},{\"attributes\":{},\"id\":\"c5286b8c-99e1-4100-bc60-85270ecd0675\",\"type\":\"BasicTickFormatter\"},{\"attributes\":{},\"id\":\"554a5d7e-2154-4e53-9984-d7f51265fc14\",\"type\":\"CategoricalTickFormatter\"},{\"attributes\":{\"callback\":null,\"column_names\":[\"y\",\"x\",\"percent\"],\"data\":{\"percent\":[\"21.0%\",\"19.2%\",\"55.9%\",\"3.91%\"],\"x\":[\"GdPrv\",\"GdWo\",\"MnPrv\",\"MnWw\"],\"y\":[59,54,157,11]}},\"id\":\"77376d3f-7838-4275-9a00-8483b88b63da\",\"type\":\"ColumnDataSource\"},{\"attributes\":{\"callback\":null,\"column_names\":[\"y\",\"x\",\"percent\"],\"data\":{\"percent\":[\"3.16%\",\"4.57%\",\"0.141%\",\"92.1%\"],\"x\":[\"Fa\",\"Gd\",\"Po\",\"TA\"],\"y\":[45,65,2,1311]}},\"id\":\"79786a17-a873-49e3-b3c1-a0ccea9745b8\",\"type\":\"ColumnDataSource\"},{\"attributes\":{\"fill_color\":{\"value\":\"#1f77b4\"},\"line_color\":{\"value\":\"#1f77b4\"},\"top\":{\"field\":\"y\"},\"width\":{\"value\":0.5},\"x\":{\"field\":\"x\"}},\"id\":\"993ed3a9-303d-4664-9fbb-c4284914756b\",\"type\":\"VBar\"},{\"attributes\":{\"callback\":null,\"column_names\":[\"y\",\"x\",\"percent\"],\"data\":{\"percent\":[\"0.959%\",\"0.342%\",\"2.12%\",\"2.33%\",\"1.03%\",\"0.0685%\",\"93.2%\"],\"x\":[\"Maj1\",\"Maj2\",\"Min1\",\"Min2\",\"Mod\",\"Sev\",\"Typ\"],\"y\":[14,5,31,34,15,1,1360]}},\"id\":\"ed51779c-ae2a-4f1d-8d88-2df94f1513a3\",\"type\":\"ColumnDataSource\"},{\"attributes\":{\"fill_color\":{\"value\":\"#1f77b4\"},\"line_color\":{\"value\":\"#1f77b4\"},\"top\":{\"field\":\"y\"},\"width\":{\"value\":0.5},\"x\":{\"field\":\"x\"}},\"id\":\"61897fda-ae95-467a-b4c5-b7686feda8a1\",\"type\":\"VBar\"},{\"attributes\":{\"data_source\":{\"id\":\"26f741b7-f6e1-4ab0-beac-88789e340390\",\"type\":\"ColumnDataSource\"},\"glyph\":{\"id\":\"993ed3a9-303d-4664-9fbb-c4284914756b\",\"type\":\"VBar\"},\"hover_glyph\":null,\"nonselection_glyph\":{\"id\":\"af554421-3037-4f29-a148-9b815b5b04f2\",\"type\":\"VBar\"},\"selection_glyph\":null},\"id\":\"a1d4869c-8872-4010-b1ea-3835f8c599b2\",\"type\":\"GlyphRenderer\"},{\"attributes\":{\"dimension\":1,\"plot\":{\"id\":\"8bd6487a-4865-4a35-8e96-41f7e5e4d20f\",\"subtype\":\"Figure\",\"type\":\"Plot\"},\"ticker\":{\"id\":\"d2f53aef-5088-4840-8cdc-79336c0ab3da\",\"type\":\"BasicTicker\"}},\"id\":\"2be0539e-9f62-4de3-bcac-03bffc70cb5d\",\"type\":\"Grid\"},{\"attributes\":{\"data_source\":{\"id\":\"d608070a-3619-4859-ab53-2c5935361c5f\",\"type\":\"ColumnDataSource\"},\"glyph\":{\"id\":\"d4fbce04-62b0-47cb-b736-c29fda2c3c89\",\"type\":\"VBar\"},\"hover_glyph\":null,\"nonselection_glyph\":{\"id\":\"315a9113-4f79-45d0-bf16-940345c85a4c\",\"type\":\"VBar\"},\"selection_glyph\":null},\"id\":\"618bbacc-69e6-4707-b57d-e1e0d6ac2eef\",\"type\":\"GlyphRenderer\"},{\"attributes\":{},\"id\":\"5802ba22-af30-4de9-980d-23528c259077\",\"type\":\"BasicTickFormatter\"},{\"attributes\":{},\"id\":\"64ac591d-d1e4-4779-8116-9b7ed4d71dc7\",\"type\":\"BasicTicker\"},{\"attributes\":{\"callback\":null,\"factors\":[\"Flat\",\"Gable\",\"Gambrel\",\"Hip\",\"Mansard\",\"Shed\"]},\"id\":\"d4bfb627-4d17-4267-87c0-965fd1e6379b\",\"type\":\"FactorRange\"},{\"attributes\":{\"below\":[{\"id\":\"3fd56268-9563-42a4-9230-41b9cec9500f\",\"type\":\"CategoricalAxis\"}],\"left\":[{\"id\":\"92c0ba03-f22c-4502-993b-3c068fb2f950\",\"type\":\"LinearAxis\"}],\"plot_height\":280,\"plot_width\":280,\"renderers\":[{\"id\":\"3fd56268-9563-42a4-9230-41b9cec9500f\",\"type\":\"CategoricalAxis\"},{\"id\":\"5bc7ddd7-881a-42a1-900d-25d89dfc09c7\",\"type\":\"Grid\"},{\"id\":\"92c0ba03-f22c-4502-993b-3c068fb2f950\",\"type\":\"LinearAxis\"},{\"id\":\"de2127d4-7c8d-4946-ab18-a6da398b986b\",\"type\":\"Grid\"},{\"id\":\"46778bd9-2fd2-4bcf-8bdb-d274f4cff944\",\"type\":\"GlyphRenderer\"}],\"title\":null,\"tool_events\":{\"id\":\"d32b450c-2ce9-448f-b74b-9b2d2db291fc\",\"type\":\"ToolEvents\"},\"toolbar\":{\"id\":\"f3a578fc-acc1-4225-9f50-69e8e53c6207\",\"type\":\"Toolbar\"},\"toolbar_location\":null,\"x_range\":{\"id\":\"1f71121c-bbf0-4cdc-8a0c-9e8647989d90\",\"type\":\"FactorRange\"},\"y_range\":{\"id\":\"08c3394a-248c-4ae4-87c3-81b7122b3fcb\",\"type\":\"DataRange1d\"}},\"id\":\"3b70817a-9307-427f-b184-c6bdea437bda\",\"subtype\":\"Figure\",\"type\":\"Plot\"},{\"attributes\":{\"formatter\":{\"id\":\"c5286b8c-99e1-4100-bc60-85270ecd0675\",\"type\":\"BasicTickFormatter\"},\"plot\":{\"id\":\"20b68d48-f521-4eb5-aac3-496e5a3d0f9b\",\"subtype\":\"Figure\",\"type\":\"Plot\"},\"ticker\":{\"id\":\"81147633-0ac9-4d97-a174-1c1997b84ddf\",\"type\":\"BasicTicker\"},\"visible\":false},\"id\":\"c600327d-ff30-405c-8584-ec4521d22ee3\",\"type\":\"LinearAxis\"},{\"attributes\":{\"below\":[{\"id\":\"0260432f-f702-41bd-9dd5-8f7c7748e237\",\"type\":\"CategoricalAxis\"}],\"left\":[{\"id\":\"9ca6e55a-c319-4029-9340-3043161ed4c1\",\"type\":\"LinearAxis\"}],\"plot_height\":280,\"plot_width\":280,\"renderers\":[{\"id\":\"0260432f-f702-41bd-9dd5-8f7c7748e237\",\"type\":\"CategoricalAxis\"},{\"id\":\"2641377f-4b4c-4411-88f7-9389fb934a03\",\"type\":\"Grid\"},{\"id\":\"9ca6e55a-c319-4029-9340-3043161ed4c1\",\"type\":\"LinearAxis\"},{\"id\":\"7c46214d-1866-4d9e-a4ec-b6f2336a942e\",\"type\":\"Grid\"},{\"id\":\"2eed2a74-8c78-4eb7-954d-ba76222a6d22\",\"type\":\"GlyphRenderer\"}],\"title\":null,\"tool_events\":{\"id\":\"7733af4d-c11a-47ec-8222-9df14b8f280d\",\"type\":\"ToolEvents\"},\"toolbar\":{\"id\":\"37e3fda6-f070-4b6c-8bc1-441cba4bc1b6\",\"type\":\"Toolbar\"},\"toolbar_location\":null,\"x_range\":{\"id\":\"20aea206-12aa-475d-ba3f-37b3548e9f28\",\"type\":\"FactorRange\"},\"y_range\":{\"id\":\"6603bdd1-7cf8-4e72-a936-2519b22aaa6f\",\"type\":\"DataRange1d\"}},\"id\":\"a16ed0bb-4306-49f1-b56e-7e7ed265efba\",\"subtype\":\"Figure\",\"type\":\"Plot\"},{\"attributes\":{\"axis_label\":\"GarageCond\",\"axis_label_standoff\":-1,\"formatter\":{\"id\":\"bf3fab08-2ee5-4959-a7ea-68244c46b927\",\"type\":\"CategoricalTickFormatter\"},\"plot\":{\"id\":\"19eaf0a7-c2b3-47cd-b081-db26dac9def3\",\"subtype\":\"Figure\",\"type\":\"Plot\"},\"ticker\":{\"id\":\"f1c2ebed-0c46-4c53-931e-180a3e5e90eb\",\"type\":\"CategoricalTicker\"}},\"id\":\"a3e8fda1-e154-4d9f-a866-4528106e2bf0\",\"type\":\"CategoricalAxis\"},{\"attributes\":{},\"id\":\"68d08355-0dc2-4472-a96c-a5cb3f5d003e\",\"type\":\"ToolEvents\"},{\"attributes\":{\"callback\":null},\"id\":\"0e051a2e-5753-4d6f-ab79-8c8043ef92c3\",\"type\":\"DataRange1d\"},{\"attributes\":{},\"id\":\"f1c2ebed-0c46-4c53-931e-180a3e5e90eb\",\"type\":\"CategoricalTicker\"},{\"attributes\":{\"data_source\":{\"id\":\"8fb6e602-4d1a-4e84-b3fc-9322c43dcccc\",\"type\":\"ColumnDataSource\"},\"glyph\":{\"id\":\"14e696c3-e919-40cf-b9ba-2cce98d4e206\",\"type\":\"VBar\"},\"hover_glyph\":null,\"nonselection_glyph\":{\"id\":\"78c0905b-4bcc-4adf-a259-43e117f52246\",\"type\":\"VBar\"},\"selection_glyph\":null},\"id\":\"08c967b7-67b3-466a-8fa3-14047ededfdb\",\"type\":\"GlyphRenderer\"},{\"attributes\":{},\"id\":\"b3dd787c-ec83-4c0a-bf92-2c27937dd59c\",\"type\":\"CategoricalTicker\"},{\"attributes\":{\"data_source\":{\"id\":\"b98ab44c-5c5e-4f7d-a0db-09dd692b173d\",\"type\":\"ColumnDataSource\"},\"glyph\":{\"id\":\"52d4397b-1179-4bcc-a774-e9c278a32709\",\"type\":\"VBar\"},\"hover_glyph\":null,\"nonselection_glyph\":{\"id\":\"3dd7df42-6894-4729-a0d1-f2ce6254adb2\",\"type\":\"VBar\"},\"selection_glyph\":null},\"id\":\"fbd82c95-e6de-40eb-91b5-77fbc159087e\",\"type\":\"GlyphRenderer\"},{\"attributes\":{\"axis_label\":\"BsmtCond\",\"axis_label_standoff\":-1,\"formatter\":{\"id\":\"42f9981f-30a1-48c0-9af6-904350abf7a8\",\"type\":\"CategoricalTickFormatter\"},\"plot\":{\"id\":\"cc580fc7-55ff-495e-ade9-ff6fd30d4b78\",\"subtype\":\"Figure\",\"type\":\"Plot\"},\"ticker\":{\"id\":\"4302ad5c-5c12-438c-8a9d-21af7370b207\",\"type\":\"CategoricalTicker\"}},\"id\":\"a0230fd7-95e6-4b6d-9ff8-055a1ca21976\",\"type\":\"CategoricalAxis\"},{\"attributes\":{\"data_source\":{\"id\":\"0e80db09-6b28-4042-8a0e-b0c6c9d1f7a9\",\"type\":\"ColumnDataSource\"},\"glyph\":{\"id\":\"4919a5e3-d081-473d-8d64-6cbc3313bdc8\",\"type\":\"VBar\"},\"hover_glyph\":null,\"nonselection_glyph\":{\"id\":\"86374ec1-3acf-46df-a907-93e462f86b1f\",\"type\":\"VBar\"},\"selection_glyph\":null},\"id\":\"8736846c-0834-4c0d-802a-406650629efb\",\"type\":\"GlyphRenderer\"},{\"attributes\":{\"fill_alpha\":{\"value\":0.1},\"fill_color\":{\"value\":\"#1f77b4\"},\"line_alpha\":{\"value\":0.1},\"line_color\":{\"value\":\"#1f77b4\"},\"top\":{\"field\":\"y\"},\"width\":{\"value\":0.5},\"x\":{\"field\":\"x\"}},\"id\":\"cdc4aa0c-fe65-40ed-9c58-ed546c4248ae\",\"type\":\"VBar\"},{\"attributes\":{\"plot\":{\"id\":\"bd937234-1d5c-473b-9719-6f8e3da4efb7\",\"subtype\":\"Figure\",\"type\":\"Plot\"},\"ticker\":{\"id\":\"b056a7d1-a870-45b5-a394-1bb4bab56c85\",\"type\":\"CategoricalTicker\"}},\"id\":\"b8d46c66-f1e6-48a4-8c25-9fcb9c41ee47\",\"type\":\"Grid\"},{\"attributes\":{},\"id\":\"55a69567-1850-489d-a12c-cb3fc6d23fda\",\"type\":\"BasicTickFormatter\"},{\"attributes\":{\"active_drag\":\"auto\",\"active_scroll\":\"auto\",\"active_tap\":\"auto\",\"tools\":[{\"id\":\"2fc0ce49-f7a1-4c90-b844-596988b9abdc\",\"type\":\"HoverTool\"}]},\"id\":\"9e97f5b8-54a5-4730-97c3-ad5403a57937\",\"type\":\"Toolbar\"},{\"attributes\":{\"callback\":null,\"column_names\":[\"y\",\"x\",\"percent\"],\"data\":{\"percent\":[\"18.0%\",\"6.44%\",\"3.22%\",\"0.274%\",\"72.1%\"],\"x\":[\"Corner\",\"CulDSac\",\"FR2\",\"FR3\",\"Inside\"],\"y\":[263,94,47,4,1052]}},\"id\":\"c562fbb2-c41a-47f8-9977-237982c2d828\",\"type\":\"ColumnDataSource\"},{\"attributes\":{\"dimension\":1,\"plot\":{\"id\":\"9f450253-495d-4765-a3bb-69fb2c6102d7\",\"subtype\":\"Figure\",\"type\":\"Plot\"},\"ticker\":{\"id\":\"a64e6f84-014f-4346-b93f-350f20c47015\",\"type\":\"BasicTicker\"}},\"id\":\"cc0acb0f-0e07-467c-acd9-aa704ea38c8b\",\"type\":\"Grid\"},{\"attributes\":{\"callback\":null,\"plot\":{\"id\":\"7f3d9ab9-eb4b-4a5c-bac5-cb0a24e3d8e4\",\"subtype\":\"Figure\",\"type\":\"Plot\"},\"tooltips\":[[\"category\",\"@x\"],[\"percent\",\"@percent\"]]},\"id\":\"07944cd6-95df-4070-a265-91e1a18eb9aa\",\"type\":\"HoverTool\"},{\"attributes\":{\"below\":[{\"id\":\"d7ac4206-c950-4b05-8956-32dc650ad7fc\",\"type\":\"CategoricalAxis\"}],\"left\":[{\"id\":\"69d0d4a2-a786-4260-b083-3e683e672e90\",\"type\":\"LinearAxis\"}],\"plot_height\":280,\"plot_width\":280,\"renderers\":[{\"id\":\"d7ac4206-c950-4b05-8956-32dc650ad7fc\",\"type\":\"CategoricalAxis\"},{\"id\":\"55527567-7daf-4cbe-8b88-c90b7d949fc6\",\"type\":\"Grid\"},{\"id\":\"69d0d4a2-a786-4260-b083-3e683e672e90\",\"type\":\"LinearAxis\"},{\"id\":\"90493a44-b5f7-4416-a3fc-67a1657c6bc9\",\"type\":\"Grid\"},{\"id\":\"82793ca5-5da8-4eba-a74e-8a0d1b892e9a\",\"type\":\"GlyphRenderer\"}],\"title\":null,\"tool_events\":{\"id\":\"7d7539c6-5400-4fec-a591-a7b807bd762e\",\"type\":\"ToolEvents\"},\"toolbar\":{\"id\":\"23f507b7-d7bc-4c15-9af6-1b28556f3f54\",\"type\":\"Toolbar\"},\"toolbar_location\":null,\"x_range\":{\"id\":\"82548a31-cab2-49cd-8d2c-a6cec6e9472b\",\"type\":\"FactorRange\"},\"y_range\":{\"id\":\"215ede08-cf30-424f-8900-edfe1cd20636\",\"type\":\"DataRange1d\"}},\"id\":\"0ef37e0d-ba62-47c4-a331-6a0c4181a6b7\",\"subtype\":\"Figure\",\"type\":\"Plot\"},{\"attributes\":{\"fill_alpha\":{\"value\":0.1},\"fill_color\":{\"value\":\"#1f77b4\"},\"line_alpha\":{\"value\":0.1},\"line_color\":{\"value\":\"#1f77b4\"},\"top\":{\"field\":\"y\"},\"width\":{\"value\":0.5},\"x\":{\"field\":\"x\"}},\"id\":\"0f3a2c14-a03b-4727-8d91-12d4c9c97628\",\"type\":\"VBar\"},{\"attributes\":{},\"id\":\"f1f23734-8d45-4e47-853f-ed27fd203b27\",\"type\":\"CategoricalTickFormatter\"},{\"attributes\":{\"plot\":{\"id\":\"912438ae-1a2a-414e-b053-35282eff37f4\",\"subtype\":\"Figure\",\"type\":\"Plot\"},\"ticker\":{\"id\":\"296bccd5-64e8-4801-9c09-66eae55a536d\",\"type\":\"CategoricalTicker\"}},\"id\":\"33780ea8-e6ef-45e2-b843-aa1a51dddd96\",\"type\":\"Grid\"},{\"attributes\":{},\"id\":\"cafceae6-5659-4e1f-a0d3-cb163cd315b3\",\"type\":\"CategoricalTicker\"},{\"attributes\":{\"dimension\":1,\"plot\":{\"id\":\"3b70817a-9307-427f-b184-c6bdea437bda\",\"subtype\":\"Figure\",\"type\":\"Plot\"},\"ticker\":{\"id\":\"57edf486-4069-4469-a494-1583dca7e15e\",\"type\":\"BasicTicker\"}},\"id\":\"de2127d4-7c8d-4946-ab18-a6da398b986b\",\"type\":\"Grid\"},{\"attributes\":{\"callback\":null},\"id\":\"2e7f68aa-71da-45ef-b34b-2c17ef6a07dd\",\"type\":\"DataRange1d\"},{\"attributes\":{\"below\":[{\"id\":\"9cf2365d-1bf4-4f54-a2fb-176602720db7\",\"type\":\"CategoricalAxis\"}],\"left\":[{\"id\":\"05ab2e14-84ee-4064-a55b-541c22b89a58\",\"type\":\"LinearAxis\"}],\"plot_height\":280,\"plot_width\":280,\"renderers\":[{\"id\":\"9cf2365d-1bf4-4f54-a2fb-176602720db7\",\"type\":\"CategoricalAxis\"},{\"id\":\"574186cd-c0e4-4d1b-960a-8cfd327593e6\",\"type\":\"Grid\"},{\"id\":\"05ab2e14-84ee-4064-a55b-541c22b89a58\",\"type\":\"LinearAxis\"},{\"id\":\"0cd2e3e6-9f79-4e54-84af-0e976dcb312f\",\"type\":\"Grid\"},{\"id\":\"b98b99cb-38c4-44dd-819c-f10c003df62f\",\"type\":\"GlyphRenderer\"}],\"title\":null,\"tool_events\":{\"id\":\"f8de39d5-7506-4fb5-83d7-182e5c257058\",\"type\":\"ToolEvents\"},\"toolbar\":{\"id\":\"3cb99cad-d890-45ec-aab4-007f5c3d4b22\",\"type\":\"Toolbar\"},\"toolbar_location\":null,\"x_range\":{\"id\":\"03b75291-8e90-404c-86d0-12005f061170\",\"type\":\"FactorRange\"},\"y_range\":{\"id\":\"a7ef9010-a792-4adc-bc71-aa114db2d873\",\"type\":\"DataRange1d\"}},\"id\":\"d30830d5-3e36-4d6d-a266-dbaaa647e7c3\",\"subtype\":\"Figure\",\"type\":\"Plot\"},{\"attributes\":{\"active_drag\":\"auto\",\"active_scroll\":\"auto\",\"active_tap\":\"auto\",\"tools\":[{\"id\":\"b5442288-b2ed-4b52-8fd1-e9465bf21a2c\",\"type\":\"HoverTool\"}]},\"id\":\"345dd242-3978-4697-93d1-c94b82055494\",\"type\":\"Toolbar\"},{\"attributes\":{\"axis_label\":\"Foundation\",\"axis_label_standoff\":-1,\"formatter\":{\"id\":\"58ee5d38-de19-4b94-9d73-b13de065dd26\",\"type\":\"CategoricalTickFormatter\"},\"plot\":{\"id\":\"a6ed27c2-1c61-4758-b0c5-2d176040f858\",\"subtype\":\"Figure\",\"type\":\"Plot\"},\"ticker\":{\"id\":\"b3dd787c-ec83-4c0a-bf92-2c27937dd59c\",\"type\":\"CategoricalTicker\"}},\"id\":\"e57b57f9-e28b-4863-8e68-2dbbe315fa12\",\"type\":\"CategoricalAxis\"},{\"attributes\":{\"active_drag\":\"auto\",\"active_scroll\":\"auto\",\"active_tap\":\"auto\",\"tools\":[{\"id\":\"9dfd91f5-1257-4e0f-9dd7-35e1e8596482\",\"type\":\"HoverTool\"}]},\"id\":\"18b4fbeb-5df8-4002-abb7-45dbc7e20b8c\",\"type\":\"Toolbar\"},{\"attributes\":{\"plot\":{\"id\":\"8c0ac025-9451-44e0-8084-ec322d7d97ea\",\"subtype\":\"Figure\",\"type\":\"Plot\"},\"ticker\":{\"id\":\"64f11dc4-7b51-4dc4-9beb-8163d0a1648c\",\"type\":\"CategoricalTicker\"}},\"id\":\"6d61ab03-ca5a-4d94-a63d-ca8619f20dad\",\"type\":\"Grid\"},{\"attributes\":{\"dimension\":1,\"plot\":{\"id\":\"0ef37e0d-ba62-47c4-a331-6a0c4181a6b7\",\"subtype\":\"Figure\",\"type\":\"Plot\"},\"ticker\":{\"id\":\"9d8d4794-09ff-4ce0-b1ac-e0f861cd91dc\",\"type\":\"BasicTicker\"}},\"id\":\"90493a44-b5f7-4416-a3fc-67a1657c6bc9\",\"type\":\"Grid\"},{\"attributes\":{},\"id\":\"f236ecc1-1fc4-4240-8da0-41267c103008\",\"type\":\"BasicTicker\"},{\"attributes\":{\"active_drag\":\"auto\",\"active_scroll\":\"auto\",\"active_tap\":\"auto\",\"tools\":[{\"id\":\"58fe71e7-b855-4271-bcb4-fc946ee973fc\",\"type\":\"HoverTool\"}]},\"id\":\"37e3fda6-f070-4b6c-8bc1-441cba4bc1b6\",\"type\":\"Toolbar\"},{\"attributes\":{\"below\":[{\"id\":\"04eef9ff-7449-468d-a049-ee14beb76d4f\",\"type\":\"CategoricalAxis\"}],\"left\":[{\"id\":\"49408e9e-c731-4186-a9e8-4d0e3e50498c\",\"type\":\"LinearAxis\"}],\"plot_height\":280,\"plot_width\":280,\"renderers\":[{\"id\":\"04eef9ff-7449-468d-a049-ee14beb76d4f\",\"type\":\"CategoricalAxis\"},{\"id\":\"9f41f5fd-2933-4c47-9f1e-b68495201206\",\"type\":\"Grid\"},{\"id\":\"49408e9e-c731-4186-a9e8-4d0e3e50498c\",\"type\":\"LinearAxis\"},{\"id\":\"df74c6e3-5007-43b5-bdeb-2176d41a2e26\",\"type\":\"Grid\"},{\"id\":\"fbd82c95-e6de-40eb-91b5-77fbc159087e\",\"type\":\"GlyphRenderer\"}],\"title\":null,\"tool_events\":{\"id\":\"d4ae8af8-7db0-44ed-88f7-5b1d7b62c2ea\",\"type\":\"ToolEvents\"},\"toolbar\":{\"id\":\"5f1c106f-7b5a-402f-9ea3-bde2f479747a\",\"type\":\"Toolbar\"},\"toolbar_location\":null,\"x_range\":{\"id\":\"85b4bc9d-b299-4def-9911-6afa88ef2dbc\",\"type\":\"FactorRange\"},\"y_range\":{\"id\":\"21b24b6d-86d8-4f5b-abeb-4ee08f73fbc5\",\"type\":\"DataRange1d\"}},\"id\":\"21c0b045-a9a9-4f41-b237-2ba52f036d02\",\"subtype\":\"Figure\",\"type\":\"Plot\"},{\"attributes\":{\"callback\":null,\"plot\":{\"id\":\"e907fdd6-ecdd-409f-9f46-311929b0772d\",\"subtype\":\"Figure\",\"type\":\"Plot\"},\"tooltips\":[[\"category\",\"@x\"],[\"percent\",\"@percent\"]]},\"id\":\"1b72ec9e-3ad0-4387-b4cb-4adece402d67\",\"type\":\"HoverTool\"},{\"attributes\":{\"fill_color\":{\"value\":\"#1f77b4\"},\"line_color\":{\"value\":\"#1f77b4\"},\"top\":{\"field\":\"y\"},\"width\":{\"value\":0.5},\"x\":{\"field\":\"x\"}},\"id\":\"f2721b09-39da-4737-a2ad-66b2905fe85e\",\"type\":\"VBar\"},{\"attributes\":{\"callback\":null,\"plot\":{\"id\":\"2bd6175e-b0c1-4f1b-86d2-5fb74fb04c34\",\"subtype\":\"Figure\",\"type\":\"Plot\"},\"tooltips\":[[\"category\",\"@x\"],[\"percent\",\"@percent\"]]},\"id\":\"e15ea497-5208-4895-9d1c-5f0dd91a5797\",\"type\":\"HoverTool\"},{\"attributes\":{},\"id\":\"fe4cfad2-1ffa-4877-b440-be36ec54355e\",\"type\":\"BasicTickFormatter\"},{\"attributes\":{},\"id\":\"70caeaee-9020-4ebd-bea0-8d0b6019bd49\",\"type\":\"BasicTicker\"},{\"attributes\":{\"plot\":{\"id\":\"2bd6175e-b0c1-4f1b-86d2-5fb74fb04c34\",\"subtype\":\"Figure\",\"type\":\"Plot\"},\"ticker\":{\"id\":\"715f0612-a74c-46c3-a6b8-761a7d898a1a\",\"type\":\"CategoricalTicker\"}},\"id\":\"ce84906f-2c7d-4974-93da-a8f2a657564f\",\"type\":\"Grid\"},{\"attributes\":{\"plot\":{\"id\":\"09dcb3ea-fe20-46a5-b2fb-be53f38c28ef\",\"subtype\":\"Figure\",\"type\":\"Plot\"},\"ticker\":{\"id\":\"103179a7-19f2-4a19-be5b-04c0f0b02bf3\",\"type\":\"CategoricalTicker\"}},\"id\":\"b3713521-3d35-4eec-8c04-272bb0f05a12\",\"type\":\"Grid\"},{\"attributes\":{\"plot\":{\"id\":\"63591072-bbd7-4b0d-bdf1-309f26368411\",\"subtype\":\"Figure\",\"type\":\"Plot\"},\"ticker\":{\"id\":\"c1c22da9-18ba-494f-93dc-be4155943f50\",\"type\":\"CategoricalTicker\"}},\"id\":\"7b6e2c7a-1226-4b0e-aa9f-f993a85d59f1\",\"type\":\"Grid\"},{\"attributes\":{},\"id\":\"81ada1c5-b912-42fc-aeee-235cad219486\",\"type\":\"BasicTicker\"},{\"attributes\":{\"callback\":null},\"id\":\"c83093ba-5385-4309-bdd5-eb87af15fc0c\",\"type\":\"DataRange1d\"},{\"attributes\":{\"callback\":null,\"plot\":{\"id\":\"7a4a6a1b-feb7-4584-a51f-4f380b4502a1\",\"subtype\":\"Figure\",\"type\":\"Plot\"},\"tooltips\":[[\"category\",\"@x\"],[\"percent\",\"@percent\"]]},\"id\":\"5d7d08af-1bd1-47e3-a0aa-9530dd04d593\",\"type\":\"HoverTool\"},{\"attributes\":{},\"id\":\"5e384984-2a84-4bdd-be58-d6bc42b90672\",\"type\":\"BasicTickFormatter\"},{\"attributes\":{\"callback\":null},\"id\":\"defe71e1-2b12-4cd3-8db9-0a86a736567e\",\"type\":\"DataRange1d\"},{\"attributes\":{\"data_source\":{\"id\":\"ce53c3f1-4805-4891-9f97-7d13d2e56a55\",\"type\":\"ColumnDataSource\"},\"glyph\":{\"id\":\"cea26d01-14f0-45cb-bbfc-e7162a80db70\",\"type\":\"VBar\"},\"hover_glyph\":null,\"nonselection_glyph\":{\"id\":\"b362cc7f-ab8b-46ec-a89b-59cd59724cca\",\"type\":\"VBar\"},\"selection_glyph\":null},\"id\":\"934ee311-655a-46f5-8d8a-1359ffb4145f\",\"type\":\"GlyphRenderer\"},{\"attributes\":{\"below\":[{\"id\":\"8a762ab9-360e-46de-81a7-b3466c1b7a5a\",\"type\":\"CategoricalAxis\"}],\"left\":[{\"id\":\"02718736-6e7f-42ae-86d1-b49d6c80c770\",\"type\":\"LinearAxis\"}],\"plot_height\":280,\"plot_width\":280,\"renderers\":[{\"id\":\"8a762ab9-360e-46de-81a7-b3466c1b7a5a\",\"type\":\"CategoricalAxis\"},{\"id\":\"3bb6227e-5022-432b-b178-10862f91d5a3\",\"type\":\"Grid\"},{\"id\":\"02718736-6e7f-42ae-86d1-b49d6c80c770\",\"type\":\"LinearAxis\"},{\"id\":\"549b1d62-6075-43ef-8419-a55b3b4d4040\",\"type\":\"Grid\"},{\"id\":\"31008bd7-f25d-4eda-b768-94b533faafb3\",\"type\":\"GlyphRenderer\"}],\"title\":null,\"tool_events\":{\"id\":\"719a61fb-1864-43f9-84da-e01364513566\",\"type\":\"ToolEvents\"},\"toolbar\":{\"id\":\"20aa723a-eeab-419f-8764-58fc5b243873\",\"type\":\"Toolbar\"},\"toolbar_location\":null,\"x_range\":{\"id\":\"341488c7-7ed9-4088-aa27-685d7eeb92cd\",\"type\":\"FactorRange\"},\"y_range\":{\"id\":\"9ba61559-2891-4df7-ad7e-984d226a4d86\",\"type\":\"DataRange1d\"}},\"id\":\"6ceb70a4-3bd7-407f-8131-2b6d362726cf\",\"subtype\":\"Figure\",\"type\":\"Plot\"},{\"attributes\":{\"formatter\":{\"id\":\"2380399a-ef5c-4232-a417-c1c7ea66ecd7\",\"type\":\"BasicTickFormatter\"},\"plot\":{\"id\":\"f1dfed20-240a-4bc9-a109-b5c6aad290bf\",\"subtype\":\"Figure\",\"type\":\"Plot\"},\"ticker\":{\"id\":\"2fa20264-8369-4da6-b9fe-165281037e9f\",\"type\":\"BasicTicker\"},\"visible\":false},\"id\":\"4cde499b-02db-45a0-877b-577c9134c272\",\"type\":\"LinearAxis\"},{\"attributes\":{},\"id\":\"37b4b3ea-afc8-40db-802d-d6f2b7cfb50d\",\"type\":\"CategoricalTicker\"},{\"attributes\":{\"callback\":null,\"factors\":[\"Bnk\",\"HLS\",\"Low\",\"Lvl\"]},\"id\":\"ce368227-baae-47d3-8cb5-ac91fcc6b34c\",\"type\":\"FactorRange\"},{\"attributes\":{\"callback\":null},\"id\":\"3d7d3b23-a022-45bf-a983-92857effcf44\",\"type\":\"DataRange1d\"},{\"attributes\":{\"formatter\":{\"id\":\"9482e9f8-cdee-4e08-9e00-75f8921255fc\",\"type\":\"BasicTickFormatter\"},\"plot\":{\"id\":\"efe52ccc-1088-4dc9-8433-9e687655f058\",\"subtype\":\"Figure\",\"type\":\"Plot\"},\"ticker\":{\"id\":\"a3e1222a-4d55-4273-b5fc-5efb9e458403\",\"type\":\"BasicTicker\"},\"visible\":false},\"id\":\"5f9ee443-1a9c-4f77-a7de-f639e2ec844e\",\"type\":\"LinearAxis\"},{\"attributes\":{\"axis_label\":\"BldgType\",\"axis_label_standoff\":-1,\"formatter\":{\"id\":\"955bd738-0f30-4a8e-b876-257a3cd50150\",\"type\":\"CategoricalTickFormatter\"},\"plot\":{\"id\":\"d30830d5-3e36-4d6d-a266-dbaaa647e7c3\",\"subtype\":\"Figure\",\"type\":\"Plot\"},\"ticker\":{\"id\":\"5670d63a-430c-4041-86af-97b43948078e\",\"type\":\"CategoricalTicker\"}},\"id\":\"9cf2365d-1bf4-4f54-a2fb-176602720db7\",\"type\":\"CategoricalAxis\"},{\"attributes\":{\"fill_alpha\":{\"value\":0.1},\"fill_color\":{\"value\":\"#1f77b4\"},\"line_alpha\":{\"value\":0.1},\"line_color\":{\"value\":\"#1f77b4\"},\"top\":{\"field\":\"y\"},\"width\":{\"value\":0.5},\"x\":{\"field\":\"x\"}},\"id\":\"d4defd81-8a45-4e2a-95ec-692f1a3fb7b3\",\"type\":\"VBar\"},{\"attributes\":{},\"id\":\"1bccd376-93df-48c0-9434-33cbbe75e80f\",\"type\":\"CategoricalTickFormatter\"},{\"attributes\":{},\"id\":\"d0d088da-b5f6-42f7-ac47-c23a56ae58bc\",\"type\":\"CategoricalTickFormatter\"},{\"attributes\":{\"below\":[{\"id\":\"e7c5d79a-6b17-43f0-a19f-c3b9510cc7fb\",\"type\":\"CategoricalAxis\"}],\"left\":[{\"id\":\"d5f3f123-3787-4f06-aaee-ed97eba68da4\",\"type\":\"LinearAxis\"}],\"plot_height\":280,\"plot_width\":280,\"renderers\":[{\"id\":\"e7c5d79a-6b17-43f0-a19f-c3b9510cc7fb\",\"type\":\"CategoricalAxis\"},{\"id\":\"64244974-b991-4c34-bf65-05cf4f673f92\",\"type\":\"Grid\"},{\"id\":\"d5f3f123-3787-4f06-aaee-ed97eba68da4\",\"type\":\"LinearAxis\"},{\"id\":\"a83085f2-e370-44ca-be64-d46b84618fee\",\"type\":\"Grid\"},{\"id\":\"ec901f16-e6b6-4bb7-b8f8-ab40c942971e\",\"type\":\"GlyphRenderer\"}],\"title\":null,\"tool_events\":{\"id\":\"e1252594-3d04-47d0-b942-adae434d47c9\",\"type\":\"ToolEvents\"},\"toolbar\":{\"id\":\"ab9d3b4f-f5d3-4984-8149-394ad1176f09\",\"type\":\"Toolbar\"},\"toolbar_location\":null,\"x_range\":{\"id\":\"e133f9ef-53a0-4ed5-b86b-f79f5c94420f\",\"type\":\"FactorRange\"},\"y_range\":{\"id\":\"ada58ade-1f45-4d80-97e3-9c983e72901e\",\"type\":\"DataRange1d\"}},\"id\":\"f584a782-04af-4297-9b33-cfa2b70f63d2\",\"subtype\":\"Figure\",\"type\":\"Plot\"},{\"attributes\":{\"callback\":null,\"plot\":{\"id\":\"bd937234-1d5c-473b-9719-6f8e3da4efb7\",\"subtype\":\"Figure\",\"type\":\"Plot\"},\"tooltips\":[[\"category\",\"@x\"],[\"percent\",\"@percent\"]]},\"id\":\"6cede237-ddb7-4e73-89f3-2c534fcfacba\",\"type\":\"HoverTool\"},{\"attributes\":{},\"id\":\"f9c508a3-0829-43de-bfc9-45117bb75ab0\",\"type\":\"CategoricalTickFormatter\"},{\"attributes\":{\"active_drag\":\"auto\",\"active_scroll\":\"auto\",\"active_tap\":\"auto\",\"tools\":[{\"id\":\"86d8f773-46bf-4fcf-a52a-a9e3284e652d\",\"type\":\"HoverTool\"}]},\"id\":\"250f627b-bee1-4149-85ca-d7fe4431e111\",\"type\":\"Toolbar\"},{\"attributes\":{\"callback\":null,\"factors\":[\"Artery\",\"Feedr\",\"Norm\",\"PosA\",\"PosN\",\"RRAe\",\"RRAn\",\"RRNn\"]},\"id\":\"f2d67f02-29eb-4579-a31d-8929878a1aff\",\"type\":\"FactorRange\"},{\"attributes\":{\"data_source\":{\"id\":\"1e032f97-8c0b-4d11-8e92-0cec25f93c5f\",\"type\":\"ColumnDataSource\"},\"glyph\":{\"id\":\"d519c8fd-6f41-43c0-baf8-9bde6c37937e\",\"type\":\"VBar\"},\"hover_glyph\":null,\"nonselection_glyph\":{\"id\":\"4fa3f95d-5302-4ce7-abee-47b9a049bf9e\",\"type\":\"VBar\"},\"selection_glyph\":null},\"id\":\"2a9f789d-e85c-40c4-b4d0-0c334754d815\",\"type\":\"GlyphRenderer\"},{\"attributes\":{\"active_drag\":\"auto\",\"active_scroll\":\"auto\",\"active_tap\":\"auto\",\"tools\":[{\"id\":\"2d305d7b-7e21-4d93-bcc1-7c0911330b5b\",\"type\":\"HoverTool\"}]},\"id\":\"b21a54bf-9a0c-4fe1-9754-8253dabb6228\",\"type\":\"Toolbar\"},{\"attributes\":{\"callback\":null,\"factors\":[\"2006\",\"2007\",\"2008\",\"2009\",\"2010\"]},\"id\":\"7cb05520-0544-4786-9ec9-5ebcbd8841f4\",\"type\":\"FactorRange\"},{\"attributes\":{\"callback\":null,\"column_names\":[\"y\",\"x\",\"percent\"],\"data\":{\"percent\":[\"0.411%\",\"99.6%\"],\"x\":[\"Grvl\",\"Pave\"],\"y\":[6,1454]}},\"id\":\"16a4f33c-e55c-49b7-8c8e-3a69eeaeedc9\",\"type\":\"ColumnDataSource\"},{\"attributes\":{},\"id\":\"fd67853a-c6c6-4ec1-ac8b-2463db8c3bdd\",\"type\":\"BasicTickFormatter\"},{\"attributes\":{},\"id\":\"d71b7751-c262-43a2-8ebd-f419f483079b\",\"type\":\"BasicTickFormatter\"},{\"attributes\":{\"below\":[{\"id\":\"023a54c5-5e53-465d-85bc-25f5a3155076\",\"type\":\"CategoricalAxis\"}],\"left\":[{\"id\":\"9e70bffd-0645-4f3f-8ffe-b3c625aa3daf\",\"type\":\"LinearAxis\"}],\"plot_height\":280,\"plot_width\":280,\"renderers\":[{\"id\":\"023a54c5-5e53-465d-85bc-25f5a3155076\",\"type\":\"CategoricalAxis\"},{\"id\":\"0e31467f-5fb5-49d7-a516-9a2ad6e50094\",\"type\":\"Grid\"},{\"id\":\"9e70bffd-0645-4f3f-8ffe-b3c625aa3daf\",\"type\":\"LinearAxis\"},{\"id\":\"de938d50-045d-4f15-baa5-fee45e83ad59\",\"type\":\"Grid\"},{\"id\":\"b4f473e1-8a31-4367-b517-01ab9295a718\",\"type\":\"GlyphRenderer\"}],\"title\":null,\"tool_events\":{\"id\":\"aec9bccf-faa3-4078-9b63-e80acdeadc76\",\"type\":\"ToolEvents\"},\"toolbar\":{\"id\":\"c9141680-bd61-4b36-87fc-32c7d6c91175\",\"type\":\"Toolbar\"},\"toolbar_location\":null,\"x_range\":{\"id\":\"32ef4b4b-9aca-49a8-bea7-b5d41e2a05ed\",\"type\":\"FactorRange\"},\"y_range\":{\"id\":\"cc767ba4-fef5-4917-85ef-48619aba0756\",\"type\":\"DataRange1d\"}},\"id\":\"e81f95b7-22a1-4308-a527-4afbd98198c6\",\"subtype\":\"Figure\",\"type\":\"Plot\"},{\"attributes\":{},\"id\":\"042a0797-e2b6-49f6-8d05-b018501b1d6b\",\"type\":\"ToolEvents\"},{\"attributes\":{\"fill_alpha\":{\"value\":0.1},\"fill_color\":{\"value\":\"#1f77b4\"},\"line_alpha\":{\"value\":0.1},\"line_color\":{\"value\":\"#1f77b4\"},\"top\":{\"field\":\"y\"},\"width\":{\"value\":0.5},\"x\":{\"field\":\"x\"}},\"id\":\"b362cc7f-ab8b-46ec-a89b-59cd59724cca\",\"type\":\"VBar\"},{\"attributes\":{\"callback\":null,\"plot\":{\"id\":\"ed58ce59-9feb-4fe7-99d1-4f27a9de1197\",\"subtype\":\"Figure\",\"type\":\"Plot\"},\"tooltips\":[[\"category\",\"@x\"],[\"percent\",\"@percent\"]]},\"id\":\"ff9bbc3d-b4c2-42c0-b14f-41e44cf3f5db\",\"type\":\"HoverTool\"},{\"attributes\":{\"dimension\":1,\"plot\":{\"id\":\"d7d96d65-8344-4652-a2b5-ed1edda72479\",\"subtype\":\"Figure\",\"type\":\"Plot\"},\"ticker\":{\"id\":\"df4b800e-101c-44d8-9490-f16ce325647c\",\"type\":\"BasicTicker\"}},\"id\":\"a7a2184d-e442-4572-bd50-7e1c923f03a5\",\"type\":\"Grid\"},{\"attributes\":{\"axis_label\":\"Condition1\",\"axis_label_standoff\":-1,\"formatter\":{\"id\":\"89410988-2ebd-4b20-9a3f-5b65fbafbc59\",\"type\":\"CategoricalTickFormatter\"},\"plot\":{\"id\":\"722940e9-fd7c-4e4f-a184-76c7dd0dfb45\",\"subtype\":\"Figure\",\"type\":\"Plot\"},\"ticker\":{\"id\":\"8c7a040b-ab61-4bde-9fc3-f3833c18a517\",\"type\":\"CategoricalTicker\"}},\"id\":\"ce5d1c05-195b-45f1-ab51-cea21365a855\",\"type\":\"CategoricalAxis\"},{\"attributes\":{\"active_drag\":\"auto\",\"active_scroll\":\"auto\",\"active_tap\":\"auto\",\"tools\":[{\"id\":\"4f946e33-a764-4899-8474-9e790c2169ed\",\"type\":\"HoverTool\"}]},\"id\":\"a3ff3852-39d8-43fb-a9b4-abda67a429db\",\"type\":\"Toolbar\"},{\"attributes\":{\"formatter\":{\"id\":\"8ecf07f6-9d6a-4fe2-91b2-b93055184e8f\",\"type\":\"BasicTickFormatter\"},\"plot\":{\"id\":\"cb04c9b6-2792-4588-807e-2f34cec3095d\",\"subtype\":\"Figure\",\"type\":\"Plot\"},\"ticker\":{\"id\":\"fd151f82-c824-4c58-aaae-71ecb6f3fac3\",\"type\":\"BasicTicker\"},\"visible\":false},\"id\":\"2fe2993a-d9ef-4974-9fed-ee6a2674e291\",\"type\":\"LinearAxis\"},{\"attributes\":{\"plot\":{\"id\":\"e28c73b6-0633-4af2-91c2-8d6057d5e23c\",\"subtype\":\"Figure\",\"type\":\"Plot\"},\"ticker\":{\"id\":\"11b90ea3-c225-4b49-bc2b-0a3c925416bb\",\"type\":\"CategoricalTicker\"}},\"id\":\"2fc1162e-0daa-4b5c-95e3-8592e1370ae4\",\"type\":\"Grid\"},{\"attributes\":{\"dimension\":1,\"plot\":{\"id\":\"407e2119-03f6-436e-9d72-0edfa14fd5ff\",\"subtype\":\"Figure\",\"type\":\"Plot\"},\"ticker\":{\"id\":\"28a66831-daf7-471b-98e8-ff7384a01766\",\"type\":\"BasicTicker\"}},\"id\":\"6ffecbdb-005d-4ac8-839d-10e342f455be\",\"type\":\"Grid\"},{\"attributes\":{\"below\":[{\"id\":\"c42dda42-3abf-476a-bdc3-14ea3fa473d5\",\"type\":\"CategoricalAxis\"}],\"left\":[{\"id\":\"bd670f34-4c68-4921-86fa-252abcbe2ed5\",\"type\":\"LinearAxis\"}],\"plot_height\":280,\"plot_width\":280,\"renderers\":[{\"id\":\"c42dda42-3abf-476a-bdc3-14ea3fa473d5\",\"type\":\"CategoricalAxis\"},{\"id\":\"33780ea8-e6ef-45e2-b843-aa1a51dddd96\",\"type\":\"Grid\"},{\"id\":\"bd670f34-4c68-4921-86fa-252abcbe2ed5\",\"type\":\"LinearAxis\"},{\"id\":\"6c9af326-e2b1-41ed-a1fd-d1c4b8ae8a77\",\"type\":\"Grid\"},{\"id\":\"2a9f789d-e85c-40c4-b4d0-0c334754d815\",\"type\":\"GlyphRenderer\"}],\"title\":null,\"tool_events\":{\"id\":\"e6202542-52ff-4136-a0a4-174fadf7d7c0\",\"type\":\"ToolEvents\"},\"toolbar\":{\"id\":\"a3ff3852-39d8-43fb-a9b4-abda67a429db\",\"type\":\"Toolbar\"},\"toolbar_location\":null,\"x_range\":{\"id\":\"3e11bd87-6da4-4d0a-ad32-102607abc166\",\"type\":\"FactorRange\"},\"y_range\":{\"id\":\"1b4b0e7d-7560-4a07-9651-a75006acebb4\",\"type\":\"DataRange1d\"}},\"id\":\"912438ae-1a2a-414e-b053-35282eff37f4\",\"subtype\":\"Figure\",\"type\":\"Plot\"},{\"attributes\":{\"fill_alpha\":{\"value\":0.1},\"fill_color\":{\"value\":\"#1f77b4\"},\"line_alpha\":{\"value\":0.1},\"line_color\":{\"value\":\"#1f77b4\"},\"top\":{\"field\":\"y\"},\"width\":{\"value\":0.5},\"x\":{\"field\":\"x\"}},\"id\":\"8aee9fcd-3b32-46bc-b791-0a4c677e2cfe\",\"type\":\"VBar\"},{\"attributes\":{\"data_source\":{\"id\":\"932c458d-5aa1-40b7-a271-f93a3aa0e3ec\",\"type\":\"ColumnDataSource\"},\"glyph\":{\"id\":\"22426807-acc7-4f9c-a2ba-5cf289d891c2\",\"type\":\"VBar\"},\"hover_glyph\":null,\"nonselection_glyph\":{\"id\":\"0f3a2c14-a03b-4727-8d91-12d4c9c97628\",\"type\":\"VBar\"},\"selection_glyph\":null},\"id\":\"c348add4-d50a-477b-b5a8-81d3fe6388df\",\"type\":\"GlyphRenderer\"},{\"attributes\":{\"fill_color\":{\"value\":\"#1f77b4\"},\"line_color\":{\"value\":\"#1f77b4\"},\"top\":{\"field\":\"y\"},\"width\":{\"value\":0.5},\"x\":{\"field\":\"x\"}},\"id\":\"7c82574a-0fbc-45d5-bcee-0b6a8047fc28\",\"type\":\"VBar\"},{\"attributes\":{\"fill_color\":{\"value\":\"#1f77b4\"},\"line_color\":{\"value\":\"#1f77b4\"},\"top\":{\"field\":\"y\"},\"width\":{\"value\":0.5},\"x\":{\"field\":\"x\"}},\"id\":\"e19d087f-0110-4e29-b073-658606586fe8\",\"type\":\"VBar\"},{\"attributes\":{\"active_drag\":\"auto\",\"active_scroll\":\"auto\",\"active_tap\":\"auto\",\"tools\":[{\"id\":\"08670fa9-023d-4594-b480-35bb05c4cd9b\",\"type\":\"HoverTool\"}]},\"id\":\"3e6bbd41-62d1-40f5-a379-e5b1e4aaf53e\",\"type\":\"Toolbar\"},{\"attributes\":{},\"id\":\"d99f0929-073d-4f30-a198-2865d1c300a6\",\"type\":\"CategoricalTickFormatter\"},{\"attributes\":{\"axis_label\":\"YrSold\",\"axis_label_standoff\":-1,\"formatter\":{\"id\":\"a38992e4-488a-4ff7-929e-c1b0ef7f052f\",\"type\":\"CategoricalTickFormatter\"},\"plot\":{\"id\":\"3eba35cf-e23d-4c2a-b555-b885e496ea54\",\"subtype\":\"Figure\",\"type\":\"Plot\"},\"ticker\":{\"id\":\"36f670e7-7034-44c4-a85a-2115617f2680\",\"type\":\"CategoricalTicker\"}},\"id\":\"7a1412a7-193c-4a09-8cbe-80dccc3da2bd\",\"type\":\"CategoricalAxis\"},{\"attributes\":{},\"id\":\"7d7539c6-5400-4fec-a591-a7b807bd762e\",\"type\":\"ToolEvents\"},{\"attributes\":{},\"id\":\"a62a0d1f-245e-44de-9c11-b1f5839aca57\",\"type\":\"CategoricalTicker\"},{\"attributes\":{\"callback\":null,\"column_names\":[\"y\",\"x\",\"percent\"],\"data\":{\"percent\":[\"3.29%\",\"5.55%\",\"86.3%\",\"0.548%\",\"1.3%\",\"0.753%\",\"1.78%\",\"0.137%\",\"0.342%\"],\"x\":[\"Artery\",\"Feedr\",\"Norm\",\"PosA\",\"PosN\",\"RRAe\",\"RRAn\",\"RRNe\",\"RRNn\"],\"y\":[48,81,1260,8,19,11,26,2,5]}},\"id\":\"49e606db-866a-404c-a357-9a5ebb80aad6\",\"type\":\"ColumnDataSource\"},{\"attributes\":{\"below\":[{\"id\":\"61c272f6-ed99-48df-8a52-00187843252a\",\"type\":\"CategoricalAxis\"}],\"left\":[{\"id\":\"a1cf666e-c80f-410c-a917-711917818674\",\"type\":\"LinearAxis\"}],\"plot_height\":280,\"plot_width\":280,\"renderers\":[{\"id\":\"61c272f6-ed99-48df-8a52-00187843252a\",\"type\":\"CategoricalAxis\"},{\"id\":\"b72f9938-8143-49a1-8c72-85c93acebf03\",\"type\":\"Grid\"},{\"id\":\"a1cf666e-c80f-410c-a917-711917818674\",\"type\":\"LinearAxis\"},{\"id\":\"1d397990-3033-42a2-9cc1-ccce618bbfea\",\"type\":\"Grid\"},{\"id\":\"06d4e669-b249-4288-a33c-785356a414c3\",\"type\":\"GlyphRenderer\"}],\"title\":null,\"tool_events\":{\"id\":\"264e5b3d-57e5-4737-b019-c97090ec92fd\",\"type\":\"ToolEvents\"},\"toolbar\":{\"id\":\"6f863465-dae6-4bca-9b23-31f836006b09\",\"type\":\"Toolbar\"},\"toolbar_location\":null,\"x_range\":{\"id\":\"ce368227-baae-47d3-8cb5-ac91fcc6b34c\",\"type\":\"FactorRange\"},\"y_range\":{\"id\":\"d9347979-8a3a-4b01-a825-520cc57a87a9\",\"type\":\"DataRange1d\"}},\"id\":\"3fb79034-c49d-46c1-bbb3-1494bc08b6af\",\"subtype\":\"Figure\",\"type\":\"Plot\"},{\"attributes\":{},\"id\":\"641f7d23-83a1-4812-987c-af162126243b\",\"type\":\"ToolEvents\"},{\"attributes\":{\"formatter\":{\"id\":\"57eba88f-8824-4abd-96e6-73bb01f8d115\",\"type\":\"BasicTickFormatter\"},\"plot\":{\"id\":\"d30830d5-3e36-4d6d-a266-dbaaa647e7c3\",\"subtype\":\"Figure\",\"type\":\"Plot\"},\"ticker\":{\"id\":\"60a7c95a-841e-4ac4-9d53-7f772ed03cb7\",\"type\":\"BasicTicker\"},\"visible\":false},\"id\":\"05ab2e14-84ee-4064-a55b-541c22b89a58\",\"type\":\"LinearAxis\"},{\"attributes\":{\"below\":[{\"id\":\"4e5a30b1-02ee-4318-98e2-5e242451f9b1\",\"type\":\"CategoricalAxis\"}],\"left\":[{\"id\":\"c600327d-ff30-405c-8584-ec4521d22ee3\",\"type\":\"LinearAxis\"}],\"plot_height\":280,\"plot_width\":280,\"renderers\":[{\"id\":\"4e5a30b1-02ee-4318-98e2-5e242451f9b1\",\"type\":\"CategoricalAxis\"},{\"id\":\"f3ed6322-376d-4c2a-85c1-0a13db3e4ac4\",\"type\":\"Grid\"},{\"id\":\"c600327d-ff30-405c-8584-ec4521d22ee3\",\"type\":\"LinearAxis\"},{\"id\":\"58c8a066-ce34-4288-ac52-75d7d7e20504\",\"type\":\"Grid\"},{\"id\":\"c053b9c2-ed0a-4441-a75f-e16a0f018a91\",\"type\":\"GlyphRenderer\"}],\"title\":null,\"tool_events\":{\"id\":\"c8b0da31-afa4-4cdc-a514-252d60da38d0\",\"type\":\"ToolEvents\"},\"toolbar\":{\"id\":\"2bbc25bc-eeef-4338-ab8c-e061d92e27b3\",\"type\":\"Toolbar\"},\"toolbar_location\":null,\"x_range\":{\"id\":\"89152820-d36c-445e-b369-dd4702d48ed1\",\"type\":\"FactorRange\"},\"y_range\":{\"id\":\"c3b3990f-ec12-47d9-b1c6-ed0d9bdce904\",\"type\":\"DataRange1d\"}},\"id\":\"20b68d48-f521-4eb5-aac3-496e5a3d0f9b\",\"subtype\":\"Figure\",\"type\":\"Plot\"},{\"attributes\":{\"callback\":null,\"plot\":{\"id\":\"ea2569aa-9b02-4c0d-919d-a5db66bd2426\",\"subtype\":\"Figure\",\"type\":\"Plot\"},\"tooltips\":[[\"category\",\"@x\"],[\"percent\",\"@percent\"]]},\"id\":\"1945afdb-b011-485a-8a20-6300e963de8c\",\"type\":\"HoverTool\"},{\"attributes\":{},\"id\":\"d32b450c-2ce9-448f-b74b-9b2d2db291fc\",\"type\":\"ToolEvents\"},{\"attributes\":{\"plot\":{\"id\":\"9f450253-495d-4765-a3bb-69fb2c6102d7\",\"subtype\":\"Figure\",\"type\":\"Plot\"},\"ticker\":{\"id\":\"96f911e3-058f-49fc-8563-ff97e5116ba7\",\"type\":\"CategoricalTicker\"}},\"id\":\"ed732253-123e-425f-aa83-3795150874f6\",\"type\":\"Grid\"},{\"attributes\":{\"formatter\":{\"id\":\"adc9a2ea-33f1-4606-8053-853ab098259d\",\"type\":\"BasicTickFormatter\"},\"plot\":{\"id\":\"09dcb3ea-fe20-46a5-b2fb-be53f38c28ef\",\"subtype\":\"Figure\",\"type\":\"Plot\"},\"ticker\":{\"id\":\"64ac591d-d1e4-4779-8116-9b7ed4d71dc7\",\"type\":\"BasicTicker\"},\"visible\":false},\"id\":\"66ac3bef-4f4f-431e-a478-41878ab4319f\",\"type\":\"LinearAxis\"},{\"attributes\":{\"dimension\":1,\"plot\":{\"id\":\"d66c958d-1e3e-4cf8-8df5-33dd32e7c442\",\"subtype\":\"Figure\",\"type\":\"Plot\"},\"ticker\":{\"id\":\"81ada1c5-b912-42fc-aeee-235cad219486\",\"type\":\"BasicTicker\"}},\"id\":\"2fdf7efb-fcfe-4315-9209-9c23a678f8ed\",\"type\":\"Grid\"},{\"attributes\":{\"callback\":null,\"column_names\":[\"y\",\"x\",\"percent\"],\"data\":{\"percent\":[\"15.5%\",\"10.4%\",\"29.4%\",\"5.2%\",\"9.35%\",\"30.2%\"],\"x\":[\"ALQ\",\"BLQ\",\"GLQ\",\"LwQ\",\"Rec\",\"Unf\"],\"y\":[220,148,418,74,133,430]}},\"id\":\"8881bdff-9465-4a0d-9329-65d81eb60534\",\"type\":\"ColumnDataSource\"},{\"attributes\":{\"data_source\":{\"id\":\"7436ac4d-36a4-4f71-b678-af357b0e35fb\",\"type\":\"ColumnDataSource\"},\"glyph\":{\"id\":\"1483fbc5-046b-4cda-9576-025f48fd52d3\",\"type\":\"VBar\"},\"hover_glyph\":null,\"nonselection_glyph\":{\"id\":\"a2a5d1fc-82dc-46e7-9538-dc0ca2f8846b\",\"type\":\"VBar\"},\"selection_glyph\":null},\"id\":\"9728c124-f139-42f1-abf8-6a1879695d37\",\"type\":\"GlyphRenderer\"},{\"attributes\":{},\"id\":\"a76ead06-37d2-4ac3-83d2-9938c2572fbe\",\"type\":\"CategoricalTickFormatter\"},{\"attributes\":{},\"id\":\"a5e666fb-86ee-485e-af66-8e7e2e9113b7\",\"type\":\"ToolEvents\"},{\"attributes\":{},\"id\":\"9c750931-fdbc-49b6-b334-85d62ba14463\",\"type\":\"BasicTickFormatter\"},{\"attributes\":{\"fill_alpha\":{\"value\":0.1},\"fill_color\":{\"value\":\"#1f77b4\"},\"line_alpha\":{\"value\":0.1},\"line_color\":{\"value\":\"#1f77b4\"},\"top\":{\"field\":\"y\"},\"width\":{\"value\":0.5},\"x\":{\"field\":\"x\"}},\"id\":\"b7db57ba-b1f7-404c-84d6-535efcd588ec\",\"type\":\"VBar\"},{\"attributes\":{\"dimension\":1,\"plot\":{\"id\":\"63591072-bbd7-4b0d-bdf1-309f26368411\",\"subtype\":\"Figure\",\"type\":\"Plot\"},\"ticker\":{\"id\":\"7c5470a6-9dc2-44e9-96b1-9c6d2a0a7485\",\"type\":\"BasicTicker\"}},\"id\":\"64590458-ecb1-4d35-8f56-57170c85f92b\",\"type\":\"Grid\"},{\"attributes\":{},\"id\":\"b3c0c53c-d829-4e6b-9da0-ea6356a1ceb0\",\"type\":\"CategoricalTicker\"},{\"attributes\":{\"callback\":null,\"column_names\":[\"y\",\"x\",\"percent\"],\"data\":{\"percent\":[\"0.137%\",\"0.205%\",\"1.37%\",\"7.95%\",\"27.2%\",\"25.6%\",\"21.8%\",\"11.5%\",\"2.95%\",\"1.23%\"],\"x\":[\"1\",\"2\",\"3\",\"4\",\"5\",\"6\",\"7\",\"8\",\"9\",\"10\"],\"y\":[2,3,20,116,397,374,319,168,43,18]}},\"id\":\"0a04b96f-ed58-4952-baee-964d17f87961\",\"type\":\"ColumnDataSource\"},{\"attributes\":{\"below\":[{\"id\":\"e57b57f9-e28b-4863-8e68-2dbbe315fa12\",\"type\":\"CategoricalAxis\"}],\"left\":[{\"id\":\"2f39f3c5-7c2a-4b07-8c1e-4bcfe207ee9b\",\"type\":\"LinearAxis\"}],\"plot_height\":280,\"plot_width\":280,\"renderers\":[{\"id\":\"e57b57f9-e28b-4863-8e68-2dbbe315fa12\",\"type\":\"CategoricalAxis\"},{\"id\":\"befb3bee-f0e8-46fc-8b5f-8f86a29824b1\",\"type\":\"Grid\"},{\"id\":\"2f39f3c5-7c2a-4b07-8c1e-4bcfe207ee9b\",\"type\":\"LinearAxis\"},{\"id\":\"6ff847ed-4ca6-4403-ab40-1b86ddf059e6\",\"type\":\"Grid\"},{\"id\":\"ae782e19-266d-469b-bac2-07eb75ca1072\",\"type\":\"GlyphRenderer\"}],\"title\":null,\"tool_events\":{\"id\":\"f6177bdd-d5a5-4ec4-9080-24ae2e7dafb3\",\"type\":\"ToolEvents\"},\"toolbar\":{\"id\":\"bce0fcda-2097-4dcb-aa23-5749f5873e38\",\"type\":\"Toolbar\"},\"toolbar_location\":null,\"x_range\":{\"id\":\"0240d029-8d66-4198-9329-e1a06e1e012a\",\"type\":\"FactorRange\"},\"y_range\":{\"id\":\"42113bc6-0a3e-4783-a78c-fe4b41468910\",\"type\":\"DataRange1d\"}},\"id\":\"a6ed27c2-1c61-4758-b0c5-2d176040f858\",\"subtype\":\"Figure\",\"type\":\"Plot\"},{\"attributes\":{\"callback\":null,\"column_names\":[\"y\",\"x\",\"percent\"],\"data\":{\"percent\":[\"1.37%\",\"0.0685%\",\"0.137%\",\"3.42%\",\"0.0685%\",\"4.18%\",\"15.2%\",\"0.0685%\",\"15.1%\",\"7.4%\",\"0.137%\",\"1.71%\",\"35.3%\",\"14.1%\",\"1.78%\"],\"x\":[\"AsbShng\",\"AsphShn\",\"BrkComm\",\"BrkFace\",\"CBlock\",\"CemntBd\",\"HdBoard\",\"ImStucc\",\"MetalSd\",\"Plywood\",\"Stone\",\"Stucco\",\"VinylSd\",\"Wd Sdng\",\"WdShing\"],\"y\":[20,1,2,50,1,61,222,1,220,108,2,25,515,206,26]}},\"id\":\"8f0a3949-09e2-417a-a324-3ffa96726f3f\",\"type\":\"ColumnDataSource\"},{\"attributes\":{\"dimension\":1,\"plot\":{\"id\":\"2bd6175e-b0c1-4f1b-86d2-5fb74fb04c34\",\"subtype\":\"Figure\",\"type\":\"Plot\"},\"ticker\":{\"id\":\"4bb0d87d-ee9e-4ec5-b928-2d9e38cfacd8\",\"type\":\"BasicTicker\"}},\"id\":\"4cca6721-1bb1-4098-bf94-f4f14e09b7a3\",\"type\":\"Grid\"},{\"attributes\":{},\"id\":\"2380399a-ef5c-4232-a417-c1c7ea66ecd7\",\"type\":\"BasicTickFormatter\"},{\"attributes\":{\"callback\":null,\"factors\":[\"Grvl\",\"Pave\"]},\"id\":\"d28e94eb-96f3-4c27-8be3-641e67910aa7\",\"type\":\"FactorRange\"},{\"attributes\":{},\"id\":\"34159094-c8d6-4508-a3c0-5bd5a0255d50\",\"type\":\"CategoricalTickFormatter\"},{\"attributes\":{\"below\":[{\"id\":\"4d17d5ab-8d01-4144-833d-769a1c3fd9ba\",\"type\":\"CategoricalAxis\"}],\"left\":[{\"id\":\"73707b6f-62ae-46b1-ba5f-16840bd96d8d\",\"type\":\"LinearAxis\"}],\"plot_height\":280,\"plot_width\":280,\"renderers\":[{\"id\":\"4d17d5ab-8d01-4144-833d-769a1c3fd9ba\",\"type\":\"CategoricalAxis\"},{\"id\":\"742eafcc-a233-4fb4-b51f-7db409e0fa1d\",\"type\":\"Grid\"},{\"id\":\"73707b6f-62ae-46b1-ba5f-16840bd96d8d\",\"type\":\"LinearAxis\"},{\"id\":\"6ffecbdb-005d-4ac8-839d-10e342f455be\",\"type\":\"Grid\"},{\"id\":\"e7d3c8be-13f8-42e4-a8ac-4819698a317f\",\"type\":\"GlyphRenderer\"}],\"title\":null,\"tool_events\":{\"id\":\"360b7391-feab-4563-9f54-3d920ae99b0c\",\"type\":\"ToolEvents\"},\"toolbar\":{\"id\":\"929ac761-d71e-44ce-a1aa-ba06dd863cb4\",\"type\":\"Toolbar\"},\"toolbar_location\":null,\"x_range\":{\"id\":\"d4bfb627-4d17-4267-87c0-965fd1e6379b\",\"type\":\"FactorRange\"},\"y_range\":{\"id\":\"41f89a9c-915e-42be-a871-bf1cffb802e6\",\"type\":\"DataRange1d\"}},\"id\":\"407e2119-03f6-436e-9d72-0edfa14fd5ff\",\"subtype\":\"Figure\",\"type\":\"Plot\"},{\"attributes\":{\"formatter\":{\"id\":\"dadf90e9-09e4-443a-91be-cc560c31fe17\",\"type\":\"BasicTickFormatter\"},\"plot\":{\"id\":\"a16ed0bb-4306-49f1-b56e-7e7ed265efba\",\"subtype\":\"Figure\",\"type\":\"Plot\"},\"ticker\":{\"id\":\"4e9d037b-1bef-46cc-805f-f81852012b86\",\"type\":\"BasicTicker\"},\"visible\":false},\"id\":\"9ca6e55a-c319-4029-9340-3043161ed4c1\",\"type\":\"LinearAxis\"},{\"attributes\":{\"callback\":null,\"factors\":[\"Ex\",\"Fa\",\"Gd\",\"TA\"]},\"id\":\"5230c39f-0a91-430a-9059-f58acb77e95d\",\"type\":\"FactorRange\"},{\"attributes\":{\"active_drag\":\"auto\",\"active_scroll\":\"auto\",\"active_tap\":\"auto\",\"tools\":[{\"id\":\"0be85c72-92de-4cd1-b3cc-db903f0fe7c8\",\"type\":\"HoverTool\"}]},\"id\":\"03d415d8-1f12-4532-9ee6-8cc454bfa68e\",\"type\":\"Toolbar\"},{\"attributes\":{\"below\":[{\"id\":\"a0230fd7-95e6-4b6d-9ff8-055a1ca21976\",\"type\":\"CategoricalAxis\"}],\"left\":[{\"id\":\"3b341df5-b0f3-46d6-9ad5-a53ee82fbd7c\",\"type\":\"LinearAxis\"}],\"plot_height\":280,\"plot_width\":280,\"renderers\":[{\"id\":\"a0230fd7-95e6-4b6d-9ff8-055a1ca21976\",\"type\":\"CategoricalAxis\"},{\"id\":\"bad606f8-d2b1-4dc4-a57a-7e81cf8d53d4\",\"type\":\"Grid\"},{\"id\":\"3b341df5-b0f3-46d6-9ad5-a53ee82fbd7c\",\"type\":\"LinearAxis\"},{\"id\":\"5e4091e9-7ee3-4faf-bae5-03f4dd049814\",\"type\":\"Grid\"},{\"id\":\"45439408-39db-40f6-8e77-b28bdc73f396\",\"type\":\"GlyphRenderer\"}],\"title\":null,\"tool_events\":{\"id\":\"a19c93f0-0f65-42d9-bb41-9aa02e78c121\",\"type\":\"ToolEvents\"},\"toolbar\":{\"id\":\"bb43c398-a573-4e27-8758-541e4cf91d18\",\"type\":\"Toolbar\"},\"toolbar_location\":null,\"x_range\":{\"id\":\"37aaaa58-a46b-4137-bf65-11890919dca9\",\"type\":\"FactorRange\"},\"y_range\":{\"id\":\"e8cbb618-4d67-4766-b636-8fe8cb77d8d7\",\"type\":\"DataRange1d\"}},\"id\":\"cc580fc7-55ff-495e-ade9-ff6fd30d4b78\",\"subtype\":\"Figure\",\"type\":\"Plot\"},{\"attributes\":{},\"id\":\"3fc66504-99ef-47c5-9924-bc6098239775\",\"type\":\"CategoricalTickFormatter\"},{\"attributes\":{\"callback\":null,\"column_names\":[\"y\",\"x\",\"percent\"],\"data\":{\"percent\":[\"4.32%\",\"3.42%\",\"2.47%\",\"89.8%\"],\"x\":[\"Bnk\",\"HLS\",\"Low\",\"Lvl\"],\"y\":[63,50,36,1311]}},\"id\":\"68b827f8-50c2-4b6e-a861-593d4663ecc5\",\"type\":\"ColumnDataSource\"},{\"attributes\":{\"callback\":null},\"id\":\"73c07ad9-7c5e-4c88-bf46-3d378c025a22\",\"type\":\"DataRange1d\"},{\"attributes\":{\"callback\":null,\"column_names\":[\"y\",\"x\",\"percent\"],\"data\":{\"percent\":[\"0.205%\",\"1.92%\",\"10.0%\",\"0.0685%\",\"87.8%\"],\"x\":[\"Ex\",\"Fa\",\"Gd\",\"Po\",\"TA\"],\"y\":[3,28,146,1,1282]}},\"id\":\"c0cf64dd-c435-43bd-809b-c9c2436c2455\",\"type\":\"ColumnDataSource\"},{\"attributes\":{},\"id\":\"aa7c2dbe-1621-47d8-9801-7071a8a2d350\",\"type\":\"ToolEvents\"},{\"attributes\":{\"fill_alpha\":{\"value\":0.1},\"fill_color\":{\"value\":\"#1f77b4\"},\"line_alpha\":{\"value\":0.1},\"line_color\":{\"value\":\"#1f77b4\"},\"top\":{\"field\":\"y\"},\"width\":{\"value\":0.5},\"x\":{\"field\":\"x\"}},\"id\":\"a2a5d1fc-82dc-46e7-9538-dc0ca2f8846b\",\"type\":\"VBar\"},{\"attributes\":{\"plot\":{\"id\":\"cc580fc7-55ff-495e-ade9-ff6fd30d4b78\",\"subtype\":\"Figure\",\"type\":\"Plot\"},\"ticker\":{\"id\":\"4302ad5c-5c12-438c-8a9d-21af7370b207\",\"type\":\"CategoricalTicker\"}},\"id\":\"bad606f8-d2b1-4dc4-a57a-7e81cf8d53d4\",\"type\":\"Grid\"},{\"attributes\":{\"dimension\":1,\"plot\":{\"id\":\"ea2569aa-9b02-4c0d-919d-a5db66bd2426\",\"subtype\":\"Figure\",\"type\":\"Plot\"},\"ticker\":{\"id\":\"b12428e0-f0de-4394-9818-e533d05df6d1\",\"type\":\"BasicTicker\"}},\"id\":\"9c99d5ac-949f-42ba-90a0-a56ae0856c9e\",\"type\":\"Grid\"},{\"attributes\":{\"axis_label\":\"MSSubClass\",\"axis_label_standoff\":-1,\"formatter\":{\"id\":\"cce22bfb-ffcb-4419-afa6-366a10db1f8f\",\"type\":\"CategoricalTickFormatter\"},\"plot\":{\"id\":\"6ceb70a4-3bd7-407f-8131-2b6d362726cf\",\"subtype\":\"Figure\",\"type\":\"Plot\"},\"ticker\":{\"id\":\"83bde2b1-18c8-4c03-ba4a-62b8d8e386dd\",\"type\":\"CategoricalTicker\"}},\"id\":\"8a762ab9-360e-46de-81a7-b3466c1b7a5a\",\"type\":\"CategoricalAxis\"},{\"attributes\":{},\"id\":\"8a5f0e2f-b6ac-483d-a7b7-68f052899e3d\",\"type\":\"CategoricalTicker\"},{\"attributes\":{\"plot\":{\"id\":\"e907fdd6-ecdd-409f-9f46-311929b0772d\",\"subtype\":\"Figure\",\"type\":\"Plot\"},\"ticker\":{\"id\":\"76dfc00a-cea9-42ab-83e6-0ba92a8fcd2b\",\"type\":\"CategoricalTicker\"}},\"id\":\"ff79612c-7e6f-4849-9a07-66d414896bb3\",\"type\":\"Grid\"},{\"attributes\":{},\"id\":\"a64e6f84-014f-4346-b93f-350f20c47015\",\"type\":\"BasicTicker\"},{\"attributes\":{\"data_source\":{\"id\":\"715ad06a-9da0-4f8c-9c30-638d16a59933\",\"type\":\"ColumnDataSource\"},\"glyph\":{\"id\":\"7c82574a-0fbc-45d5-bcee-0b6a8047fc28\",\"type\":\"VBar\"},\"hover_glyph\":null,\"nonselection_glyph\":{\"id\":\"6b6d748f-6325-431d-b693-324d82bcabc8\",\"type\":\"VBar\"},\"selection_glyph\":null},\"id\":\"fae95920-0d5b-4afa-8c5d-60d9324cbe7c\",\"type\":\"GlyphRenderer\"},{\"attributes\":{},\"id\":\"4f45283f-9158-48cb-95e4-e69a584022c9\",\"type\":\"BasicTicker\"},{\"attributes\":{\"callback\":null,\"column_names\":[\"y\",\"x\",\"percent\"],\"data\":{\"percent\":[\"1.16%\",\"0.137%\",\"1.1%\",\"3.97%\",\"1.92%\",\"10.3%\",\"3.49%\",\"6.85%\",\"5.41%\",\"2.53%\",\"1.16%\",\"3.36%\",\"15.4%\",\"0.616%\",\"5.0%\",\"2.81%\",\"5.27%\",\"7.74%\",\"1.71%\",\"5.07%\",\"4.04%\",\"5.89%\",\"1.71%\",\"2.6%\",\"0.753%\"],\"x\":[\"Blmngtn\",\"Blueste\",\"BrDale\",\"BrkSide\",\"ClearCr\",\"CollgCr\",\"Crawfor\",\"Edwards\",\"Gilbert\",\"IDOTRR\",\"MeadowV\",\"Mitchel\",\"NAmes\",\"NPkVill\",\"NWAmes\",\"NoRidge\",\"NridgHt\",\"OldTown\",\"SWISU\",\"Sawyer\",\"SawyerW\",\"Somerst\",\"StoneBr\",\"Timber\",\"Veenker\"],\"y\":[17,2,16,58,28,150,51,100,79,37,17,49,225,9,73,41,77,113,25,74,59,86,25,38,11]}},\"id\":\"8fb6e602-4d1a-4e84-b3fc-9322c43dcccc\",\"type\":\"ColumnDataSource\"},{\"attributes\":{},\"id\":\"264e5b3d-57e5-4737-b019-c97090ec92fd\",\"type\":\"ToolEvents\"},{\"attributes\":{},\"id\":\"3c5ca63b-c734-4d53-a5b4-a93a7b4086e4\",\"type\":\"CategoricalTicker\"},{\"attributes\":{},\"id\":\"76dfc00a-cea9-42ab-83e6-0ba92a8fcd2b\",\"type\":\"CategoricalTicker\"},{\"attributes\":{},\"id\":\"86395716-4621-4d13-b286-388308ccf32e\",\"type\":\"BasicTickFormatter\"},{\"attributes\":{\"fill_color\":{\"value\":\"#1f77b4\"},\"line_color\":{\"value\":\"#1f77b4\"},\"top\":{\"field\":\"y\"},\"width\":{\"value\":0.5},\"x\":{\"field\":\"x\"}},\"id\":\"52d4397b-1179-4bcc-a774-e9c278a32709\",\"type\":\"VBar\"},{\"attributes\":{},\"id\":\"bdc4d60e-d716-4c2e-a499-9fd7a4ce9640\",\"type\":\"CategoricalTicker\"},{\"attributes\":{\"children\":[{\"id\":\"21c0b045-a9a9-4f41-b237-2ba52f036d02\",\"subtype\":\"Figure\",\"type\":\"Plot\"},{\"id\":\"d63de79f-e567-4c32-abcc-a5857bdabcf6\",\"subtype\":\"Figure\",\"type\":\"Plot\"},{\"id\":\"f2d8e3a4-8482-4141-ad82-a24001eec5a5\",\"subtype\":\"Figure\",\"type\":\"Plot\"}]},\"id\":\"0349266e-a7e9-4415-a432-ac968f421d2a\",\"type\":\"Row\"},{\"attributes\":{},\"id\":\"9c841bb9-c573-41ad-9949-680c1910751f\",\"type\":\"BasicTicker\"},{\"attributes\":{},\"id\":\"b072c16f-b6ad-4a29-9890-5be09a014a8e\",\"type\":\"BasicTicker\"},{\"attributes\":{\"plot\":{\"id\":\"19eaf0a7-c2b3-47cd-b081-db26dac9def3\",\"subtype\":\"Figure\",\"type\":\"Plot\"},\"ticker\":{\"id\":\"f1c2ebed-0c46-4c53-931e-180a3e5e90eb\",\"type\":\"CategoricalTicker\"}},\"id\":\"f47db01d-4c04-4091-bb46-63468d3f1b91\",\"type\":\"Grid\"},{\"attributes\":{\"plot\":{\"id\":\"ea2569aa-9b02-4c0d-919d-a5db66bd2426\",\"subtype\":\"Figure\",\"type\":\"Plot\"},\"ticker\":{\"id\":\"12977f34-7bed-4af4-bd86-b8bf6097f023\",\"type\":\"CategoricalTicker\"}},\"id\":\"3bb86265-c903-4dd4-a663-25bccc64846b\",\"type\":\"Grid\"},{\"attributes\":{\"active_drag\":\"auto\",\"active_scroll\":\"auto\",\"active_tap\":\"auto\",\"tools\":[{\"id\":\"9e572d71-1296-48e0-8104-49c7ff56b99b\",\"type\":\"HoverTool\"}]},\"id\":\"bce0fcda-2097-4dcb-aa23-5749f5873e38\",\"type\":\"Toolbar\"},{\"attributes\":{\"active_drag\":\"auto\",\"active_scroll\":\"auto\",\"active_tap\":\"auto\",\"tools\":[{\"id\":\"ef4a03ea-0beb-4b98-ad45-e0d767bd2f25\",\"type\":\"HoverTool\"}]},\"id\":\"5f18e2c7-c1b5-4834-8733-b227e8200f4c\",\"type\":\"Toolbar\"},{\"attributes\":{\"callback\":null,\"plot\":{\"id\":\"d30830d5-3e36-4d6d-a266-dbaaa647e7c3\",\"subtype\":\"Figure\",\"type\":\"Plot\"},\"tooltips\":[[\"category\",\"@x\"],[\"percent\",\"@percent\"]]},\"id\":\"d42c189f-c297-45eb-a97a-db3c4dd32eca\",\"type\":\"HoverTool\"},{\"attributes\":{},\"id\":\"eafbd528-e1d6-4fd0-b551-30a5660c768f\",\"type\":\"ToolEvents\"},{\"attributes\":{\"formatter\":{\"id\":\"fd67853a-c6c6-4ec1-ac8b-2463db8c3bdd\",\"type\":\"BasicTickFormatter\"},\"plot\":{\"id\":\"722940e9-fd7c-4e4f-a184-76c7dd0dfb45\",\"subtype\":\"Figure\",\"type\":\"Plot\"},\"ticker\":{\"id\":\"d932b7a7-3417-4e7a-838a-9969dcf20464\",\"type\":\"BasicTicker\"},\"visible\":false},\"id\":\"875e6b99-6b92-4444-9b13-22a2f966fe13\",\"type\":\"LinearAxis\"},{\"attributes\":{\"formatter\":{\"id\":\"d71b7751-c262-43a2-8ebd-f419f483079b\",\"type\":\"BasicTickFormatter\"},\"plot\":{\"id\":\"21c0b045-a9a9-4f41-b237-2ba52f036d02\",\"subtype\":\"Figure\",\"type\":\"Plot\"},\"ticker\":{\"id\":\"10b14a19-224f-4218-9cb5-caaaa0a2b89e\",\"type\":\"BasicTicker\"},\"visible\":false},\"id\":\"49408e9e-c731-4186-a9e8-4d0e3e50498c\",\"type\":\"LinearAxis\"},{\"attributes\":{\"formatter\":{\"id\":\"9d24a2fb-7a15-43b0-b2e3-98450345559e\",\"type\":\"BasicTickFormatter\"},\"plot\":{\"id\":\"8bd6487a-4865-4a35-8e96-41f7e5e4d20f\",\"subtype\":\"Figure\",\"type\":\"Plot\"},\"ticker\":{\"id\":\"d2f53aef-5088-4840-8cdc-79336c0ab3da\",\"type\":\"BasicTicker\"},\"visible\":false},\"id\":\"c942bb0e-ed37-40b4-ad3a-9b8130fac96a\",\"type\":\"LinearAxis\"},{\"attributes\":{\"fill_color\":{\"value\":\"#1f77b4\"},\"line_color\":{\"value\":\"#1f77b4\"},\"top\":{\"field\":\"y\"},\"width\":{\"value\":0.5},\"x\":{\"field\":\"x\"}},\"id\":\"7b224bb9-da25-4e4b-91ac-10f93eefcf9b\",\"type\":\"VBar\"},{\"attributes\":{\"axis_label\":\"BsmtQual\",\"axis_label_standoff\":-1,\"formatter\":{\"id\":\"a63db78a-cdd0-498f-ad79-48045b613f61\",\"type\":\"CategoricalTickFormatter\"},\"plot\":{\"id\":\"8c0ac025-9451-44e0-8084-ec322d7d97ea\",\"subtype\":\"Figure\",\"type\":\"Plot\"},\"ticker\":{\"id\":\"64f11dc4-7b51-4dc4-9beb-8163d0a1648c\",\"type\":\"CategoricalTicker\"}},\"id\":\"d3c7e715-6c2c-4ce3-a533-9a1715164c0c\",\"type\":\"CategoricalAxis\"},{\"attributes\":{\"formatter\":{\"id\":\"8c70a67e-bb05-48e6-b3ca-13c8eb1b911a\",\"type\":\"BasicTickFormatter\"},\"plot\":{\"id\":\"40d143ae-4a96-4acb-88cd-8f97deb42073\",\"subtype\":\"Figure\",\"type\":\"Plot\"},\"ticker\":{\"id\":\"f236ecc1-1fc4-4240-8da0-41267c103008\",\"type\":\"BasicTicker\"},\"visible\":false},\"id\":\"9d98bb78-ce81-4846-9944-6508a3cc7f7c\",\"type\":\"LinearAxis\"},{\"attributes\":{},\"id\":\"a63db78a-cdd0-498f-ad79-48045b613f61\",\"type\":\"CategoricalTickFormatter\"},{\"attributes\":{\"children\":[{\"id\":\"8c0ac025-9451-44e0-8084-ec322d7d97ea\",\"subtype\":\"Figure\",\"type\":\"Plot\"},{\"id\":\"cc580fc7-55ff-495e-ade9-ff6fd30d4b78\",\"subtype\":\"Figure\",\"type\":\"Plot\"},{\"id\":\"efe52ccc-1088-4dc9-8433-9e687655f058\",\"subtype\":\"Figure\",\"type\":\"Plot\"}]},\"id\":\"8b9be8a7-5f75-4532-b855-8d33fc2329da\",\"type\":\"Row\"},{\"attributes\":{\"callback\":null,\"factors\":[\"Ex\",\"Fa\",\"Gd\",\"Po\",\"TA\"]},\"id\":\"ccfdcea8-951b-4382-ba8b-cabc064a79f8\",\"type\":\"FactorRange\"},{\"attributes\":{},\"id\":\"db45f1e8-b148-47f6-8933-8014dbe938b2\",\"type\":\"BasicTickFormatter\"},{\"attributes\":{\"fill_color\":{\"value\":\"#1f77b4\"},\"line_color\":{\"value\":\"#1f77b4\"},\"top\":{\"field\":\"y\"},\"width\":{\"value\":0.5},\"x\":{\"field\":\"x\"}},\"id\":\"3916014f-b4d1-41eb-bee5-b9e5f310a4e8\",\"type\":\"VBar\"},{\"attributes\":{},\"id\":\"fc5ddf90-845b-40e7-bca5-c84b721fa190\",\"type\":\"ToolEvents\"},{\"attributes\":{\"data_source\":{\"id\":\"28d2dd03-f592-4e7f-b036-1f089eb5520b\",\"type\":\"ColumnDataSource\"},\"glyph\":{\"id\":\"575ecab6-6c8c-4c4c-b299-01381513916b\",\"type\":\"VBar\"},\"hover_glyph\":null,\"nonselection_glyph\":{\"id\":\"203690a2-51ab-4a4c-a0fb-ba6ec19d3a00\",\"type\":\"VBar\"},\"selection_glyph\":null},\"id\":\"15cc61b2-d9e8-4e7d-b25d-f50d3b03ebbf\",\"type\":\"GlyphRenderer\"},{\"attributes\":{},\"id\":\"2ebc3dcb-a7fc-4083-9c9d-90d0a842bf43\",\"type\":\"BasicTickFormatter\"},{\"attributes\":{\"callback\":null},\"id\":\"9a4076bf-f1e2-47a3-a52e-6b92a6fefee4\",\"type\":\"DataRange1d\"},{\"attributes\":{\"callback\":null,\"column_names\":[\"y\",\"x\",\"percent\"],\"data\":{\"percent\":[\"0.435%\",\"63.1%\",\"1.38%\",\"6.38%\",\"0.653%\",\"28.1%\"],\"x\":[\"2Types\",\"Attchd\",\"Basment\",\"BuiltIn\",\"CarPort\",\"Detchd\"],\"y\":[6,870,19,88,9,387]}},\"id\":\"b98ab44c-5c5e-4f7d-a0db-09dd692b173d\",\"type\":\"ColumnDataSource\"},{\"attributes\":{\"callback\":null,\"factors\":[\"IR1\",\"IR2\",\"IR3\",\"Reg\"]},\"id\":\"e133f9ef-53a0-4ed5-b86b-f79f5c94420f\",\"type\":\"FactorRange\"},{\"attributes\":{},\"id\":\"224caee3-c9a6-4127-b341-f3c7951af07a\",\"type\":\"ToolEvents\"},{\"attributes\":{},\"id\":\"50c1fbbd-1e35-4183-90aa-34197fafb8f9\",\"type\":\"ToolEvents\"},{\"attributes\":{},\"id\":\"02d1240e-3b8e-459f-958b-b9c0e829bc17\",\"type\":\"ToolEvents\"},{\"attributes\":{},\"id\":\"2eb7cb95-aa94-406b-94d3-a675f5da56ce\",\"type\":\"CategoricalTicker\"},{\"attributes\":{\"plot\":{\"id\":\"0d46a34b-5740-468a-8de5-1e7a06c67629\",\"subtype\":\"Figure\",\"type\":\"Plot\"},\"ticker\":{\"id\":\"69f78ec8-16ba-4245-8aa1-9a832ae57f2f\",\"type\":\"CategoricalTicker\"}},\"id\":\"cb354984-4c1c-4c05-a400-f4e6fb101afd\",\"type\":\"Grid\"},{\"attributes\":{\"below\":[{\"id\":\"63e95b63-f6e5-475a-8b04-a258e9c231d8\",\"type\":\"CategoricalAxis\"}],\"left\":[{\"id\":\"4699e055-a8b1-40b0-a56b-0d99ab0055a1\",\"type\":\"LinearAxis\"}],\"plot_height\":280,\"plot_width\":280,\"renderers\":[{\"id\":\"63e95b63-f6e5-475a-8b04-a258e9c231d8\",\"type\":\"CategoricalAxis\"},{\"id\":\"3bb86265-c903-4dd4-a663-25bccc64846b\",\"type\":\"Grid\"},{\"id\":\"4699e055-a8b1-40b0-a56b-0d99ab0055a1\",\"type\":\"LinearAxis\"},{\"id\":\"9c99d5ac-949f-42ba-90a0-a56ae0856c9e\",\"type\":\"Grid\"},{\"id\":\"934ee311-655a-46f5-8d8a-1359ffb4145f\",\"type\":\"GlyphRenderer\"}],\"title\":null,\"tool_events\":{\"id\":\"6a18e135-cf3e-4d1f-b680-de8dd5f4c429\",\"type\":\"ToolEvents\"},\"toolbar\":{\"id\":\"d7bec5fe-a6cc-4227-af2f-b3573d4d6a76\",\"type\":\"Toolbar\"},\"toolbar_location\":null,\"x_range\":{\"id\":\"a2b62b3e-3c79-4db8-9722-a7f7ea37df3a\",\"type\":\"FactorRange\"},\"y_range\":{\"id\":\"9a4076bf-f1e2-47a3-a52e-6b92a6fefee4\",\"type\":\"DataRange1d\"}},\"id\":\"ea2569aa-9b02-4c0d-919d-a5db66bd2426\",\"subtype\":\"Figure\",\"type\":\"Plot\"},{\"attributes\":{\"fill_color\":{\"value\":\"#1f77b4\"},\"line_color\":{\"value\":\"#1f77b4\"},\"top\":{\"field\":\"y\"},\"width\":{\"value\":0.5},\"x\":{\"field\":\"x\"}},\"id\":\"e35be395-4538-4fa5-bac3-281434a6e8f4\",\"type\":\"VBar\"},{\"attributes\":{\"callback\":null,\"factors\":[\"BrkCmn\",\"BrkFace\",\"None\",\"Stone\"]},\"id\":\"b3c4ca41-834c-4f8b-936f-ca6a447a3197\",\"type\":\"FactorRange\"},{\"attributes\":{\"callback\":null},\"id\":\"e8cbb618-4d67-4766-b636-8fe8cb77d8d7\",\"type\":\"DataRange1d\"},{\"attributes\":{},\"id\":\"bc1c8843-c23e-47b6-b4f4-8748c5451a82\",\"type\":\"BasicTickFormatter\"},{\"attributes\":{},\"id\":\"7859d2e7-bc0a-45f3-8281-aaa0f982b6b2\",\"type\":\"BasicTickFormatter\"},{\"attributes\":{\"dimension\":1,\"plot\":{\"id\":\"d63de79f-e567-4c32-abcc-a5857bdabcf6\",\"subtype\":\"Figure\",\"type\":\"Plot\"},\"ticker\":{\"id\":\"14f0cdde-fa60-4558-aba8-8d69534442da\",\"type\":\"BasicTicker\"}},\"id\":\"f5547cba-4ed0-4b74-ae10-76727680a6b0\",\"type\":\"Grid\"},{\"attributes\":{},\"id\":\"3a14e185-3731-4d30-8639-19bff23dcdf4\",\"type\":\"BasicTickFormatter\"},{\"attributes\":{\"below\":[{\"id\":\"0e264683-68c8-44ef-a8c5-ab2f64679fcc\",\"type\":\"CategoricalAxis\"}],\"left\":[{\"id\":\"9d98bb78-ce81-4846-9944-6508a3cc7f7c\",\"type\":\"LinearAxis\"}],\"plot_height\":280,\"plot_width\":280,\"renderers\":[{\"id\":\"0e264683-68c8-44ef-a8c5-ab2f64679fcc\",\"type\":\"CategoricalAxis\"},{\"id\":\"546fa3b7-6ef0-4306-9f73-6825d7c60f36\",\"type\":\"Grid\"},{\"id\":\"9d98bb78-ce81-4846-9944-6508a3cc7f7c\",\"type\":\"LinearAxis\"},{\"id\":\"a9f1ff6d-8f91-43f4-a690-dcb46c163afa\",\"type\":\"Grid\"},{\"id\":\"47fd75d4-8dcd-46f7-a0bd-1f4000c2a23a\",\"type\":\"GlyphRenderer\"}],\"title\":null,\"tool_events\":{\"id\":\"085d89ca-032e-4178-9d85-04971f31413a\",\"type\":\"ToolEvents\"},\"toolbar\":{\"id\":\"18b4fbeb-5df8-4002-abb7-45dbc7e20b8c\",\"type\":\"Toolbar\"},\"toolbar_location\":null,\"x_range\":{\"id\":\"bcc1cb97-8196-4fae-8bd4-c37cbb16cdfd\",\"type\":\"FactorRange\"},\"y_range\":{\"id\":\"d1cd85b9-c2c6-4bf7-8c47-2a0d3b2fb3df\",\"type\":\"DataRange1d\"}},\"id\":\"40d143ae-4a96-4acb-88cd-8f97deb42073\",\"subtype\":\"Figure\",\"type\":\"Plot\"},{\"attributes\":{\"callback\":null,\"factors\":[\"Floor\",\"GasA\",\"GasW\",\"Grav\",\"OthW\",\"Wall\"]},\"id\":\"052d6cca-59f3-4340-8901-105f48fe789a\",\"type\":\"FactorRange\"},{\"attributes\":{},\"id\":\"d2f53aef-5088-4840-8cdc-79336c0ab3da\",\"type\":\"BasicTicker\"},{\"attributes\":{},\"id\":\"73fca5d0-584a-4c0b-a425-6a2a5ac84a1b\",\"type\":\"ToolEvents\"},{\"attributes\":{},\"id\":\"a3e1222a-4d55-4273-b5fc-5efb9e458403\",\"type\":\"BasicTicker\"},{\"attributes\":{\"callback\":null},\"id\":\"0f608bfa-3285-405c-8090-aeeb66b7b4c7\",\"type\":\"DataRange1d\"},{\"attributes\":{\"callback\":null,\"plot\":{\"id\":\"19d7200f-ad23-4186-854c-2ff902ee6e7f\",\"subtype\":\"Figure\",\"type\":\"Plot\"},\"tooltips\":[[\"category\",\"@x\"],[\"percent\",\"@percent\"]]},\"id\":\"2fc0ce49-f7a1-4c90-b844-596988b9abdc\",\"type\":\"HoverTool\"},{\"attributes\":{\"dimension\":1,\"plot\":{\"id\":\"912438ae-1a2a-414e-b053-35282eff37f4\",\"subtype\":\"Figure\",\"type\":\"Plot\"},\"ticker\":{\"id\":\"27176093-72f4-47af-8d18-d201733e72b5\",\"type\":\"BasicTicker\"}},\"id\":\"6c9af326-e2b1-41ed-a1fd-d1c4b8ae8a77\",\"type\":\"Grid\"},{\"attributes\":{},\"id\":\"80fd71d4-580e-4f82-91ca-d0bc460ecaec\",\"type\":\"BasicTickFormatter\"},{\"attributes\":{\"dimension\":1,\"plot\":{\"id\":\"b3563cde-5e78-4851-be76-da25726e37b5\",\"subtype\":\"Figure\",\"type\":\"Plot\"},\"ticker\":{\"id\":\"9c841bb9-c573-41ad-9949-680c1910751f\",\"type\":\"BasicTicker\"}},\"id\":\"671b5b9d-3ef3-4dd5-b6dd-8fc5d1364283\",\"type\":\"Grid\"},{\"attributes\":{\"data_source\":{\"id\":\"e9cf4870-d182-4bd4-9f0c-34a414fc25e0\",\"type\":\"ColumnDataSource\"},\"glyph\":{\"id\":\"9cba08de-a4a1-40af-af84-3debc4379b93\",\"type\":\"VBar\"},\"hover_glyph\":null,\"nonselection_glyph\":{\"id\":\"3a2ba219-760f-4d5c-bf70-01caa2de48e5\",\"type\":\"VBar\"},\"selection_glyph\":null},\"id\":\"e978f13e-9ed0-42fc-a0d0-937803283dbd\",\"type\":\"GlyphRenderer\"},{\"attributes\":{\"below\":[{\"id\":\"16e8c3f4-f138-4b26-bbe3-e50a5dfa1087\",\"type\":\"CategoricalAxis\"}],\"left\":[{\"id\":\"c942bb0e-ed37-40b4-ad3a-9b8130fac96a\",\"type\":\"LinearAxis\"}],\"plot_height\":280,\"plot_width\":280,\"renderers\":[{\"id\":\"16e8c3f4-f138-4b26-bbe3-e50a5dfa1087\",\"type\":\"CategoricalAxis\"},{\"id\":\"f6255076-b544-4fab-be1c-363cd740300c\",\"type\":\"Grid\"},{\"id\":\"c942bb0e-ed37-40b4-ad3a-9b8130fac96a\",\"type\":\"LinearAxis\"},{\"id\":\"2be0539e-9f62-4de3-bcac-03bffc70cb5d\",\"type\":\"Grid\"},{\"id\":\"2343e351-daf4-432b-b783-59fcdc24750a\",\"type\":\"GlyphRenderer\"}],\"title\":null,\"tool_events\":{\"id\":\"e1027ac7-d9d8-48f1-9c9f-e75566a2f65e\",\"type\":\"ToolEvents\"},\"toolbar\":{\"id\":\"0c8a12f6-7644-4a2f-81b0-69b533564a63\",\"type\":\"Toolbar\"},\"toolbar_location\":null,\"x_range\":{\"id\":\"eac21776-72f8-4930-a6ab-85065fc1886a\",\"type\":\"FactorRange\"},\"y_range\":{\"id\":\"1e73526c-f83d-42c8-b5ef-ccb51ef35730\",\"type\":\"DataRange1d\"}},\"id\":\"8bd6487a-4865-4a35-8e96-41f7e5e4d20f\",\"subtype\":\"Figure\",\"type\":\"Plot\"},{\"attributes\":{\"fill_color\":{\"value\":\"#1f77b4\"},\"line_color\":{\"value\":\"#1f77b4\"},\"top\":{\"field\":\"y\"},\"width\":{\"value\":0.5},\"x\":{\"field\":\"x\"}},\"id\":\"32e1db32-9c22-4a5d-8fd6-793689077369\",\"type\":\"VBar\"},{\"attributes\":{},\"id\":\"4f018435-0017-4053-93a7-6f8f10462a14\",\"type\":\"BasicTickFormatter\"},{\"attributes\":{\"plot\":{\"id\":\"3fb79034-c49d-46c1-bbb3-1494bc08b6af\",\"subtype\":\"Figure\",\"type\":\"Plot\"},\"ticker\":{\"id\":\"eb88f2d3-a21b-478e-b3c4-fba1addb328b\",\"type\":\"CategoricalTicker\"}},\"id\":\"b72f9938-8143-49a1-8c72-85c93acebf03\",\"type\":\"Grid\"},{\"attributes\":{\"axis_label\":\"GarageFinish\",\"axis_label_standoff\":-1,\"formatter\":{\"id\":\"29800c2c-ee28-4657-9242-5e699ebd52d9\",\"type\":\"CategoricalTickFormatter\"},\"plot\":{\"id\":\"d63de79f-e567-4c32-abcc-a5857bdabcf6\",\"subtype\":\"Figure\",\"type\":\"Plot\"},\"ticker\":{\"id\":\"f875368c-caa6-43fe-9719-1d83dc591aab\",\"type\":\"CategoricalTicker\"}},\"id\":\"d1c10015-74f1-40a0-a69e-716419593e9a\",\"type\":\"CategoricalAxis\"},{\"attributes\":{\"plot\":{\"id\":\"7f3d9ab9-eb4b-4a5c-bac5-cb0a24e3d8e4\",\"subtype\":\"Figure\",\"type\":\"Plot\"},\"ticker\":{\"id\":\"3c5ca63b-c734-4d53-a5b4-a93a7b4086e4\",\"type\":\"CategoricalTicker\"}},\"id\":\"3e7f68ba-477a-4ff0-b831-b2329453e8cd\",\"type\":\"Grid\"}],\"root_ids\":[\"479d4ce0-6c57-43b2-b649-479edd61ab09\"]},\"title\":\"Bokeh Application\",\"version\":\"0.12.4\"}};\n",
       "            var render_items = [{\"docid\":\"088186c0-14b5-49a9-bada-156d802f63b7\",\"elementid\":\"e323daae-e137-4684-a641-68dfce796f1e\",\"modelid\":\"479d4ce0-6c57-43b2-b649-479edd61ab09\"}];\n",
       "            \n",
       "            Bokeh.embed.embed_items(docs_json, render_items);\n",
       "          };\n",
       "          if (document.readyState != \"loading\") fn();\n",
       "          else document.addEventListener(\"DOMContentLoaded\", fn);\n",
       "        })();\n",
       "      },\n",
       "      function(Bokeh) {\n",
       "      }\n",
       "    ];\n",
       "  \n",
       "    function run_inline_js() {\n",
       "      \n",
       "      if ((window.Bokeh !== undefined) || (force === true)) {\n",
       "        for (var i = 0; i < inline_js.length; i++) {\n",
       "          inline_js[i](window.Bokeh);\n",
       "        }if (force === true) {\n",
       "          display_loaded();\n",
       "        }} else if (Date.now() < window._bokeh_timeout) {\n",
       "        setTimeout(run_inline_js, 100);\n",
       "      } else if (!window._bokeh_failed_load) {\n",
       "        console.log(\"Bokeh: BokehJS failed to load within specified timeout.\");\n",
       "        window._bokeh_failed_load = true;\n",
       "      } else if (force !== true) {\n",
       "        var cell = $(document.getElementById(\"e323daae-e137-4684-a641-68dfce796f1e\")).parents('.cell').data().cell;\n",
       "        cell.output_area.append_execute_result(NB_LOAD_WARNING)\n",
       "      }\n",
       "  \n",
       "    }\n",
       "  \n",
       "    if (window._bokeh_is_loading === 0) {\n",
       "      console.log(\"Bokeh: BokehJS loaded, going straight to plotting\");\n",
       "      run_inline_js();\n",
       "    } else {\n",
       "      load_libs(js_urls, function() {\n",
       "        console.log(\"Bokeh: BokehJS plotting callback run at\", now());\n",
       "        run_inline_js();\n",
       "      });\n",
       "    }\n",
       "  }(this));\n",
       "</script>"
      ]
     },
     "metadata": {},
     "output_type": "display_data"
    }
   ],
   "source": [
    "plots = [bar(data, categorical_columns[col]) for col in xrange(0, len(categorical_columns))]\n",
    "chunks = [plots[x:x+3] for x in xrange(0, len(plots), 3)]\n",
    "show(gridplot(chunks, toolbar_location=None))"
   ]
  },
  {
   "cell_type": "code",
   "execution_count": 11,
   "metadata": {
    "collapsed": false,
    "deletable": true,
    "editable": true,
    "scrolled": false
   },
   "outputs": [
    {
     "data": {
      "text/html": [
       "\n",
       "\n",
       "    <div class=\"bk-root\">\n",
       "        <div class=\"bk-plotdiv\" id=\"3392418c-1adf-4c8a-b767-ad56ed0f9858\"></div>\n",
       "    </div>\n",
       "<script type=\"text/javascript\">\n",
       "  \n",
       "  (function(global) {\n",
       "    function now() {\n",
       "      return new Date();\n",
       "    }\n",
       "  \n",
       "    var force = false;\n",
       "  \n",
       "    if (typeof (window._bokeh_onload_callbacks) === \"undefined\" || force === true) {\n",
       "      window._bokeh_onload_callbacks = [];\n",
       "      window._bokeh_is_loading = undefined;\n",
       "    }\n",
       "  \n",
       "  \n",
       "    \n",
       "    if (typeof (window._bokeh_timeout) === \"undefined\" || force === true) {\n",
       "      window._bokeh_timeout = Date.now() + 0;\n",
       "      window._bokeh_failed_load = false;\n",
       "    }\n",
       "  \n",
       "    var NB_LOAD_WARNING = {'data': {'text/html':\n",
       "       \"<div style='background-color: #fdd'>\\n\"+\n",
       "       \"<p>\\n\"+\n",
       "       \"BokehJS does not appear to have successfully loaded. If loading BokehJS from CDN, this \\n\"+\n",
       "       \"may be due to a slow or bad network connection. Possible fixes:\\n\"+\n",
       "       \"</p>\\n\"+\n",
       "       \"<ul>\\n\"+\n",
       "       \"<li>re-rerun `output_notebook()` to attempt to load from CDN again, or</li>\\n\"+\n",
       "       \"<li>use INLINE resources instead, as so:</li>\\n\"+\n",
       "       \"</ul>\\n\"+\n",
       "       \"<code>\\n\"+\n",
       "       \"from bokeh.resources import INLINE\\n\"+\n",
       "       \"output_notebook(resources=INLINE)\\n\"+\n",
       "       \"</code>\\n\"+\n",
       "       \"</div>\"}};\n",
       "  \n",
       "    function display_loaded() {\n",
       "      if (window.Bokeh !== undefined) {\n",
       "        document.getElementById(\"3392418c-1adf-4c8a-b767-ad56ed0f9858\").textContent = \"BokehJS successfully loaded.\";\n",
       "      } else if (Date.now() < window._bokeh_timeout) {\n",
       "        setTimeout(display_loaded, 100)\n",
       "      }\n",
       "    }\n",
       "  \n",
       "    function run_callbacks() {\n",
       "      window._bokeh_onload_callbacks.forEach(function(callback) { callback() });\n",
       "      delete window._bokeh_onload_callbacks\n",
       "      console.info(\"Bokeh: all callbacks have finished\");\n",
       "    }\n",
       "  \n",
       "    function load_libs(js_urls, callback) {\n",
       "      window._bokeh_onload_callbacks.push(callback);\n",
       "      if (window._bokeh_is_loading > 0) {\n",
       "        console.log(\"Bokeh: BokehJS is being loaded, scheduling callback at\", now());\n",
       "        return null;\n",
       "      }\n",
       "      if (js_urls == null || js_urls.length === 0) {\n",
       "        run_callbacks();\n",
       "        return null;\n",
       "      }\n",
       "      console.log(\"Bokeh: BokehJS not loaded, scheduling load and callback at\", now());\n",
       "      window._bokeh_is_loading = js_urls.length;\n",
       "      for (var i = 0; i < js_urls.length; i++) {\n",
       "        var url = js_urls[i];\n",
       "        var s = document.createElement('script');\n",
       "        s.src = url;\n",
       "        s.async = false;\n",
       "        s.onreadystatechange = s.onload = function() {\n",
       "          window._bokeh_is_loading--;\n",
       "          if (window._bokeh_is_loading === 0) {\n",
       "            console.log(\"Bokeh: all BokehJS libraries loaded\");\n",
       "            run_callbacks()\n",
       "          }\n",
       "        };\n",
       "        s.onerror = function() {\n",
       "          console.warn(\"failed to load library \" + url);\n",
       "        };\n",
       "        console.log(\"Bokeh: injecting script tag for BokehJS library: \", url);\n",
       "        document.getElementsByTagName(\"head\")[0].appendChild(s);\n",
       "      }\n",
       "    };var element = document.getElementById(\"3392418c-1adf-4c8a-b767-ad56ed0f9858\");\n",
       "    if (element == null) {\n",
       "      console.log(\"Bokeh: ERROR: autoload.js configured with elementid '3392418c-1adf-4c8a-b767-ad56ed0f9858' but no matching script tag was found. \")\n",
       "      return false;\n",
       "    }\n",
       "  \n",
       "    var js_urls = [];\n",
       "  \n",
       "    var inline_js = [\n",
       "      function(Bokeh) {\n",
       "        (function() {\n",
       "          var fn = function() {\n",
       "            var docs_json = {\"72afc15a-31c5-4b02-be5d-16501196f872\":{\"roots\":{\"references\":[{\"attributes\":{\"active_drag\":\"auto\",\"active_scroll\":\"auto\",\"active_tap\":\"auto\",\"tools\":[{\"id\":\"5f857b98-0466-4ded-8b5c-0d456a321df2\",\"type\":\"HoverTool\"}]},\"id\":\"136393bf-fa53-46fa-8227-a1c0affd29bf\",\"type\":\"Toolbar\"},{\"attributes\":{\"axis_label\":\"MSSubClass\",\"axis_label_standoff\":-1,\"formatter\":{\"id\":\"f96b0376-1425-4432-aa2d-ec53edbabbc8\",\"type\":\"CategoricalTickFormatter\"},\"plot\":{\"id\":\"55acc877-d0cb-4d7d-9bb9-03f6439de1f0\",\"subtype\":\"Figure\",\"type\":\"Plot\"},\"ticker\":{\"id\":\"ba181845-5d37-427d-9d76-bd187e2c56f8\",\"type\":\"CategoricalTicker\"}},\"id\":\"985a69fd-5dbd-49ba-989d-313673db502e\",\"type\":\"CategoricalAxis\"},{\"attributes\":{\"callback\":null,\"column_names\":[\"y\",\"x\",\"percent\"],\"data\":{\"percent\":[\"36.7%\",\"4.73%\",\"0.274%\",\"0.822%\",\"9.86%\",\"20.5%\",\"4.11%\",\"1.1%\",\"3.97%\",\"1.37%\",\"3.56%\",\"5.96%\",\"4.32%\",\"0.685%\",\"2.05%\"],\"x\":[\"20\",\"30\",\"40\",\"45\",\"50\",\"60\",\"70\",\"75\",\"80\",\"85\",\"90\",\"120\",\"160\",\"180\",\"190\"],\"y\":[536,69,4,12,144,299,60,16,58,20,52,87,63,10,30]}},\"id\":\"9100ce8c-1a42-4f02-bcfa-6e3acc067f84\",\"type\":\"ColumnDataSource\"},{\"attributes\":{\"below\":[{\"id\":\"985a69fd-5dbd-49ba-989d-313673db502e\",\"type\":\"CategoricalAxis\"}],\"left\":[{\"id\":\"03e012a5-71fd-4818-b90f-d1c1be57a9d6\",\"type\":\"LinearAxis\"}],\"renderers\":[{\"id\":\"985a69fd-5dbd-49ba-989d-313673db502e\",\"type\":\"CategoricalAxis\"},{\"id\":\"c51f98e5-d793-4a96-a28d-91e3ffe981b6\",\"type\":\"Grid\"},{\"id\":\"03e012a5-71fd-4818-b90f-d1c1be57a9d6\",\"type\":\"LinearAxis\"},{\"id\":\"59880cbd-b984-44a4-aaf2-ca042bcf1b2a\",\"type\":\"Grid\"},{\"id\":\"ab55247b-9e44-437f-b344-0be08801f3e1\",\"type\":\"GlyphRenderer\"}],\"title\":null,\"tool_events\":{\"id\":\"185a9ea9-c700-461b-abd7-2b48cadc544c\",\"type\":\"ToolEvents\"},\"toolbar\":{\"id\":\"136393bf-fa53-46fa-8227-a1c0affd29bf\",\"type\":\"Toolbar\"},\"toolbar_location\":null,\"x_range\":{\"id\":\"2d671a3e-ff81-4858-af9c-a954ab30ba34\",\"type\":\"FactorRange\"},\"y_range\":{\"id\":\"bf4feca8-ec80-44a4-a9bc-da286a63638e\",\"type\":\"DataRange1d\"}},\"id\":\"55acc877-d0cb-4d7d-9bb9-03f6439de1f0\",\"subtype\":\"Figure\",\"type\":\"Plot\"},{\"attributes\":{\"callback\":null},\"id\":\"bf4feca8-ec80-44a4-a9bc-da286a63638e\",\"type\":\"DataRange1d\"},{\"attributes\":{\"dimension\":1,\"plot\":{\"id\":\"55acc877-d0cb-4d7d-9bb9-03f6439de1f0\",\"subtype\":\"Figure\",\"type\":\"Plot\"},\"ticker\":{\"id\":\"2e714848-aff7-4dc2-8cd4-d3a60bcacb87\",\"type\":\"BasicTicker\"}},\"id\":\"59880cbd-b984-44a4-aaf2-ca042bcf1b2a\",\"type\":\"Grid\"},{\"attributes\":{\"fill_color\":{\"value\":\"#1f77b4\"},\"line_color\":{\"value\":\"#1f77b4\"},\"top\":{\"field\":\"y\"},\"width\":{\"value\":0.5},\"x\":{\"field\":\"x\"}},\"id\":\"3fca4aa9-f40d-4bd4-ba34-7af1e0a0351d\",\"type\":\"VBar\"},{\"attributes\":{},\"id\":\"185a9ea9-c700-461b-abd7-2b48cadc544c\",\"type\":\"ToolEvents\"},{\"attributes\":{\"data_source\":{\"id\":\"9100ce8c-1a42-4f02-bcfa-6e3acc067f84\",\"type\":\"ColumnDataSource\"},\"glyph\":{\"id\":\"3fca4aa9-f40d-4bd4-ba34-7af1e0a0351d\",\"type\":\"VBar\"},\"hover_glyph\":null,\"nonselection_glyph\":{\"id\":\"18788660-76bb-4b52-bd81-596469d151ba\",\"type\":\"VBar\"},\"selection_glyph\":null},\"id\":\"ab55247b-9e44-437f-b344-0be08801f3e1\",\"type\":\"GlyphRenderer\"},{\"attributes\":{\"callback\":null,\"plot\":{\"id\":\"55acc877-d0cb-4d7d-9bb9-03f6439de1f0\",\"subtype\":\"Figure\",\"type\":\"Plot\"},\"tooltips\":[[\"category\",\"@x\"],[\"percent\",\"@percent\"]]},\"id\":\"5f857b98-0466-4ded-8b5c-0d456a321df2\",\"type\":\"HoverTool\"},{\"attributes\":{\"formatter\":{\"id\":\"fb45b899-2f40-4e00-ab69-a4ba2537fb68\",\"type\":\"BasicTickFormatter\"},\"plot\":{\"id\":\"55acc877-d0cb-4d7d-9bb9-03f6439de1f0\",\"subtype\":\"Figure\",\"type\":\"Plot\"},\"ticker\":{\"id\":\"2e714848-aff7-4dc2-8cd4-d3a60bcacb87\",\"type\":\"BasicTicker\"},\"visible\":false},\"id\":\"03e012a5-71fd-4818-b90f-d1c1be57a9d6\",\"type\":\"LinearAxis\"},{\"attributes\":{},\"id\":\"2e714848-aff7-4dc2-8cd4-d3a60bcacb87\",\"type\":\"BasicTicker\"},{\"attributes\":{},\"id\":\"fb45b899-2f40-4e00-ab69-a4ba2537fb68\",\"type\":\"BasicTickFormatter\"},{\"attributes\":{},\"id\":\"ba181845-5d37-427d-9d76-bd187e2c56f8\",\"type\":\"CategoricalTicker\"},{\"attributes\":{\"fill_alpha\":{\"value\":0.1},\"fill_color\":{\"value\":\"#1f77b4\"},\"line_alpha\":{\"value\":0.1},\"line_color\":{\"value\":\"#1f77b4\"},\"top\":{\"field\":\"y\"},\"width\":{\"value\":0.5},\"x\":{\"field\":\"x\"}},\"id\":\"18788660-76bb-4b52-bd81-596469d151ba\",\"type\":\"VBar\"},{\"attributes\":{\"plot\":{\"id\":\"55acc877-d0cb-4d7d-9bb9-03f6439de1f0\",\"subtype\":\"Figure\",\"type\":\"Plot\"},\"ticker\":{\"id\":\"ba181845-5d37-427d-9d76-bd187e2c56f8\",\"type\":\"CategoricalTicker\"}},\"id\":\"c51f98e5-d793-4a96-a28d-91e3ffe981b6\",\"type\":\"Grid\"},{\"attributes\":{},\"id\":\"f96b0376-1425-4432-aa2d-ec53edbabbc8\",\"type\":\"CategoricalTickFormatter\"},{\"attributes\":{\"callback\":null,\"factors\":[\"20\",\"30\",\"40\",\"45\",\"50\",\"60\",\"70\",\"75\",\"80\",\"85\",\"90\",\"120\",\"160\",\"180\",\"190\"]},\"id\":\"2d671a3e-ff81-4858-af9c-a954ab30ba34\",\"type\":\"FactorRange\"}],\"root_ids\":[\"55acc877-d0cb-4d7d-9bb9-03f6439de1f0\"]},\"title\":\"Bokeh Application\",\"version\":\"0.12.4\"}};\n",
       "            var render_items = [{\"docid\":\"72afc15a-31c5-4b02-be5d-16501196f872\",\"elementid\":\"3392418c-1adf-4c8a-b767-ad56ed0f9858\",\"modelid\":\"55acc877-d0cb-4d7d-9bb9-03f6439de1f0\"}];\n",
       "            \n",
       "            Bokeh.embed.embed_items(docs_json, render_items);\n",
       "          };\n",
       "          if (document.readyState != \"loading\") fn();\n",
       "          else document.addEventListener(\"DOMContentLoaded\", fn);\n",
       "        })();\n",
       "      },\n",
       "      function(Bokeh) {\n",
       "      }\n",
       "    ];\n",
       "  \n",
       "    function run_inline_js() {\n",
       "      \n",
       "      if ((window.Bokeh !== undefined) || (force === true)) {\n",
       "        for (var i = 0; i < inline_js.length; i++) {\n",
       "          inline_js[i](window.Bokeh);\n",
       "        }if (force === true) {\n",
       "          display_loaded();\n",
       "        }} else if (Date.now() < window._bokeh_timeout) {\n",
       "        setTimeout(run_inline_js, 100);\n",
       "      } else if (!window._bokeh_failed_load) {\n",
       "        console.log(\"Bokeh: BokehJS failed to load within specified timeout.\");\n",
       "        window._bokeh_failed_load = true;\n",
       "      } else if (force !== true) {\n",
       "        var cell = $(document.getElementById(\"3392418c-1adf-4c8a-b767-ad56ed0f9858\")).parents('.cell').data().cell;\n",
       "        cell.output_area.append_execute_result(NB_LOAD_WARNING)\n",
       "      }\n",
       "  \n",
       "    }\n",
       "  \n",
       "    if (window._bokeh_is_loading === 0) {\n",
       "      console.log(\"Bokeh: BokehJS loaded, going straight to plotting\");\n",
       "      run_inline_js();\n",
       "    } else {\n",
       "      load_libs(js_urls, function() {\n",
       "        console.log(\"Bokeh: BokehJS plotting callback run at\", now());\n",
       "        run_inline_js();\n",
       "      });\n",
       "    }\n",
       "  }(this));\n",
       "</script>"
      ]
     },
     "metadata": {},
     "output_type": "display_data"
    }
   ],
   "source": [
    "p = bar(data, 'MSSubClass', width=600, height=600)\n",
    "show(p)"
   ]
  },
  {
   "cell_type": "code",
   "execution_count": 24,
   "metadata": {
    "collapsed": false
   },
   "outputs": [
    {
     "data": {
      "text/html": [
       "<div>\n",
       "<table border=\"1\" class=\"dataframe\">\n",
       "  <thead>\n",
       "    <tr style=\"text-align: right;\">\n",
       "      <th></th>\n",
       "      <th>MSSubClass</th>\n",
       "      <th>SalePrice</th>\n",
       "      <th>percent</th>\n",
       "    </tr>\n",
       "  </thead>\n",
       "  <tbody>\n",
       "    <tr>\n",
       "      <th>2</th>\n",
       "      <td>40</td>\n",
       "      <td>4</td>\n",
       "      <td>0.273973</td>\n",
       "    </tr>\n",
       "    <tr>\n",
       "      <th>13</th>\n",
       "      <td>180</td>\n",
       "      <td>10</td>\n",
       "      <td>0.684932</td>\n",
       "    </tr>\n",
       "    <tr>\n",
       "      <th>3</th>\n",
       "      <td>45</td>\n",
       "      <td>12</td>\n",
       "      <td>0.821918</td>\n",
       "    </tr>\n",
       "    <tr>\n",
       "      <th>7</th>\n",
       "      <td>75</td>\n",
       "      <td>16</td>\n",
       "      <td>1.095890</td>\n",
       "    </tr>\n",
       "    <tr>\n",
       "      <th>9</th>\n",
       "      <td>85</td>\n",
       "      <td>20</td>\n",
       "      <td>1.369863</td>\n",
       "    </tr>\n",
       "    <tr>\n",
       "      <th>14</th>\n",
       "      <td>190</td>\n",
       "      <td>30</td>\n",
       "      <td>2.054795</td>\n",
       "    </tr>\n",
       "    <tr>\n",
       "      <th>10</th>\n",
       "      <td>90</td>\n",
       "      <td>52</td>\n",
       "      <td>3.561644</td>\n",
       "    </tr>\n",
       "    <tr>\n",
       "      <th>8</th>\n",
       "      <td>80</td>\n",
       "      <td>58</td>\n",
       "      <td>3.972603</td>\n",
       "    </tr>\n",
       "    <tr>\n",
       "      <th>6</th>\n",
       "      <td>70</td>\n",
       "      <td>60</td>\n",
       "      <td>4.109589</td>\n",
       "    </tr>\n",
       "    <tr>\n",
       "      <th>12</th>\n",
       "      <td>160</td>\n",
       "      <td>63</td>\n",
       "      <td>4.315068</td>\n",
       "    </tr>\n",
       "    <tr>\n",
       "      <th>1</th>\n",
       "      <td>30</td>\n",
       "      <td>69</td>\n",
       "      <td>4.726027</td>\n",
       "    </tr>\n",
       "    <tr>\n",
       "      <th>11</th>\n",
       "      <td>120</td>\n",
       "      <td>87</td>\n",
       "      <td>5.958904</td>\n",
       "    </tr>\n",
       "    <tr>\n",
       "      <th>4</th>\n",
       "      <td>50</td>\n",
       "      <td>144</td>\n",
       "      <td>9.863014</td>\n",
       "    </tr>\n",
       "    <tr>\n",
       "      <th>5</th>\n",
       "      <td>60</td>\n",
       "      <td>299</td>\n",
       "      <td>20.479452</td>\n",
       "    </tr>\n",
       "    <tr>\n",
       "      <th>0</th>\n",
       "      <td>20</td>\n",
       "      <td>536</td>\n",
       "      <td>36.712329</td>\n",
       "    </tr>\n",
       "  </tbody>\n",
       "</table>\n",
       "</div>"
      ],
      "text/plain": [
       "    MSSubClass  SalePrice    percent\n",
       "2           40          4   0.273973\n",
       "13         180         10   0.684932\n",
       "3           45         12   0.821918\n",
       "7           75         16   1.095890\n",
       "9           85         20   1.369863\n",
       "14         190         30   2.054795\n",
       "10          90         52   3.561644\n",
       "8           80         58   3.972603\n",
       "6           70         60   4.109589\n",
       "12         160         63   4.315068\n",
       "1           30         69   4.726027\n",
       "11         120         87   5.958904\n",
       "4           50        144   9.863014\n",
       "5           60        299  20.479452\n",
       "0           20        536  36.712329"
      ]
     },
     "execution_count": 24,
     "metadata": {},
     "output_type": "execute_result"
    }
   ],
   "source": [
    "x = 'MSSubClass'\n",
    "y = 'SalePrice'\n",
    "df = pd.pivot_table(data, \n",
    "                    index=[x], \n",
    "                    values=[y], \n",
    "                    aggfunc=np.count_nonzero).reset_index().sort_values(\n",
    "    by=['SalePrice'], ascending=True) \n",
    "total_sum = df[y].sum()\n",
    "df['percent'] = df[y] * 100 / total_sum\n",
    "# df['percent'] = df[y].apply(lambda i: \"{0:.3}%\".format(float(i*100)/total_sum))\n",
    "df"
   ]
  },
  {
   "cell_type": "code",
   "execution_count": 26,
   "metadata": {
    "collapsed": false
   },
   "outputs": [
    {
     "data": {
      "text/html": [
       "<div>\n",
       "<table border=\"1\" class=\"dataframe\">\n",
       "  <thead>\n",
       "    <tr style=\"text-align: right;\">\n",
       "      <th></th>\n",
       "      <th>MSSubClass</th>\n",
       "      <th>SalePrice</th>\n",
       "      <th>percent</th>\n",
       "    </tr>\n",
       "  </thead>\n",
       "  <tbody>\n",
       "    <tr>\n",
       "      <th>2</th>\n",
       "      <td>40</td>\n",
       "      <td>4</td>\n",
       "      <td>0.273973</td>\n",
       "    </tr>\n",
       "    <tr>\n",
       "      <th>13</th>\n",
       "      <td>180</td>\n",
       "      <td>10</td>\n",
       "      <td>0.684932</td>\n",
       "    </tr>\n",
       "    <tr>\n",
       "      <th>3</th>\n",
       "      <td>45</td>\n",
       "      <td>12</td>\n",
       "      <td>0.821918</td>\n",
       "    </tr>\n",
       "    <tr>\n",
       "      <th>7</th>\n",
       "      <td>75</td>\n",
       "      <td>16</td>\n",
       "      <td>1.095890</td>\n",
       "    </tr>\n",
       "    <tr>\n",
       "      <th>9</th>\n",
       "      <td>85</td>\n",
       "      <td>20</td>\n",
       "      <td>1.369863</td>\n",
       "    </tr>\n",
       "  </tbody>\n",
       "</table>\n",
       "</div>"
      ],
      "text/plain": [
       "    MSSubClass  SalePrice   percent\n",
       "2           40          4  0.273973\n",
       "13         180         10  0.684932\n",
       "3           45         12  0.821918\n",
       "7           75         16  1.095890\n",
       "9           85         20  1.369863"
      ]
     },
     "execution_count": 26,
     "metadata": {},
     "output_type": "execute_result"
    }
   ],
   "source": [
    "df[df['percent'] < 2.0]"
   ]
  },
  {
   "cell_type": "code",
   "execution_count": 34,
   "metadata": {
    "collapsed": true
   },
   "outputs": [],
   "source": [
    "def get_pivoted(df, x, y):\n",
    "    df = pd.pivot_table(data, \n",
    "                        index=[x], \n",
    "                        values=[y], \n",
    "                        aggfunc=np.count_nonzero).reset_index().sort_values(\n",
    "        by=[y], ascending=True) \n",
    "    total_sum = df[y].sum()\n",
    "    df['percent'] = df[y] * 100 / total_sum\n",
    "    return df"
   ]
  },
  {
   "cell_type": "code",
   "execution_count": 118,
   "metadata": {
    "collapsed": true
   },
   "outputs": [],
   "source": [
    "def relevant_categories(df, x, y='SalePrice', threshold=2.0):\n",
    "    pivoted = get_pivoted(df, x, y)\n",
    "    pivoted = pivoted[pivoted['percent'] >= threshold]\n",
    "#     df[x].apply(lambda x: str(x) if x in pivoted[x] else 'None')\n",
    "#     relevant_categories = pivoted[x]\n",
    "    df.loc[~a[x].isin(pivoted[x]), x] = None\n",
    "#     return pivoted[x]\n",
    "    return df\n",
    "    "
   ]
  },
  {
   "cell_type": "code",
   "execution_count": 119,
   "metadata": {
    "collapsed": true
   },
   "outputs": [],
   "source": [
    "a = relevant_categories(data, 'MSSubClass')"
   ]
  },
  {
   "cell_type": "code",
   "execution_count": 120,
   "metadata": {
    "collapsed": false
   },
   "outputs": [
    {
     "data": {
      "text/plain": [
       "20.0     536\n",
       "60.0     299\n",
       "50.0     144\n",
       "120.0     87\n",
       "30.0      69\n",
       "160.0     63\n",
       "0.0       62\n",
       "70.0      60\n",
       "80.0      58\n",
       "90.0      52\n",
       "190.0     30\n",
       "Name: MSSubClass, dtype: int64"
      ]
     },
     "execution_count": 120,
     "metadata": {},
     "output_type": "execute_result"
    }
   ],
   "source": [
    "a['MSSubClass'].value_counts()"
   ]
  },
  {
   "cell_type": "code",
   "execution_count": null,
   "metadata": {
    "collapsed": true
   },
   "outputs": [],
   "source": []
  },
  {
   "cell_type": "code",
   "execution_count": null,
   "metadata": {
    "collapsed": true,
    "deletable": true,
    "editable": true
   },
   "outputs": [],
   "source": []
  },
  {
   "cell_type": "code",
   "execution_count": null,
   "metadata": {
    "collapsed": true,
    "deletable": true,
    "editable": true
   },
   "outputs": [],
   "source": []
  },
  {
   "cell_type": "code",
   "execution_count": null,
   "metadata": {
    "collapsed": true,
    "deletable": true,
    "editable": true
   },
   "outputs": [],
   "source": []
  },
  {
   "cell_type": "code",
   "execution_count": null,
   "metadata": {
    "collapsed": false,
    "deletable": true,
    "editable": true
   },
   "outputs": [],
   "source": [
    "transformed_data = data[numerical_columns].copy()"
   ]
  },
  {
   "cell_type": "code",
   "execution_count": null,
   "metadata": {
    "collapsed": false,
    "deletable": true,
    "editable": true
   },
   "outputs": [],
   "source": [
    "for column in transformed_data[numerical_columns]:\n",
    "    if transformed_data[column].isnull().values.any():\n",
    "        print column"
   ]
  },
  {
   "cell_type": "code",
   "execution_count": null,
   "metadata": {
    "collapsed": false,
    "deletable": true,
    "editable": true
   },
   "outputs": [],
   "source": [
    "transformed_data['LotFrontage'] = transformed_data['LotFrontage'].fillna(0)\n",
    "transformed_data['MasVnrArea'] = transformed_data['MasVnrArea'].fillna(0)\n",
    "transformed_data['GarageYrBlt'] = transformed_data['GarageYrBlt'].fillna(0)"
   ]
  },
  {
   "cell_type": "code",
   "execution_count": null,
   "metadata": {
    "collapsed": false,
    "deletable": true,
    "editable": true
   },
   "outputs": [],
   "source": [
    "for column in categorical_columns:\n",
    "    if data[column].isnull().values.any():\n",
    "        print column"
   ]
  },
  {
   "cell_type": "code",
   "execution_count": null,
   "metadata": {
    "collapsed": true,
    "deletable": true,
    "editable": true
   },
   "outputs": [],
   "source": [
    "for column in categorical_columns:\n",
    "    if data[column].isnull().values.any():\n",
    "        data[column] = data[column].fillna('None')"
   ]
  },
  {
   "cell_type": "code",
   "execution_count": null,
   "metadata": {
    "collapsed": false,
    "deletable": true,
    "editable": true
   },
   "outputs": [],
   "source": []
  },
  {
   "cell_type": "code",
   "execution_count": null,
   "metadata": {
    "collapsed": false,
    "deletable": true,
    "editable": true
   },
   "outputs": [],
   "source": [
    "transformed_data = pd.concat([transformed_data, data[categorical_columns].apply(LabelEncoder().fit_transform)],\n",
    "                             axis=1)"
   ]
  },
  {
   "cell_type": "code",
   "execution_count": null,
   "metadata": {
    "collapsed": false,
    "deletable": true,
    "editable": true,
    "scrolled": true
   },
   "outputs": [],
   "source": [
    "transformed_data"
   ]
  },
  {
   "cell_type": "code",
   "execution_count": null,
   "metadata": {
    "collapsed": false,
    "deletable": true,
    "editable": true
   },
   "outputs": [],
   "source": [
    "transformed_data['Age'] = data['YrSold'] - data['YearBuilt']"
   ]
  },
  {
   "cell_type": "code",
   "execution_count": null,
   "metadata": {
    "collapsed": false,
    "deletable": true,
    "editable": true
   },
   "outputs": [],
   "source": [
    "transformed_data['remodAge'] = data['YrSold'] - data['YearRemodAdd']"
   ]
  },
  {
   "cell_type": "code",
   "execution_count": null,
   "metadata": {
    "collapsed": true,
    "deletable": true,
    "editable": true
   },
   "outputs": [],
   "source": []
  },
  {
   "cell_type": "code",
   "execution_count": null,
   "metadata": {
    "collapsed": false,
    "deletable": true,
    "editable": true
   },
   "outputs": [],
   "source": [
    "transformed_data.columns"
   ]
  },
  {
   "cell_type": "code",
   "execution_count": null,
   "metadata": {
    "collapsed": false,
    "deletable": true,
    "editable": true
   },
   "outputs": [],
   "source": [
    "# sns.pairplot(transformed_data[numerical_columns])"
   ]
  },
  {
   "cell_type": "code",
   "execution_count": null,
   "metadata": {
    "collapsed": false,
    "deletable": true,
    "editable": true,
    "scrolled": true
   },
   "outputs": [],
   "source": [
    "for column in numerical_columns:\n",
    "    plt.figure(column)\n",
    "    sns.distplot(transformed_data[column]);"
   ]
  },
  {
   "cell_type": "code",
   "execution_count": null,
   "metadata": {
    "collapsed": true,
    "deletable": true,
    "editable": true
   },
   "outputs": [],
   "source": []
  },
  {
   "cell_type": "code",
   "execution_count": null,
   "metadata": {
    "collapsed": false,
    "deletable": true,
    "editable": true
   },
   "outputs": [],
   "source": [
    "from scipy.stats import boxcox, skew\n",
    "from sklearn.preprocessing import StandardScaler"
   ]
  },
  {
   "cell_type": "code",
   "execution_count": null,
   "metadata": {
    "collapsed": false,
    "deletable": true,
    "editable": true
   },
   "outputs": [],
   "source": [
    "for column in numerical_columns:\n",
    "    print skew(transformed_data[column])"
   ]
  },
  {
   "cell_type": "code",
   "execution_count": null,
   "metadata": {
    "collapsed": true,
    "deletable": true,
    "editable": true
   },
   "outputs": [],
   "source": [
    "for column in numerical_columns:\n",
    "    if skew(transformed_data[column]) > 0.25:\n",
    "        transformed_data[column], lam = boxcox(transformed_data[column]+1.00)"
   ]
  },
  {
   "cell_type": "code",
   "execution_count": null,
   "metadata": {
    "collapsed": false,
    "deletable": true,
    "editable": true
   },
   "outputs": [],
   "source": [
    "for column in numerical_columns:\n",
    "    plt.figure(column)\n",
    "    sns.distplot(transformed_data[column]);"
   ]
  },
  {
   "cell_type": "code",
   "execution_count": null,
   "metadata": {
    "collapsed": true,
    "deletable": true,
    "editable": true
   },
   "outputs": [],
   "source": [
    "from sklearn.preprocessing import StandardScaler"
   ]
  },
  {
   "cell_type": "code",
   "execution_count": null,
   "metadata": {
    "collapsed": false,
    "deletable": true,
    "editable": true
   },
   "outputs": [],
   "source": [
    "ss = StandardScaler()\n",
    "transformed_data[numerical_columns] = ss.fit_transform(transformed_data[numerical_columns].values)\n",
    "transformed_data[numerical_columns] = pd.DataFrame(transformed_data[numerical_columns],\n",
    "                                                   index=transformed_data[numerical_columns].index,\n",
    "                                                   columns=transformed_data[numerical_columns].columns)"
   ]
  },
  {
   "cell_type": "code",
   "execution_count": null,
   "metadata": {
    "collapsed": false,
    "deletable": true,
    "editable": true
   },
   "outputs": [],
   "source": [
    "# ss = StandardScaler()\n",
    "\n",
    "# for column in numerical_columns:\n",
    "#     transformed_data[column] = ss.fit_transform(transformed_data[column].values.reshape(-1,1).flatten())"
   ]
  },
  {
   "cell_type": "code",
   "execution_count": null,
   "metadata": {
    "collapsed": false,
    "deletable": true,
    "editable": true
   },
   "outputs": [],
   "source": [
    "for column in numerical_columns:\n",
    "    plt.figure(column)\n",
    "    sns.distplot(transformed_data[column]);"
   ]
  },
  {
   "cell_type": "code",
   "execution_count": null,
   "metadata": {
    "collapsed": true,
    "deletable": true,
    "editable": true
   },
   "outputs": [],
   "source": [
    "corr_matrix = transformed_data[numerical_columns].corr()"
   ]
  },
  {
   "cell_type": "code",
   "execution_count": null,
   "metadata": {
    "collapsed": false,
    "deletable": true,
    "editable": true
   },
   "outputs": [],
   "source": [
    "plt.subplots(figsize=(12, 9))\n",
    "sns.heatmap(corr_matrix, vmax=.8, square=True)"
   ]
  },
  {
   "cell_type": "code",
   "execution_count": null,
   "metadata": {
    "collapsed": false,
    "deletable": true,
    "editable": true
   },
   "outputs": [],
   "source": [
    "corr_matrix.values.shape"
   ]
  },
  {
   "cell_type": "code",
   "execution_count": null,
   "metadata": {
    "collapsed": false,
    "deletable": true,
    "editable": true
   },
   "outputs": [],
   "source": [
    "corr_matrix.iloc[0, 2]"
   ]
  },
  {
   "cell_type": "code",
   "execution_count": null,
   "metadata": {
    "collapsed": false,
    "deletable": true,
    "editable": true
   },
   "outputs": [],
   "source": [
    "for i in xrange(0, corr_matrix.values.shape[0]):\n",
    "    for j in xrange(0, corr_matrix.values.shape[1]):\n",
    "        if i < j:\n",
    "            if corr_matrix.iloc[i, j] > 0.8:\n",
    "                print i, j, corr_matrix.iloc[i, j]"
   ]
  },
  {
   "cell_type": "markdown",
   "metadata": {
    "collapsed": true,
    "deletable": true,
    "editable": true
   },
   "source": [
    "### What to do with high correlated variables?"
   ]
  },
  {
   "cell_type": "code",
   "execution_count": null,
   "metadata": {
    "collapsed": true,
    "deletable": true,
    "editable": true
   },
   "outputs": [],
   "source": []
  },
  {
   "cell_type": "code",
   "execution_count": null,
   "metadata": {
    "collapsed": true,
    "deletable": true,
    "editable": true
   },
   "outputs": [],
   "source": []
  },
  {
   "cell_type": "code",
   "execution_count": null,
   "metadata": {
    "collapsed": false,
    "deletable": true,
    "editable": true
   },
   "outputs": [],
   "source": [
    "from sklearn.cross_validation import _BaseKFold\n",
    "from sklearn.utils.validation import check_random_state\n",
    "import numpy as np\n",
    "\n",
    "class RegStratifiedKFold(_BaseKFold):\n",
    "    def __init__(self, y, n_folds=5, shuffle=False, random_state=None):\n",
    "        super(RegStratifiedKFold, self).__init__(len(y), n_folds=n_folds, shuffle=shuffle, random_state=random_state)\n",
    "        ylen = len(y)\n",
    "        if ylen / n_folds <= 1:\n",
    "            print \"Too few elements in y. Still in ToDo list\"\n",
    "            exit()\n",
    "        y_index = np.arange(ylen)[np.argsort(y)]\n",
    "        num_classes = ylen / n_folds + int(ylen % n_folds != 0)\n",
    "        \n",
    "        num_head_tail_classes = n_folds * (ylen / n_folds / 2)\n",
    "        head_classes = y_index[0:num_head_tail_classes].reshape(-1,n_folds)\n",
    "        tail_classes = y_index[-num_head_tail_classes:].reshape(-1,n_folds)\n",
    "        \n",
    "        middle_class = y_index[num_head_tail_classes:-num_head_tail_classes] \n",
    "        middle_class = np.hstack([middle_class, -np.ones(n_folds - len(middle_class) % n_folds, dtype=int)])\n",
    "        middle_class = middle_class.reshape(-1,n_folds)\n",
    "        \n",
    "        test_masks = np.vstack([head_classes, middle_class, tail_classes])\n",
    "        self._test_masks = []\n",
    "        \n",
    "        if shuffle:\n",
    "            rng = check_random_state(self.random_state)\n",
    "            for cls in test_masks:\n",
    "                rng.shuffle(cls)\n",
    "                self._test_masks.append(cls.tolist())\n",
    "        else:\n",
    "            self._test_masks = test_masks\n",
    "            \n",
    "        self._test_masks = np.array(self._test_masks).T\n",
    "        self._test_masks = [y[y!=-1] for y in self._test_masks]\n",
    "        \n",
    "    def _iter_test_masks(self):\n",
    "        indarr = np.zeros( self.n, dtype = bool)\n",
    "        for mask in self._test_masks:\n",
    "            indarr[:] = False\n",
    "            indarr[mask] = True \n",
    "            yield indarr"
   ]
  },
  {
   "cell_type": "code",
   "execution_count": null,
   "metadata": {
    "collapsed": true,
    "deletable": true,
    "editable": true
   },
   "outputs": [],
   "source": []
  },
  {
   "cell_type": "code",
   "execution_count": null,
   "metadata": {
    "collapsed": true,
    "deletable": true,
    "editable": true
   },
   "outputs": [],
   "source": [
    "def CV(target):\n",
    "#     return StratifiedKFold(target, n_folds=3,\n",
    "#                            shuffle=True, random_state=41)\n",
    "    return RegStratifiedKFold(target, n_folds=5, shuffle=True, random_state=41)\n",
    "\n",
    "\n",
    "def grid_search(model, params, cv):\n",
    "    return GridSearchCV(estimator=model,\n",
    "                        param_grid=params,\n",
    "                        cv=cv)\n",
    "\n",
    "\n",
    "def regression_results(model, x_true, y_true, y_pred):\n",
    "    ret = {}\n",
    "    ret[\"Explained variance regression score\"] = explained_variance_score(\n",
    "        y_true, y_pred, multioutput='uniform_average')\n",
    "    ret[\"Mean Absolute Error\"] = mean_absolute_error(\n",
    "        y_true, y_pred)\n",
    "    ret[\"Model socre\"] = model.score(\n",
    "        x_true, y_true)\n",
    "    return ret\n",
    "\n",
    "\n",
    "def draw_feature_importance(model, data):\n",
    "    importances = model.feature_importances_\n",
    "    std = np.std(\n",
    "        [tree.feature_importances_ for tree in model.estimators_], axis=0)\n",
    "    indices = np.argsort(importances)[::-1]\n",
    "    feature_names = data.columns\n",
    "    # Plot the feature importances of the model\n",
    "    plt.figure(figsize=(20, 15))\n",
    "    plt.title(\"Feature importances\")\n",
    "    plt.bar(range(data.shape[1]), importances[indices],\n",
    "            color=\"r\", yerr=std[indices], align=\"center\")\n",
    "    plt.xticks(range(data.shape[1]), feature_names[indices], rotation=90)\n",
    "    plt.xlim([-1, data.shape[1]])\n",
    "    return plt\n",
    "\n",
    "\n",
    "def model_test_metrics(model, data, target):\n",
    "    ret = {}\n",
    "    ret[\"Test Data score\"] = model.fit(data, target).score(data, target)\n",
    "    return merge_dicts(ret, regression_results(target, model.predict(data)))\n",
    "\n",
    "\n",
    "def evaluate_model(model, data, target,\n",
    "                   params=None, draw_features=True, verbose=True):\n",
    "    train_data, test_data, train_target, test_target = train_test_split(\n",
    "        data, target)\n",
    "    cv=CV(train_target)\n",
    "#     cv = 3\n",
    "    ret = {}\n",
    "    if params:\n",
    "        grid = grid_search(model, params, cv)\n",
    "\n",
    "        grid.fit(train_data, train_target)\n",
    "        model = grid.best_estimator_\n",
    "    else:\n",
    "        model.fit(train_data, train_target)\n",
    "\n",
    "    s = cross_val_score(model, train_data, train_target, cv=cv, n_jobs=-1)\n",
    "    ret[\"Mean cross validation score\"] = s.mean()\n",
    "    predictions = model.predict(test_data)\n",
    "    ret = merge_dicts(ret, regression_results(\n",
    "        model, test_data, test_target, predictions))\n",
    "\n",
    "    if draw_features:\n",
    "        draw_feature_importance(model, train_data)\n",
    "    return model, ret\n",
    "\n",
    "def print_model_report(report, score=None, model=None):\n",
    "    if model:\n",
    "        print model, \"\\n\"\n",
    "    for title, value in report.iteritems():\n",
    "        print \"{:<50}{}\".format(title, value)\n",
    "    if score:\n",
    "        print \"\\n\", \"{:<50}{}\".format('score for test data', score)\n",
    "\n",
    "\n",
    "def plot_predicted_measured(ax, y_real, predictions, fontsize=24, title=''):\n",
    "    ax.scatter(y_real, predictions)\n",
    "    ax.plot([predictions.min(), predictions.max()],\n",
    "            [predictions.min(), predictions.max()], 'k--', lw=2)\n",
    "    ax.set_xlabel('Measured')\n",
    "    ax.set_ylabel('Predicted')\n",
    "    ax.set_title(title, fontsize=fontsize)\n",
    "\n",
    "\n",
    "def set_style():\n",
    "    plt.style.use(['seaborn-white', 'seaborn-paper'])\n",
    "\n",
    "\n",
    "def plot_comparisions(y_real, y_lr, y_rd, y_rf, y_et):\n",
    "    set_style()\n",
    "    fig, ((ax1, ax2), (ax3, ax4)) = plt.subplots(nrows=2, ncols=2)\n",
    "    fig.set_figheight(12)\n",
    "    fig.set_figwidth(12)\n",
    "    plot_predicted_measured(\n",
    "        ax1, y_real, y_lr, fontsize=16, title='Linear Regression')\n",
    "    plot_predicted_measured(\n",
    "        ax2, y_real, y_rd, fontsize=16, title='RidgeCV')\n",
    "    plot_predicted_measured(\n",
    "        ax3, y_real, y_rf, fontsize=16, title='Random Forest')\n",
    "    plot_predicted_measured(\n",
    "        ax4, y_real, y_et, fontsize=16, title='Extra Trees')\n",
    "\n",
    "    plt.show()"
   ]
  },
  {
   "cell_type": "code",
   "execution_count": null,
   "metadata": {
    "collapsed": true,
    "deletable": true,
    "editable": true
   },
   "outputs": [],
   "source": [
    "def extra_trees(data, target, draw_features=False):\n",
    "    params = {\n",
    "        'n_estimators': [10, 20, 50, 100, 200],\n",
    "        'max_depth': [1, 2, 3, 4, 5],\n",
    "        'min_samples_split': [2, 10, 25, 50, 100],\n",
    "    }\n",
    "    return evaluate_model(ExtraTreesRegressor(n_jobs=-1),\n",
    "                          data, target,\n",
    "#                           params=params, \n",
    "                          draw_features=draw_features)"
   ]
  },
  {
   "cell_type": "code",
   "execution_count": null,
   "metadata": {
    "collapsed": true,
    "deletable": true,
    "editable": true
   },
   "outputs": [],
   "source": [
    "x = transformed_data.copy()\n",
    "y = data.SalePrice"
   ]
  },
  {
   "cell_type": "code",
   "execution_count": null,
   "metadata": {
    "collapsed": true,
    "deletable": true,
    "editable": true
   },
   "outputs": [],
   "source": []
  },
  {
   "cell_type": "code",
   "execution_count": null,
   "metadata": {
    "collapsed": true,
    "deletable": true,
    "editable": true
   },
   "outputs": [],
   "source": []
  },
  {
   "cell_type": "code",
   "execution_count": null,
   "metadata": {
    "collapsed": true,
    "deletable": true,
    "editable": true
   },
   "outputs": [],
   "source": []
  },
  {
   "cell_type": "code",
   "execution_count": null,
   "metadata": {
    "collapsed": false,
    "deletable": true,
    "editable": true
   },
   "outputs": [],
   "source": [
    "pd.pivot_table(data[data['SaleCondition'] == 'Abnorml'], index=['YrSold'], values=['SalePrice'], aggfunc=np.count_nonzero).plot(kind='bar')"
   ]
  },
  {
   "cell_type": "code",
   "execution_count": null,
   "metadata": {
    "collapsed": false,
    "deletable": true,
    "editable": true
   },
   "outputs": [],
   "source": [
    "pd.pivot_table(data, index=['MSSubClass'], values=['SalePrice'], aggfunc=np.count_nonzero).plot(kind='bar')"
   ]
  },
  {
   "cell_type": "code",
   "execution_count": null,
   "metadata": {
    "collapsed": false,
    "deletable": true,
    "editable": true
   },
   "outputs": [],
   "source": [
    "pd.pivot_table(data, index=['MSZoning'], values=['SalePrice'], aggfunc=np.count_nonzero).plot(kind='bar')"
   ]
  },
  {
   "cell_type": "code",
   "execution_count": null,
   "metadata": {
    "collapsed": false,
    "deletable": true,
    "editable": true
   },
   "outputs": [],
   "source": [
    "pd.pivot_table(data, index=['Street'], values=['SalePrice'], aggfunc=np.count_nonzero).plot(kind='bar')"
   ]
  },
  {
   "cell_type": "code",
   "execution_count": null,
   "metadata": {
    "collapsed": false,
    "deletable": true,
    "editable": true
   },
   "outputs": [],
   "source": [
    "pd.pivot_table(data, index=['Alley'], values=['SalePrice'], aggfunc=np.count_nonzero).plot(kind='bar')"
   ]
  },
  {
   "cell_type": "code",
   "execution_count": null,
   "metadata": {
    "collapsed": false,
    "deletable": true,
    "editable": true
   },
   "outputs": [],
   "source": [
    "pd.pivot_table(data, index=['LotShape'], values=['SalePrice'], aggfunc=np.count_nonzero).plot(kind='bar')"
   ]
  },
  {
   "cell_type": "code",
   "execution_count": null,
   "metadata": {
    "collapsed": false,
    "deletable": true,
    "editable": true
   },
   "outputs": [],
   "source": [
    "pd.pivot_table(data, index=['LandContour'], values=['SalePrice'], aggfunc=np.count_nonzero).plot(kind='bar')"
   ]
  },
  {
   "cell_type": "code",
   "execution_count": null,
   "metadata": {
    "collapsed": false,
    "deletable": true,
    "editable": true
   },
   "outputs": [],
   "source": [
    "pd.pivot_table(data, index=['Utilities'], values=['SalePrice'], aggfunc=np.count_nonzero).plot(kind='bar')"
   ]
  },
  {
   "cell_type": "code",
   "execution_count": null,
   "metadata": {
    "collapsed": false,
    "deletable": true,
    "editable": true
   },
   "outputs": [],
   "source": [
    "pd.pivot_table(data, index=['LotConfig'], values=['SalePrice'], aggfunc=np.count_nonzero).plot(kind='bar')"
   ]
  },
  {
   "cell_type": "code",
   "execution_count": null,
   "metadata": {
    "collapsed": false,
    "deletable": true,
    "editable": true
   },
   "outputs": [],
   "source": [
    "pd.pivot_table(data, index=['Neighborhood'], values=['SalePrice'], aggfunc=np.count_nonzero).plot(kind='bar')"
   ]
  },
  {
   "cell_type": "code",
   "execution_count": null,
   "metadata": {
    "collapsed": false,
    "deletable": true,
    "editable": true
   },
   "outputs": [],
   "source": [
    "pd.pivot_table(data, index=['Condition1'], values=['SalePrice'], aggfunc=np.count_nonzero).plot(kind='bar')"
   ]
  },
  {
   "cell_type": "code",
   "execution_count": null,
   "metadata": {
    "collapsed": false,
    "deletable": true,
    "editable": true
   },
   "outputs": [],
   "source": [
    "pd.pivot_table(data, index=['Condition2'], values=['SalePrice'], aggfunc=np.count_nonzero).plot(kind='bar')"
   ]
  },
  {
   "cell_type": "code",
   "execution_count": null,
   "metadata": {
    "collapsed": false,
    "deletable": true,
    "editable": true
   },
   "outputs": [],
   "source": [
    "pd.pivot_table(data, index=['BldgType'], values=['SalePrice'], aggfunc=np.count_nonzero).plot(kind='bar')"
   ]
  },
  {
   "cell_type": "code",
   "execution_count": null,
   "metadata": {
    "collapsed": false,
    "deletable": true,
    "editable": true
   },
   "outputs": [],
   "source": [
    "pd.pivot_table(data, index=['HouseStyle'], values=['SalePrice'], aggfunc=np.count_nonzero).plot(kind='bar')"
   ]
  },
  {
   "cell_type": "code",
   "execution_count": null,
   "metadata": {
    "collapsed": false,
    "deletable": true,
    "editable": true
   },
   "outputs": [],
   "source": [
    "pd.pivot_table(data, index=['OverallQual'], values=['SalePrice'], aggfunc=np.count_nonzero).plot(kind='bar')"
   ]
  },
  {
   "cell_type": "code",
   "execution_count": null,
   "metadata": {
    "collapsed": false,
    "deletable": true,
    "editable": true
   },
   "outputs": [],
   "source": [
    "pd.pivot_table(data, index=['OverallCond'], values=['SalePrice'], aggfunc=np.count_nonzero).plot(kind='bar')"
   ]
  },
  {
   "cell_type": "code",
   "execution_count": null,
   "metadata": {
    "collapsed": false,
    "deletable": true,
    "editable": true
   },
   "outputs": [],
   "source": [
    "pd.pivot_table(data, index=['RoofStyle'], values=['SalePrice'], aggfunc=np.count_nonzero).plot(kind='bar')"
   ]
  },
  {
   "cell_type": "code",
   "execution_count": null,
   "metadata": {
    "collapsed": false,
    "deletable": true,
    "editable": true
   },
   "outputs": [],
   "source": [
    "pd.pivot_table(data, index=['RoofMatl'], values=['SalePrice'], aggfunc=np.count_nonzero).plot(kind='bar')"
   ]
  },
  {
   "cell_type": "code",
   "execution_count": null,
   "metadata": {
    "collapsed": false,
    "deletable": true,
    "editable": true
   },
   "outputs": [],
   "source": [
    "pd.pivot_table(data, index=['RoofMatl'], values=['SalePrice'], aggfunc=np.count_nonzero).plot(kind='bar')"
   ]
  }
 ],
 "metadata": {
  "anaconda-cloud": {},
  "kernelspec": {
   "display_name": "Python [conda root]",
   "language": "python",
   "name": "conda-root-py"
  },
  "language_info": {
   "codemirror_mode": {
    "name": "ipython",
    "version": 2
   },
   "file_extension": ".py",
   "mimetype": "text/x-python",
   "name": "python",
   "nbconvert_exporter": "python",
   "pygments_lexer": "ipython2",
   "version": "2.7.13"
  }
 },
 "nbformat": 4,
 "nbformat_minor": 1
}
